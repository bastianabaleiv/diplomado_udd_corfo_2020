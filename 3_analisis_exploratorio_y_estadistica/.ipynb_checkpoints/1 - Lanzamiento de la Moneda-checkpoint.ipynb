{
 "cells": [
  {
   "cell_type": "markdown",
   "metadata": {},
   "source": [
    "# Simulación del lanzamiento de la moneda \n",
    "\n",
    "El lanzamiento de la moneda es un ejercicio clásico en probabilidades, el cual nos permite comparar probabilidades teóricas con probabilidades empíricas. Uno podría en la vida real simular el lanzamiento de una moneda muchas veces, para ver si efectivamente las probabilidades empíricas, se acercan a las probabilidades teóricas. El problema de realizar esto, es que requiere bastante tiempo el poder lanzar más de 1000 veces una moneda. Por lo mismo, podemos utilizar python (o cualquier lenguaje de programación) para realizar simulaciones. \n",
    "\n",
    "Para esta dinámica, vamos a requerir el uso de la librería `random`, la cual viene integrada por defecto en python. La idea es utilizar esta librería que genera números pseudoaleatorios para modelar el lanzamiento de una moneda. En este caso, la idea es simular una moneda justa (la misma probabilidad que sea cara o sello), siendo la probabilidad de un $50\\%$.\n",
    "\n",
    "Para simular un lanzamiento, podemos utilizar dos métodos de la librería random:\n",
    "\n",
    "- `random.random()`: devuelve un numero entre los intervalos: $[0,1)$\n",
    "- `random.randint(a,b)` devuelve un numero entero entre los intervalos $[a,b]$\n",
    "\n",
    "## - [Documentación de la librería random](https://docs.python.org/3/library/random.html)\n",
    "\n",
    "**Nota:** para asegurnarnos reproducibilidad, la librería random nos permite fijar una semilla, que va a dar punto de partida al proceso de generación pseudoaleatorio. Por ende, distintas semillas, distintas secuencias de números se van a ir generando. Para fijar dicha semilla, utilizamos el método `random.seed(seed)`. \n",
    "\n",
    "A modo de ejemplo, vamos a fijar la semilla con el numero 42 y mostraremos las salidas de los métodos descritos anteriormente:\n"
   ]
  },
  {
   "cell_type": "code",
   "execution_count": 1,
   "metadata": {},
   "outputs": [],
   "source": [
    "import random # importamos la libreria\n",
    "\n",
    "random.seed(42) # la fijamos con el número 42"
   ]
  },
  {
   "cell_type": "code",
   "execution_count": 2,
   "metadata": {},
   "outputs": [
    {
     "data": {
      "text/plain": [
       "0.6394267984578837"
      ]
     },
     "execution_count": 2,
     "metadata": {},
     "output_type": "execute_result"
    }
   ],
   "source": [
    "random.random() # ejemplo de random.random()"
   ]
  },
  {
   "cell_type": "code",
   "execution_count": 3,
   "metadata": {},
   "outputs": [
    {
     "data": {
      "text/plain": [
       "2"
      ]
     },
     "execution_count": 3,
     "metadata": {},
     "output_type": "execute_result"
    }
   ],
   "source": [
    "random.randint(2,5) # ejemplo de random.randint()"
   ]
  },
  {
   "cell_type": "markdown",
   "metadata": {},
   "source": [
    "# **Dinámica:**\n",
    "\n",
    "Generar una función que nos permita hacer un experimento de lanzar $n$ veces una moneda, y que retorne el número de caras y sellos para los $n$ lanzamientos. Una vez que la función esté lista, la idea es repetir $1.000$ veces el experimento de lanzar $100$ monedas y guardar en una lista, la cantidad de caras y sellos para cada experimento.\n",
    "\n",
    "Finalmente, una vez que tengamos dichas listas, vamos a calcular para cada uno de estos arreglos: \n",
    "\n",
    "- la media \n",
    "- la varianza \n",
    "- la desviación estándar\n",
    "- la mediana\n",
    "- la moda  \n",
    "\n",
    "La restricción es que no pueden utilizar los métodos de `numpy` `np.mean`, `np.var`, `np.std` y `np.median` para el cálculo de dichos valores. Tendrán que programar funciones desde cero para cada una de las medidas a calcular.\n",
    "\n",
    "Finalmente, comparemos las programadas por ustedes versus las funciones de numpy. ¿Dan los mismos valores?\n",
    "\n",
    "**Nota:** El resto de los métodos de `numpy` si pueden utilizarlos para el cálculo de dichas funciones\n"
   ]
  },
  {
   "cell_type": "code",
   "execution_count": 53,
   "metadata": {},
   "outputs": [],
   "source": [
    "#Importamos numpy y la libreria auxiliar de calculo matemático: math\n",
    "import numpy as np\n",
    "import math # de math podemos utilizar el método math.sqrt(value) para calcular la raiz cuadrada"
   ]
  },
  {
   "cell_type": "markdown",
   "metadata": {},
   "source": [
    "# Lanzamiento de la moneda\n",
    "\n",
    "complete esta función"
   ]
  },
  {
   "cell_type": "code",
   "execution_count": 54,
   "metadata": {},
   "outputs": [],
   "source": [
    "# tu código aca\n",
    "def coin_toss(n_toss):\n",
    "    results = list()\n",
    "    for i in range(n_toss):\n",
    "        results.append(np.random.binomial(1, p = 0.5))\n",
    "    return np.array(results)"
   ]
  },
  {
   "cell_type": "code",
   "execution_count": 6,
   "metadata": {},
   "outputs": [],
   "source": [
    "### Vemos cuantas caras y sellos obtenemos de 100 lanzamientos"
   ]
  },
  {
   "cell_type": "code",
   "execution_count": 64,
   "metadata": {},
   "outputs": [
    {
     "name": "stdout",
     "output_type": "stream",
     "text": [
      "Caras: 47\n",
      "Sellos: 53\n"
     ]
    }
   ],
   "source": [
    "toss = coin_toss(100)\n",
    "print(f'Caras: {sum(toss == 1)}')\n",
    "print(f'Sellos: {sum(toss == 0)}')"
   ]
  },
  {
   "cell_type": "markdown",
   "metadata": {},
   "source": [
    "realice los mil experimentos"
   ]
  },
  {
   "cell_type": "code",
   "execution_count": 65,
   "metadata": {},
   "outputs": [],
   "source": [
    "caras = list()\n",
    "sellos = list()\n",
    "for i in range(1000):\n",
    "    toss = coin_toss(100)\n",
    "    caras.append(sum(toss == 1))\n",
    "    sellos.append(sum(toss == 0))"
   ]
  },
  {
   "cell_type": "code",
   "execution_count": 8,
   "metadata": {},
   "outputs": [
    {
     "data": {
      "text/plain": [
       "Ellipsis"
      ]
     },
     "execution_count": 8,
     "metadata": {},
     "output_type": "execute_result"
    }
   ],
   "source": [
    "# tu código aca\n",
    "n_heads_list1 = sum(toss == 1) # guardar las caras en esta variable para cada experimento en esta variable)\n",
    "n_tails_list1 = ... # lo mismo para los sellos\n",
    "\n",
    "..."
   ]
  },
  {
   "cell_type": "markdown",
   "metadata": {},
   "source": [
    "# Media\n",
    "\n",
    "programe la función de la media"
   ]
  },
  {
   "cell_type": "code",
   "execution_count": 9,
   "metadata": {},
   "outputs": [],
   "source": [
    "# tu código aca\n",
    "def mean(elements):\n",
    "    ..."
   ]
  },
  {
   "cell_type": "markdown",
   "metadata": {},
   "source": [
    "# Varianza / $\\sigma^2$\n",
    "\n",
    "programe la función de la varianza"
   ]
  },
  {
   "cell_type": "code",
   "execution_count": 10,
   "metadata": {},
   "outputs": [],
   "source": [
    "# tu código aca\n",
    "def varianza(elements):\n",
    "    ..."
   ]
  },
  {
   "cell_type": "markdown",
   "metadata": {},
   "source": [
    "# Mediana \n",
    "\n",
    "programe la función de la Mediana"
   ]
  },
  {
   "cell_type": "code",
   "execution_count": 11,
   "metadata": {},
   "outputs": [],
   "source": [
    "# tu código aca\n",
    "def median(elements):\n",
    "    #Una pequeña ayuda, las siguientes sentencias generan una copia del arreglo, y luego los ordena\n",
    "    elements_sorted = elements.copy() \n",
    "    elements_sorted.sort()\n",
    "    ..."
   ]
  },
  {
   "cell_type": "markdown",
   "metadata": {},
   "source": [
    "# Moda \n",
    "\n",
    "programe la función de la Moda"
   ]
  },
  {
   "cell_type": "code",
   "execution_count": 12,
   "metadata": {},
   "outputs": [],
   "source": [
    "# tu código aca\n",
    "def mode(elements):\n",
    "    ..."
   ]
  },
  {
   "cell_type": "markdown",
   "metadata": {},
   "source": [
    "# Realicemos la comparación de los metodos, versus numpy\n",
    "\n",
    "Para las caras:"
   ]
  },
  {
   "cell_type": "code",
   "execution_count": 13,
   "metadata": {},
   "outputs": [
    {
     "name": "stdout",
     "output_type": "stream",
     "text": [
      "Media: Ellipsis\n",
      "Varianza: Ellipsis\n",
      "Desviación Estándar: Ellipsis\n",
      "Mediana: Ellipsis\n",
      "Moda: Ellipsis\n"
     ]
    }
   ],
   "source": [
    "# tu código aca\n",
    "print(\"Media:\",...)\n",
    "print(\"Varianza:\",...)\n",
    "print(\"Desviación Estándar:\",...)\n",
    "print(\"Mediana:\",...)\n",
    "print(\"Moda:\",...)\n"
   ]
  },
  {
   "cell_type": "code",
   "execution_count": 14,
   "metadata": {},
   "outputs": [
    {
     "ename": "TypeError",
     "evalue": "unsupported operand type(s) for /: 'ellipsis' and 'int'",
     "output_type": "error",
     "traceback": [
      "\u001b[0;31m---------------------------------------------------------------------------\u001b[0m",
      "\u001b[0;31mTypeError\u001b[0m                                 Traceback (most recent call last)",
      "\u001b[0;32m<ipython-input-14-1819aace0792>\u001b[0m in \u001b[0;36m<module>\u001b[0;34m\u001b[0m\n\u001b[1;32m      1\u001b[0m \u001b[0;31m# tu código aca\u001b[0m\u001b[0;34m\u001b[0m\u001b[0;34m\u001b[0m\u001b[0;34m\u001b[0m\u001b[0m\n\u001b[0;32m----> 2\u001b[0;31m \u001b[0mprint\u001b[0m\u001b[0;34m(\u001b[0m\u001b[0;34m\"Media:\"\u001b[0m\u001b[0;34m,\u001b[0m\u001b[0mnp\u001b[0m\u001b[0;34m.\u001b[0m\u001b[0mmean\u001b[0m\u001b[0;34m(\u001b[0m\u001b[0;34m...\u001b[0m\u001b[0;34m)\u001b[0m\u001b[0;34m)\u001b[0m\u001b[0;34m\u001b[0m\u001b[0;34m\u001b[0m\u001b[0m\n\u001b[0m\u001b[1;32m      3\u001b[0m \u001b[0mprint\u001b[0m\u001b[0;34m(\u001b[0m\u001b[0;34m\"Varianza:\"\u001b[0m\u001b[0;34m,\u001b[0m\u001b[0mnp\u001b[0m\u001b[0;34m.\u001b[0m\u001b[0mvar\u001b[0m\u001b[0;34m(\u001b[0m\u001b[0;34m...\u001b[0m\u001b[0;34m)\u001b[0m\u001b[0;34m)\u001b[0m\u001b[0;34m\u001b[0m\u001b[0;34m\u001b[0m\u001b[0m\n\u001b[1;32m      4\u001b[0m \u001b[0mprint\u001b[0m\u001b[0;34m(\u001b[0m\u001b[0;34m\"Desviación Estándar:\"\u001b[0m\u001b[0;34m,\u001b[0m\u001b[0mnp\u001b[0m\u001b[0;34m.\u001b[0m\u001b[0mstd\u001b[0m\u001b[0;34m(\u001b[0m\u001b[0;34m...\u001b[0m\u001b[0;34m)\u001b[0m\u001b[0;34m)\u001b[0m\u001b[0;34m\u001b[0m\u001b[0;34m\u001b[0m\u001b[0m\n\u001b[1;32m      5\u001b[0m \u001b[0mprint\u001b[0m\u001b[0;34m(\u001b[0m\u001b[0;34m\"Mediana:\"\u001b[0m\u001b[0;34m,\u001b[0m\u001b[0mnp\u001b[0m\u001b[0;34m.\u001b[0m\u001b[0mmedian\u001b[0m\u001b[0;34m(\u001b[0m\u001b[0;34m...\u001b[0m\u001b[0;34m)\u001b[0m\u001b[0;34m)\u001b[0m\u001b[0;34m\u001b[0m\u001b[0;34m\u001b[0m\u001b[0m\n",
      "\u001b[0;32m<__array_function__ internals>\u001b[0m in \u001b[0;36mmean\u001b[0;34m(*args, **kwargs)\u001b[0m\n",
      "\u001b[0;32m~/.local/lib/python3.8/site-packages/numpy/core/fromnumeric.py\u001b[0m in \u001b[0;36mmean\u001b[0;34m(a, axis, dtype, out, keepdims)\u001b[0m\n\u001b[1;32m   3370\u001b[0m             \u001b[0;32mreturn\u001b[0m \u001b[0mmean\u001b[0m\u001b[0;34m(\u001b[0m\u001b[0maxis\u001b[0m\u001b[0;34m=\u001b[0m\u001b[0maxis\u001b[0m\u001b[0;34m,\u001b[0m \u001b[0mdtype\u001b[0m\u001b[0;34m=\u001b[0m\u001b[0mdtype\u001b[0m\u001b[0;34m,\u001b[0m \u001b[0mout\u001b[0m\u001b[0;34m=\u001b[0m\u001b[0mout\u001b[0m\u001b[0;34m,\u001b[0m \u001b[0;34m**\u001b[0m\u001b[0mkwargs\u001b[0m\u001b[0;34m)\u001b[0m\u001b[0;34m\u001b[0m\u001b[0;34m\u001b[0m\u001b[0m\n\u001b[1;32m   3371\u001b[0m \u001b[0;34m\u001b[0m\u001b[0m\n\u001b[0;32m-> 3372\u001b[0;31m     return _methods._mean(a, axis=axis, dtype=dtype,\n\u001b[0m\u001b[1;32m   3373\u001b[0m                           out=out, **kwargs)\n\u001b[1;32m   3374\u001b[0m \u001b[0;34m\u001b[0m\u001b[0m\n",
      "\u001b[0;32m~/.local/lib/python3.8/site-packages/numpy/core/_methods.py\u001b[0m in \u001b[0;36m_mean\u001b[0;34m(a, axis, dtype, out, keepdims)\u001b[0m\n\u001b[1;32m    170\u001b[0m             \u001b[0mret\u001b[0m \u001b[0;34m=\u001b[0m \u001b[0mret\u001b[0m\u001b[0;34m.\u001b[0m\u001b[0mdtype\u001b[0m\u001b[0;34m.\u001b[0m\u001b[0mtype\u001b[0m\u001b[0;34m(\u001b[0m\u001b[0mret\u001b[0m \u001b[0;34m/\u001b[0m \u001b[0mrcount\u001b[0m\u001b[0;34m)\u001b[0m\u001b[0;34m\u001b[0m\u001b[0;34m\u001b[0m\u001b[0m\n\u001b[1;32m    171\u001b[0m     \u001b[0;32melse\u001b[0m\u001b[0;34m:\u001b[0m\u001b[0;34m\u001b[0m\u001b[0;34m\u001b[0m\u001b[0m\n\u001b[0;32m--> 172\u001b[0;31m         \u001b[0mret\u001b[0m \u001b[0;34m=\u001b[0m \u001b[0mret\u001b[0m \u001b[0;34m/\u001b[0m \u001b[0mrcount\u001b[0m\u001b[0;34m\u001b[0m\u001b[0;34m\u001b[0m\u001b[0m\n\u001b[0m\u001b[1;32m    173\u001b[0m \u001b[0;34m\u001b[0m\u001b[0m\n\u001b[1;32m    174\u001b[0m     \u001b[0;32mreturn\u001b[0m \u001b[0mret\u001b[0m\u001b[0;34m\u001b[0m\u001b[0;34m\u001b[0m\u001b[0m\n",
      "\u001b[0;31mTypeError\u001b[0m: unsupported operand type(s) for /: 'ellipsis' and 'int'"
     ]
    }
   ],
   "source": [
    "# tu código aca\n",
    "print(\"Media:\",np.mean(...))\n",
    "print(\"Varianza:\",np.var(...))\n",
    "print(\"Desviación Estándar:\",np.std(...))\n",
    "print(\"Mediana:\",np.median(...))\n",
    "print(\"Moda:\",...)\n",
    "\n"
   ]
  },
  {
   "cell_type": "markdown",
   "metadata": {},
   "source": [
    "Para los sellos"
   ]
  },
  {
   "cell_type": "code",
   "execution_count": null,
   "metadata": {},
   "outputs": [],
   "source": [
    "# tu código aca\n",
    "print(\"Media:\",...)\n",
    "print(\"Varianza:\",...)\n",
    "print(\"Desviación Estándar:\",...)\n",
    "print(\"Mediana:\",...)\n",
    "print(\"Moda:\",...)\n"
   ]
  },
  {
   "cell_type": "code",
   "execution_count": null,
   "metadata": {},
   "outputs": [],
   "source": [
    "# tu código aca\n",
    "print(\"Media:\",np.mean(...))\n",
    "print(\"Varianza:\",np.var(...))\n",
    "print(\"Desviación Estándar:\",np.std(...))\n",
    "print(\"Mediana:\",np.median(...))\n",
    "print(\"Moda:\",...)\n",
    "\n"
   ]
  },
  {
   "cell_type": "markdown",
   "metadata": {},
   "source": [
    "**¿Los valores para cada medida, son iguales o no? ¿Por qué podria deberse eso?**"
   ]
  },
  {
   "cell_type": "code",
   "execution_count": null,
   "metadata": {},
   "outputs": [],
   "source": []
  },
  {
   "cell_type": "markdown",
   "metadata": {},
   "source": [
    "# Desafio:\n",
    "\n",
    "Realizar el lanzamiento de la moneda, pero esta vez simule una moneda cargada, ya sea a cara o sello. Por lo mismo genere una nueva función la cual reciba como parametro que tanto cargar dicha moneda.\n",
    "\n",
    "Finalmente, realice 1000 experimentos, lanzando 100 monedas y calcule las medidas de tendencia central y dispersión mencionadas anteriormente para las caras y los sellos en cada experimento. "
   ]
  },
  {
   "cell_type": "code",
   "execution_count": null,
   "metadata": {},
   "outputs": [],
   "source": [
    "# tu código aca\n",
    "def coin_toss_charged(n_toss, charged):\n",
    "    ..."
   ]
  },
  {
   "cell_type": "code",
   "execution_count": null,
   "metadata": {},
   "outputs": [],
   "source": [
    "# tu código aca\n",
    "n_heads_list_charged = []\n",
    "n_tails_list_charged = []\n",
    "..."
   ]
  },
  {
   "cell_type": "markdown",
   "metadata": {},
   "source": [
    "Caras"
   ]
  },
  {
   "cell_type": "code",
   "execution_count": null,
   "metadata": {},
   "outputs": [],
   "source": [
    "# tu código aca\n",
    "print(\"Media:\",...)\n",
    "print(\"Varianza:\",...)\n",
    "print(\"Desviación Estándar:\",...)\n",
    "print(\"Mediana:\",...)\n",
    "print(\"Moda:\",...)\n"
   ]
  },
  {
   "cell_type": "markdown",
   "metadata": {},
   "source": [
    "Sellos"
   ]
  },
  {
   "cell_type": "code",
   "execution_count": null,
   "metadata": {},
   "outputs": [],
   "source": [
    "# tu código aca\n",
    "print(\"Media:\",...)\n",
    "print(\"Varianza:\",...)\n",
    "print(\"Desviación Estándar:\",...)\n",
    "print(\"Mediana:\",...)\n",
    "print(\"Moda:\",...)\n"
   ]
  }
 ],
 "metadata": {
  "kernelspec": {
   "display_name": "Python 3",
   "language": "python",
   "name": "python3"
  },
  "language_info": {
   "codemirror_mode": {
    "name": "ipython",
    "version": 3
   },
   "file_extension": ".py",
   "mimetype": "text/x-python",
   "name": "python",
   "nbconvert_exporter": "python",
   "pygments_lexer": "ipython3",
   "version": "3.8.6"
  }
 },
 "nbformat": 4,
 "nbformat_minor": 4
}

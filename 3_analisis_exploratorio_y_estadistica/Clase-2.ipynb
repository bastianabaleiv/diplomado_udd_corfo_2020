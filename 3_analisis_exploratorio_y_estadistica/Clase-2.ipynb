{
 "cells": [
  {
   "cell_type": "markdown",
   "metadata": {},
   "source": [
    "# Clase 2: Matplotlib\n",
    "\n",
    "O más bien dicho: como graficar utilizando Python y no morir en el intento\n",
    "\n",
    "- Matplotlib surge como una librería para hacer gráficos estilo MATLAB el 2003\n",
    "    - Pertenece al ecosistema de computación científica de SciPy [link](https://www.scipy.org/)\n",
    "    - Código abierto, licencia Estilo BSD\n",
    "\n",
    "\n",
    "- Principalmente los gráficos son en 2D, pero incluye una interfaz rudimentaria para generar gráficos 3D."
   ]
  },
  {
   "cell_type": "markdown",
   "metadata": {},
   "source": [
    "<center><img src=\"https://drive.google.com/uc?id=1SNPE4kGtcm0-5Azyy6CdJmtKTcddVgAb\"> <img src=\"https://drive.google.com/uc?id=1gQKF970QYOH5tBgPkIxnYSPPlpEm839Z\"> <img src=\"https://drive.google.com/uc?id=10TQoGXQ3RCLBp4rh2LQ42-CCKNbst-vM\"></center>"
   ]
  },
  {
   "cell_type": "markdown",
   "metadata": {},
   "source": [
    "## Un ejemplo práctico del uso de matplotlib (mostrando sus potencialidades)\n",
    "\n",
    "La imagen de un agujero negro captado por múltiples telescopios y procesado con matplotlib [(Enlace al repositorio de código en github)](https://github.com/achael/eht-imaging):\n",
    "\n",
    "<img src=\"https://drive.google.com/uc?id=1JMwFp4mozxyPLo-2UdyOT_3CTcqE7tUV\">\n",
    "\n",
    "Esto fue posible gracias a la investigación de la Dr. Katie Boumann y el equipo involucrado en el desarrollo de la librería [(Charla Ted relacionada)](https://www.youtube.com/watch?v=BIvezCVcsYs)\n",
    "\n",
    "<img src=\"https://drive.google.com/uc?id=1mIo9gSP_wbfL3IUcLHrTxBg7HgswRc2Y\">"
   ]
  },
  {
   "cell_type": "markdown",
   "metadata": {},
   "source": [
    "# ¿Cómo empezamos a trabajar con matplotlib?\n",
    "\n",
    "En este caso, la recomendación va por instalar anaconda [(link)](https://www.anaconda.com/products/individual), la cual viene con un conjunto de librerías preinstaladas para computación científica y Data Science. Con esto la instalación y/o actualización de esta librería puede realizar con cualquiera de estos dos simples comandos:\n",
    "\n",
    "1.- Utilizando el gestor de paquetes de anaconda\n",
    "```bash\n",
    "conda install matplotlib\n",
    "```\n",
    "2.- Utilizando el gestor de paquetes de python (pip)\n",
    "```bash\n",
    "pip install matplotlib\n",
    "```\n",
    "\n",
    "**Nota:** En otros entornos de computación en la nube (por ejemplo google colab), matplotlib y todo el stack de scipy viene preinstalado.\n",
    "\n",
    "Una vez instalado, para poder empezar a graficar necesitamos importar la librería, específicamente el módulo `pyplot` y luego activar el **backend** de jupyter, utilizando los siguientes comandos en una celda:\n",
    "\n",
    "```python\n",
    "import matplotlib.pyplot as plt # Este es el \"alias\" tradicional para matplotlib\n",
    "%matplotlib inline # Este activa el backend para jupyter, mostrando los gráficos en los resultados de las celdas\n",
    "```"
   ]
  },
  {
   "cell_type": "markdown",
   "metadata": {},
   "source": [
    "# ¿Qué es el backend?\n",
    "\n",
    "Para dar respuesta a esto, vamos a analizar los componentes de matplotlib, los cuales se dividen en tres capas:\n",
    "\n",
    "<center><img src=\"https://drive.google.com/uc?id=1ida6zgYM4kl19AzAqCQV17J0qtG-lARA\"></center>\n",
    "\n",
    "## 1.- Capa del Backend (Backend Layer)\n",
    "\n",
    "El backend corresponde al componente donde se va a generar la imagen, y por consiguiente nos permite renderizar las instrucciones que nosotros programamos mediante python. Existen múltiples backend, los cual permiten exportar las imágenes generadas en distintos formatos (PNG, JPG, PDF, entre otros). Específicamente, el backend está compuesto por tres elementos:\n",
    "\n",
    "- FigureCanvas: Área donde el gráfico se va a dibujar\n",
    "- Renderer: La herramienta utilizada para dibujar en FigureCanvas\n",
    "- Event: Maneja entradas provenientes de los usuarios (Clicks de mouse, teclas presionadas en el teclado, etc.)\n",
    "\n",
    "Una analogía para cada uno de estos componentes corresponde a: \n",
    "\n",
    "<center><h3><i>\"FigureCanvas es nuestro papel, Render es nuestro pincel, Event son instrucciones de alguien sobre que dibujar\"</h3></i></center>\n",
    "\n",
    "## 2.- Capa del artista (Artist Layer)\n",
    "\n",
    "La idea detrás de la capa del artista, es controlar todos los posibles elementos existentes en las figuras. Cada elemento existente va a ser un objeto de python con sus posibles propiedades, y objetos hijos. Por lo mismo, la capa del artista se le conoce como la **la interfaz de Orientación de Objetos**. \n",
    "- Cada elemento del gráfico es un elemento artista, el cual puede estar compuesto por varios artistas a su vez. Ejemplo de esto se presentan en las siguientes figuras:\n",
    "\n",
    "<center><img src=\"https://drive.google.com/uc?id=1e8n4BcbEmvlIHMy2T8cBiLINfmMNomwe\"></center>\n",
    "\n",
    "## 3.- Capa de Scripting (Scripting Layer)\n",
    "\n",
    "Esta corresponde a la interfaz más sencilla para realizar gráficos de matplotlib. La idea es graficar lo más parecido a MATLAB, donde con pocas líneas de código se automatiza todo el proceso de la capa del artista. Utilizando esta capa de scripting, las pocas líneas de código son capaces de generar todos los artistas y la jerarquía existente entre ellos de forma sencilla, e inclusive permite rescatar un artista específico para hacer modificaciones si es que corresponde. Finalmente, para poder utilizar esta capa de scripting simplemente tenemos que llamar a `pyplot` (o en su defecto, el alias `plt`)\n",
    "\n",
    "Veamos un ejemplo de graficar con la capa de artista, versus graficar con la capa de scripting:\n"
   ]
  },
  {
   "cell_type": "code",
   "execution_count": null,
   "metadata": {},
   "outputs": [],
   "source": [
    "import matplotlib.pyplot as plt #Importamos la libreria\n",
    "\n",
    "#Importamos pandas y numpy para aprovechar las capacidades númericas y de manejo de datos de ambas librerias\n",
    "import pandas as pd \n",
    "import numpy as np"
   ]
  },
  {
   "cell_type": "code",
   "execution_count": null,
   "metadata": {},
   "outputs": [],
   "source": [
    "%matplotlib inline"
   ]
  },
  {
   "cell_type": "markdown",
   "metadata": {},
   "source": [
    "Utilizando `numpy`, vamos a genero un arreglo con $20000$  puntos aleatorios obtenidos de una distribución normal y lo vamos a guardar en la variable `x`"
   ]
  },
  {
   "cell_type": "code",
   "execution_count": null,
   "metadata": {},
   "outputs": [],
   "source": [
    "x = np.random.randn(20000)"
   ]
  },
  {
   "cell_type": "markdown",
   "metadata": {},
   "source": [
    "### Forma con la capa Artista"
   ]
  },
  {
   "cell_type": "code",
   "execution_count": null,
   "metadata": {},
   "outputs": [],
   "source": [
    "#Instanciamos el Artista \"Figura\"\n",
    "fig = plt.figure()\n",
    "\n",
    "#Generamos un eje de la figura, especificamente se genera un eje (Axis), \n",
    "#con 1 fila y 1 columna\n",
    "ax = fig.add_subplot(111)\n",
    "\n",
    "#Ocupamos el Artista ax, para pintar un histograma con 100 bins\n",
    "ax.hist(x, 100)\n",
    "\n",
    "#Añadimos el titulo al eje ax\n",
    "ax.set_title('distribución Normal')\n",
    "\n",
    "#Mostramos la figura\n",
    "plt.show()"
   ]
  },
  {
   "cell_type": "markdown",
   "metadata": {},
   "source": [
    "### Forma con la capa Scripting"
   ]
  },
  {
   "cell_type": "code",
   "execution_count": null,
   "metadata": {},
   "outputs": [],
   "source": [
    "#llamamos a plt.hist, basicamente instanciamos un histograma, \n",
    "#e implicitamente, se genera internamente un eje \n",
    "plt.hist(x, 100)\n",
    "\n",
    "#A dicho eje, le añadimos el titulo\n",
    "plt.title('Distribución Normal')\n",
    "\n",
    "#Mostramos la figura\n",
    "plt.show()"
   ]
  },
  {
   "cell_type": "markdown",
   "metadata": {},
   "source": [
    "# Anatomía de un gráfico de matplotlib:\n",
    "\n",
    "Cada uno de estos elementos es un artista, el cual podemos modificar según nuestras necesidades.\n",
    "<center><img src=\"https://drive.google.com/uc?id=1jCkFxwUeJex8n7DoWN9EH6OXpgsOhqCV\"></center>\n",
    "\n",
    "<hr>\n",
    "Lecturas adicionales:\n",
    "\n",
    "- [Partes de una figura](https://matplotlib.org/faq/usage_faq.html#parts-of-a-figure)\n",
    "- [La arquitectura de Matplotlib](https://www.aosabook.org/en/matplotlib.html)\n"
   ]
  },
  {
   "cell_type": "markdown",
   "metadata": {},
   "source": [
    "# Gráficos básicos con matplotlib: Diagramas de líneas (Line plots)\n",
    "\n",
    "Realicemos un \"hola mundo\", las primeras líneas necesarias para generar un gráfico de línea: \n",
    "\n",
    "```python\n",
    "plt.plot(x,y,*args) # Generamos un gráfico\n",
    "plt.show() # Imprimimos el gráfico por pantalla\n",
    "```\n",
    "\n",
    "La estructura que utiliza la capa de scripting tiene dos elementos principales: la entrada `x` e `y`. Específicamente ambas variables deben ser arreglos unidimensionales detallando claramente: los valores para cada par $(x,y)$. Por lo mismo las dimensiones de ambos arreglos tiene que ser iguales, de lo contrario se va a levantar un `exception` debido a la diferencia de largo de arreglos.\n",
    "\n",
    "Finalmente, `*args` hace mención a que dicha función `plot`, recibe más parámetros los cuales pueden modificar el comportamiento de lo que se está graficando. Si se omiten estos parámetros y si solo se detalla los valores de `x` e `y`, entonces matplotlib va a generar un gráfico de línea.\n",
    "\n",
    "[Documentación del método plot](https://matplotlib.org/3.3.1/api/_as_gen/matplotlib.pyplot.plot.html)\n",
    "\n",
    "Ejemplo:\n"
   ]
  },
  {
   "cell_type": "code",
   "execution_count": null,
   "metadata": {},
   "outputs": [],
   "source": [
    "#Definimos el arreglo a gráficar\n",
    "arr = [1,2,3,4,5]\n",
    "#Ocupamos el método plot\n",
    "plt.plot(arr,arr)\n",
    "plt.show()"
   ]
  },
  {
   "cell_type": "markdown",
   "metadata": {},
   "source": [
    "# Ejercicio 1\n",
    "\n",
    "Grafiquemos una señal sinusoidal, en este caso nuestros valores de $x$ va a estar definido como:\n",
    "$$x \\in [0,10]$$.\n",
    "\n",
    "Y la variable $y$ se define como:\n",
    "\n",
    "$$y = sin(x)$$\n",
    "\n",
    "utilizando matplotlib y numpy genere dicho gráfico\n",
    "\n",
    "¿Cómo podemos obtener una curva más suave?\n"
   ]
  },
  {
   "cell_type": "code",
   "execution_count": null,
   "metadata": {},
   "outputs": [],
   "source": [
    "#Definimos el arreglo a gráficar\n",
    "x = ... \n",
    "y = ... \n",
    "#Ocupamos el método plot\n",
    "plt.plot(...,...) \n",
    "plt.show()"
   ]
  },
  {
   "cell_type": "markdown",
   "metadata": {},
   "source": [
    "# Fin Ejercicio 1"
   ]
  },
  {
   "cell_type": "markdown",
   "metadata": {},
   "source": [
    "# Graficar múltiples datos\n",
    "Cuando queremos graficar múltiples datos, por ejemplo: \"hacer múltiples líneas en el mismo eje\", podemos utilizar la siguiente sintaxis:\n",
    "\n",
    "```python\n",
    "plt.plot(x,y,*args) # Generamos Línea 1\n",
    "plt.plot(x,y,*args) # Generamos Línea 2\n",
    "...\n",
    "plt.plot(x,y,*args) # Generamos Línea N\n",
    "\n",
    "plt.show() # Imprimimos el gráfico por pantalla\n",
    "```\n",
    "\n",
    "Si nosotros llamamos múltiples veces instrucciones para graficar, el comportamiento que tomara matplotlib es graficar en la misma figura hasta que nosotros liberemos el backend. \n",
    "\n",
    "Métodos que liberan el backend:\n",
    "\n",
    "- plt.show(): Mostrar la figura\n",
    "- plt.close(): Cerrar la figura, limpiando el backend\n",
    "\n",
    "**Nota:** Al momento de utilizar el jupyter magic `%matplotlib inline`, al final de cada ejecución de celda se ejecutara una liberación del backend.\n",
    "\n",
    "Ejemplo de graficar múltiples líneas:\n"
   ]
  },
  {
   "cell_type": "code",
   "execution_count": null,
   "metadata": {},
   "outputs": [],
   "source": [
    "x = [1,2,3,4,5] #eje X\n",
    "y1 = np.random.randn(5) #y1, obtenemos 5 números aleatorios\n",
    "y2 = y1 + 1 # Vamos sumando 1 por cada línea que pintamos\n",
    "y3 = y2 + 1\n",
    "y4 = y3 + 1\n",
    "\n",
    "#Ocupamos el método plot\n",
    "plt.plot(x,y1) #Línea 1\n",
    "plt.plot(x,y2) #Línea 2\n",
    "plt.plot(x,y3) #Línea 3\n",
    "plt.plot(x,y4) #Línea 4\n",
    "\n",
    "plt.show()"
   ]
  },
  {
   "cell_type": "markdown",
   "metadata": {},
   "source": [
    "## Modificando las propiedades de un gráfico: Añadiendo una leyenda\n",
    "\n",
    "Una forma básica para añadir la leyenda a nuestra visualización, corresponde a utilizar el método plt.legend(). Como argumento, este método recibe un arreglo con los nombres para cada uno de los elementos graficados (en este caso, las líneas).\n"
   ]
  },
  {
   "cell_type": "code",
   "execution_count": null,
   "metadata": {},
   "outputs": [],
   "source": [
    "x = [1,2,3,4,5] \n",
    "y1 = np.random.randn(5) \n",
    "y2 = y1 + 1 \n",
    "y3 = y2 + 1\n",
    "y4 = y3 + 1\n",
    "plt.plot(x,y1) \n",
    "plt.plot(x,y2) \n",
    "plt.plot(x,y3) \n",
    "plt.plot(x,y4) \n",
    "\n",
    "#Añadimos 4 Lineas a la legenda, debido a que estamos gráficando las 4 líneas\n",
    "plt.legend([\"Línea 1\", \"Línea 2\", \"Línea 3\", \"Línea 4\"])\n",
    "plt.show()"
   ]
  },
  {
   "cell_type": "markdown",
   "metadata": {},
   "source": [
    "Una forma alternativa, y detallada como una buena práctica por los desarrolladores de matplotlib, corresponde a asignarle una etiqueta a cada una de las líneas, para luego simplemente llamar al método legend. Este al no recibir ningún parámetro, va a buscar dentro de cada artista relacionado a la línea, el parámetro `label`"
   ]
  },
  {
   "cell_type": "code",
   "execution_count": null,
   "metadata": {},
   "outputs": [],
   "source": [
    "x = [1,2,3,4,5] \n",
    "y1 = np.random.randn(5) \n",
    "y2 = y1 + 1 \n",
    "y3 = y2 + 1\n",
    "y4 = y3 + 1\n",
    "plt.plot(x,y1, label='Línea 1') \n",
    "plt.plot(x,y2, label='Línea 2') \n",
    "plt.plot(x,y3, label='Línea 3') \n",
    "plt.plot(x,y4, label='Línea 4') \n",
    "\n",
    "plt.legend()\n",
    "plt.show()"
   ]
  },
  {
   "cell_type": "markdown",
   "metadata": {},
   "source": [
    "## Modificando las propiedades de un gráfico: Añadiendo un título\n",
    "\n",
    "Para añadir un título a nuestro gráfico, nosotros podemos utilizar el método `plt.title()`. En este caso, dicho método recibe como argumento un `String` el cual se va a pintar en la zona superior del gráfico. Recibe más parámetros los cuales pueden ver en la [documentación](https://matplotlib.org/3.3.1/api/_as_gen/matplotlib.pyplot.title.html). Cabe detallar, es capaz de mostrar [**LaTeX**](https://es.wikipedia.org/wiki/LaTeX).\n"
   ]
  },
  {
   "cell_type": "code",
   "execution_count": null,
   "metadata": {},
   "outputs": [],
   "source": [
    "x = [1,2,3,4,5] \n",
    "y1 = np.random.randn(5) \n",
    "y2 = y1 + 1 \n",
    "y3 = y2 + 1\n",
    "y4 = y3 + 1\n",
    "plt.plot(x,y1, label='Línea 1') \n",
    "plt.plot(x,y2, label='Línea 2') \n",
    "plt.plot(x,y3, label='Línea 3') \n",
    "plt.plot(x,y4, label='Línea 4') \n",
    "\n",
    "plt.legend()\n",
    "plt.title(\"Hola Mundo! $\\\\gamma \\\\epsilon \\\\iota \\\\alpha$\") # yeia es hola en griego\n",
    "plt.show()"
   ]
  },
  {
   "cell_type": "markdown",
   "metadata": {},
   "source": [
    "## Modificando las propiedades de un gráfico: Añadiendo los títulos para los ejes\n",
    "\n",
    "Para añadir títulos a los ejes X e Y, se utilizan los métodos `plt.xlabel` y `plt.ylabel` respectivamente. Los argumentos para cada método son similares a generar un título.\n",
    "\n",
    "[Documentación xlabel](https://matplotlib.org/3.3.1/api/_as_gen/matplotlib.pyplot.xlabel.html?highlight=xlabel#matplotlib.pyplot.xlabel)\n",
    "\n",
    "[Documentación ylabel](https://matplotlib.org/3.3.1/api/_as_gen/matplotlib.pyplot.ylabel.html?highlight=ylabel#matplotlib.pyplot.ylabel)\n"
   ]
  },
  {
   "cell_type": "code",
   "execution_count": null,
   "metadata": {},
   "outputs": [],
   "source": [
    "x = [1,2,3,4,5] \n",
    "y1 = np.random.randn(5) \n",
    "y2 = y1 + 1 \n",
    "y3 = y2 + 1\n",
    "y4 = y3 + 1\n",
    "plt.plot(x,y1, label='Línea 1') \n",
    "plt.plot(x,y2, label='Línea 2') \n",
    "plt.plot(x,y3, label='Línea 3') \n",
    "plt.plot(x,y4, label='Línea 4') \n",
    "\n",
    "plt.legend()\n",
    "plt.title(\"Hola Mundo! $\\\\gamma \\\\epsilon \\\\iota \\\\alpha$\")\n",
    "plt.xlabel(\"eje X\")\n",
    "plt.ylabel(\"eje Y\")\n",
    "plt.show()"
   ]
  },
  {
   "cell_type": "markdown",
   "metadata": {},
   "source": [
    "# Ejercicio 2\n",
    "\n",
    "Grafiquemos dos señales, donde los valores de $x$ van a estar definido como: $x \\in [-2\\pi,2\\pi]$ y con una resolución de $0.05$ entre cada valor\n",
    "\n",
    "Y las variables $y$ se definen como:\n",
    "\n",
    "$$y_1 = sin(x)$$\n",
    "$$y_2 = cos(x)$$\n",
    "\n",
    "utilizando `matplotlib` y `numpy` genere dicho gráfico. Además de esto, añada un título descriptivo de lo que se gráfica, títulos a los ejes y leyendas para cada una de las señales.\n",
    "\n",
    "Pruebe otros tipos de funciones (como logaritmo, raíz n-ésima, potencia n-ésima, etc.)\n"
   ]
  },
  {
   "cell_type": "code",
   "execution_count": null,
   "metadata": {},
   "outputs": [],
   "source": [
    "#Definimos el arreglo a gráficar\n",
    "x = ...\n",
    "y1 = ...\n",
    "y2 = ...\n",
    "#Ocupamos el método plot\n",
    "plt.plot(...,...)\n",
    "..."
   ]
  },
  {
   "cell_type": "markdown",
   "metadata": {},
   "source": [
    "# Fin Ejercicio 2"
   ]
  },
  {
   "cell_type": "code",
   "execution_count": null,
   "metadata": {},
   "outputs": [],
   "source": []
  },
  {
   "cell_type": "markdown",
   "metadata": {},
   "source": [
    "# Gráficos de Torta (Pie Charts)\n",
    "\n",
    "Los gráficos de torta presentan la información en formas de proporciones en un eje circular. Para poder hacer un gráfico de torta tenemos que utilizar el método `plt.pie()`, el cual solo recibe los valores de $X$. Automáticamente, el método `plt.pie` va a calcular las proporciones y vamos a ver más adelante que al momento de generar etiquetas, estas quedan en formato de porcentajes. Aparte de esto, vamos a ver diversas formas de manipular la estética de este tipo de gráfico.\n",
    "\n",
    "[Documentación Pie Charts](https://matplotlib.org/3.3.1/api/_as_gen/matplotlib.pyplot.pie.html)\n",
    "\n",
    "Ejemplos:\n"
   ]
  },
  {
   "cell_type": "code",
   "execution_count": null,
   "metadata": {},
   "outputs": [],
   "source": [
    "sizes = [15, 30, 45, 10] #Tenemos cuatro tamaños para distintos animales.\n",
    "\n",
    "plt.pie(sizes) # Llamamos el método del Pie Chart\n",
    "plt.show() #Mostramos el gráfico"
   ]
  },
  {
   "cell_type": "markdown",
   "metadata": {},
   "source": [
    "Agregando etiquetas, utilizando el parámetro `labels`  (la cantidad de etiquetas tiene que ser igual a la cantidad de elementos en $X$)"
   ]
  },
  {
   "cell_type": "code",
   "execution_count": null,
   "metadata": {},
   "outputs": [],
   "source": [
    "labels = ['ranas', 'perros', \n",
    "          'gatos', 'serpientes']\n",
    "plt.pie(sizes,labels=labels)\n",
    "plt.show()"
   ]
  },
  {
   "cell_type": "markdown",
   "metadata": {},
   "source": [
    "Agregando las etiquetas de porcentajes se utiliza el parámetro `autopct` el cual recibe un `String`. A modo de ejemplo, utilizamos \"%.1f%%\" el cual está compuesto por\n",
    "\n",
    "- El primer \"%\" indica la transformación en porcentajes\n",
    "- .1f indica que se utilizara un dígito decimal\n",
    "- los últimos %% indican que imprima después de los dígitos el caracter \"%\".\n"
   ]
  },
  {
   "cell_type": "code",
   "execution_count": null,
   "metadata": {},
   "outputs": [],
   "source": [
    "plt.pie(sizes,labels=labels,\n",
    "        autopct='%.1f%%')\n",
    "plt.show()"
   ]
  },
  {
   "cell_type": "markdown",
   "metadata": {},
   "source": [
    "Finalmente, y a modo de ejemplo, podemos manipular 1 o más porciones del gráfico de torta, separándolo del resto de las porciones, para eso tenemos que utilizar el parámetro `explode`.  Este parámetro recibe una lista la cual contiene un porcentaje de separación desde el centro de la torta."
   ]
  },
  {
   "cell_type": "code",
   "execution_count": null,
   "metadata": {},
   "outputs": [],
   "source": [
    "explode=[0,0.1,0,0]\n",
    "plt.pie(sizes,labels=labels,\n",
    "        autopct='%1.1f%%',\n",
    "        explode=explode)\n",
    "plt.show()"
   ]
  },
  {
   "cell_type": "markdown",
   "metadata": {},
   "source": [
    "# Gráficos de Barra (Bar charts)\n",
    "\n",
    "El gráfico de barras nos permite proyectar valores asociados a variables categóricas, en longitudes verticales u horizontales. Para realizar gráficos de barras en matplotlib, necesitamos utilizar el método `plt.bar`. Al igual que `plt.plot`, el método utilizado para los gráficos de barra reciben valores $X$ e $Y$.\n",
    "\n",
    "[Documentación de gráficos de barra](https://matplotlib.org/3.3.1/api/_as_gen/matplotlib.pyplot.bar.html?highlight=bar#matplotlib.pyplot.bar)\n",
    "\n",
    "Veamos un ejemplo del promedio de puntajes en una prueba, para 5 grupos dividiendo en cada grupo entre hombres y mujeres:\n"
   ]
  },
  {
   "cell_type": "code",
   "execution_count": null,
   "metadata": {},
   "outputs": [],
   "source": [
    "labels = ['G1', 'G2', 'G3', 'G4', 'G5'] #Las etiquetas, basicamente Grupo 1, Grupo 2, ..., Grupo 5\n",
    "men_means = [20, 34, 30, 35, 27] #Los promedios de puntajes obtenidos para los hombres en cada grupo\n",
    "women_means = [25, 32, 34, 29, 35] #Los promedios de puntajes obtenidos para las mujeres en cada grupo\n",
    "x = np.arange(len(labels))  # Generaremos nuestro eje X, utilizando el método np.arange, según el largo de la etiqueta. "
   ]
  },
  {
   "cell_type": "code",
   "execution_count": null,
   "metadata": {},
   "outputs": [],
   "source": [
    "# Aquí graficamos el promedio de puntajes de los hombres para los distintos grupos.\n",
    "plt.bar(x, men_means) # Luego es tan simple como llamar plt.bar(x,y)\n",
    "plt.show() #mostramos la figura"
   ]
  },
  {
   "cell_type": "code",
   "execution_count": null,
   "metadata": {},
   "outputs": [],
   "source": []
  },
  {
   "cell_type": "markdown",
   "metadata": {},
   "source": [
    "Podemos manipular el mismo gráfico, modificando los anchos de las barras utilizando el parámetro `width` (el cual por defecto es 0.7). Aquí lo cambiaremos a la mitad (0.35):"
   ]
  },
  {
   "cell_type": "code",
   "execution_count": null,
   "metadata": {},
   "outputs": [],
   "source": [
    "width = 0.35\n",
    "rects1 = plt.bar(x, men_means,\n",
    "                 width=width)\n",
    "plt.show()"
   ]
  },
  {
   "cell_type": "markdown",
   "metadata": {},
   "source": [
    "¿Qué pasaría si quisiésemos pintar los promedios de los hombres y las mujeres en el mismo gráfico?\n",
    "\n",
    "Hagamos la prueba utilizando la misma lógica al pintar múltiples líneas con `plt.plot`:\n"
   ]
  },
  {
   "cell_type": "code",
   "execution_count": null,
   "metadata": {},
   "outputs": [],
   "source": [
    "rects1 = plt.bar(x, men_means, width, label='Men') # Barras para los promedios de los hombres utilizando width declarado anteriormente\n",
    "rects2 = plt.bar(x, women_means, width, label='Women') # Barras para los promedios de las mujeres utilizando width declarado anteriormente"
   ]
  },
  {
   "cell_type": "markdown",
   "metadata": {},
   "source": [
    "**¿Qué fue lo que paso?**\n",
    "\n",
    "Sucede que el valor de $X$ es el mismo para las barras de los hombres como de las mujeres. Para poder añadir las barras lado a lado, tenemos que modificar levemente la variable $X$. Específicamente, vamos a realizar lo siguiente:\n",
    "\n",
    "$$X_{men} = x - \\frac{width}{2} $$\n",
    "$$X_{women} = x + \\frac{width}{2} $$\n"
   ]
  },
  {
   "cell_type": "code",
   "execution_count": null,
   "metadata": {},
   "outputs": [],
   "source": [
    "rects1 = plt.bar(x - width/2, men_means, width)\n",
    "rects2 = plt.bar(x + width/2, women_means, width)"
   ]
  },
  {
   "cell_type": "markdown",
   "metadata": {},
   "source": [
    "**¿Cómo sería si tuviésemos más de dos barras, que tendría que cambiar en las ecuaciones para poder modificar los valores de $X$?**"
   ]
  },
  {
   "cell_type": "markdown",
   "metadata": {},
   "source": [
    "Una alternativa a los gráficos de barras proyectados lado a lado, son los gráficos de barras apilados. Para hacer esto, solo tenemos que pasar el parámetro `bottom` el cual corresponde a una lista, y nos permite modificar el origen de la barra a pintar."
   ]
  },
  {
   "cell_type": "code",
   "execution_count": null,
   "metadata": {},
   "outputs": [],
   "source": [
    "rects1 = plt.bar(x, men_means, width)\n",
    "rects2 = plt.bar(x, women_means, width, bottom=men_means) # En este caso, solo lo hacemos para la segunda barra, y que estas partan desde los valores de men_means"
   ]
  },
  {
   "cell_type": "markdown",
   "metadata": {},
   "source": [
    "Finalmente, podemos añadir la legenda utilizando cualquiera de los dos métodos vistos anteriormente"
   ]
  },
  {
   "cell_type": "code",
   "execution_count": null,
   "metadata": {},
   "outputs": [],
   "source": [
    "rects1 = plt.bar(x - width/2, men_means, width)\n",
    "rects2 = plt.bar(x + width/2, women_means, width)\n",
    "plt.legend([\"men\",\"women\"])"
   ]
  },
  {
   "cell_type": "markdown",
   "metadata": {},
   "source": [
    "Como podrán haber visto, el eje X de nuestro gráfico tiene valores numéricos (debido a que la variable `x = np.arange(len(labels))`). Nosotros podemos modificar esto, utilizando el método `plt.xticks()`, el cual recibe los valores de $X$, y luego etiquetas a mostrar para dichos valores de $X$. \n",
    "\n",
    "A su vez, vamos a completar el gráfico modificando el título, y la etiqueta del eje Y. Para este último, utilizaremos el método `plt.ylabel()`\n"
   ]
  },
  {
   "cell_type": "code",
   "execution_count": null,
   "metadata": {},
   "outputs": [],
   "source": [
    "rects1 = plt.bar(x - width/2, men_means, width)\n",
    "rects2 = plt.bar(x + width/2, women_means, width)\n",
    "plt.legend([\"men\",\"women\"])\n",
    "\n",
    "plt.ylabel('Scores')\n",
    "plt.title('Scores by group and gender')\n",
    "plt.xticks(x,labels)\n",
    "\n",
    "plt.show()"
   ]
  },
  {
   "cell_type": "markdown",
   "metadata": {},
   "source": [
    "# Histogramas\n",
    "\n",
    "Los histogramas son un caso específico de los gráficos de barras. Las diferencias entre los gráficos de barras y los histogramas, es que los primeros se utilizan para datos categóricos, mientras que los últimos para variables continuas. Los histogramas muestran una aproximación a la distribución de datos numéricos. Para este tipo de gráfico se generan las \"cajas\" (o \"bins\" en inglés) las cuales dividen todo el rango de posibles valores, en series de intervalos. Luego estos intervalos se llenan contando la cantidad de valores que están en dicho intervalo. \n",
    "\n",
    "Para generar un histograma, necesitamos utilizar el método `plt.hist()`. Dicho método necesita como entrada los datos $X$, y un numero de \"bins\" que se van a utilizar. Si este último número no especifica, entonces `plt.hist` generara por defecto 10 \"bins\"\n",
    "[Documentación Histogramas](https://matplotlib.org/3.3.1/api/_as_gen/matplotlib.pyplot.hist.html)\n",
    "\n"
   ]
  },
  {
   "cell_type": "code",
   "execution_count": null,
   "metadata": {},
   "outputs": [],
   "source": [
    "np.random.seed(42) # Fijamos la semilla aleatorea\n",
    "\n",
    "mu = 100 #Definimos el parametro Mu\n",
    "sigma = 25 # Definimos el parametro Sigma\n",
    "X = np.random.normal(mu,sigma,500) # Obtenemos 500 puntos de una distribución Normal con mu = 100 y sigma = 25\n",
    "\n",
    "num_bins = 50 # Definimos la cantidad de cajas para nuestro histograma\n",
    "n, bins, patches = plt.hist(X, num_bins)"
   ]
  },
  {
   "cell_type": "markdown",
   "metadata": {},
   "source": [
    "# Tablas de contingencia\n",
    "\n",
    "El método `pd.crosstab` nos permitirá realizar tablas de contingencia pasando como argumentos las series o arreglos donde tendremos nuestros datos categóricos. Por defecto, realizara el conteo de la co-ocurrencia de las variables categóricas, pero se pueden utilizar otras funciones de agregación\n",
    "```python\n",
    "pd.crosstab(serie1,serie2)\n",
    "```\n",
    "\n",
    "[Documentación crosstab](https://pandas.pydata.org/pandas-docs/stable/reference/api/pandas.crosstab.html)\n",
    "\n",
    "Ejemplo en el cual se va a guardar una tabla de contingencia en la variable `contigency`:\n",
    "\n"
   ]
  },
  {
   "cell_type": "code",
   "execution_count": null,
   "metadata": {},
   "outputs": [],
   "source": [
    "var1 = ['a','a','c','c','b','b','a','a','c','b']\n",
    "var2 = ['d','e','f','d','e','f','d','f','e','e']\n",
    "\n",
    "contingency = pd.crosstab(pd.Series(var1),\n",
    "                          pd.Series(var2),\n",
    "                          rownames=[\"var1\"],\n",
    "                          colnames=[\"var2\"])\n",
    "contingency"
   ]
  },
  {
   "cell_type": "markdown",
   "metadata": {},
   "source": [
    "# Mapas de calor (Heatmap)\n",
    "\n",
    "una forma de visualizar tablas (como la anterior), corresponde a un mapa de calor. Esta visualización utiliza la intensidad de color para codificar los valores existentes en las tablas. En este caso, para poder realizar un mapa de calor utilizando matplotlib necesitamos invocar el método `plt.pcolormesh()`. Este recibe como argumento un arreglo bidimensional y nos devuelve un objeto artista, relacionado a nuestro mapa de calor.\n",
    "\n",
    "[Documentación pcolormesh](https://matplotlib.org/3.1.1/api/_as_gen/matplotlib.pyplot.pcolormesh.html)\n"
   ]
  },
  {
   "cell_type": "code",
   "execution_count": null,
   "metadata": {},
   "outputs": [],
   "source": [
    "z = contingency.values # Obtenemos una representación matricial de la matriz de contingencia\n",
    "heatmap = plt.pcolormesh(z) # Generamos el mapa de calor y guardamos el artista en la variable heatmap"
   ]
  },
  {
   "cell_type": "markdown",
   "metadata": {},
   "source": [
    "Utilizaremos ahora el método `plt.colorbar` para añadir la barra de color a nuestro mapa de calor. Con esto podremos añadir la referencia para la escala de color, asociada a los valores pertenecientes a las tablas. Este método recibe el artista asociado al mapa de calor para extraer los valores de color y asociarlos en la barra.\n",
    "\n",
    "[Documentación colorbar](https://matplotlib.org/3.1.1/api/_as_gen/matplotlib.pyplot.colorbar.html?highlight=colorbar#matplotlib.pyplot.colorbar)\n"
   ]
  },
  {
   "cell_type": "code",
   "execution_count": null,
   "metadata": {},
   "outputs": [],
   "source": [
    "heatmap = plt.pcolormesh(z) #Generamos el heatmap\n",
    "cbar = plt.colorbar(heatmap) # Añadimos la barra de color"
   ]
  },
  {
   "cell_type": "markdown",
   "metadata": {},
   "source": [
    "Aparte de añadir la barra de color, podemos añadir a los ejes, los valores que hacen referencia cada una de las coordenadas. En este caso, en el eje X vamos a tener las valores correspondientes a las columnas (d,e,f), y en el eje Y los valores relacionados a las filas (a,b,c). Para esto utilizamos el método visto en los gráficos de barras `plt.xticks` y `plt.yticks`"
   ]
  },
  {
   "cell_type": "code",
   "execution_count": null,
   "metadata": {},
   "outputs": [],
   "source": [
    "heatmap = plt.pcolormesh(z)\n",
    "cbar = plt.colorbar(heatmap)\n",
    "plt.xticks([0.5,1.5,2.5],[\"d\",\"e\",\"f\"])\n",
    "plt.yticks([0.5,1.5,2.5],[\"a\",\"b\",\"c\"])"
   ]
  },
  {
   "cell_type": "markdown",
   "metadata": {},
   "source": [
    "Podemos añadir información, podemos utilizar el método `plt.text()`, el cual nos permitirá escribir texto en el heatmap. Este recibe 3 parámetros principales: coordenadas (X,Y) y el texto a pintar. En este caso, el texto lo vamos a sacar de la matrix `z[i,j]` (los valores obtenidos de la tabla de contingencia). Para poder pintar necesitaremos de los dos ciclos for, principalmente para escribir en los 9 cuadrados de los mapas de calor. Además de esto, añadiremos los títulos para el gráfico y los ejes X e Y. \n",
    "\n",
    "[Documentación plt.text](https://matplotlib.org/3.1.1/api/_as_gen/matplotlib.pyplot.text.html?highlight=pyplot%20text#matplotlib.pyplot.text)\n"
   ]
  },
  {
   "cell_type": "code",
   "execution_count": null,
   "metadata": {},
   "outputs": [],
   "source": [
    "\n",
    "heatmap = plt.pcolormesh(z)\n",
    "cbar = plt.colorbar(heatmap)\n",
    "plt.xticks([0.5,1.5,2.5],[\"d\",\"e\",\"f\"])\n",
    "plt.yticks([0.5,1.5,2.5],[\"a\",\"b\",\"c\"])\n",
    "for i in range(3):\n",
    "    for j in range(3):\n",
    "        text = plt.text(j+0.5, i+0.5, z[i, j], color=\"white\")\n",
    "plt.title(\"Tabla de contingencia\")\n",
    "plt.ylabel(\"var1\")\n",
    "plt.xlabel(\"var2\")\n",
    "plt.show()"
   ]
  },
  {
   "cell_type": "markdown",
   "metadata": {},
   "source": [
    "# Manejo de marcadores y diagramas de dispersión\n",
    "\n",
    "Para poder ver como varían los distintos posibles estilos de marcadores, utilizaremos un set de datos conocido. Este corresponde al set de datos de la flor de iris.\n",
    "\n",
    "[Documentación Estilos de Líneas y marcadores](https://matplotlib.org/gallery/lines_bars_and_markers/line_styles_reference.html)\n"
   ]
  },
  {
   "cell_type": "code",
   "execution_count": null,
   "metadata": {},
   "outputs": [],
   "source": [
    "iris_path = \"http://srodriguez.me/Datasets/Iris.csv\"\n",
    "iris_df = pd.read_csv(iris_path)\n",
    "iris_df.drop([\"Id\"],inplace=True,axis=\"columns\")\n",
    "iris_df.sample(2)"
   ]
  },
  {
   "cell_type": "markdown",
   "metadata": {},
   "source": [
    "Guardaremos las columnas numéricas en distintas variables"
   ]
  },
  {
   "cell_type": "code",
   "execution_count": null,
   "metadata": {},
   "outputs": [],
   "source": [
    "sl = iris_df['SepalLengthCm'].values\n",
    "sw = iris_df['SepalWidthCm'].values\n",
    "pl = iris_df['PetalLengthCm'].values\n",
    "pw = iris_df['PetalWidthCm'].values"
   ]
  },
  {
   "cell_type": "markdown",
   "metadata": {},
   "source": [
    "Luego graficaremos el comportamiento de una de estas utilizando el método `plt.plot`. Al pasar solo el eje X, este lo interpretara y graficara los valores como una serie desde el índice $0$, hasta `len(columna)`."
   ]
  },
  {
   "cell_type": "code",
   "execution_count": null,
   "metadata": {},
   "outputs": [],
   "source": [
    "plt.plot(sl) # Por defecto esto no generara un diagrama de linea"
   ]
  },
  {
   "cell_type": "markdown",
   "metadata": {},
   "source": [
    "Si después de pasar los datos, agregamos un estilo definidos en la documentación (ejemplo: '--'), vamos a tener diagrama de línea punteado"
   ]
  },
  {
   "cell_type": "code",
   "execution_count": null,
   "metadata": {},
   "outputs": [],
   "source": [
    "plt.plot(sl,\"--\")"
   ]
  },
  {
   "cell_type": "markdown",
   "metadata": {},
   "source": [
    "Ejemplo de otro estilo, punto y línea (\".-\"):"
   ]
  },
  {
   "cell_type": "code",
   "execution_count": null,
   "metadata": {},
   "outputs": [],
   "source": [
    "plt.plot(sl,\".-\")"
   ]
  },
  {
   "cell_type": "markdown",
   "metadata": {},
   "source": [
    "Ahora si graficamos dos variables sin especificar el estilo vamos a obtener algo bastante interesante:"
   ]
  },
  {
   "cell_type": "code",
   "execution_count": null,
   "metadata": {},
   "outputs": [],
   "source": [
    "plt.plot(sl,sw)"
   ]
  },
  {
   "cell_type": "markdown",
   "metadata": {},
   "source": [
    "Para evitar esto, tenemos que definir nuevamente un estilo de marcador, como estamos en análisis bivariado, podemos utilizar:\n",
    "\n",
    "# Diagrama de dispersión\n",
    "\n",
    "utilizando el método `plt.plot` y definiendo como tercer argumento un estilo de marcador podemos generar nuestros diagramas de dispersión y ver cómo se comportan una variable con respecto a otra.\n",
    "\n",
    "[Marcadores](https://matplotlib.org/3.3.0/api/markers_api.html)\n"
   ]
  },
  {
   "cell_type": "code",
   "execution_count": null,
   "metadata": {},
   "outputs": [],
   "source": [
    "plt.plot(sl,sw,'o') # 'o' es igual a decir un circulo como markador\n",
    "plt.show()"
   ]
  },
  {
   "cell_type": "markdown",
   "metadata": {},
   "source": [
    "Alternativamente podemos utilizar el método `plt.scatter()`:"
   ]
  },
  {
   "cell_type": "code",
   "execution_count": null,
   "metadata": {},
   "outputs": [],
   "source": [
    "plt.scatter(sl,sw)\n",
    "plt.show()"
   ]
  },
  {
   "cell_type": "markdown",
   "metadata": {},
   "source": [
    "Podemos añadir color utilizando el parámetro color:"
   ]
  },
  {
   "cell_type": "code",
   "execution_count": null,
   "metadata": {},
   "outputs": [],
   "source": [
    "plt.plot(sl,sw,'.',color=\"red\")"
   ]
  },
  {
   "cell_type": "markdown",
   "metadata": {},
   "source": [
    "o en su defecto, al principio del marcador la inicial del color, seguido por el marcador (en este caso \"ro\" = \"red points\")"
   ]
  },
  {
   "cell_type": "code",
   "execution_count": null,
   "metadata": {},
   "outputs": [],
   "source": [
    "plt.plot(sl,sw,'ro')"
   ]
  },
  {
   "cell_type": "markdown",
   "metadata": {},
   "source": [
    "un último ejemplo: diamantes rojos"
   ]
  },
  {
   "cell_type": "code",
   "execution_count": null,
   "metadata": {},
   "outputs": [],
   "source": [
    "plt.plot(sl,sw,'rd')"
   ]
  },
  {
   "cell_type": "markdown",
   "metadata": {},
   "source": [
    "# Matriz de correlación\n",
    "\n",
    "Siguiendo con el análisis bivariado, podemos analizar la correlación existente entre variables. Esta correlación nos dará las dependencias lineales entre pares de variables. Para esto podemos programar nuestra propia función la cual compute lo siguiente:\n",
    "\n",
    "$$\\Large \\rho_{X,Y} = \\frac{cov(X,Y)}{\\sigma_X\\sigma_Y}$$ \n",
    "donde\n",
    "$$\\Large cov(X,Y) = \\frac{\\sum (X-\\bar{X})(Y-\\bar{Y})}{N}$$\n",
    "\n",
    "Entonces, la matriz de correlación va a ser una matriz simétrica, donde cada casilla consiste en la correlación de los posibles pares de variables dentro de nuestro set de datos. En este caso, tendríamos una matriz de $4x4$ si es que tomamos como ejemplo el set de datos de iris. Generaremos una matriz con numpy inicializada en ceros\n"
   ]
  },
  {
   "cell_type": "code",
   "execution_count": null,
   "metadata": {},
   "outputs": [],
   "source": [
    "corr = np.zeros((4,4))\n",
    "corr"
   ]
  },
  {
   "cell_type": "markdown",
   "metadata": {},
   "source": [
    "Luego, definiremos la función de correlación el cual va a recibir dos arreglos de numpy, y luego computamos las fórmulas que mencionamos anteriormente. Además, como la matriz es simétrica solo vamos a llenar la diagonal superior de dicha matriz. Finalmente imprimimos la matriz"
   ]
  },
  {
   "cell_type": "code",
   "execution_count": null,
   "metadata": {},
   "outputs": [],
   "source": [
    "def correlation(X,Y):\n",
    "    cov = np.sum((X - np.mean(X)) * (Y - np.mean(Y)))* 1/(len(Y))\n",
    "    correlation_value = cov/(np.std(X)*np.std(Y))\n",
    "    return correlation_value\n",
    "\n",
    "corr[0,0] = correlation(sl,sl)\n",
    "corr[0,1] = correlation(sl,sw)\n",
    "corr[0,2] = correlation(sl,pl)\n",
    "corr[0,3] = correlation(sl,pw)\n",
    "\n",
    "corr[1,1] = correlation(sw,sw)\n",
    "corr[1,2] = correlation(sw,pl)\n",
    "corr[1,3] = correlation(sw,pw)\n",
    "\n",
    "\n",
    "corr[2,2] = correlation(pl,pl)\n",
    "corr[2,3] = correlation(pl,pw)\n",
    "\n",
    "corr[3,3] = correlation(pw,pw)\n",
    "corr"
   ]
  },
  {
   "cell_type": "markdown",
   "metadata": {},
   "source": [
    "Aprovechemos los mapas de calor y mostremos la matriz de correlación utilizando esta representación"
   ]
  },
  {
   "cell_type": "code",
   "execution_count": null,
   "metadata": {},
   "outputs": [],
   "source": [
    "heatmap = plt.pcolormesh(corr)\n",
    "cbar = plt.colorbar(heatmap)\n",
    "\n",
    "columns = [\"SepalLengthCm\",\"SepalWidthCm\",\"PetalLengthCm\",\"PetalWidthCm\"]\n",
    "plt.xticks([0.5,1.5,2.5,3.5],columns,rotation=45)\n",
    "plt.yticks([0.5,1.5,2.5,3.5],columns)\n",
    "for i in range(4):\n",
    "    for j in range(4):\n",
    "        text = plt.text(j+0.4, i+0.4, corr[i, j].round(2),color=\"red\",)\n",
    "plt.title(\"correlation matrix\")\n",
    "plt.ylabel(\"var1\")\n",
    "plt.xlabel(\"var2\")\n",
    "plt.show()"
   ]
  },
  {
   "cell_type": "markdown",
   "metadata": {},
   "source": [
    "Alternativamente y de forma mucho más sencilla, si tenemos un DataFrame podemos utilizar el método `.corr()` para obtener un nuevo DataFrame. Este DataFrame va a tener la matriz de correlación:"
   ]
  },
  {
   "cell_type": "code",
   "execution_count": null,
   "metadata": {},
   "outputs": [],
   "source": [
    "iris_df.corr()"
   ]
  },
  {
   "cell_type": "code",
   "execution_count": null,
   "metadata": {},
   "outputs": [],
   "source": [
    "corr = iris_df.corr().values"
   ]
  },
  {
   "cell_type": "markdown",
   "metadata": {},
   "source": [
    "Luego podemos graficar utilizando un heatmap"
   ]
  },
  {
   "cell_type": "code",
   "execution_count": null,
   "metadata": {},
   "outputs": [],
   "source": [
    "heatmap = plt.pcolormesh(corr)\n",
    "cbar = plt.colorbar(heatmap)\n",
    "\n",
    "columns = [\"SepalLengthCm\",\"SepalWidthCm\",\"PetalLengthCm\",\"PetalWidthCm\"]\n",
    "plt.xticks([0.5,1.5,2.5,3.5],columns,rotation=45)\n",
    "plt.yticks([0.5,1.5,2.5,3.5],columns)\n",
    "plt.title(\"correlation matrix\")\n",
    "plt.ylabel(\"var1\")\n",
    "plt.xlabel(\"var2\")\n",
    "plt.show()"
   ]
  },
  {
   "cell_type": "markdown",
   "metadata": {},
   "source": [
    "Añadimos títulos, nombres de variables y texto a cada casilla del mapa de calor"
   ]
  },
  {
   "cell_type": "code",
   "execution_count": null,
   "metadata": {},
   "outputs": [],
   "source": [
    "heatmap = plt.pcolormesh(corr)\n",
    "cbar = plt.colorbar(heatmap)\n",
    "\n",
    "columns = [\"SepalLengthCm\",\"SepalWidthCm\",\"PetalLengthCm\",\"PetalWidthCm\"]\n",
    "plt.xticks([0.5,1.5,2.5,3.5],columns,rotation=45)\n",
    "plt.yticks([0.5,1.5,2.5,3.5],columns)\n",
    "for i in range(4):\n",
    "    for j in range(4):\n",
    "        text = plt.text(j+0.4, i+0.4, corr[i, j].round(2), color=\"red\",)\n",
    "plt.title(\"correlation matrix\")\n",
    "plt.ylabel(\"var1\")\n",
    "plt.xlabel(\"var2\")\n",
    "plt.show()"
   ]
  },
  {
   "cell_type": "markdown",
   "metadata": {},
   "source": [
    "# Guardar la figura\n",
    "\n",
    "Para poder guardar una figura, podemos utilizar el método `plt.savefig()`. Este como primer argumento recibirá el nombre del archivo que nosotros queremos guardar. En este caso, vamos a guardar la matriz de correlación generada en el archivo `\"Correlation_matrix.png\"`\n"
   ]
  },
  {
   "cell_type": "code",
   "execution_count": null,
   "metadata": {},
   "outputs": [],
   "source": [
    "heatmap = plt.pcolormesh(corr)\n",
    "cbar = plt.colorbar(heatmap)\n",
    "\n",
    "columns = [\"SepalLengthCm\",\"SepalWidthCm\",\"PetalLengthCm\",\"PetalWidthCm\"]\n",
    "plt.xticks([0.5,1.5,2.5,3.5],columns,rotation=45)\n",
    "plt.yticks([0.5,1.5,2.5,3.5],columns)\n",
    "for i in range(4):\n",
    "    for j in range(4):\n",
    "        text = plt.text(j+0.4, i+0.4, corr[i, j].round(2), color=\"red\",)\n",
    "plt.title(\"correlation matrix\")\n",
    "plt.ylabel(\"var1\")\n",
    "plt.xlabel(\"var2\")\n",
    "plt.savefig(\"Correlation_matrix.png\")\n",
    "plt.show()"
   ]
  },
  {
   "cell_type": "markdown",
   "metadata": {},
   "source": [
    "Para aumentar la Resolución de la figura podemos utilizar el parámetro `dpi`, el cual hace referencia a \"Dots per Inch\" o Puntos por Pulgada. Mientras más alto sea este número, mayor va a ser la resolución de salida para la imagen."
   ]
  },
  {
   "cell_type": "code",
   "execution_count": null,
   "metadata": {},
   "outputs": [],
   "source": [
    "heatmap = plt.pcolormesh(corr)\n",
    "cbar = plt.colorbar(heatmap)\n",
    "\n",
    "columns = [\"SepalLengthCm\",\"SepalWidthCm\",\"PetalLengthCm\",\"PetalWidthCm\"]\n",
    "plt.xticks([0.5,1.5,2.5,3.5],columns,rotation=45)\n",
    "plt.yticks([0.5,1.5,2.5,3.5],columns)\n",
    "for i in range(4):\n",
    "    for j in range(4):\n",
    "        text = plt.text(j+0.4, i+0.4, corr[i, j].round(2),color=\"red\",)\n",
    "plt.title(\"correlation matrix\")\n",
    "plt.ylabel(\"var1\")\n",
    "plt.xlabel(\"var2\")\n",
    "plt.savefig(\"Correlation_matrix2.jpg\",dpi=300)\n",
    "plt.show()"
   ]
  },
  {
   "cell_type": "markdown",
   "metadata": {},
   "source": []
  },
  {
   "cell_type": "markdown",
   "metadata": {},
   "source": [
    "# Ejercicio 3\n",
    "\n",
    "Utilizaremos una base de datos especificamente: Los pingüinos de Palmer:\n",
    "\n",
    "<center><img src=\"https://drive.google.com/uc?id=1LQJhM-R0erjWF4fOh_KDHhpZDqdMz4x7\" alt=\"drawing\" style=\"width:700px;\"/></center>\n",
    "\n",
    "El set de datos de los pingüinos, específicamente “Palmer Penguins”, corresponde a un set de datos libre de uso. La idea es presentar una alternativa a un set de datos de similares características: El set de datos de Iris. En este caso, se tomaron diferentes medidas para 344 pingüinos en el archipiélago de Palmer en la antártica. Las medidas que se tomaron fueron: “Bill Length”, “Bill Depth”, “Flipper Length” y “Body Mass” .\n",
    "<center><img src=\"https://drive.google.com/uc?id=1NJPfsWerPisS_UFzzMWFj1Npr86UJlNW\" alt=\"drawing\" style=\"width:500px;\"/><img src=\"https://drive.google.com/uc?id=1Ik27Cgf9ekwHs2H9bmwigYfV7AU37FhX\" alt=\"drawing\" style=\"width:500px;\"/></center>\n",
    "\n",
    "\n",
    "1.- Obtener la matriz de correlación y graficarla\n",
    "\n",
    "2.- Graficar utilizando diagramas de dispersión pares de variables con: Alta Correlación, Nula Correlación y Correlación Negativa\n",
    "\n",
    "3.- Generar tres histogramas para las posibles variables que existen en el set de datos\n",
    "\n",
    "4.- Generar un gráfico de barras con la cantidad de pingüinos en cada isla\n",
    "\n",
    "5.- Generar un gráfico de torta con la cantidad de pingüinos según especie\n",
    "\n",
    "6.- Generar una tabla de contingencia con la cantidad de según especies e islas, y luego graficarlas\n",
    "\n",
    "\n",
    "\n",
    "**Nota:** Para el punto 4, una pequeña ayuda puede ser la función: `np.unique(x, return_counts=True)` [Documentación](https://numpy.org/doc/stable/reference/generated/numpy.unique.html)\n",
    "\n"
   ]
  },
  {
   "cell_type": "code",
   "execution_count": null,
   "metadata": {},
   "outputs": [],
   "source": [
    "penguins_df = pd.read_csv(\"http://srodriguez.me/Datasets/penguins.csv\").dropna()\n",
    "penguins_df.head()"
   ]
  },
  {
   "cell_type": "code",
   "execution_count": null,
   "metadata": {},
   "outputs": [],
   "source": [
    "# Su código aca\n",
    "...\n",
    "..."
   ]
  }
 ],
 "metadata": {
  "kernelspec": {
   "display_name": "Python 3",
   "language": "python",
   "name": "python3"
  },
  "language_info": {
   "codemirror_mode": {
    "name": "ipython",
    "version": 3
   },
   "file_extension": ".py",
   "mimetype": "text/x-python",
   "name": "python",
   "nbconvert_exporter": "python",
   "pygments_lexer": "ipython3",
   "version": "3.6.8"
  }
 },
 "nbformat": 4,
 "nbformat_minor": 4
}

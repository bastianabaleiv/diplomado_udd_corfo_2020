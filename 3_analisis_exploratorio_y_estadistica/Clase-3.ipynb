{
 "cells": [
  {
   "cell_type": "markdown",
   "metadata": {},
   "source": [
    "# Clase 3: Continuación Matplotlib\n",
    "\n",
    "En esta clase vamos a continuar el proceso de graficar utilizando matplotlib, principalmente: \n",
    "\n",
    "- El manejo de los diagramas de cajas y bigotes (Boxplots)\n",
    "- Trabajar con subgráficos \n",
    "- Graficar con la orientación a objetos de matplotlib\n",
    "- Calculo de estadísticas con pandas\n",
    "- Manejo de anotaciones y uso de los colores con matplotlib\n",
    "\n",
    "Comenzamos importando las librerías que vamos a utilizar:\n"
   ]
  },
  {
   "cell_type": "code",
   "execution_count": 1,
   "metadata": {},
   "outputs": [],
   "source": [
    "import matplotlib.pyplot as plt\n",
    "import pandas as pd\n",
    "import numpy as np\n",
    "\n",
    "%matplotlib inline "
   ]
  },
  {
   "cell_type": "markdown",
   "metadata": {},
   "source": [
    "Para hacer las visualizaciones, utilizaremos el set de datos de las flores de Iris."
   ]
  },
  {
   "cell_type": "code",
   "execution_count": 2,
   "metadata": {},
   "outputs": [
    {
     "data": {
      "text/html": [
       "<div>\n",
       "<style scoped>\n",
       "    .dataframe tbody tr th:only-of-type {\n",
       "        vertical-align: middle;\n",
       "    }\n",
       "\n",
       "    .dataframe tbody tr th {\n",
       "        vertical-align: top;\n",
       "    }\n",
       "\n",
       "    .dataframe thead th {\n",
       "        text-align: right;\n",
       "    }\n",
       "</style>\n",
       "<table border=\"1\" class=\"dataframe\">\n",
       "  <thead>\n",
       "    <tr style=\"text-align: right;\">\n",
       "      <th></th>\n",
       "      <th>Id</th>\n",
       "      <th>SepalLengthCm</th>\n",
       "      <th>SepalWidthCm</th>\n",
       "      <th>PetalLengthCm</th>\n",
       "      <th>PetalWidthCm</th>\n",
       "      <th>Species</th>\n",
       "    </tr>\n",
       "  </thead>\n",
       "  <tbody>\n",
       "    <tr>\n",
       "      <th>85</th>\n",
       "      <td>86</td>\n",
       "      <td>6.0</td>\n",
       "      <td>3.4</td>\n",
       "      <td>4.5</td>\n",
       "      <td>1.6</td>\n",
       "      <td>Iris-versicolor</td>\n",
       "    </tr>\n",
       "    <tr>\n",
       "      <th>22</th>\n",
       "      <td>23</td>\n",
       "      <td>4.6</td>\n",
       "      <td>3.6</td>\n",
       "      <td>1.0</td>\n",
       "      <td>0.2</td>\n",
       "      <td>Iris-setosa</td>\n",
       "    </tr>\n",
       "    <tr>\n",
       "      <th>103</th>\n",
       "      <td>104</td>\n",
       "      <td>6.3</td>\n",
       "      <td>2.9</td>\n",
       "      <td>5.6</td>\n",
       "      <td>1.8</td>\n",
       "      <td>Iris-virginica</td>\n",
       "    </tr>\n",
       "    <tr>\n",
       "      <th>33</th>\n",
       "      <td>34</td>\n",
       "      <td>5.5</td>\n",
       "      <td>4.2</td>\n",
       "      <td>1.4</td>\n",
       "      <td>0.2</td>\n",
       "      <td>Iris-setosa</td>\n",
       "    </tr>\n",
       "    <tr>\n",
       "      <th>81</th>\n",
       "      <td>82</td>\n",
       "      <td>5.5</td>\n",
       "      <td>2.4</td>\n",
       "      <td>3.7</td>\n",
       "      <td>1.0</td>\n",
       "      <td>Iris-versicolor</td>\n",
       "    </tr>\n",
       "  </tbody>\n",
       "</table>\n",
       "</div>"
      ],
      "text/plain": [
       "      Id  SepalLengthCm  SepalWidthCm  PetalLengthCm  PetalWidthCm  \\\n",
       "85    86            6.0           3.4            4.5           1.6   \n",
       "22    23            4.6           3.6            1.0           0.2   \n",
       "103  104            6.3           2.9            5.6           1.8   \n",
       "33    34            5.5           4.2            1.4           0.2   \n",
       "81    82            5.5           2.4            3.7           1.0   \n",
       "\n",
       "             Species  \n",
       "85   Iris-versicolor  \n",
       "22       Iris-setosa  \n",
       "103   Iris-virginica  \n",
       "33       Iris-setosa  \n",
       "81   Iris-versicolor  "
      ]
     },
     "execution_count": 2,
     "metadata": {},
     "output_type": "execute_result"
    }
   ],
   "source": [
    "iris_path = \"http://srodriguez.me/Datasets/Iris.csv\"\n",
    "iris_df = pd.read_csv(iris_path)\n",
    "iris_df.sample(5)"
   ]
  },
  {
   "cell_type": "markdown",
   "metadata": {},
   "source": [
    "# Diagramas de Caja y Bigotes (Box Plots)\n",
    "\n",
    "El diagrama de Caja y Bigotes es una representación univariada de los datos, utilizando múltiples componentes para poder mostrar la variabilidad y asimetría de los datos. El componente principal corresponde a la caja, compuesta por un rectángulo el cual los limites corresponden a el primer cuartil y tercer cuartil. Adentro de dicho rectángulo se presenta una línea la cual corresponde a la mediana. El otro componente corresponde a los bigotes, los cuales se extienden hasta una distancia de $1.5IQR$, donde $IQR$ corresponde al rango intercuartil y se calcula: $IQR=Q_3 - Q_1$. Finalmente, cualquier valor que supere la distancia de los bigotes, corresponden a nuestros datos atípicos, los cuales se marcan como puntos después de los bigotes.\n",
    "\n",
    "Si nosotros quisiésemos graficar manualmente un diagrama de caja y bigote, deberíamos calcular cada elemento mencionado anteriormente para poder dibujarlo en papel y lápiz. Una de las grandes ventajas de utilizar matplotlib, es que cada uno de estos valores los calcula internamente y luego los utiliza para poder graficar cada elemento. Para esto utilizamos el método `plt.boxplot`, donde la sintaxis es la siguiente:\n",
    "\n",
    "```python\n",
    "plt.boxplot(x,*args)\n",
    "```\n",
    "\n",
    "donde `x` puede ser un arreglo unidimensional, o $n$-dimensional (donde se generarán $n$ cajas). \n",
    "\n",
    "Un ejemplo de esto utilizando el set de datos de Iris, obtendremos el Box plot de la variable `SepalLengthCm`:\n"
   ]
  },
  {
   "cell_type": "code",
   "execution_count": 3,
   "metadata": {},
   "outputs": [
    {
     "data": {
      "text/plain": [
       "{'whiskers': [<matplotlib.lines.Line2D at 0x7f3a0b826d60>,\n",
       "  <matplotlib.lines.Line2D at 0x7f3a0b842100>],\n",
       " 'caps': [<matplotlib.lines.Line2D at 0x7f3a0b842460>,\n",
       "  <matplotlib.lines.Line2D at 0x7f3a0b8427c0>],\n",
       " 'boxes': [<matplotlib.lines.Line2D at 0x7f3a0b826a00>],\n",
       " 'medians': [<matplotlib.lines.Line2D at 0x7f3a0b842b20>],\n",
       " 'fliers': [<matplotlib.lines.Line2D at 0x7f3a0b842e80>],\n",
       " 'means': []}"
      ]
     },
     "execution_count": 3,
     "metadata": {},
     "output_type": "execute_result"
    },
    {
     "data": {
      "image/png": "[encoded data removed]",
      "text/plain": [
       "<Figure size 432x288 with 1 Axes>"
      ]
     },
     "metadata": {
      "needs_background": "light"
     },
     "output_type": "display_data"
    }
   ],
   "source": [
    "plt.boxplot(iris_df['SepalLengthCm'])\n"
   ]
  },
  {
   "cell_type": "markdown",
   "metadata": {},
   "source": [
    "A primera vista podemos ver que la mayoría de los elementos están presentes. Un punto importante a notar sobre como grafica `matplotlib` se puede ver en la respuesta a la ejecución del código sin utilizar en la última línea el método `plt.show()`. En este caso, el método de `boxplot` nos retornar un diccionario, en el cual tienen todos los objetos artistas para cada elemento pintado (esto es útil si quisiésemos modificar específicamente un artista en específico). \n",
    "\n",
    "Otro punto importante es la asimetría presente en los bigotes presentes en el ejemplo anterior. Por defecto `matplotlib` al calcular el rango intecuartil revisa los valores máximos y mínimos presentes en los datos a graficar. Si $(Q_3 + 1.5 IQR) > max(X)$ o $(Q_1 - 1.5 IQR) < min(X)$, lo que realizara matplotlib es cortar los bigotes en los valores máximos y mínimos.\n"
   ]
  },
  {
   "cell_type": "markdown",
   "metadata": {},
   "source": [
    "Viendo los argumentos de boxplot, una de las primeras modificaciones es que podemos agregar la visualización de la media, para esto utilizamos el parámetro `showmeans`, el cual por defecto viene con valor `False`. En este caso, cambiando dicho valor a `True` mostrara la media como un punto dentro de la caja."
   ]
  },
  {
   "cell_type": "code",
   "execution_count": 4,
   "metadata": {},
   "outputs": [
    {
     "data": {
      "image/png": "[encoded data removed]",
      "text/plain": [
       "<Figure size 432x288 with 1 Axes>"
      ]
     },
     "metadata": {
      "needs_background": "light"
     },
     "output_type": "display_data"
    }
   ],
   "source": [
    "plt.boxplot(iris_df['SepalLengthCm'],showmeans=True)\n",
    "plt.show()"
   ]
  },
  {
   "cell_type": "markdown",
   "metadata": {},
   "source": [
    "Para mantener consistencia con el uso de líneas dentro de nuestro boxplot, podemos utilizar el parámetro `meanline` para especificar el tipo de marcador de línea a utilizar.\n",
    "\n",
    "A modo de ejemplo, la línea de la media se mostrará en color verde:\n"
   ]
  },
  {
   "cell_type": "code",
   "execution_count": 5,
   "metadata": {},
   "outputs": [
    {
     "data": {
      "image/png": "[encoded data removed]",
      "text/plain": [
       "<Figure size 432x288 with 1 Axes>"
      ]
     },
     "metadata": {
      "needs_background": "light"
     },
     "output_type": "display_data"
    }
   ],
   "source": [
    "plt.boxplot(iris_df['SepalLengthCm'],showmeans=True, meanline='-')\n",
    "plt.show()"
   ]
  },
  {
   "cell_type": "markdown",
   "metadata": {},
   "source": [
    "Utilizando como ejemplo un arreglo bidimensional, graficaremos cada caja y bigote por separado para cada variable. "
   ]
  },
  {
   "cell_type": "code",
   "execution_count": 6,
   "metadata": {},
   "outputs": [
    {
     "data": {
      "image/png": "[encoded data removed]",
      "text/plain": [
       "<Figure size 432x288 with 1 Axes>"
      ]
     },
     "metadata": {
      "needs_background": "light"
     },
     "output_type": "display_data"
    }
   ],
   "source": [
    "columns_to_plot = [iris_df['SepalLengthCm'],iris_df['PetalLengthCm']]\n",
    "plt.boxplot(columns_to_plot)\n",
    "\n",
    "plt.show()"
   ]
  },
  {
   "cell_type": "markdown",
   "metadata": {},
   "source": [
    "**¿Que pasaría si graficáramos utilizando dos sentencias de boxplot como se muestran a continuación?:**\n",
    "\n",
    "```python\n",
    "plt.boxplot(iris_df['SepalLengthCm'])\n",
    "plt.boxplot(iris_df['PetalLengthCm'])\n",
    "```\n"
   ]
  },
  {
   "cell_type": "code",
   "execution_count": null,
   "metadata": {},
   "outputs": [],
   "source": []
  },
  {
   "cell_type": "markdown",
   "metadata": {},
   "source": [
    "# Trabajando con subgráficos (subplots)\n",
    "\n",
    "Si bien podríamos generar todos los gráficos que nosotros queramos uno a uno, matplotlib nos ofrece una interfaz para generar subgráficos. En este caso, en la misma área donde podemos generar un gráfico, podemos seccionarlo en $n$ subgráficos que queramos. Para esto, utilizaremos el método `plt.subplots`, el cual nos retornara dos elementos los cuales llamaremos `fig` y `ax`. El primer elemento corresponde a un objeto [Figure](https://matplotlib.org/api/_as_gen/matplotlib.figure.Figure.html#matplotlib.figure.Figure) de matplotlib, y el segundo elemento corresponde a una lista de objetos [Axes](https://matplotlib.org/api/axes_api.html?highlight=axes#module-matplotlib.axes). Este último, nos servirá para poder realizar los graficar en cada una de las secciones que automáticamente matplotlib separa. \n",
    "\n",
    "Los parámetros de entrada para el método `plt.subplots(filas, columnas, figsize=(width,height))`, y tal como detallan: determinan el número de filas, columnas y el tamaño de la figura respectivamente. Algo importante a tener en cuenta es:\n",
    "\n",
    "- Si uno utiliza `plt.subplots(1,1)`, el objeto `ax` corresponderá a **una** instancia del objeto `Axes`. \n",
    "- Si uno definiera `plt.subplots(n,1)` o `plt.subplots(1,n)`, el objeto `ax` correspondería a una **lista unidimensional** de objetos `Axes`. \n",
    "- Finalmente si definiéramos `plt.subplots(n,m)`, `ax` seria ahora un **arreglo bidimensional** con $n$ filas y $m$ columnas. \n",
    "\n",
    "Utilizando la interfaz de objetos de matplotlib, procederemos a graficar un histograma de la variable `SepalLengthCm` de iris_df y un Boxplot asociado a la misma variable.\n"
   ]
  },
  {
   "cell_type": "code",
   "execution_count": 7,
   "metadata": {},
   "outputs": [
    {
     "name": "stdout",
     "output_type": "stream",
     "text": [
      "[<AxesSubplot:> <AxesSubplot:>]\n"
     ]
    },
    {
     "data": {
      "image/png": "[encoded data removed]",
      "text/plain": [
       "<Figure size 720x360 with 2 Axes>"
      ]
     },
     "metadata": {
      "needs_background": "light"
     },
     "output_type": "display_data"
    }
   ],
   "source": [
    "fig,ax = plt.subplots(1,2,figsize=(10,5)) #Definiremos 1 fila y 2 columnas\n",
    "print(ax) #Imprimiremos la lista obtenida de ax\n",
    "\n",
    "ax[0].hist(iris_df['SepalLengthCm'],orientation='horizontal',bins=20) #Accederemos al primer Axis y pintaremos un histograma en dicho Axis\n",
    "ax[1].boxplot(iris_df['SepalLengthCm']) #Accederemos al segundo Axis y graficaremos un boxplot\n",
    "\n",
    "plt.show()"
   ]
  },
  {
   "cell_type": "markdown",
   "metadata": {},
   "source": [
    "Un ejemplo de cómo acceder a cada `Axis` cuando generamos subgráficos con 2 filas y 2 columnas:"
   ]
  },
  {
   "cell_type": "code",
   "execution_count": 8,
   "metadata": {},
   "outputs": [
    {
     "data": {
      "image/png": "[encoded data removed]",
      "text/plain": [
       "<Figure size 720x720 with 4 Axes>"
      ]
     },
     "metadata": {
      "needs_background": "light"
     },
     "output_type": "display_data"
    }
   ],
   "source": [
    "fig,ax = plt.subplots(2,2,figsize=(10,10)) #generamos 4 subgraficos (2 filas y 2 columnas)\n",
    "\n",
    "#Primera Fila, Primera Columna\n",
    "ax[0,0].boxplot(iris_df['SepalWidthCm']) #Generamos el boxplot para la variable SepalWidthCm\n",
    "ax[0,0].set_xticklabels([\"SepalWidthCm\"]) #utilizamos el método set_xticklabels, para añadir el nombre de la variable en el eje X\n",
    "\n",
    "#Primera Fila, Segunda Columna\n",
    "ax[0,1].boxplot(iris_df['SepalLengthCm'])\n",
    "ax[0,1].set_xticklabels([\"SepalLengthCm\"])\n",
    "\n",
    "#Segunda Fila, Primera Columna\n",
    "ax[1,0].boxplot(iris_df['PetalLengthCm'])\n",
    "ax[1,0].set_xticklabels([\"PetalLengthCm\"])\n",
    "\n",
    "#Segunda Fila, Segunda Columna\n",
    "ax[1,1].boxplot(iris_df['PetalWidthCm'])\n",
    "ax[1,1].set_xticklabels([\"PetalWidthCm\"])\n",
    "\n",
    "plt.show()"
   ]
  },
  {
   "cell_type": "markdown",
   "metadata": {},
   "source": [
    "Una forma alternativa utilizando la interfaz funcional (pyplot), para la generación de subgraficos corresponden al uso del metodo `subplot`\n",
    "\n",
    "[Documentación plt.subplot](https://matplotlib.org/3.1.0/api/_as_gen/matplotlib.pyplot.subplot.html?highlight=pyplot%20subplot#matplotlib.pyplot.subplot)"
   ]
  },
  {
   "cell_type": "code",
   "execution_count": 9,
   "metadata": {},
   "outputs": [
    {
     "data": {
      "image/png": "[encoded data removed]",
      "text/plain": [
       "<Figure size 720x720 with 4 Axes>"
      ]
     },
     "metadata": {
      "needs_background": "light"
     },
     "output_type": "display_data"
    }
   ],
   "source": [
    "plt.figure(figsize=(10,10))\n",
    "plt.subplot(221) #2 filas, 2 columnas, subfigura 1\n",
    "plt.boxplot(iris_df['SepalWidthCm'])\n",
    "plt.xticks(ticks=[1],labels=[\"SepalWidthCm\"])\n",
    "\n",
    "plt.subplot(222) #2 filas, 2 columnas, subfigura 2\n",
    "plt.boxplot(iris_df['SepalLengthCm'])\n",
    "plt.xticks(ticks=[1],labels=[\"SepalLengthCm\"])\n",
    "\n",
    "plt.subplot(223)#2 filas, 2 columnas, subfigura 3\n",
    "plt.boxplot(iris_df['PetalLengthCm'])\n",
    "plt.xticks(ticks=[1],labels=[\"PetalLengthCm\"])\n",
    "\n",
    "plt.subplot(224)#2 filas, 2 columnas, subfigura 4\n",
    "plt.boxplot(iris_df['PetalWidthCm'])\n",
    "plt.xticks(ticks=[1],labels=[\"PetalWidthCm\"])\n",
    "\n",
    "plt.show()"
   ]
  },
  {
   "cell_type": "markdown",
   "metadata": {},
   "source": [
    "# Estadísticas utilizando pandas y numpy\n",
    "Una forma rápida para poder obtener las estadísticas de centralidad y variabilidad, es utilizando el método `.describe()`. Este generara dichas múltiples estadísticas para cada una de las columnas **numéricas** presente en un DataFrame. Las estadísticas que muestra son: \n",
    "\n",
    "- count: el número de elementos **no nulos** existentes en la columna\n",
    "- mean: la media asociada a la columna\n",
    "- std: la desviación estándar asociada a la columna\n",
    "- min: valor mínimo presente en la columna\n",
    "- 25%: primer cuartil $(Q_1)$\n",
    "- 50%: segundo cuartil $(Q_2)$, (la mediana)\n",
    "- 75%: tercer cuartil $(Q_3)$\n",
    "- max: valor máximo presente en la columna\n"
   ]
  },
  {
   "cell_type": "code",
   "execution_count": 10,
   "metadata": {},
   "outputs": [
    {
     "data": {
      "text/html": [
       "<div>\n",
       "<style scoped>\n",
       "    .dataframe tbody tr th:only-of-type {\n",
       "        vertical-align: middle;\n",
       "    }\n",
       "\n",
       "    .dataframe tbody tr th {\n",
       "        vertical-align: top;\n",
       "    }\n",
       "\n",
       "    .dataframe thead th {\n",
       "        text-align: right;\n",
       "    }\n",
       "</style>\n",
       "<table border=\"1\" class=\"dataframe\">\n",
       "  <thead>\n",
       "    <tr style=\"text-align: right;\">\n",
       "      <th></th>\n",
       "      <th>Id</th>\n",
       "      <th>SepalLengthCm</th>\n",
       "      <th>SepalWidthCm</th>\n",
       "      <th>PetalLengthCm</th>\n",
       "      <th>PetalWidthCm</th>\n",
       "    </tr>\n",
       "  </thead>\n",
       "  <tbody>\n",
       "    <tr>\n",
       "      <th>count</th>\n",
       "      <td>150.000000</td>\n",
       "      <td>150.000000</td>\n",
       "      <td>150.000000</td>\n",
       "      <td>150.000000</td>\n",
       "      <td>150.000000</td>\n",
       "    </tr>\n",
       "    <tr>\n",
       "      <th>mean</th>\n",
       "      <td>75.500000</td>\n",
       "      <td>5.843333</td>\n",
       "      <td>3.054000</td>\n",
       "      <td>3.758667</td>\n",
       "      <td>1.198667</td>\n",
       "    </tr>\n",
       "    <tr>\n",
       "      <th>std</th>\n",
       "      <td>43.445368</td>\n",
       "      <td>0.828066</td>\n",
       "      <td>0.433594</td>\n",
       "      <td>1.764420</td>\n",
       "      <td>0.763161</td>\n",
       "    </tr>\n",
       "    <tr>\n",
       "      <th>min</th>\n",
       "      <td>1.000000</td>\n",
       "      <td>4.300000</td>\n",
       "      <td>2.000000</td>\n",
       "      <td>1.000000</td>\n",
       "      <td>0.100000</td>\n",
       "    </tr>\n",
       "    <tr>\n",
       "      <th>25%</th>\n",
       "      <td>38.250000</td>\n",
       "      <td>5.100000</td>\n",
       "      <td>2.800000</td>\n",
       "      <td>1.600000</td>\n",
       "      <td>0.300000</td>\n",
       "    </tr>\n",
       "    <tr>\n",
       "      <th>50%</th>\n",
       "      <td>75.500000</td>\n",
       "      <td>5.800000</td>\n",
       "      <td>3.000000</td>\n",
       "      <td>4.350000</td>\n",
       "      <td>1.300000</td>\n",
       "    </tr>\n",
       "    <tr>\n",
       "      <th>75%</th>\n",
       "      <td>112.750000</td>\n",
       "      <td>6.400000</td>\n",
       "      <td>3.300000</td>\n",
       "      <td>5.100000</td>\n",
       "      <td>1.800000</td>\n",
       "    </tr>\n",
       "    <tr>\n",
       "      <th>max</th>\n",
       "      <td>150.000000</td>\n",
       "      <td>7.900000</td>\n",
       "      <td>4.400000</td>\n",
       "      <td>6.900000</td>\n",
       "      <td>2.500000</td>\n",
       "    </tr>\n",
       "  </tbody>\n",
       "</table>\n",
       "</div>"
      ],
      "text/plain": [
       "               Id  SepalLengthCm  SepalWidthCm  PetalLengthCm  PetalWidthCm\n",
       "count  150.000000     150.000000    150.000000     150.000000    150.000000\n",
       "mean    75.500000       5.843333      3.054000       3.758667      1.198667\n",
       "std     43.445368       0.828066      0.433594       1.764420      0.763161\n",
       "min      1.000000       4.300000      2.000000       1.000000      0.100000\n",
       "25%     38.250000       5.100000      2.800000       1.600000      0.300000\n",
       "50%     75.500000       5.800000      3.000000       4.350000      1.300000\n",
       "75%    112.750000       6.400000      3.300000       5.100000      1.800000\n",
       "max    150.000000       7.900000      4.400000       6.900000      2.500000"
      ]
     },
     "execution_count": 10,
     "metadata": {},
     "output_type": "execute_result"
    }
   ],
   "source": [
    "iris_df.describe()"
   ]
  },
  {
   "cell_type": "markdown",
   "metadata": {},
   "source": [
    "Para datos categóricos, se puede utilizar el parámetro `include=['object']` para obtener estadísticas tales como:\n",
    "    \n",
    "- count: Cantidad de elementos no nulos\n",
    "- unique: Cantidad de valores únicos presentes en la columna\n",
    "- top: Ejemplo del valor único con mayor cantidad de elementos en la columna\n",
    "- freq: el total de elementos presentes en la columna, con respecto al valor obtenido en top\n"
   ]
  },
  {
   "cell_type": "code",
   "execution_count": 11,
   "metadata": {},
   "outputs": [
    {
     "data": {
      "text/html": [
       "<div>\n",
       "<style scoped>\n",
       "    .dataframe tbody tr th:only-of-type {\n",
       "        vertical-align: middle;\n",
       "    }\n",
       "\n",
       "    .dataframe tbody tr th {\n",
       "        vertical-align: top;\n",
       "    }\n",
       "\n",
       "    .dataframe thead th {\n",
       "        text-align: right;\n",
       "    }\n",
       "</style>\n",
       "<table border=\"1\" class=\"dataframe\">\n",
       "  <thead>\n",
       "    <tr style=\"text-align: right;\">\n",
       "      <th></th>\n",
       "      <th>Species</th>\n",
       "    </tr>\n",
       "  </thead>\n",
       "  <tbody>\n",
       "    <tr>\n",
       "      <th>count</th>\n",
       "      <td>150</td>\n",
       "    </tr>\n",
       "    <tr>\n",
       "      <th>unique</th>\n",
       "      <td>3</td>\n",
       "    </tr>\n",
       "    <tr>\n",
       "      <th>top</th>\n",
       "      <td>Iris-versicolor</td>\n",
       "    </tr>\n",
       "    <tr>\n",
       "      <th>freq</th>\n",
       "      <td>50</td>\n",
       "    </tr>\n",
       "  </tbody>\n",
       "</table>\n",
       "</div>"
      ],
      "text/plain": [
       "                Species\n",
       "count               150\n",
       "unique                3\n",
       "top     Iris-versicolor\n",
       "freq                 50"
      ]
     },
     "execution_count": 11,
     "metadata": {},
     "output_type": "execute_result"
    }
   ],
   "source": [
    "iris_df.describe(include=[\"object\"])"
   ]
  },
  {
   "cell_type": "markdown",
   "metadata": {},
   "source": [
    "Con un DataFrame, podemos utilizar el método `.mean()` para obtener la media de cada una de las variables. Para cada una de las estadísticas mencionadas anteriormente, existe métodos para cada una de las estadísticas. [Métodos asociados a estadisticas](https://pandas.pydata.org/pandas-docs/stable/user_guide/computation.html#method-summary)"
   ]
  },
  {
   "cell_type": "code",
   "execution_count": 12,
   "metadata": {},
   "outputs": [
    {
     "data": {
      "text/plain": [
       "Id               75.500000\n",
       "SepalLengthCm     5.843333\n",
       "SepalWidthCm      3.054000\n",
       "PetalLengthCm     3.758667\n",
       "PetalWidthCm      1.198667\n",
       "dtype: float64"
      ]
     },
     "execution_count": 12,
     "metadata": {},
     "output_type": "execute_result"
    }
   ],
   "source": [
    "iris_df.mean() # Media para cada columna"
   ]
  },
  {
   "cell_type": "markdown",
   "metadata": {},
   "source": [
    "También podemos especificar las columnas las cuales se calcularán las estadísticas"
   ]
  },
  {
   "cell_type": "code",
   "execution_count": 13,
   "metadata": {},
   "outputs": [
    {
     "data": {
      "text/plain": [
       "SepalLengthCm    5.843333\n",
       "SepalWidthCm     3.054000\n",
       "dtype: float64"
      ]
     },
     "execution_count": 13,
     "metadata": {},
     "output_type": "execute_result"
    }
   ],
   "source": [
    "columns = ['SepalLengthCm', 'SepalWidthCm']\n",
    "iris_df[columns].mean()"
   ]
  },
  {
   "cell_type": "markdown",
   "metadata": {},
   "source": [
    "Solo por *sanity check*, comprobamos que el método de numpy da el mismo resultado que el implementado en pandas"
   ]
  },
  {
   "cell_type": "code",
   "execution_count": 14,
   "metadata": {},
   "outputs": [
    {
     "data": {
      "text/plain": [
       "(5.843333333333334, 5.843333333333334)"
      ]
     },
     "execution_count": 14,
     "metadata": {},
     "output_type": "execute_result"
    }
   ],
   "source": [
    "iris_df['SepalLengthCm'].mean(), np.mean(iris_df['SepalLengthCm']) # Media para la columna 'SepalLengthCm'"
   ]
  },
  {
   "cell_type": "markdown",
   "metadata": {},
   "source": [
    "Ejemplo de cómo obtener $Q_1$, $Q_2$ y $Q_3$ uno a uno:"
   ]
  },
  {
   "cell_type": "code",
   "execution_count": 15,
   "metadata": {},
   "outputs": [
    {
     "name": "stdout",
     "output_type": "stream",
     "text": [
      "5.1 5.8 6.4\n"
     ]
    }
   ],
   "source": [
    "print(iris_df['SepalLengthCm'].quantile(0.25),iris_df['SepalLengthCm'].quantile(0.5), iris_df['SepalLengthCm'].quantile(0.75))"
   ]
  },
  {
   "cell_type": "markdown",
   "metadata": {},
   "source": [
    "O en su defecto, al método `.quantile`, dar como parámetro de entrada una lista con los cuantiles que queremos:"
   ]
  },
  {
   "cell_type": "code",
   "execution_count": 16,
   "metadata": {},
   "outputs": [
    {
     "data": {
      "text/plain": [
       "0.25    5.1\n",
       "0.50    5.8\n",
       "0.75    6.4\n",
       "Name: SepalLengthCm, dtype: float64"
      ]
     },
     "execution_count": 16,
     "metadata": {},
     "output_type": "execute_result"
    }
   ],
   "source": [
    "iris_df['SepalLengthCm'].quantile([0.25,0.5,0.75])"
   ]
  },
  {
   "cell_type": "markdown",
   "metadata": {},
   "source": [
    "# Manejo de anotaciones\n",
    "\n",
    "Anteriormente (en la clase 2), habíamos visto el uso del método `plt.text` para poder colocar texto en nuestras visualizaciones. Existe otro método, que da una mayor flexibilidad al momento de hacer nuestras anotaciones, incorporando el uso de flechas y otros efectos los cuales se detallan en el siguiente enlace:\n",
    "\n",
    "[Tutorial de anotaciones](https://matplotlib.org/3.1.1/tutorials/text/annotations.html)\n",
    "\n",
    "Para hacer el uso del método de anotación se definen como mínimo dos parámetros: `s` (el string a mostrar) y `xy`, par de coordenadas del gráfico con los valores $x$ e $y$. A modo de ejemplo, vamos a ver el uso de `plt.annotate`:\n"
   ]
  },
  {
   "cell_type": "code",
   "execution_count": 28,
   "metadata": {},
   "outputs": [
    {
     "name": "stderr",
     "output_type": "stream",
     "text": [
      "<ipython-input-28-43870645e229>:7: MatplotlibDeprecationWarning: The 's' parameter of annotate() has been renamed 'text' since Matplotlib 3.3; support for the old name will be dropped two minor releases later.\n",
      "  plt.annotate(s = \"5.8\", xy = xy) #generamos la anotación, con s=\"5.8\" (el valor de la mediana), y las coordenadas xy\n"
     ]
    },
    {
     "data": {
      "image/png": "[encoded data removed]",
      "text/plain": [
       "<Figure size 432x288 with 1 Axes>"
      ]
     },
     "metadata": {
      "needs_background": "light"
     },
     "output_type": "display_data"
    }
   ],
   "source": [
    "width = 0.2 #Vamos a definir un valor de ancho para el boxplot que vamos a graficar\n",
    "\n",
    "#Sabiendo que por defecto, matplotlib deja en el valor de x=1 el primer boxplot, vamos a generar la anotación en el eje x (1 + width/2), y en el eje y, el valor de la mediana\n",
    "xy = (1 + width/2 , 5.8) #Guardamos este par en una tupla con el nombre de xy\n",
    "\n",
    "plt.boxplot(iris_df['SepalLengthCm'],widths=width) # Graficamos nuestro boxplot (con ancho=width)\n",
    "plt.annotate(s = \"5.8\", xy = xy) #generamos la anotación, con s=\"5.8\" (el valor de la mediana), y las coordenadas xy\n",
    "\n",
    "plt.show()"
   ]
  },
  {
   "cell_type": "markdown",
   "metadata": {},
   "source": [
    "Cabe destacar que la anotación tiene un punto de partida el cual nosotros detallamos con el par `xy`, pero a su vez nosotros podemos modificar las coordenadas de donde mostramos el texto. Esto va a ser útil con una opción que vamos a ver más adelante. En este caso, podemos modificar las coordenadas xy del texto utilizando el parámetro `xytext`:"
   ]
  },
  {
   "cell_type": "code",
   "execution_count": 18,
   "metadata": {},
   "outputs": [
    {
     "name": "stderr",
     "output_type": "stream",
     "text": [
      "<ipython-input-18-28a9f6100cb7>:8: MatplotlibDeprecationWarning: The 's' parameter of annotate() has been renamed 'text' since Matplotlib 3.3; support for the old name will be dropped two minor releases later.\n",
      "  plt.annotate(s = \"5.8\", xy = xy,\n"
     ]
    },
    {
     "data": {
      "image/png": "[encoded data removed]",
      "text/plain": [
       "<Figure size 432x288 with 1 Axes>"
      ]
     },
     "metadata": {
      "needs_background": "light"
     },
     "output_type": "display_data"
    }
   ],
   "source": [
    "width = 0.2\n",
    "xy = (1 + width/2 , 5.8)\n",
    "\n",
    "xytext = (1 + width ,5.8) #Movemos las coordenadas XY del texto correspondiente al ancho del boxplot.\n",
    "\n",
    "plt.boxplot(iris_df['SepalLengthCm'], widths=width)\n",
    "\n",
    "plt.annotate(s = \"5.8\", xy = xy, \n",
    "             xytext = xytext) # Añadimos las nuevas coordenadas para el texto\n",
    "plt.show()"
   ]
  },
  {
   "cell_type": "markdown",
   "metadata": {},
   "source": [
    "A su vez, podemos definir las coordenadas xy para el texto utilizando coordenadas, o en su defecto, posiciones proporcionales al tamaño del gráfico. En este caso, vamos a utilizar subplots para mostrar las dos formas, coordenadas y proporciones. Para poder detallar una de las dos modalidades tenemos que hacer uso del parámetro `xycoords`, el cual inicializamos en alguno de los dos valores: `\"data\"` (por defecto) o `\"axes fraction\"`."
   ]
  },
  {
   "cell_type": "code",
   "execution_count": 19,
   "metadata": {},
   "outputs": [
    {
     "name": "stderr",
     "output_type": "stream",
     "text": [
      "<ipython-input-19-34261a165ba4>:11: MatplotlibDeprecationWarning: The 's' parameter of annotate() has been renamed 'text' since Matplotlib 3.3; support for the old name will be dropped two minor releases later.\n",
      "  plt.annotate(s = \"5.8\", xy = xy,\n",
      "<ipython-input-19-34261a165ba4>:19: MatplotlibDeprecationWarning: The 's' parameter of annotate() has been renamed 'text' since Matplotlib 3.3; support for the old name will be dropped two minor releases later.\n",
      "  plt.annotate(s = \"5.8\", xy = xy,\n"
     ]
    },
    {
     "data": {
      "image/png": "[encoded data removed]",
      "text/plain": [
       "<Figure size 720x360 with 2 Axes>"
      ]
     },
     "metadata": {
      "needs_background": "light"
     },
     "output_type": "display_data"
    }
   ],
   "source": [
    "width = 0.2\n",
    "\n",
    "#para xycoords=\"data\", no tenemos que cambiar nada de como lo hemos estado haciendo\n",
    "xy = (1 + width/2 , 5.8)\n",
    "xytext = (1 + width ,5.8) #Movemos las coordenadas XY del texto\n",
    "\n",
    "plt.figure(figsize=(10,5)) #definimos una nueva figura de width=10, height=5\n",
    "plt.subplot(121) # Trabajamos con el primer subplot\n",
    "xycoords=\"data\" #definimos xycoords= \"data\" y realizamos la misma operacion como anteriormente lo habiamos hecho\n",
    "plt.boxplot(iris_df['SepalLengthCm'],widths=width)\n",
    "plt.annotate(s = \"5.8\", xy = xy, \n",
    "             xytext = xytext, xycoords = xycoords)\n",
    "plt.title('xycoords = \"data\"')\n",
    "\n",
    "plt.subplot(122) # El subplot 2, las coordenadas xy se van a generar con \"axes fraction\"\n",
    "xytext = (0.7 ,0.45) #Ideal entre x,y \\in [0,1], en este caso cambiamos los valores en proporciones con respecto a la figura (0.7 del eje X y 0.45 del eje Y)\n",
    "xycoords=\"axes fraction\" #Reemplazamos el valor de xycoords\n",
    "plt.boxplot(iris_df['SepalLengthCm'],widths=width)\n",
    "plt.annotate(s = \"5.8\", xy = xy, \n",
    "             xytext = xytext, xycoords = xycoords)\n",
    "plt.title('xycoords = \"axes fraction\"')\n",
    "\n",
    "plt.show()"
   ]
  },
  {
   "cell_type": "markdown",
   "metadata": {},
   "source": [
    "Finalmente, vamos a retomar el por qué podemos definir un inicio de la anotación con las coordenadas xy, para luego separar el texto con xytext. La idea, es que ahora nosotros podemos agregar flechas las cuales nos permiten resaltar de mejor manera lo que nosotros queremos anotar. Para esto, necesitamos definir un diccionario el cual le vamos a llamar `arrowprops`, y contiene las siguientes keys/values: \n",
    "\n",
    "- arrowstyle: '->' Queremos un estilo de flecha tradicional\n",
    "- connectionstyle: 'arc3' Queremos que, desde el texto hacia el inicio de la anotación, se genere con una línea recta\n",
    "\n",
    "Mas posibles valores para estos dos keys, la pueden ver en el [Tutorial](https://matplotlib.org/3.1.1/tutorials/text/annotations.html#annotating-with-arrow) de las anotaciones. Finalmente, nosotros añadimos al método `annotate`, el nuevo diccionario utilizando el parámetro `arrowprops`. El ejemplo se ve a continuación:\n"
   ]
  },
  {
   "cell_type": "code",
   "execution_count": 20,
   "metadata": {},
   "outputs": [
    {
     "name": "stderr",
     "output_type": "stream",
     "text": [
      "<ipython-input-20-b0db23f0abb8>:12: MatplotlibDeprecationWarning: The 's' parameter of annotate() has been renamed 'text' since Matplotlib 3.3; support for the old name will be dropped two minor releases later.\n",
      "  ax.annotate(s = \"5.8 \\nMediana\", xy = xy, #Fijenese aca que en el texto se inserto un salto de linea (\\n) el cual se va a ver reflejado en el gráfico\n"
     ]
    },
    {
     "data": {
      "image/png": "[encoded data removed]",
      "text/plain": [
       "<Figure size 360x360 with 1 Axes>"
      ]
     },
     "metadata": {
      "needs_background": "light"
     },
     "output_type": "display_data"
    }
   ],
   "source": [
    "width = 0.2\n",
    "xy = (1 + width/2 , 5.8)\n",
    "xytext = (1 + width , 5.8) #Movemos las coordenadas XY del texto\n",
    "xycoords=\"data\"\n",
    "\n",
    "arrowprops = dict(arrowstyle=\"->\",connectionstyle=\"arc3\") #Añadimos el diccionario utilizando la funcion de construccion dict\n",
    "\n",
    "fig , ax = plt.subplots(1,1,figsize=(5,5)) #definimos un subplot de fila 1, columna 1 y detallamos su largo ancho\n",
    "\n",
    "ax.boxplot(iris_df['SepalLengthCm'],widths=width) #Pintamos nuestro boxplot\n",
    "\n",
    "ax.annotate(s = \"5.8 \\nMediana\", xy = xy, #Fijenese aca que en el texto se inserto un salto de linea (\\n) el cual se va a ver reflejado en el gráfico\n",
    "             xytext = xytext, xycoords = xycoords, arrowprops = arrowprops)\n",
    "\n",
    "ax.set_title(\"SepalLengthCm\")\n",
    "plt.show()"
   ]
  },
  {
   "cell_type": "markdown",
   "metadata": {},
   "source": [
    "# Dinámica 1\n",
    "\n",
    "Generar dos gráficos de cajas y bigotes (idealmente con subplots). El primero debe ser la variable \"SepalWidthCm\" y el segundo una variable de su elección. Además de esto, debe realizar anotaciones para cada uno de los siguientes elementos: \n",
    "\n",
    "- Mediana\n",
    "- Media\n",
    "- Primer Cuartil\n",
    "- Tercer Cuartil\n",
    "- Outliers\n",
    "\n",
    "**Nota:** Pueden alternar las posiciones X de las anotaciones para que los gráficos no se vean cargados hacia un lado. \n",
    "\n",
    "**Nota 2:** Como desafío, pueden generar una función la cual reciba como parámetros los diversos elementos que forman una anotación. Esto lo pueden realizar para mejorar la legibilidad de su código.\n"
   ]
  },
  {
   "cell_type": "code",
   "execution_count": 40,
   "metadata": {},
   "outputs": [
    {
     "data": {
      "text/plain": [
       "[Text(1, 0, 'Petal Width [Cm]')]"
      ]
     },
     "execution_count": 40,
     "metadata": {},
     "output_type": "execute_result"
    },
    {
     "data": {
      "image/png": "[encoded data removed]",
      "text/plain": [
       "<Figure size 720x360 with 2 Axes>"
      ]
     },
     "metadata": {
      "needs_background": "light"
     },
     "output_type": "display_data"
    }
   ],
   "source": [
    "#Su codigo aqui\n",
    "\n",
    "fig, ax = plt.subplots(1,2, figsize=(10,5))\n",
    "\n",
    "ax[0].boxplot(iris_df['SepalWidthCm']) \n",
    "ax[1].boxplot(iris_df['PetalWidthCm'])\n",
    "\n",
    "ax[0].set_xticklabels(['Sepal Width [Cm]'])\n",
    "ax[1].set_xticklabels(['Petal Width [Cm]'])"
   ]
  },
  {
   "cell_type": "markdown",
   "metadata": {},
   "source": [
    "# Fin Dinámica 1"
   ]
  },
  {
   "cell_type": "markdown",
   "metadata": {},
   "source": [
    "# Manejo de colores \n",
    "\n",
    "Un punto más a personalizar de nuestros gráficos, corresponden al uso de colores en las marcas/líneas dentro de nuestras visualizaciones. Ya vimos en la clase pasada, el cómo cambiar el color desde la especificación del marcador. Ahora vamos a ver como cambiarlo utilizando el parámetro `color`\n",
    "\n",
    "En primer lugar, generemos un diagrama de dispersión entre `iris_df['PetalWidthCm']` y `iris_df['PetalLengthCm']`:\n"
   ]
  },
  {
   "cell_type": "code",
   "execution_count": 22,
   "metadata": {},
   "outputs": [
    {
     "data": {
      "image/png": "[encoded data removed]",
      "text/plain": [
       "<Figure size 720x720 with 1 Axes>"
      ]
     },
     "metadata": {
      "needs_background": "light"
     },
     "output_type": "display_data"
    }
   ],
   "source": [
    "fig, ax = plt.subplots(1,1,figsize=(10,10))\n",
    "\n",
    "ax.scatter(iris_df['PetalWidthCm'], iris_df['PetalLengthCm'])\n",
    "plt.show()"
   ]
  },
  {
   "cell_type": "markdown",
   "metadata": {},
   "source": [
    "Acá estamos viendo en general la distribución de los puntos donde existe una alta correlación entre las variables. Ahora le pregunta: ¿Cómo podríamos añadirle por color según cada una de las Especies presente en el set de datos?"
   ]
  },
  {
   "cell_type": "code",
   "execution_count": 23,
   "metadata": {},
   "outputs": [
    {
     "data": {
      "text/plain": [
       "array(['Iris-setosa', 'Iris-versicolor', 'Iris-virginica'], dtype=object)"
      ]
     },
     "execution_count": 23,
     "metadata": {},
     "output_type": "execute_result"
    }
   ],
   "source": [
    "iris_df['Species'].unique() # Estas son las 3 especies, ordenadas alfabeticamente"
   ]
  },
  {
   "cell_type": "markdown",
   "metadata": {},
   "source": [
    "Para poder añadir el color en nuestros gráficos tal como detallamos anteriormente, hay que utilizar el parámetro color. Si el valor asignado a este parámetro es un único valor, entonces a todos los valores que se están graficando se les asignara dicho color. En el caso que el valor asignado a este parámetro fuese una lista, entonces a cada elemento individual de dicho gráfico se le asignara el color correspondiente en la lista (La restricción de esta forma es utilizar la misma cantidad de colores, como elementos que se están graficando). \n",
    "\n",
    "Los valores que se les puede asignar al parámetro de color son los siguientes:\n",
    "\n",
    "- RGB o RGBA utilizando una tupla de valores entre $[0,1]$, Para RGB son 3 valores (Red, Green, Blue) y para RGBA son 4 valores (Red, Green, Blue, Alpha). ej: (0.2,0.5,0.1) o (0.3,0.5,0.7,0.3)\n",
    "- String de RGB o RGBA en formato Hexadecimal. Ej: `\"#05AAF0\"` o `\"#05AAF0FF\"`\n",
    "- Un String representando un valor numérico de la escala de grises. Ej: `\"0.5\"`\n",
    "- Una letra indicando el posible color. Ej: `\"r\"` para rojo, `\"b\"` para azul, `\"k\"` para negro, etc.\n",
    "- Un nombre del color de la lista [X11/CSS4](https://en.wikipedia.org/wiki/X11_color_names#Color_name_chart) ej: 'blue', 'red'\n",
    "- Un nombre del color obtenido de la encuesta realizada por [xkcd](https://c.xkcd.com/random/comic/) para asignarle nombres a unos grupos de colores [Lista de colores](https://xkcd.com/color/rgb/). [Motivación para la encuesta](https://blog.xkcd.com/2010/05/03/color-survey-results/). Para utilizar estos colores, hay que poner como prefijo en el string el texto 'xkcd:'. Ej: 'xkcd:ugly yellow', 'xkcd:almost black', 'xkcd: very pale blue'\n",
    "\n",
    "[Documentación del uso de colores de Matplotlib](https://matplotlib.org/3.1.0/tutorials/colors/colors.html)\n",
    "\n",
    "\n",
    "En este caso, nosotros vamos ahora a pintar los puntos dependiendo de la especie. Para esto, vamos a ordenar el dataframe según la columna `Species` alfabéticamente, luego vamos a asignarle un color para cada uno de los puntos asociados a una especie. Como hemos ordenado el dataframe alfabéticamente, los primeros 50 puntos van a corresponder a `Iris Setosa`, los siguiente 50 para `Iris Versicolor` y finalmente los últimos 50 para `Iris Virginica`. \n",
    "\n",
    "**Nota:** Podemos asumir el número de muestras para cada una de las especies, debido a que el set de datos de iris es un conjunto balanceado. Para ver otros posibles sets de datos, convendría ver cuáles son el número de muestras para cada variable categórica a pintar. Para esto podríamos ocupar el método `value_counts`, ej: `df['columna'].value_counts()`\n"
   ]
  },
  {
   "cell_type": "code",
   "execution_count": 24,
   "metadata": {},
   "outputs": [
    {
     "data": {
      "image/png": "[encoded data removed]",
      "text/plain": [
       "<Figure size 720x720 with 1 Axes>"
      ]
     },
     "metadata": {
      "needs_background": "light"
     },
     "output_type": "display_data"
    }
   ],
   "source": [
    "fig, ax = plt.subplots(1,1,figsize=(10,10))\n",
    "\n",
    "sorted_df = iris_df.sort_values(['Species']) #Vamos a ordenar segun Species nuestro dataframe\n",
    "\n",
    "# De esta forma, vamos a asignarle el color a cada punto obtenido en la proyeccion de ambas variables\n",
    "# Generamos una lista, lo multiplicamos por 50 (Repetimos 50 veces los valores de la lista) y finalmente \n",
    "# concatenamos todos los colores con el operador +\n",
    "\n",
    "\n",
    "color1 = [\"#f97306\"] * 50 # Naranjo en formato RGB Hexadecimal para Iris-Setosa       \n",
    "color2 = ['Blue'] * 50 # Azul en formato X11/CSS4 para Iris-Versicolor\n",
    "color3 = ['xkcd:apple green'] * 50 # \"Verde manzana\" en formato xkcd para Iris-Virginica\n",
    "\n",
    "color_final = color1 + color2 + color3 # Generamos los colores para cada punto\n",
    "ax.scatter(iris_df['PetalWidthCm'], iris_df['PetalLengthCm'],color=color_final) # Ocupamos el parametro color para asignar los colores\n",
    "\n",
    "plt.show()"
   ]
  },
  {
   "cell_type": "markdown",
   "metadata": {},
   "source": [
    "Una forma alternativa, seria separar el dataframe para cada una de las especies y luego utilizar el método `plot` (o en este caso scatter) para cada uno de estas nuevas secciones."
   ]
  },
  {
   "cell_type": "code",
   "execution_count": 25,
   "metadata": {},
   "outputs": [
    {
     "data": {
      "image/png": "[encoded data removed]",
      "text/plain": [
       "<Figure size 720x720 with 1 Axes>"
      ]
     },
     "metadata": {
      "needs_background": "light"
     },
     "output_type": "display_data"
    }
   ],
   "source": [
    "fig, ax = plt.subplots(1,1,figsize=(10,10))\n",
    "\n",
    "sorted_df = iris_df.sort_values(['Species'])# Ordenamos el dataframe por Species\n",
    "\n",
    "setosa_df = sorted_df.iloc[0:50 , :]  #Generamos una seccion del dataframe para iris setosa\n",
    "versicolor_df = sorted_df.iloc[50:100 , :] # lo mismo para iris versicolor\n",
    "virginica_df = sorted_df.iloc[100:150:, :] # y finalmente para iris virginica\n",
    "\n",
    "color1 = \"#f97306\" # Naranjo en formato RGB Hexadecimal para Iris-Setosa       \n",
    "color2 = 'Blue' # Azul en formato X11/CSS4 para Iris-Versicolor\n",
    "color3 = 'xkcd:apple green' # \"Verde manzana\" en formato xkcd para Iris-Virginica\n",
    "\n",
    "ax.scatter(setosa_df['PetalWidthCm'], setosa_df['PetalLengthCm'], color = color1, label='Setosa') #Scatter para Setosa, con solo una instancia del color y el label para setosa\n",
    "ax.scatter(versicolor_df['PetalWidthCm'], versicolor_df['PetalLengthCm'], color = color2, label='Versicolor')  #Scatter para Versicolor\n",
    "ax.scatter(virginica_df['PetalWidthCm'], virginica_df['PetalLengthCm'], color = color3, label='Virginica') #Scatter para Virginica\n",
    "\n",
    "ax.legend() #Añadimos la leyenda, la cual va a respetar los colores utilizados.\n",
    "\n",
    "plt.show()"
   ]
  },
  {
   "cell_type": "markdown",
   "metadata": {},
   "source": []
  },
  {
   "cell_type": "markdown",
   "metadata": {},
   "source": [
    "# Dinámica 2\n",
    "\n",
    "Para esta dinámica vamos a utilizar un set de datos de series temporales multivariada, específicamente el set de datos de climatológicos de la ciudad de Delhi, India. Este set de datos contiene 4 variables numéricas las cuales son:\n",
    "\n",
    "- meantemp: Temperatura promedio de un día\n",
    "- humidity: Valor de humedad ambiente diario\n",
    "- wind_speed: Velocidad del viento en Km/h\n",
    "- meanpressure: Medición de presión atmosférica\n",
    "\n",
    "Cada fila de este set de datos corresponde a un día, y el rango de fecha se extiende desde 01-enero-2013 y 01-enero-2017 (4 años). Lo que se va a pedir es lo siguiente:\n",
    "\n",
    "1.- Obtener las estadísticas descriptivas para cada una de las variables. **¿Podemos observar algo interesante en los datos?**\n",
    "\n",
    "2.- Obtenga la matriz de correlación y grafíquela\n",
    "\n",
    "3.- Utilizando subgráficos, grafique para cada variable su histograma (de forma horizontal), seguido por su diagrama de caja y bigote. **¿Que podemos observar con respecto a las variables? ¿Qué creen que puede estar pasando?**\n",
    "\n",
    "4.- Utilizando subgráficos, grafique 4 diagramas de dispersión para distintos pares de variables presentes en los datos.\n",
    "\n",
    "5.- Utilizando subgráficos, grafique 4 diagramas de línea para cada posible variable del set de datos, utilice distintos colores para diferenciar las variables **¿Que podemos notar con esta representación?**\n",
    "\n",
    "6.- Si es que existe algún problema con alguna de las variables, utilice el método `ax[n,m].set_ylim((lim_bajo, lim_alto))` para cambiar los valores del eje Y (Como sugerencia, utilice el rango intercuartil y la mediana de dicha variable para fijar los limites)\n",
    "\n",
    "**Nota:** Los gráficos deberían tener título y si llegasen a requerir, títulos en los ejes. Con respecto a las anotaciones, no es necesario que en cada gráfico estén presentes. Utilícelos a conciencia. \n",
    "\n",
    "\n",
    "**Desafíos**\n",
    "\n",
    "7.- Reemplace los valores problemáticos de la variable. **¿Con que valor o método podríamos modificar estos datos problemáticos?**\n",
    "\n",
    "8.- Con los datos corregidos, genere nuevamente los gráficos. **¿Ahora hacen mayor sentido los gráficos?**\n",
    "\n",
    "9.- Genere un gráfico con múltiples líneas con las temperaturas promedio. El color de cada línea, debe estar relacionado al año de dicha medición. (Como ayuda, tienen que extraer el año de la columna date y luego generar una nueva columna con dichos años).\n"
   ]
  },
  {
   "cell_type": "code",
   "execution_count": 26,
   "metadata": {},
   "outputs": [
    {
     "data": {
      "text/html": [
       "<div>\n",
       "<style scoped>\n",
       "    .dataframe tbody tr th:only-of-type {\n",
       "        vertical-align: middle;\n",
       "    }\n",
       "\n",
       "    .dataframe tbody tr th {\n",
       "        vertical-align: top;\n",
       "    }\n",
       "\n",
       "    .dataframe thead th {\n",
       "        text-align: right;\n",
       "    }\n",
       "</style>\n",
       "<table border=\"1\" class=\"dataframe\">\n",
       "  <thead>\n",
       "    <tr style=\"text-align: right;\">\n",
       "      <th></th>\n",
       "      <th>date</th>\n",
       "      <th>meantemp</th>\n",
       "      <th>humidity</th>\n",
       "      <th>wind_speed</th>\n",
       "      <th>meanpressure</th>\n",
       "    </tr>\n",
       "  </thead>\n",
       "  <tbody>\n",
       "    <tr>\n",
       "      <th>131</th>\n",
       "      <td>2013-05-12</td>\n",
       "      <td>29.857143</td>\n",
       "      <td>40.142857</td>\n",
       "      <td>5.828571</td>\n",
       "      <td>1003.714286</td>\n",
       "    </tr>\n",
       "    <tr>\n",
       "      <th>33</th>\n",
       "      <td>2013-02-03</td>\n",
       "      <td>18.000000</td>\n",
       "      <td>65.571429</td>\n",
       "      <td>1.857143</td>\n",
       "      <td>1015.285714</td>\n",
       "    </tr>\n",
       "    <tr>\n",
       "      <th>1239</th>\n",
       "      <td>2016-05-24</td>\n",
       "      <td>31.526316</td>\n",
       "      <td>53.526316</td>\n",
       "      <td>8.494737</td>\n",
       "      <td>1000.736842</td>\n",
       "    </tr>\n",
       "    <tr>\n",
       "      <th>490</th>\n",
       "      <td>2014-05-06</td>\n",
       "      <td>29.571429</td>\n",
       "      <td>51.142857</td>\n",
       "      <td>6.885714</td>\n",
       "      <td>1006.857143</td>\n",
       "    </tr>\n",
       "    <tr>\n",
       "      <th>442</th>\n",
       "      <td>2014-03-19</td>\n",
       "      <td>21.750000</td>\n",
       "      <td>57.375000</td>\n",
       "      <td>10.187500</td>\n",
       "      <td>1013.250000</td>\n",
       "    </tr>\n",
       "    <tr>\n",
       "      <th>3</th>\n",
       "      <td>2013-01-04</td>\n",
       "      <td>8.666667</td>\n",
       "      <td>71.333333</td>\n",
       "      <td>1.233333</td>\n",
       "      <td>1017.166667</td>\n",
       "    </tr>\n",
       "    <tr>\n",
       "      <th>1077</th>\n",
       "      <td>2015-12-14</td>\n",
       "      <td>13.250000</td>\n",
       "      <td>63.625000</td>\n",
       "      <td>7.400000</td>\n",
       "      <td>1017.000000</td>\n",
       "    </tr>\n",
       "    <tr>\n",
       "      <th>625</th>\n",
       "      <td>2014-09-18</td>\n",
       "      <td>30.500000</td>\n",
       "      <td>62.375000</td>\n",
       "      <td>6.712500</td>\n",
       "      <td>1003.875000</td>\n",
       "    </tr>\n",
       "    <tr>\n",
       "      <th>512</th>\n",
       "      <td>2014-05-28</td>\n",
       "      <td>33.625000</td>\n",
       "      <td>44.500000</td>\n",
       "      <td>3.950000</td>\n",
       "      <td>1001.250000</td>\n",
       "    </tr>\n",
       "    <tr>\n",
       "      <th>347</th>\n",
       "      <td>2013-12-14</td>\n",
       "      <td>16.142857</td>\n",
       "      <td>79.000000</td>\n",
       "      <td>0.800000</td>\n",
       "      <td>1012.571429</td>\n",
       "    </tr>\n",
       "  </tbody>\n",
       "</table>\n",
       "</div>"
      ],
      "text/plain": [
       "            date   meantemp   humidity  wind_speed  meanpressure\n",
       "131   2013-05-12  29.857143  40.142857    5.828571   1003.714286\n",
       "33    2013-02-03  18.000000  65.571429    1.857143   1015.285714\n",
       "1239  2016-05-24  31.526316  53.526316    8.494737   1000.736842\n",
       "490   2014-05-06  29.571429  51.142857    6.885714   1006.857143\n",
       "442   2014-03-19  21.750000  57.375000   10.187500   1013.250000\n",
       "3     2013-01-04   8.666667  71.333333    1.233333   1017.166667\n",
       "1077  2015-12-14  13.250000  63.625000    7.400000   1017.000000\n",
       "625   2014-09-18  30.500000  62.375000    6.712500   1003.875000\n",
       "512   2014-05-28  33.625000  44.500000    3.950000   1001.250000\n",
       "347   2013-12-14  16.142857  79.000000    0.800000   1012.571429"
      ]
     },
     "execution_count": 26,
     "metadata": {},
     "output_type": "execute_result"
    }
   ],
   "source": [
    "delhi_df = pd.read_csv(\"http://srodriguez.me/Datasets/DelhiClimate.csv\") # Hacemos la lectura de los datos\n",
    "delhi_df.sample(10) #mostramos 10 datos al azar"
   ]
  },
  {
   "cell_type": "markdown",
   "metadata": {},
   "source": [
    "# Fin Dinámica 2"
   ]
  },
  {
   "cell_type": "code",
   "execution_count": null,
   "metadata": {},
   "outputs": [],
   "source": []
  },
  {
   "cell_type": "code",
   "execution_count": null,
   "metadata": {},
   "outputs": [],
   "source": []
  }
 ],
 "metadata": {
  "kernelspec": {
   "display_name": "Python 3",
   "language": "python",
   "name": "python3"
  },
  "language_info": {
   "codemirror_mode": {
    "name": "ipython",
    "version": 3
   },
   "file_extension": ".py",
   "mimetype": "text/x-python",
   "name": "python",
   "nbconvert_exporter": "python",
   "pygments_lexer": "ipython3",
   "version": "3.8.6"
  }
 },
 "nbformat": 4,
 "nbformat_minor": 4
}

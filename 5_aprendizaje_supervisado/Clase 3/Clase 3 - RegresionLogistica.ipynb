{
 "cells": [
  {
   "cell_type": "markdown",
   "metadata": {
    "id": "xT_ciuiIM5_v"
   },
   "source": [
    "## Regresión Logistica\n",
    "\n",
    "Usa un **enfoque probabilístico**.\n",
    "\n",
    "$h_{\\theta}(x)$ debería ser $p(y=1/x;\\theta)$.\n",
    "\n",
    "Modelo de regresión logística:\n",
    "\n",
    "$$h_{\\theta}(x)=g(\\theta^{T}x)$$\n",
    "$$g(z) = \\frac{1}{1+e^{-z}}$$\n",
    "$$h_{\\theta}(x) = \\frac{1}{1+e^{-\\theta^{T}x}}$$\n",
    "\n",
    "<img src='https://drive.google.com/uc?export=view&id=1MeNaOMGnQE1uBOLfJAR4b53d0v630mHR' width=\"400\" align=\"center\" style=\"margin-right: 20px\">\n",
    "\n",
    "$\\theta^{T}x$ debería tener valores **negativos** grandes para instancias negativas y valores **positivos** grandes para instancias positivas.\n",
    "\n",
    "Definir un umbral:\n",
    "\n",
    "* Predecir $y=1$ si $h_{\\theta}(x) \t\\geq0.5$\n",
    "* Predecir $y=0$ si $h_{\\theta}(x) \t< 0.5$\n",
    "\n",
    "<img src='https://drive.google.com/uc?export=view&id=1esyo1Y8jCivlo7Xwyeyd0CWiVnWO6Ftk' width=\"400\" align=\"center\" style=\"margin-right: 20px\">\n",
    "\n",
    "## <font color='blue'>**Aplicación de Regresión Logística**</font>\n",
    "\n",
    "\n",
    "Ejemplo basado en este [link](https://scikit-learn.org/stable/auto_examples/linear_model/plot_iris_logistic.html).\n",
    "\n",
    "\n",
    "\n"
   ]
  },
  {
   "cell_type": "markdown",
   "metadata": {
    "id": "M8_weOp6pgZ-"
   },
   "source": [
    "Definiremos los límites de decisión de un clasificador de regresión logística para las dos primeras dimensiones (longitud y ancho del sépalo) del conjunto de datos de la flor de iris. Los puntos de datos están coloreados de acuerdo con sus etiquetas.\r\n",
    "\r\n",
    "<img src='https://drive.google.com/uc?export=view&id=1ZYk0BQjKqxm9jy72TnjjsjU1XB8eNE4W' width=\"400\" align=\"center\" style=\"margin-right: 20px\">"
   ]
  },
  {
   "cell_type": "code",
   "execution_count": 8,
   "metadata": {
    "id": "tZKLHUyupphj"
   },
   "outputs": [
    {
     "data": {
      "image/png": "[encoded data removed]",
      "text/plain": [
       "<Figure size 288x216 with 1 Axes>"
      ]
     },
     "metadata": {},
     "output_type": "display_data"
    }
   ],
   "source": [
    "import warnings\r\n",
    "warnings.filterwarnings('ignore')\r\n",
    "import numpy as np\r\n",
    "import matplotlib.pyplot as plt\r\n",
    "from sklearn.linear_model import LogisticRegression\r\n",
    "from sklearn import datasets\r\n",
    "# importar la data de la flor iris\r\n",
    "iris = datasets.load_iris()\r\n",
    "\r\n",
    "X = iris.data[:, :2]  # seleccionar las 2 primeras características.\r\n",
    "y = iris.target\r\n",
    "X = X[y<2]            # usaremos solo 2 clases\r\n",
    "y = y[y<2]            # usaremos solo 2 clases\r\n",
    "\r\n",
    "def plot_decision_boundary(X, y, regression):\r\n",
    "    # Gráfico de los límites de decisión. Para eso, asignaremos un color a cada\r\n",
    "    # punto en la malla [x_min, x_max]x[y_min, y_max].\r\n",
    "    x_min, x_max = X[:, 0].min() - .5, X[:, 0].max() + .5\r\n",
    "    y_min, y_max = X[:, 1].min() - .5, X[:, 1].max() + .5\r\n",
    "    h = .02  # tamaño de paso en la malla\r\n",
    "    xx, yy = np.meshgrid(np.arange(x_min, x_max, h), np.arange(y_min, y_max, h))\r\n",
    "    Z = regression.predict(np.c_[xx.ravel(), yy.ravel()])\r\n",
    "\r\n",
    "    # Poner el resultado en un gráfico de color\r\n",
    "    Z = Z.reshape(xx.shape)\r\n",
    "    plt.figure(1, figsize=(4, 3))\r\n",
    "    plt.pcolormesh(xx, yy, Z, cmap=plt.cm.Paired)\r\n",
    "\r\n",
    "    # Plotear los puntos de entrenamiento\r\n",
    "    plt.scatter(X[:, 0], X[:, 1], c=y, edgecolors='k', cmap=plt.cm.Paired)\r\n",
    "    plt.xlabel('Sepal length')\r\n",
    "    plt.ylabel('Sepal width')\r\n",
    "\r\n",
    "    plt.xlim(xx.min(), xx.max())\r\n",
    "    plt.ylim(yy.min(), yy.max())\r\n",
    "    plt.xticks(())\r\n",
    "    plt.yticks(())\r\n",
    "\r\n",
    "    plt.show()\r\n",
    "\r\n",
    "# crear una instancia de clasificador de regresión logística\r\n",
    "logreg = LogisticRegression(C=1e+3, solver='lbfgs', max_iter=2).fit(X, y)\r\n",
    "plot_decision_boundary(X, y, logreg)"
   ]
  },
  {
   "cell_type": "markdown",
   "metadata": {
    "id": "b0g1SfS9paee"
   },
   "source": [
    "## 1) Carguemos el data set\r\n"
   ]
  },
  {
   "cell_type": "code",
   "execution_count": 9,
   "metadata": {
    "id": "KiY6bpBRNoGo"
   },
   "outputs": [],
   "source": [
    "import numpy as np\n",
    "import matplotlib.pyplot as plt\n",
    "from sklearn.datasets import load_iris\n",
    "import pandas as pd"
   ]
  },
  {
   "cell_type": "code",
   "execution_count": 10,
   "metadata": {
    "id": "AAK-NTbHN3sn"
   },
   "outputs": [
    {
     "data": {
      "text/html": [
       "<div>\n",
       "<style scoped>\n",
       "    .dataframe tbody tr th:only-of-type {\n",
       "        vertical-align: middle;\n",
       "    }\n",
       "\n",
       "    .dataframe tbody tr th {\n",
       "        vertical-align: top;\n",
       "    }\n",
       "\n",
       "    .dataframe thead th {\n",
       "        text-align: right;\n",
       "    }\n",
       "</style>\n",
       "<table border=\"1\" class=\"dataframe\">\n",
       "  <thead>\n",
       "    <tr style=\"text-align: right;\">\n",
       "      <th></th>\n",
       "      <th>sepal length (cm)</th>\n",
       "      <th>sepal width (cm)</th>\n",
       "      <th>petal length (cm)</th>\n",
       "      <th>petal width (cm)</th>\n",
       "      <th>species_id</th>\n",
       "      <th>species_name</th>\n",
       "    </tr>\n",
       "  </thead>\n",
       "  <tbody>\n",
       "    <tr>\n",
       "      <th>0</th>\n",
       "      <td>5.1</td>\n",
       "      <td>3.5</td>\n",
       "      <td>1.4</td>\n",
       "      <td>0.2</td>\n",
       "      <td>0</td>\n",
       "      <td>setosa</td>\n",
       "    </tr>\n",
       "    <tr>\n",
       "      <th>1</th>\n",
       "      <td>4.9</td>\n",
       "      <td>3.0</td>\n",
       "      <td>1.4</td>\n",
       "      <td>0.2</td>\n",
       "      <td>0</td>\n",
       "      <td>setosa</td>\n",
       "    </tr>\n",
       "    <tr>\n",
       "      <th>2</th>\n",
       "      <td>4.7</td>\n",
       "      <td>3.2</td>\n",
       "      <td>1.3</td>\n",
       "      <td>0.2</td>\n",
       "      <td>0</td>\n",
       "      <td>setosa</td>\n",
       "    </tr>\n",
       "    <tr>\n",
       "      <th>3</th>\n",
       "      <td>4.6</td>\n",
       "      <td>3.1</td>\n",
       "      <td>1.5</td>\n",
       "      <td>0.2</td>\n",
       "      <td>0</td>\n",
       "      <td>setosa</td>\n",
       "    </tr>\n",
       "    <tr>\n",
       "      <th>4</th>\n",
       "      <td>5.0</td>\n",
       "      <td>3.6</td>\n",
       "      <td>1.4</td>\n",
       "      <td>0.2</td>\n",
       "      <td>0</td>\n",
       "      <td>setosa</td>\n",
       "    </tr>\n",
       "  </tbody>\n",
       "</table>\n",
       "</div>"
      ],
      "text/plain": [
       "   sepal length (cm)  sepal width (cm)  petal length (cm)  petal width (cm)  \\\n",
       "0                5.1               3.5                1.4               0.2   \n",
       "1                4.9               3.0                1.4               0.2   \n",
       "2                4.7               3.2                1.3               0.2   \n",
       "3                4.6               3.1                1.5               0.2   \n",
       "4                5.0               3.6                1.4               0.2   \n",
       "\n",
       "   species_id species_name  \n",
       "0           0       setosa  \n",
       "1           0       setosa  \n",
       "2           0       setosa  \n",
       "3           0       setosa  \n",
       "4           0       setosa  "
      ]
     },
     "execution_count": 10,
     "metadata": {},
     "output_type": "execute_result"
    }
   ],
   "source": [
    "# Data set cargado.\n",
    "\n",
    "iris = load_iris()\n",
    "x = iris.data\n",
    "y = iris.target\n",
    "# Transformelo a data frame para visualizarlo\n",
    "df = pd.DataFrame(x,columns = iris.feature_names)\n",
    "df['species_id'] = y\n",
    "species_map = {0:'setosa',1:'versicolor',2:'virginica'}\n",
    "df['species_name'] = df['species_id'].map(species_map)\n",
    "df.head()"
   ]
  },
  {
   "cell_type": "markdown",
   "metadata": {
    "id": "Rrwn8qV0Bjel"
   },
   "source": [
    "## <font color='green'>**Actividad 1**</font>\r\n",
    "## Realice un analisis exploratorio con el objetivo de indentificar la factibilidad de construir un clsificador de especies. ¿Que especie se ve facilmente separable?"
   ]
  },
  {
   "cell_type": "code",
   "execution_count": 4,
   "metadata": {},
   "outputs": [
    {
     "data": {
      "text/plain": [
       "virginica     50\n",
       "setosa        50\n",
       "versicolor    50\n",
       "Name: species_name, dtype: int64"
      ]
     },
     "execution_count": 4,
     "metadata": {},
     "output_type": "execute_result"
    }
   ],
   "source": [
    "df['species_name'].value_counts()"
   ]
  },
  {
   "cell_type": "code",
   "execution_count": 5,
   "metadata": {},
   "outputs": [
    {
     "data": {
      "text/plain": [
       "array(['setosa', 'versicolor', 'virginica'], dtype=object)"
      ]
     },
     "execution_count": 5,
     "metadata": {},
     "output_type": "execute_result"
    }
   ],
   "source": [
    "df['species_name'].unique()"
   ]
  },
  {
   "cell_type": "markdown",
   "metadata": {
    "id": "ub69qbR5PeLl"
   },
   "source": [
    "## 2) Estadistica descriptiva y visualizaciones\n",
    "\n",
    "Hagalo para todas las especies, observa diferencias.\n",
    "\n",
    "```\n",
    "setosa_mask = df['species_name'] == 'setosa'\n",
    "df[setosa_mask].describe()\n",
    "```\n",
    "\n"
   ]
  },
  {
   "cell_type": "code",
   "execution_count": 6,
   "metadata": {
    "id": "AeCio8UyOrXB"
   },
   "outputs": [
    {
     "data": {
      "text/html": [
       "<div>\n",
       "<style scoped>\n",
       "    .dataframe tbody tr th:only-of-type {\n",
       "        vertical-align: middle;\n",
       "    }\n",
       "\n",
       "    .dataframe tbody tr th {\n",
       "        vertical-align: top;\n",
       "    }\n",
       "\n",
       "    .dataframe thead th {\n",
       "        text-align: right;\n",
       "    }\n",
       "</style>\n",
       "<table border=\"1\" class=\"dataframe\">\n",
       "  <thead>\n",
       "    <tr style=\"text-align: right;\">\n",
       "      <th></th>\n",
       "      <th>sepal length (cm)</th>\n",
       "      <th>sepal width (cm)</th>\n",
       "      <th>petal length (cm)</th>\n",
       "      <th>petal width (cm)</th>\n",
       "      <th>species_id</th>\n",
       "    </tr>\n",
       "  </thead>\n",
       "  <tbody>\n",
       "    <tr>\n",
       "      <th>count</th>\n",
       "      <td>50.00000</td>\n",
       "      <td>50.000000</td>\n",
       "      <td>50.000000</td>\n",
       "      <td>50.000000</td>\n",
       "      <td>50.0</td>\n",
       "    </tr>\n",
       "    <tr>\n",
       "      <th>mean</th>\n",
       "      <td>5.00600</td>\n",
       "      <td>3.428000</td>\n",
       "      <td>1.462000</td>\n",
       "      <td>0.246000</td>\n",
       "      <td>0.0</td>\n",
       "    </tr>\n",
       "    <tr>\n",
       "      <th>std</th>\n",
       "      <td>0.35249</td>\n",
       "      <td>0.379064</td>\n",
       "      <td>0.173664</td>\n",
       "      <td>0.105386</td>\n",
       "      <td>0.0</td>\n",
       "    </tr>\n",
       "    <tr>\n",
       "      <th>min</th>\n",
       "      <td>4.30000</td>\n",
       "      <td>2.300000</td>\n",
       "      <td>1.000000</td>\n",
       "      <td>0.100000</td>\n",
       "      <td>0.0</td>\n",
       "    </tr>\n",
       "    <tr>\n",
       "      <th>25%</th>\n",
       "      <td>4.80000</td>\n",
       "      <td>3.200000</td>\n",
       "      <td>1.400000</td>\n",
       "      <td>0.200000</td>\n",
       "      <td>0.0</td>\n",
       "    </tr>\n",
       "    <tr>\n",
       "      <th>50%</th>\n",
       "      <td>5.00000</td>\n",
       "      <td>3.400000</td>\n",
       "      <td>1.500000</td>\n",
       "      <td>0.200000</td>\n",
       "      <td>0.0</td>\n",
       "    </tr>\n",
       "    <tr>\n",
       "      <th>75%</th>\n",
       "      <td>5.20000</td>\n",
       "      <td>3.675000</td>\n",
       "      <td>1.575000</td>\n",
       "      <td>0.300000</td>\n",
       "      <td>0.0</td>\n",
       "    </tr>\n",
       "    <tr>\n",
       "      <th>max</th>\n",
       "      <td>5.80000</td>\n",
       "      <td>4.400000</td>\n",
       "      <td>1.900000</td>\n",
       "      <td>0.600000</td>\n",
       "      <td>0.0</td>\n",
       "    </tr>\n",
       "  </tbody>\n",
       "</table>\n",
       "</div>"
      ],
      "text/plain": [
       "       sepal length (cm)  sepal width (cm)  petal length (cm)  \\\n",
       "count           50.00000         50.000000          50.000000   \n",
       "mean             5.00600          3.428000           1.462000   \n",
       "std              0.35249          0.379064           0.173664   \n",
       "min              4.30000          2.300000           1.000000   \n",
       "25%              4.80000          3.200000           1.400000   \n",
       "50%              5.00000          3.400000           1.500000   \n",
       "75%              5.20000          3.675000           1.575000   \n",
       "max              5.80000          4.400000           1.900000   \n",
       "\n",
       "       petal width (cm)  species_id  \n",
       "count         50.000000        50.0  \n",
       "mean           0.246000         0.0  \n",
       "std            0.105386         0.0  \n",
       "min            0.100000         0.0  \n",
       "25%            0.200000         0.0  \n",
       "50%            0.200000         0.0  \n",
       "75%            0.300000         0.0  \n",
       "max            0.600000         0.0  "
      ]
     },
     "execution_count": 6,
     "metadata": {},
     "output_type": "execute_result"
    }
   ],
   "source": [
    "# Aquí su código.\r\n",
    "setosa_mask = df['species_name'] == 'setosa'\r\n",
    "df[setosa_mask].describe()"
   ]
  },
  {
   "cell_type": "code",
   "execution_count": 7,
   "metadata": {},
   "outputs": [
    {
     "ename": "NameError",
     "evalue": "name 'sns' is not defined",
     "output_type": "error",
     "traceback": [
      "\u001b[0;31m---------------------------------------------------------------------------\u001b[0m",
      "\u001b[0;31mNameError\u001b[0m                                 Traceback (most recent call last)",
      "\u001b[0;32m<ipython-input-7-db02a177c9a2>\u001b[0m in \u001b[0;36m<module>\u001b[0;34m\u001b[0m\n\u001b[1;32m      1\u001b[0m \u001b[0mfig\u001b[0m\u001b[0;34m,\u001b[0m \u001b[0max\u001b[0m \u001b[0;34m=\u001b[0m \u001b[0mplt\u001b[0m\u001b[0;34m.\u001b[0m\u001b[0msubplots\u001b[0m\u001b[0;34m(\u001b[0m\u001b[0;36m2\u001b[0m\u001b[0;34m,\u001b[0m\u001b[0;36m2\u001b[0m\u001b[0;34m,\u001b[0m \u001b[0mfigsize\u001b[0m \u001b[0;34m=\u001b[0m \u001b[0;34m(\u001b[0m\u001b[0;36m10\u001b[0m\u001b[0;34m,\u001b[0m\u001b[0;36m10\u001b[0m\u001b[0;34m)\u001b[0m\u001b[0;34m)\u001b[0m\u001b[0;34m\u001b[0m\u001b[0;34m\u001b[0m\u001b[0m\n\u001b[0;32m----> 2\u001b[0;31m \u001b[0msns\u001b[0m\u001b[0;34m.\u001b[0m\u001b[0mbarplot\u001b[0m\u001b[0;34m(\u001b[0m\u001b[0mx\u001b[0m \u001b[0;34m=\u001b[0m \u001b[0;34m'species_name'\u001b[0m\u001b[0;34m,\u001b[0m \u001b[0my\u001b[0m \u001b[0;34m=\u001b[0m \u001b[0;34m'sepal length (cm)'\u001b[0m\u001b[0;34m,\u001b[0m \u001b[0mdata\u001b[0m \u001b[0;34m=\u001b[0m \u001b[0mdf\u001b[0m\u001b[0;34m,\u001b[0m \u001b[0max\u001b[0m \u001b[0;34m=\u001b[0m \u001b[0max\u001b[0m\u001b[0;34m[\u001b[0m\u001b[0;36m0\u001b[0m\u001b[0;34m,\u001b[0m\u001b[0;36m0\u001b[0m\u001b[0;34m]\u001b[0m\u001b[0;34m)\u001b[0m\u001b[0;34m\u001b[0m\u001b[0;34m\u001b[0m\u001b[0m\n\u001b[0m\u001b[1;32m      3\u001b[0m \u001b[0msns\u001b[0m\u001b[0;34m.\u001b[0m\u001b[0mbarplot\u001b[0m\u001b[0;34m(\u001b[0m\u001b[0mx\u001b[0m \u001b[0;34m=\u001b[0m \u001b[0;34m'species_name'\u001b[0m\u001b[0;34m,\u001b[0m \u001b[0my\u001b[0m \u001b[0;34m=\u001b[0m \u001b[0;34m'sepal width (cm)'\u001b[0m\u001b[0;34m,\u001b[0m \u001b[0mdata\u001b[0m \u001b[0;34m=\u001b[0m \u001b[0mdf\u001b[0m\u001b[0;34m,\u001b[0m \u001b[0max\u001b[0m \u001b[0;34m=\u001b[0m \u001b[0max\u001b[0m\u001b[0;34m[\u001b[0m\u001b[0;36m0\u001b[0m\u001b[0;34m,\u001b[0m\u001b[0;36m1\u001b[0m\u001b[0;34m]\u001b[0m\u001b[0;34m)\u001b[0m\u001b[0;34m\u001b[0m\u001b[0;34m\u001b[0m\u001b[0m\n\u001b[1;32m      4\u001b[0m \u001b[0msns\u001b[0m\u001b[0;34m.\u001b[0m\u001b[0mbarplot\u001b[0m\u001b[0;34m(\u001b[0m\u001b[0mx\u001b[0m \u001b[0;34m=\u001b[0m \u001b[0;34m'species_name'\u001b[0m\u001b[0;34m,\u001b[0m \u001b[0my\u001b[0m \u001b[0;34m=\u001b[0m \u001b[0;34m'petal length (cm)'\u001b[0m\u001b[0;34m,\u001b[0m \u001b[0mdata\u001b[0m \u001b[0;34m=\u001b[0m \u001b[0mdf\u001b[0m\u001b[0;34m,\u001b[0m \u001b[0max\u001b[0m \u001b[0;34m=\u001b[0m \u001b[0max\u001b[0m\u001b[0;34m[\u001b[0m\u001b[0;36m1\u001b[0m\u001b[0;34m,\u001b[0m\u001b[0;36m0\u001b[0m\u001b[0;34m]\u001b[0m\u001b[0;34m)\u001b[0m\u001b[0;34m\u001b[0m\u001b[0;34m\u001b[0m\u001b[0m\n\u001b[1;32m      5\u001b[0m \u001b[0msns\u001b[0m\u001b[0;34m.\u001b[0m\u001b[0mbarplot\u001b[0m\u001b[0;34m(\u001b[0m\u001b[0mx\u001b[0m \u001b[0;34m=\u001b[0m \u001b[0;34m'species_name'\u001b[0m\u001b[0;34m,\u001b[0m \u001b[0my\u001b[0m \u001b[0;34m=\u001b[0m \u001b[0;34m'petal width (cm)'\u001b[0m\u001b[0;34m,\u001b[0m \u001b[0mdata\u001b[0m \u001b[0;34m=\u001b[0m \u001b[0mdf\u001b[0m\u001b[0;34m,\u001b[0m \u001b[0max\u001b[0m \u001b[0;34m=\u001b[0m \u001b[0max\u001b[0m\u001b[0;34m[\u001b[0m\u001b[0;36m1\u001b[0m\u001b[0;34m,\u001b[0m\u001b[0;36m1\u001b[0m\u001b[0;34m]\u001b[0m\u001b[0;34m)\u001b[0m\u001b[0;34m\u001b[0m\u001b[0;34m\u001b[0m\u001b[0m\n",
      "\u001b[0;31mNameError\u001b[0m: name 'sns' is not defined"
     ]
    },
    {
     "data": {
      "image/png": "[encoded data removed]",
      "text/plain": [
       "<Figure size 720x720 with 4 Axes>"
      ]
     },
     "metadata": {
      "needs_background": "light"
     },
     "output_type": "display_data"
    }
   ],
   "source": [
    "fig, ax = plt.subplots(2,2, figsize = (10,10))\n",
    "sns.barplot(x = 'species_name', y = 'sepal length (cm)', data = df, ax = ax[0,0])\n",
    "sns.barplot(x = 'species_name', y = 'sepal width (cm)', data = df, ax = ax[0,1])\n",
    "sns.barplot(x = 'species_name', y = 'petal length (cm)', data = df, ax = ax[1,0])\n",
    "sns.barplot(x = 'species_name', y = 'petal width (cm)', data = df, ax = ax[1,1])\n"
   ]
  },
  {
   "cell_type": "markdown",
   "metadata": {
    "id": "4eSc6J0-Ps-m"
   },
   "source": [
    "### Realice un pair plot\n",
    "\n",
    "Utilice lo visto en cursos anteriores."
   ]
  },
  {
   "cell_type": "code",
   "execution_count": null,
   "metadata": {
    "id": "Sz5DuqcpPjEm"
   },
   "outputs": [],
   "source": [
    "# Aquí el Pair plot\n",
    "import seaborn as sns\n",
    "#g = sns.pairplot(df, x_vars=iris.feature_names, y_vars=iris.feature_names)\n",
    "sns.pairplot(data=df,hue='species_id')\n",
    "plt.show()\n",
    "\n"
   ]
  },
  {
   "cell_type": "markdown",
   "metadata": {
    "id": "1wpitpRPCGrb"
   },
   "source": [
    "## <font color='green'>**Fin Actividad 1**</font>"
   ]
  },
  {
   "cell_type": "markdown",
   "metadata": {
    "id": "jzht31i0U4E1"
   },
   "source": [
    "### Adaptando el data set a un problema binario.\n",
    "\n",
    "Como se vió en las visualizaciones anteriores. Vamos a reconocer setosa de las otras especies. Para esto debemos adaptar nuestra variable de salida.\n",
    "\n",
    "```\n",
    "y1 = np.where(y==2, 1, y) \n",
    "print(y1)\n",
    "```\n",
    "\n"
   ]
  },
  {
   "cell_type": "code",
   "execution_count": 11,
   "metadata": {
    "id": "l26ZiBhsQvWm"
   },
   "outputs": [
    {
     "name": "stdout",
     "output_type": "stream",
     "text": [
      "[0 0 0 0 0 0 0 0 0 0 0 0 0 0 0 0 0 0 0 0 0 0 0 0 0 0 0 0 0 0 0 0 0 0 0 0 0\n",
      " 0 0 0 0 0 0 0 0 0 0 0 0 0 1 1 1 1 1 1 1 1 1 1 1 1 1 1 1 1 1 1 1 1 1 1 1 1\n",
      " 1 1 1 1 1 1 1 1 1 1 1 1 1 1 1 1 1 1 1 1 1 1 1 1 1 1 1 1 1 1 1 1 1 1 1 1 1\n",
      " 1 1 1 1 1 1 1 1 1 1 1 1 1 1 1 1 1 1 1 1 1 1 1 1 1 1 1 1 1 1 1 1 1 1 1 1 1\n",
      " 1 1]\n"
     ]
    }
   ],
   "source": [
    "# Aquí su codigo Setosa y no Setosa\n",
    "y1 = np.where(y==2, 1, y) \n",
    "print(y1)"
   ]
  },
  {
   "cell_type": "markdown",
   "metadata": {
    "id": "AmfoMja3P10T"
   },
   "source": [
    "## 3) Conjunto de entrenamiento y validación\n",
    "\n",
    "Utilice el mismo metodo que en regresion lineal para realizar split y LogisticRegression para la regresión logistica.\n",
    "\n",
    "\n",
    "\n"
   ]
  },
  {
   "cell_type": "code",
   "execution_count": 14,
   "metadata": {
    "id": "EI-_n5HAP-HB"
   },
   "outputs": [
    {
     "data": {
      "text/plain": [
       "LogisticRegression()"
      ]
     },
     "execution_count": 14,
     "metadata": {},
     "output_type": "execute_result"
    }
   ],
   "source": [
    "# Aqui realice el fit\r\n",
    "\r\n",
    "from sklearn.model_selection import train_test_split\r\n",
    "from sklearn.linear_model import LogisticRegression \r\n",
    "x_train, x_test, y_train, y_test = train_test_split(x, y1, test_size=0.33, random_state=42)\r\n",
    "log_reg = LogisticRegression()\r\n",
    "log_reg.fit(x_train, y_train)"
   ]
  },
  {
   "cell_type": "markdown",
   "metadata": {
    "id": "6243DZ1HVvXJ"
   },
   "source": [
    "## 4) Verificacion\n",
    "\n",
    "```\n",
    "probabilidades = log_reg.predict_proba(x_test)\n",
    "for i in range(0,len(y_test)):\n",
    "  print (y_test[i],probabilidades[i])\n",
    "\n",
    "```\n",
    "\n"
   ]
  },
  {
   "cell_type": "code",
   "execution_count": null,
   "metadata": {
    "id": "jH4eQF1M8Vrx"
   },
   "outputs": [],
   "source": [
    "probabilidades = log_reg.predict_proba(x_test)\r\n",
    "for i in range(0,10):      prit (y_test[i],probabilidades[i])"
   ]
  },
  {
   "cell_type": "markdown",
   "metadata": {
    "id": "mg9OY-Q9RglQ"
   },
   "source": [
    "## 5)  ¿Como funciona?\n",
    "\n",
    "Dado un conjunto de entradas X, queremos asignarlas a una de dos categorías posibles (0 o 1). La regresión logística modela la probabilidad de que cada entrada pertenezca a una categoría particular."
   ]
  },
  {
   "cell_type": "markdown",
   "metadata": {
    "id": "1niBBU53TL4D"
   },
   "source": [
    "## ¿Como medimos que tan buenos esta siendo nuestro modelo?\n",
    "### La función de perdida. Entropía cruzada\n",
    "\n",
    "La entropía de una variable aleatoria X, es el nivel de incertidumbre inherente a las posibles variables de resultado.\n",
    "\n",
    "Sea $p(x)$ una distribución de probabilidad de una variable aleatoria $X$. Entonces la **entropía** se define por:\n",
    "\n",
    "$$ H(X) =- \\sum_x p(x) log(p(x))$$ para el caso discreto.\n",
    "\n",
    "\n",
    "![Log](https://drive.google.com/uc?export=view&id=1RW2paVAoK7kmrGl8C-Y5Zim6YpeLtVsF) \n",
    "\n",
    "\n",
    "Veamos un ejemplo concreto:\n",
    "\n",
    "![Entropia](https://drive.google.com/uc?export=view&id=13pUhML_hNg6sdHG9h5lToPu1Mxx9uPuB) \n",
    "\n",
    "\n",
    "Calcule la entropía para cada uno de los contenedores.\n",
    "\n",
    "1. $ -[\\frac{26}{30}log_2(\\frac{26}{30}) + \\frac{4}{30}log_2(\\frac{4}{30}) ]$ = 0.5665\n",
    "\n",
    "2. =  0.9968\n",
    "\n",
    "3. =  0\n",
    "\n",
    "Nuestra entropía esta midiendo un desorden (Termodinamica, Mecánica estadística), o la cantidad de ruido que contiene una señal (Teoria de la información).\n",
    "\n",
    "Entropia Cruzada: \n",
    "\n",
    "También se llama pérdida logarítmica o pérdida logística. Cada probabilidad de clase predicha se compara con la salida deseada de clase real 0 o 1 y se calcula una puntuación/pérdida que penaliza la probabilidad en función de qué tan lejos está del valor esperado real. La penalización es de naturaleza logarítmica, lo que genera una puntuación grande para las diferencias grandes cercanas a 1 y una puntuación pequeña para las diferencias pequeñas que tienden a 0.\n",
    "\n",
    "![EntropiaCruzada](https://drive.google.com/uc?export=view&id=1VlvM3dWPbapiJFUs_cVe2gkAlRHCrEGz) \n",
    "\n",
    "\n",
    "$$L{CE} = - \\sum_{i=1}^n t_ilog(p_i)$$, para n clases. \n",
    "Donde $t_i$ es el truth label y $p_i$ la probabilidad obtenida de la función softmax para la $i^{th}$ clase.\n",
    "\n",
    "$$ \\sigma(z)_j = \\frac{e^{z_j}}{\\sum_{k=1}^K e^{z_k}}$$\n",
    "\n",
    "En el caso del ejemplo tenemos:\n",
    "\n",
    "$L_{CE} = -1log_2(0.936)+0+0+0$ = 0.095\n",
    "\n",
    "```\n",
    "def loss(h, y):\n",
    "    return (-y * np.log(h) - (1 - y) * np.log(1 - h)).mean()\n",
    "```\n",
    "\n"
   ]
  },
  {
   "cell_type": "markdown",
   "metadata": {
    "id": "FJdYTRCRXLOD"
   },
   "source": [
    "### El gradiente\n",
    "\n",
    "1. **¿Que es el gradiente?:** El gradiente es un vector que es tangente de una función y apunta en la dirección de mayor aumento de esta función. El gradiente es cero en un máximo o mínimo local porque no hay una única dirección de aumento. En matemáticas, el gradiente se define como una derivada parcial para cada variable de entrada de la función.\n",
    "\n",
    "$$ \\nabla f(x,y) = (\\frac{\\partial f}{\\partial x}, \\frac{\\partial f}{\\partial y})$$\n",
    "\n",
    "2. **¿Que es el gradiente descendente?:**  Como el gradiente es un vector que apunta al mayor aumento de una función, el gradiente negativo es un vector que apunta al mayor descenso de una función. Por lo tanto, podemos minimizar una función moviéndonos iterativamente **un poco** en la dirección del gradiente negativo. Esa es la lógica del descenso en gradiente.\n",
    "\n",
    "Dado un punto de partida $(X_1^{0}, ...,X_n^{0})$\n",
    "$$ x_1^{(i+1)} = x_1^{(i)} - \\alpha \\frac{\\partial f}{\\partial x_1}(x^{(i)})$$\n",
    "\n",
    "$$ x_n^{(i+1)} = x_n^{(i)} - \\alpha \\frac{\\partial f}{\\partial x_n}(x^{(i)})$$\n",
    "\n",
    "\n",
    "![GradientDescent](https://drive.google.com/uc?export=view&id=15VIlre07RyAx_VsUFVtS7Hyt1Nk5w3WN) \n",
    "\n",
    "Un parámetro importante en el descenso de gradientes es la tasa de aprendizaje (LearningRate, $\\alpha$), que determina el tamaño de cada paso. Cuando la tasa de aprendizaje es demasiado grande, el descenso en pendiente puede saltar a través del valle y terminar en el otro lado. Esto conducirá a la divergencia de la función de costos. Por otro lado, cuando la tasa de aprendizaje es demasiado pequeña, el algoritmo tardará mucho en converger. Por lo tanto, se necesita una velocidad de aprendizaje adecuada antes de que comience el descenso de gradiente.\n",
    "\n",
    "\n",
    "![Learningrate](https://drive.google.com/uc?export=view&id=1-EPuN5D59Phhhk-FKCfzz3yqk2mbsC39)  \n",
    "\n",
    "\n",
    "La normalización juega un papel importante en Gradient Descent. Si las características no están normalizadas, las características a gran escala dominarán la actualización, por lo que el algoritmo generará una ruta de aprendizaje en zigzag. Se necesitan muchos pasos innecesarios y más tiempo para llegar al mínimo. Una vez normalizadas todas las características, la función de coste adquiere una forma más esférica. El algoritmo Gradient Descent va directo al mínimo. Una forma de realizar la normalización es menos la media y dividir por la desviación estándar. También puede aplicar la función Scaler de Scikit-Learn directamente.\n",
    "\n",
    "\n",
    "\n",
    "\n",
    "\n"
   ]
  },
  {
   "cell_type": "markdown",
   "metadata": {
    "id": "XkpBqrgfHQyA"
   },
   "source": [
    "## Las ecuaciones:\r\n",
    "\r\n",
    "$$h_{\\theta}(x) = \\sigma(\\theta^Tx)$$ \r\n",
    "Donde $$\\sigma = \\frac{1}{1+ e^z}$$\r\n",
    "Además sea $$z(\\theta) = \\theta^Tx $$ \r\n",
    "\r\n",
    "$$L(y,\\hat{y}) = -[y \\log (\\hat{y}) + (1-y) \\log{(1-\\hat{y})}] $$\r\n",
    "$$L(y,\\hat{y}) = -[y \\log (\\sigma(z(\\theta))) + (1-y) \\log{(1-\\sigma(z(\\theta)))}] $$\r\n",
    "\r\n",
    "$$\\frac{\\partial L(y,\\hat{y})}{\\partial \\theta_j} = -[\\frac{\\partial  y\\log (\\sigma(z(\\theta))) }{\\partial \\theta_j} +  \\frac{\\partial (1-y) \\log{(1-\\sigma(z(\\theta)))}}{\\partial \\theta_j}] $$\r\n",
    "\r\n",
    "\r\n",
    "$$\\frac{\\partial L(y,\\hat{y})}{\\partial \\theta_j} = -[\\frac{y}{\\sigma(z(\\theta))}\\frac{\\partial \\sigma(z(\\theta))}{\\partial \\theta_j} + \\frac{1-y}{1-\\sigma(z(\\theta_j))}\\frac{\\partial \\sigma(1 - z(\\theta))}{\\partial \\theta_j}] $$\r\n",
    "\r\n",
    "$$\\frac{\\partial L(y,\\hat{y})}{\\partial \\theta_j} = [\\frac{1-y}{1-\\sigma(z(\\theta))} -\\frac{y}{\\sigma(z(\\theta))}] \\frac{\\partial \\sigma(z(\\theta))}{\\partial \\theta_j}$$\r\n",
    "\r\n",
    "Apliquemos la derivada sobre la sigmoidea $\\sigma(z)'= \\sigma(z)(1-\\sigma(z))$\r\n",
    "\r\n",
    "$$\\frac{\\partial L(y,\\hat{y})}{\\partial \\theta_j} = [\\frac{\\sigma(z(\\theta)) - y}{\\sigma(z(\\theta)) [1 - \\sigma(z(\\theta))]} ] \\sigma(z(\\theta)) (1-\\sigma(z(\\theta)))x_j$$\r\n",
    "\r\n",
    "$$\\frac{\\partial L(y,\\hat{y})}{\\partial \\theta_j} = [\\sigma(z(\\theta)) - y] x_j$$\r\n",
    "\r\n",
    "\r\n",
    "\r\n"
   ]
  },
  {
   "cell_type": "markdown",
   "metadata": {
    "id": "uLAc4scYZBv8"
   },
   "source": [
    "\r\n",
    "\r\n",
    "\r\n",
    "```\r\n",
    "\r\n",
    "gradiente = np.dot(X.T, (h - y)) / y.shape[0]\r\n",
    "lr = 0.01\r\n",
    "theta -= lr * gradient\r\n",
    "```\r\n",
    "\r\n",
    "```\r\n",
    "def predict_probs(X, theta):\r\n",
    "    return sigmoid(np.dot(X, theta))\r\n",
    "```\r\n",
    "\r\n",
    "```\r\n",
    "def add_intercept(X):\r\n",
    "        intercept = np.ones((X.shape[0], 1))\r\n",
    "        return np.concatenate((intercept, X), axis=1)\r\n",
    "```\r\n",
    "\r\n",
    "\r\n",
    "\r\n"
   ]
  },
  {
   "cell_type": "markdown",
   "metadata": {
    "id": "bPZCt6SGE2zQ"
   },
   "source": [
    "## <font color='green'>**Actividad 2**</font>\r\n",
    "### Construya la regresión logistica.\r\n",
    "\r\n",
    "\r\n",
    "Defina una funcion fit(X,y):\r\n",
    "\r\n",
    "1. Al dataset X, se le agrega un intercepto, utilizando la función add_intercept\r\n",
    "2. Definimos un array theta que contenfa los pesos de la regresión logistica, los puede iniciar en 0 o aleatorios.\r\n",
    "3. Itere los siguientes pasos una cantidad determinada de veces, por ejemplo 20.000\r\n",
    "\r\n",
    "    a.  Haga un forward (multiplique el vector de entrada con theta, utilice la función dot)\r\n",
    "\r\n",
    "    b. Aplique la función gradiente.\r\n",
    "\r\n",
    "    c. Aplique el learning rate y actualice theta.\r\n",
    "4. Prediga el conjunto de test con la función predict_probs\r\n",
    "5. Compare theta y los resultados con la función utilizada en sklearn."
   ]
  },
  {
   "cell_type": "code",
   "execution_count": 1,
   "metadata": {},
   "outputs": [],
   "source": [
    "def fit(x, y):\n",
    "    x = add_intercept(x)\n",
    "    theta = np.zeros(x.shape[1])\n",
    "    \n",
    "    for i in range(20000):\n",
    "        z = np.dot(x, theta)"
   ]
  },
  {
   "cell_type": "code",
   "execution_count": 18,
   "metadata": {
    "id": "ziXGuwFHaybP"
   },
   "outputs": [
    {
     "ename": "SyntaxError",
     "evalue": "invalid syntax (<ipython-input-18-8e6cbc071d78>, line 18)",
     "output_type": "error",
     "traceback": [
      "\u001b[0;36m  File \u001b[0;32m\"<ipython-input-18-8e6cbc071d78>\"\u001b[0;36m, line \u001b[0;32m18\u001b[0m\n\u001b[0;31m    gradiente = np.dot(X.T, (h - y)) / y.shape[0] # El calcu#lo del gradiente\u001b[0m\n\u001b[0m            ^\u001b[0m\n\u001b[0;31mSyntaxError\u001b[0m\u001b[0;31m:\u001b[0m invalid syntax\n"
     ]
    }
   ],
   "source": [
    "# Ayuda\r\n",
    "\r\n",
    "\r\n",
    "def loss(h, y):\r\n",
    "    return (-y * np.log(h) - (1 - y) * np.log(1 - h)).mean()\r\n",
    "\r\n",
    "def sigmoidea(z):\r\n",
    "    return 1 / (1 + np.exp(-z))\r\n",
    "\r\n",
    "def predict_probs(X, theta):\r\n",
    "    X = add_intercept(X)\r\n",
    "    return sigmoidea(np.dot(X, theta))\r\n",
    "\r\n",
    "def add_intercept(X):\r\n",
    "        intercept = np.ones((X.shape[0], 1))\r\n",
    "        return np.concatenate((intercept#, X), axis=1)\r\n",
    "\r\n",
    "gradiente = np.dot(X.T, (h - y)) / y.shape[0] # El calcu#lo del gradiente\r\n",
    "lr = 0.01 # La raz#on de aprendizaje\r\n",
    "theta -= lr * gradient # La actualización de los pesos."
   ]
  },
  {
   "cell_type": "markdown",
   "metadata": {
    "id": "TX2W_R7pShcw"
   },
   "source": [
    "## <font color='green'>**Fin Actividad 2**</font>"
   ]
  }
 ],
 "metadata": {
  "colab": {
   "collapsed_sections": [],
   "name": "RegresionLogistica-Workbook.ipynb",
   "provenance": [
    {
     "file_id": "13ZcKsiC6KeSWHHzdBOL1kp1DN9iaxSDQ",
     "timestamp": 1609958606842
    }
   ]
  },
  "kernelspec": {
   "display_name": "Python 3",
   "language": "python",
   "name": "python3"
  },
  "language_info": {
   "codemirror_mode": {
    "name": "ipython",
    "version": 3
   },
   "file_extension": ".py",
   "mimetype": "text/x-python",
   "name": "python",
   "nbconvert_exporter": "python",
   "pygments_lexer": "ipython3",
   "version": "3.7.3"
  }
 },
 "nbformat": 4,
 "nbformat_minor": 4
}

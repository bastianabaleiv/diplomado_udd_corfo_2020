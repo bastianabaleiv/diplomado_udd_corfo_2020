{
 "cells": [
  {
   "cell_type": "markdown",
   "metadata": {
    "id": "DeIPIyBEsNWu"
   },
   "source": [
    "# Gradient Boosted Regression Trees\n"
   ]
  },
  {
   "cell_type": "code",
   "execution_count": 1,
   "metadata": {
    "id": "RU8XYZecsNWv"
   },
   "outputs": [],
   "source": [
    "class Estimator(object):\n",
    "  \n",
    "    def fit(self, X, y=None):\n",
    "        \"\"\"Fits estimator to data. \"\"\"\n",
    "        # set state of ``self``\n",
    "        return self\n",
    "            \n",
    "    def predict(self, X):\n",
    "        \"\"\"Predict response of ``X``. \"\"\"\n",
    "        # compute predictions ``pred``\n",
    "        return pred"
   ]
  },
  {
   "cell_type": "markdown",
   "metadata": {
    "id": "lw-E1uLAsNWw"
   },
   "source": [
    "Scikit-learn proporciona dos estimadores para Gradient Boosting: `` GradientBoostingClassifier`` y `` GradientBoostingRegressor``, ambos se encuentran en el paquete `` sklearn.ensemble``:"
   ]
  },
  {
   "cell_type": "code",
   "execution_count": 2,
   "metadata": {
    "id": "fn9Grp7YsNWw"
   },
   "outputs": [],
   "source": [
    "from sklearn.ensemble import GradientBoostingClassifier\n",
    "from sklearn.ensemble import GradientBoostingRegressor"
   ]
  },
  {
   "cell_type": "markdown",
   "metadata": {
    "id": "iFEfNOOGsNWy"
   },
   "source": [
    "Los estimadores tienen argumentos para controlar el comportamiento de ajuste; estos argumentos a menudo se denominan _hiperparámetros_. Entre los más importantes para GBRT se encuentran:\n",
    "\n",
    "  * número de árboles de regresión (o clasificación) (`` n_estimators`` )\n",
    "  * profundidad de cada árbol individual (`` max_depth`` )\n",
    "  * función de pérdida (``loss`` )\n",
    "\n",
    "Por ejemplo, si desea ajustar un modelo de regresión con 100 árboles de profundidad 3 utilizando mínimos cuadrados:"
   ]
  },
  {
   "cell_type": "code",
   "execution_count": 3,
   "metadata": {
    "id": "pqkw5jrwsNWz"
   },
   "outputs": [],
   "source": [
    "est = GradientBoostingRegressor(n_estimators=100, max_depth=3, loss='ls')"
   ]
  },
  {
   "cell_type": "code",
   "execution_count": 4,
   "metadata": {
    "id": "n9O2gfeYsNWz"
   },
   "outputs": [
    {
     "data": {
      "text/plain": [
       "\u001b[0;31mType:\u001b[0m        GradientBoostingRegressor\n",
       "\u001b[0;31mString form:\u001b[0m GradientBoostingRegressor()\n",
       "\u001b[0;31mFile:\u001b[0m        /opt/tljh/user/lib/python3.7/site-packages/sklearn/ensemble/_gb.py\n",
       "\u001b[0;31mDocstring:\u001b[0m  \n",
       "Gradient Boosting for regression.\n",
       "\n",
       "GB builds an additive model in a forward stage-wise fashion;\n",
       "it allows for the optimization of arbitrary differentiable loss functions.\n",
       "In each stage a regression tree is fit on the negative gradient of the\n",
       "given loss function.\n",
       "\n",
       "Read more in the :ref:`User Guide <gradient_boosting>`.\n",
       "\n",
       "Parameters\n",
       "----------\n",
       "loss : {'ls', 'lad', 'huber', 'quantile'}, default='ls'\n",
       "    loss function to be optimized. 'ls' refers to least squares\n",
       "    regression. 'lad' (least absolute deviation) is a highly robust\n",
       "    loss function solely based on order information of the input\n",
       "    variables. 'huber' is a combination of the two. 'quantile'\n",
       "    allows quantile regression (use `alpha` to specify the quantile).\n",
       "\n",
       "learning_rate : float, default=0.1\n",
       "    learning rate shrinks the contribution of each tree by `learning_rate`.\n",
       "    There is a trade-off between learning_rate and n_estimators.\n",
       "\n",
       "n_estimators : int, default=100\n",
       "    The number of boosting stages to perform. Gradient boosting\n",
       "    is fairly robust to over-fitting so a large number usually\n",
       "    results in better performance.\n",
       "\n",
       "subsample : float, default=1.0\n",
       "    The fraction of samples to be used for fitting the individual base\n",
       "    learners. If smaller than 1.0 this results in Stochastic Gradient\n",
       "    Boosting. `subsample` interacts with the parameter `n_estimators`.\n",
       "    Choosing `subsample < 1.0` leads to a reduction of variance\n",
       "    and an increase in bias.\n",
       "\n",
       "criterion : {'friedman_mse', 'mse', 'mae'}, default='friedman_mse'\n",
       "    The function to measure the quality of a split. Supported criteria\n",
       "    are \"friedman_mse\" for the mean squared error with improvement\n",
       "    score by Friedman, \"mse\" for mean squared error, and \"mae\" for\n",
       "    the mean absolute error. The default value of \"friedman_mse\" is\n",
       "    generally the best as it can provide a better approximation in\n",
       "    some cases.\n",
       "\n",
       "    .. versionadded:: 0.18\n",
       "\n",
       "min_samples_split : int or float, default=2\n",
       "    The minimum number of samples required to split an internal node:\n",
       "\n",
       "    - If int, then consider `min_samples_split` as the minimum number.\n",
       "    - If float, then `min_samples_split` is a fraction and\n",
       "      `ceil(min_samples_split * n_samples)` are the minimum\n",
       "      number of samples for each split.\n",
       "\n",
       "    .. versionchanged:: 0.18\n",
       "       Added float values for fractions.\n",
       "\n",
       "min_samples_leaf : int or float, default=1\n",
       "    The minimum number of samples required to be at a leaf node.\n",
       "    A split point at any depth will only be considered if it leaves at\n",
       "    least ``min_samples_leaf`` training samples in each of the left and\n",
       "    right branches.  This may have the effect of smoothing the model,\n",
       "    especially in regression.\n",
       "\n",
       "    - If int, then consider `min_samples_leaf` as the minimum number.\n",
       "    - If float, then `min_samples_leaf` is a fraction and\n",
       "      `ceil(min_samples_leaf * n_samples)` are the minimum\n",
       "      number of samples for each node.\n",
       "\n",
       "    .. versionchanged:: 0.18\n",
       "       Added float values for fractions.\n",
       "\n",
       "min_weight_fraction_leaf : float, default=0.0\n",
       "    The minimum weighted fraction of the sum total of weights (of all\n",
       "    the input samples) required to be at a leaf node. Samples have\n",
       "    equal weight when sample_weight is not provided.\n",
       "\n",
       "max_depth : int, default=3\n",
       "    maximum depth of the individual regression estimators. The maximum\n",
       "    depth limits the number of nodes in the tree. Tune this parameter\n",
       "    for best performance; the best value depends on the interaction\n",
       "    of the input variables.\n",
       "\n",
       "min_impurity_decrease : float, default=0.0\n",
       "    A node will be split if this split induces a decrease of the impurity\n",
       "    greater than or equal to this value.\n",
       "\n",
       "    The weighted impurity decrease equation is the following::\n",
       "\n",
       "        N_t / N * (impurity - N_t_R / N_t * right_impurity\n",
       "                            - N_t_L / N_t * left_impurity)\n",
       "\n",
       "    where ``N`` is the total number of samples, ``N_t`` is the number of\n",
       "    samples at the current node, ``N_t_L`` is the number of samples in the\n",
       "    left child, and ``N_t_R`` is the number of samples in the right child.\n",
       "\n",
       "    ``N``, ``N_t``, ``N_t_R`` and ``N_t_L`` all refer to the weighted sum,\n",
       "    if ``sample_weight`` is passed.\n",
       "\n",
       "    .. versionadded:: 0.19\n",
       "\n",
       "min_impurity_split : float, default=None\n",
       "    Threshold for early stopping in tree growth. A node will split\n",
       "    if its impurity is above the threshold, otherwise it is a leaf.\n",
       "\n",
       "    .. deprecated:: 0.19\n",
       "       ``min_impurity_split`` has been deprecated in favor of\n",
       "       ``min_impurity_decrease`` in 0.19. The default value of\n",
       "       ``min_impurity_split`` has changed from 1e-7 to 0 in 0.23 and it\n",
       "       will be removed in 0.25. Use ``min_impurity_decrease`` instead.\n",
       "\n",
       "init : estimator or 'zero', default=None\n",
       "    An estimator object that is used to compute the initial predictions.\n",
       "    ``init`` has to provide :term:`fit` and :term:`predict`. If 'zero', the\n",
       "    initial raw predictions are set to zero. By default a\n",
       "    ``DummyEstimator`` is used, predicting either the average target value\n",
       "    (for loss='ls'), or a quantile for the other losses.\n",
       "\n",
       "random_state : int or RandomState, default=None\n",
       "    Controls the random seed given to each Tree estimator at each\n",
       "    boosting iteration.\n",
       "    In addition, it controls the random permutation of the features at\n",
       "    each split (see Notes for more details).\n",
       "    It also controls the random spliting of the training data to obtain a\n",
       "    validation set if `n_iter_no_change` is not None.\n",
       "    Pass an int for reproducible output across multiple function calls.\n",
       "    See :term:`Glossary <random_state>`.\n",
       "\n",
       "max_features : {'auto', 'sqrt', 'log2'}, int or float, default=None\n",
       "    The number of features to consider when looking for the best split:\n",
       "\n",
       "    - If int, then consider `max_features` features at each split.\n",
       "    - If float, then `max_features` is a fraction and\n",
       "      `int(max_features * n_features)` features are considered at each\n",
       "      split.\n",
       "    - If \"auto\", then `max_features=n_features`.\n",
       "    - If \"sqrt\", then `max_features=sqrt(n_features)`.\n",
       "    - If \"log2\", then `max_features=log2(n_features)`.\n",
       "    - If None, then `max_features=n_features`.\n",
       "\n",
       "    Choosing `max_features < n_features` leads to a reduction of variance\n",
       "    and an increase in bias.\n",
       "\n",
       "    Note: the search for a split does not stop until at least one\n",
       "    valid partition of the node samples is found, even if it requires to\n",
       "    effectively inspect more than ``max_features`` features.\n",
       "\n",
       "alpha : float, default=0.9\n",
       "    The alpha-quantile of the huber loss function and the quantile\n",
       "    loss function. Only if ``loss='huber'`` or ``loss='quantile'``.\n",
       "\n",
       "verbose : int, default=0\n",
       "    Enable verbose output. If 1 then it prints progress and performance\n",
       "    once in a while (the more trees the lower the frequency). If greater\n",
       "    than 1 then it prints progress and performance for every tree.\n",
       "\n",
       "max_leaf_nodes : int, default=None\n",
       "    Grow trees with ``max_leaf_nodes`` in best-first fashion.\n",
       "    Best nodes are defined as relative reduction in impurity.\n",
       "    If None then unlimited number of leaf nodes.\n",
       "\n",
       "warm_start : bool, default=False\n",
       "    When set to ``True``, reuse the solution of the previous call to fit\n",
       "    and add more estimators to the ensemble, otherwise, just erase the\n",
       "    previous solution. See :term:`the Glossary <warm_start>`.\n",
       "\n",
       "presort : deprecated, default='deprecated'\n",
       "    This parameter is deprecated and will be removed in v0.24.\n",
       "\n",
       "    .. deprecated :: 0.22\n",
       "\n",
       "validation_fraction : float, default=0.1\n",
       "    The proportion of training data to set aside as validation set for\n",
       "    early stopping. Must be between 0 and 1.\n",
       "    Only used if ``n_iter_no_change`` is set to an integer.\n",
       "\n",
       "    .. versionadded:: 0.20\n",
       "\n",
       "n_iter_no_change : int, default=None\n",
       "    ``n_iter_no_change`` is used to decide if early stopping will be used\n",
       "    to terminate training when validation score is not improving. By\n",
       "    default it is set to None to disable early stopping. If set to a\n",
       "    number, it will set aside ``validation_fraction`` size of the training\n",
       "    data as validation and terminate training when validation score is not\n",
       "    improving in all of the previous ``n_iter_no_change`` numbers of\n",
       "    iterations.\n",
       "\n",
       "    .. versionadded:: 0.20\n",
       "\n",
       "tol : float, default=1e-4\n",
       "    Tolerance for the early stopping. When the loss is not improving\n",
       "    by at least tol for ``n_iter_no_change`` iterations (if set to a\n",
       "    number), the training stops.\n",
       "\n",
       "    .. versionadded:: 0.20\n",
       "\n",
       "ccp_alpha : non-negative float, default=0.0\n",
       "    Complexity parameter used for Minimal Cost-Complexity Pruning. The\n",
       "    subtree with the largest cost complexity that is smaller than\n",
       "    ``ccp_alpha`` will be chosen. By default, no pruning is performed. See\n",
       "    :ref:`minimal_cost_complexity_pruning` for details.\n",
       "\n",
       "    .. versionadded:: 0.22\n",
       "\n",
       "Attributes\n",
       "----------\n",
       "feature_importances_ : ndarray of shape (n_features,)\n",
       "    The impurity-based feature importances.\n",
       "    The higher, the more important the feature.\n",
       "    The importance of a feature is computed as the (normalized)\n",
       "    total reduction of the criterion brought by that feature.  It is also\n",
       "    known as the Gini importance.\n",
       "\n",
       "    Warning: impurity-based feature importances can be misleading for\n",
       "    high cardinality features (many unique values). See\n",
       "    :func:`sklearn.inspection.permutation_importance` as an alternative.\n",
       "\n",
       "oob_improvement_ : ndarray of shape (n_estimators,)\n",
       "    The improvement in loss (= deviance) on the out-of-bag samples\n",
       "    relative to the previous iteration.\n",
       "    ``oob_improvement_[0]`` is the improvement in\n",
       "    loss of the first stage over the ``init`` estimator.\n",
       "    Only available if ``subsample < 1.0``\n",
       "\n",
       "train_score_ : ndarray of shape (n_estimators,)\n",
       "    The i-th score ``train_score_[i]`` is the deviance (= loss) of the\n",
       "    model at iteration ``i`` on the in-bag sample.\n",
       "    If ``subsample == 1`` this is the deviance on the training data.\n",
       "\n",
       "loss_ : LossFunction\n",
       "    The concrete ``LossFunction`` object.\n",
       "\n",
       "init_ : estimator\n",
       "    The estimator that provides the initial predictions.\n",
       "    Set via the ``init`` argument or ``loss.init_estimator``.\n",
       "\n",
       "estimators_ : ndarray of DecisionTreeRegressor of shape (n_estimators, 1)\n",
       "    The collection of fitted sub-estimators.\n",
       "\n",
       "n_features_ : int\n",
       "    The number of data features.\n",
       "\n",
       "max_features_ : int\n",
       "    The inferred value of max_features.\n",
       "\n",
       "Notes\n",
       "-----\n",
       "The features are always randomly permuted at each split. Therefore,\n",
       "the best found split may vary, even with the same training data and\n",
       "``max_features=n_features``, if the improvement of the criterion is\n",
       "identical for several splits enumerated during the search of the best\n",
       "split. To obtain a deterministic behaviour during fitting,\n",
       "``random_state`` has to be fixed.\n",
       "\n",
       "Examples\n",
       "--------\n",
       ">>> from sklearn.datasets import make_regression\n",
       ">>> from sklearn.ensemble import GradientBoostingRegressor\n",
       ">>> from sklearn.model_selection import train_test_split\n",
       ">>> X, y = make_regression(random_state=0)\n",
       ">>> X_train, X_test, y_train, y_test = train_test_split(\n",
       "...     X, y, random_state=0)\n",
       ">>> reg = GradientBoostingRegressor(random_state=0)\n",
       ">>> reg.fit(X_train, y_train)\n",
       "GradientBoostingRegressor(random_state=0)\n",
       ">>> reg.predict(X_test[1:2])\n",
       "array([-61...])\n",
       ">>> reg.score(X_test, y_test)\n",
       "0.4...\n",
       "\n",
       "See also\n",
       "--------\n",
       "sklearn.ensemble.HistGradientBoostingRegressor,\n",
       "sklearn.tree.DecisionTreeRegressor, RandomForestRegressor\n",
       "\n",
       "References\n",
       "----------\n",
       "J. Friedman, Greedy Function Approximation: A Gradient Boosting\n",
       "Machine, The Annals of Statistics, Vol. 29, No. 5, 2001.\n",
       "\n",
       "J. Friedman, Stochastic Gradient Boosting, 1999\n",
       "\n",
       "T. Hastie, R. Tibshirani and J. Friedman.\n",
       "Elements of Statistical Learning Ed. 2, Springer, 2009.\n"
      ]
     },
     "metadata": {},
     "output_type": "display_data"
    }
   ],
   "source": [
    "est?"
   ]
  },
  {
   "cell_type": "markdown",
   "metadata": {
    "id": "ZY2eYOagsNW0"
   },
   "source": [
    "Aquí hay un ejemplo independiente que muestra cómo ajustar un `` GradientBoostingClassifier``  a un conjunto de datos sintéticos:"
   ]
  },
  {
   "cell_type": "code",
   "execution_count": 5,
   "metadata": {
    "colab": {
     "base_uri": "https://localhost:8080/"
    },
    "id": "GGCn1qWGsNW0",
    "outputId": "21004df7-149a-410f-8931-8dfecdaa82c7"
   },
   "outputs": [
    {
     "name": "stdout",
     "output_type": "stream",
     "text": [
      "ACC: 0.9304\n"
     ]
    },
    {
     "data": {
      "text/plain": [
       "array([0.88018448, 0.11981552])"
      ]
     },
     "execution_count": 5,
     "metadata": {},
     "output_type": "execute_result"
    }
   ],
   "source": [
    "from sklearn.datasets import make_hastie_10_2\n",
    "from sklearn.model_selection import train_test_split\n",
    "\n",
    "# generate synthetic data from ESLII - Example 10.2\n",
    "X, y = make_hastie_10_2(n_samples=5000)\n",
    "X_train, X_test, y_train, y_test = train_test_split(X, y)\n",
    "\n",
    "# fit estimator\n",
    "est2 = GradientBoostingClassifier(n_estimators=200, max_depth=3)\n",
    "est2.fit(X_train, y_train)\n",
    "\n",
    "# predict class labels\n",
    "pred = est2.predict(X_test)\n",
    "\n",
    "# score on test data (accuracy)\n",
    "acc = est2.score(X_test, y_test)\n",
    "print('ACC: %.4f' % acc)\n",
    "\n",
    "# predict class probabilities\n",
    "est2.predict_proba(X_test)[0]"
   ]
  },
  {
   "cell_type": "markdown",
   "metadata": {
    "id": "6vS2r-lxsNW1"
   },
   "source": [
    "El estado del estimador se almacena en atributos de instancia que tienen un guión bajo al final ('\\ _'). Por ejemplo, la secuencia de árboles de regresión (objetos `` DecisionTreeRegressor `` ) se almacena en `` est.estimators_``:"
   ]
  },
  {
   "cell_type": "code",
   "execution_count": 6,
   "metadata": {
    "colab": {
     "base_uri": "https://localhost:8080/"
    },
    "id": "ayhCLy80sNW2",
    "outputId": "d7088b3f-b41b-4d7c-8384-30ab76dba7f0"
   },
   "outputs": [
    {
     "data": {
      "text/plain": [
       "DecisionTreeRegressor(criterion='friedman_mse', max_depth=3,\n",
       "                      random_state=RandomState(MT19937) at 0x7F2890115BA0)"
      ]
     },
     "execution_count": 6,
     "metadata": {},
     "output_type": "execute_result"
    }
   ],
   "source": [
    "est2.estimators_[0, 0]"
   ]
  },
  {
   "cell_type": "markdown",
   "metadata": {
    "id": "pbCiHTEbDAPl"
   },
   "source": [
    "## <font color='green'>**Actividad 1**</font>"
   ]
  },
  {
   "cell_type": "markdown",
   "metadata": {
    "id": "50KbqA-bDfoi"
   },
   "source": [
    "Entrene un Gradient Boosting Classifier para los siguientes datos:"
   ]
  },
  {
   "cell_type": "code",
   "execution_count": 7,
   "metadata": {
    "id": "83MPhc8_DmKb"
   },
   "outputs": [],
   "source": [
    "from sklearn.datasets import load_digits\r\n",
    "digits = load_digits()\r\n",
    "X=digits.data\r\n",
    "y=digits.target"
   ]
  },
  {
   "cell_type": "markdown",
   "metadata": {
    "id": "GJZAOtuWD2d8"
   },
   "source": [
    "Haga una separacion train test de 70-30 y entrene un modelo como 200 estimadores."
   ]
  },
  {
   "cell_type": "code",
   "execution_count": 8,
   "metadata": {
    "id": "6jnJVaWlDzyg"
   },
   "outputs": [
    {
     "name": "stdout",
     "output_type": "stream",
     "text": [
      "ACC: 0.9574\n"
     ]
    },
    {
     "data": {
      "text/plain": [
       "array([3.22438901e-12, 5.22478213e-09, 4.92858068e-09, 1.66183084e-09,\n",
       "       9.99993991e-01, 9.48688179e-07, 2.15944505e-09, 7.28158645e-09,\n",
       "       5.93229517e-09, 5.03292347e-06])"
      ]
     },
     "execution_count": 8,
     "metadata": {},
     "output_type": "execute_result"
    }
   ],
   "source": [
    "X_train, X_test, y_train, y_test = train_test_split(X, y, test_size = 0.3)\n",
    "\n",
    "# fit estimator\n",
    "est2 = GradientBoostingClassifier(n_estimators=200, max_depth=3)\n",
    "est2.fit(X_train, y_train)\n",
    "\n",
    "# predict class labels\n",
    "pred = est2.predict(X_test)\n",
    "\n",
    "# score on test data (accuracy)\n",
    "acc = est2.score(X_test, y_test)\n",
    "print('ACC: %.4f' % acc)\n",
    "\n",
    "# predict class probabilities\n",
    "est2.predict_proba(X_test)[0]"
   ]
  },
  {
   "cell_type": "raw",
   "metadata": {},
   "source": [
    "from sklearn.model_selection import KFold\n",
    "from sklearn.model_selection import GridSearchCV\n",
    "\n",
    "model = GradientBoostingClassifier()\n",
    "params = {'n_estimators':[100,200,300],\n",
    "          'max_depth':[3,10]}\n",
    "cv = KFold(n_splits=10, random_state = 2020, shuffle = True)\n",
    "gs = GridSearchCV(model, params, cv = cv, n_jobs = -1, scoring = 'accuracy')\n",
    "\n",
    "result = gs.fit(X = X_train, y = y_train)"
   ]
  },
  {
   "cell_type": "markdown",
   "metadata": {
    "id": "Jo9xe-waDGcd"
   },
   "source": [
    "## <font color='green'>**Fin Actividad 1**</font>"
   ]
  },
  {
   "cell_type": "markdown",
   "metadata": {
    "id": "LITEkWvqsNW2"
   },
   "source": [
    "## Gradient Boosted Regression Trees in Practise\n",
    "\n",
    "### Function approximation\n",
    "\n",
    "  * Sinoide function + random gaussian noise \n",
    "  * 80 puntos de entrenamiento (azul), 20 de test(rojos)"
   ]
  },
  {
   "cell_type": "code",
   "execution_count": null,
   "metadata": {
    "colab": {
     "base_uri": "https://localhost:8080/",
     "height": 461
    },
    "id": "AOgkydowsNW3",
    "outputId": "8a4883ba-bcdd-4f07-c30c-3117e8b2c1e7"
   },
   "outputs": [],
   "source": [
    "%pylab inline\n",
    "import numpy as np\n",
    "from sklearn.model_selection import train_test_split\n",
    "\n",
    "FIGSIZE = (11, 7)\n",
    "\n",
    "def ground_truth(x):\n",
    "    \"\"\"Ground truth -- function to approximate\"\"\"\n",
    "    return x * np.sin(x) + np.sin(2 * x)\n",
    "\n",
    "def gen_data(n_samples=200):\n",
    "    \"\"\"generate training and testing data\"\"\"\n",
    "    np.random.seed(15)\n",
    "    X = np.random.uniform(0, 10, size=n_samples)[:, np.newaxis]\n",
    "    y = ground_truth(X.ravel()) + np.random.normal(scale=2, size=n_samples)\n",
    "    train_mask = np.random.randint(0, 2, size=n_samples).astype(np.bool)\n",
    "    X_train, X_test, y_train, y_test = train_test_split(X, y, test_size=0.2, random_state=3)\n",
    "    return X_train, X_test, y_train, y_test\n",
    "\n",
    "X_train, X_test, y_train, y_test = gen_data(100)\n",
    "\n",
    "# plot ground truth\n",
    "x_plot = np.linspace(0, 10, 500)\n",
    "\n",
    "def plot_data(alpha=0.4, s=20):\n",
    "    fig = plt.figure(figsize=FIGSIZE)\n",
    "    gt = plt.plot(x_plot, ground_truth(x_plot), alpha=alpha, label='ground truth')\n",
    "\n",
    "    # plot training and testing data\n",
    "    plt.scatter(X_train, y_train, s=s, alpha=alpha)\n",
    "    plt.scatter(X_test, y_test, s=s, alpha=alpha, color='red')\n",
    "    plt.xlim((0, 10))\n",
    "    plt.ylabel('y')\n",
    "    plt.xlabel('x')\n",
    "    \n",
    "annotation_kw = {'xycoords': 'data', 'textcoords': 'data',\n",
    "                 'arrowprops': {'arrowstyle': '->', 'connectionstyle': 'arc'}}\n",
    "    \n",
    "plot_data()"
   ]
  },
  {
   "cell_type": "markdown",
   "metadata": {
    "id": "SOgmokDRsNW4"
   },
   "source": [
    "### Regression Trees\n",
    "\n",
    "  * El argumento `` max_depth `` controla la profundidad del árbol\n",
    "  * Cuanto más profundo es el árbol, más varianza se puede explicar"
   ]
  },
  {
   "cell_type": "code",
   "execution_count": null,
   "metadata": {
    "colab": {
     "base_uri": "https://localhost:8080/",
     "height": 461
    },
    "id": "NgxqZBhisNW4",
    "outputId": "5926e4d6-82c2-4f3a-c782-7fc81c6a0027"
   },
   "outputs": [],
   "source": [
    "from sklearn.tree import DecisionTreeRegressor\n",
    "plot_data()\n",
    "est = DecisionTreeRegressor(max_depth=1).fit(X_train, y_train)\n",
    "plt.plot(x_plot, est.predict(x_plot[:, np.newaxis]),\n",
    "         label='RT max_depth=1', color='g', alpha=0.9, linewidth=2)\n",
    "\n",
    "est = DecisionTreeRegressor(max_depth=3).fit(X_train, y_train)\n",
    "plt.plot(x_plot, est.predict(x_plot[:, np.newaxis]),\n",
    "         label='RT max_depth=3', color='g', alpha=0.7, linewidth=1)\n",
    "\n",
    "\n",
    "plt.legend(loc='upper left')"
   ]
  },
  {
   "cell_type": "markdown",
   "metadata": {
    "id": "Djot11l1sNW4"
   },
   "source": [
    "### Function approximation with Gradient Boosting\n",
    "\n",
    "  * El argumento `` n_estimators`` controla el número de árboles\n",
    "  * El método `` staged_predict`` nos permite recorrer las predicciones a medida que agregamos más árboles"
   ]
  },
  {
   "cell_type": "code",
   "execution_count": null,
   "metadata": {
    "colab": {
     "base_uri": "https://localhost:8080/",
     "height": 461
    },
    "id": "V1h7ejCJsNW4",
    "outputId": "f1467622-7833-481d-a3a5-cfce42e49b8a"
   },
   "outputs": [],
   "source": [
    "from itertools import islice\n",
    "\n",
    "plot_data()\n",
    "est = GradientBoostingRegressor(n_estimators=1000, max_depth=1, learning_rate=1.0)\n",
    "est.fit(X_train, y_train)\n",
    "\n",
    "ax = plt.gca()\n",
    "first = True\n",
    "\n",
    "# step through prediction as we add 10 more trees.\n",
    "for pred in islice(est.staged_predict(x_plot[:, np.newaxis]), 0, est.n_estimators, 10):\n",
    "    plt.plot(x_plot, pred, color='r', alpha=0.2)\n",
    "    if first:\n",
    "        ax.annotate('High bias - low variance', xy=(x_plot[x_plot.shape[0] // 2],\n",
    "                                                    pred[x_plot.shape[0] // 2]),\n",
    "                                                    xytext=(4, 4), **annotation_kw)\n",
    "        first = False\n",
    "\n",
    "pred = est.predict(x_plot[:, np.newaxis])\n",
    "plt.plot(x_plot, pred, color='r', label='GBRT max_depth=1')\n",
    "ax.annotate('Low bias - high variance', xy=(x_plot[x_plot.shape[0] // 2],\n",
    "                                            pred[x_plot.shape[0] // 2]),\n",
    "                                            xytext=(6.25, -6), **annotation_kw)\n",
    "plt.legend(loc='upper left')"
   ]
  },
  {
   "cell_type": "markdown",
   "metadata": {
    "id": "9R-C3D3LsNW4"
   },
   "source": [
    "### Complejidad del modelo\n",
    "\n",
    "  * El número de árboles y la profundidad de los árboles individuales controlan la complejidad del modelo\n",
    "  * La complejidad del modelo tiene un precio: **sobreajuste**\n",
    "  \n",
    "  \n",
    "### Gráfico de desviación\n",
    "\n",
    "  * Diagnóstico para determinar si el modelo está sobreajustado\n",
    "  * Traza el error de entrenamiento / prueba (desviación) en función del número de árboles (= complejidad del modelo)\n",
    "  * El error de entrenamiento (desviación) se almacena en `` est.train_score_``\n",
    "  * El error de prueba se calcula usando ``est.staged_predict ``"
   ]
  },
  {
   "cell_type": "code",
   "execution_count": null,
   "metadata": {
    "colab": {
     "base_uri": "https://localhost:8080/",
     "height": 466
    },
    "id": "N82wOUhXsNW5",
    "outputId": "99b84fb5-a271-4f8e-c340-a138c686e38c"
   },
   "outputs": [],
   "source": [
    "def deviance_plot(est, X_test, y_test, ax=None, label='', train_color='#2c7bb6', \n",
    "                  test_color='#d7191c', alpha=1.0, ylim=(0, 10)):\n",
    "    \"\"\"Deviance plot for ``est``, use ``X_test`` and ``y_test`` for test error. \"\"\"\n",
    "    n_estimators = len(est.estimators_)\n",
    "    test_dev = np.empty(n_estimators)\n",
    "\n",
    "    for i, pred in enumerate(est.staged_predict(X_test)):\n",
    "       test_dev[i] = est.loss_(y_test, pred)\n",
    "\n",
    "    if ax is None:\n",
    "        fig = plt.figure(figsize=FIGSIZE)\n",
    "        ax = plt.gca()\n",
    "        \n",
    "    ax.plot(np.arange(n_estimators) + 1, test_dev, color=test_color, label='Test %s' % label, \n",
    "             linewidth=2, alpha=alpha)\n",
    "    ax.plot(np.arange(n_estimators) + 1, est.train_score_, color=train_color, \n",
    "             label='Train %s' % label, linewidth=2, alpha=alpha)\n",
    "    ax.set_ylabel('Error')\n",
    "    ax.set_xlabel('n_estimators')\n",
    "    ax.set_ylim(ylim)\n",
    "    return test_dev, ax\n",
    "\n",
    "test_dev, ax = deviance_plot(est, X_test, y_test)\n",
    "ax.legend(loc='upper right')\n",
    "\n",
    "# add some annotations\n",
    "ax.annotate('Lowest test error', xy=(test_dev.argmin() + 1, test_dev.min() + 0.02),\n",
    "            xytext=(150, 3.5), **annotation_kw)\n",
    "\n",
    "ann = ax.annotate('', xy=(800, test_dev[799]),  xycoords='data',\n",
    "                  xytext=(800, est.train_score_[799]), textcoords='data',\n",
    "                  arrowprops={'arrowstyle': '<->'})\n",
    "ax.text(810, 3.5, 'train-test gap')"
   ]
  },
  {
   "cell_type": "markdown",
   "metadata": {
    "id": "3Zxge6w7sNW6"
   },
   "source": [
    "### Sobreajuste (Overfitting)\n",
    "\n",
    "  * El modelo tiene demasiada capacidad y comienza a ajustarse a los datos de entrenamiento\n",
    "  * Indicado por una gran brecha entre el error de entrenamiento y el error de prueba\n",
    "  * GBRT proporciona una serie de parametros para controlar el sobreajuste"
   ]
  },
  {
   "cell_type": "markdown",
   "metadata": {
    "id": "Flifna2VsNW6"
   },
   "source": [
    "## Regularización\n",
    "\n",
    "  * Estructura de árbol\n",
    "  * Contracción\n",
    "  * Impulso de gradiente estocástico\n",
    "\n",
    "## Estructura de árbol\n",
    "\n",
    "  * El `` max_depth``  de los árboles controla el grado de interacciones de características (varianza ++)\n",
    "  * Utilice `` min_samples_leaf``  para tener una cantidad suficiente de muestras por hoja (sesgo ++)"
   ]
  },
  {
   "cell_type": "code",
   "execution_count": null,
   "metadata": {
    "colab": {
     "base_uri": "https://localhost:8080/",
     "height": 466
    },
    "id": "aJ41jsjLsNW6",
    "outputId": "7d23a8fd-d05e-42bf-c6e4-91eeb78f1bf9"
   },
   "outputs": [],
   "source": [
    "def fmt_params(params):\n",
    "    return \", \".join(\"{0}={1}\".format(key, val) for key, val in params.items())\n",
    "\n",
    "fig = plt.figure(figsize=FIGSIZE)\n",
    "ax = plt.gca()\n",
    "for params, (test_color, train_color) in [({}, ('#d7191c', '#2c7bb6')),\n",
    "                                          ({'min_samples_leaf': 3}, ('#fdae61', '#abd9e9'))]:\n",
    "    est = GradientBoostingRegressor(n_estimators=1000, max_depth=1, \n",
    "                                    learning_rate=1.0)\n",
    "    est.set_params(**params)\n",
    "    est.fit(X_train, y_train)\n",
    "    test_dev, ax = deviance_plot(est, X_test, y_test, ax=ax, label=fmt_params(params),\n",
    "                                 train_color=train_color, test_color=test_color)\n",
    "    \n",
    "ax.annotate('Higher bias', xy=(900, est.train_score_[899]), xytext=(600, 3), **annotation_kw)\n",
    "ax.annotate('Lower variance', xy=(900, test_dev[899]), xytext=(600, 3.5), **annotation_kw)\n",
    "plt.legend(loc='upper right')"
   ]
  },
  {
   "cell_type": "markdown",
   "metadata": {
    "id": "c6JLe5xKsNW6"
   },
   "source": [
    "## Contracción\n",
    "\n",
    " * Aprendizaje lento al reducir las predicciones de cada árbol en un pequeño escalar (`` learning_rate`` )\n",
    " * Una ``learning_rate``  más baja requiere una mayor cantidad de ``n_estimadores`` \n",
    " * Es una compensación entre tiempo de ejecución y precisión."
   ]
  },
  {
   "cell_type": "code",
   "execution_count": null,
   "metadata": {
    "colab": {
     "base_uri": "https://localhost:8080/",
     "height": 466
    },
    "id": "5OjvrYVasNW7",
    "outputId": "b2458ff7-6099-4ade-d36f-22b14d19ed32"
   },
   "outputs": [],
   "source": [
    "fig = plt.figure(figsize=FIGSIZE)\n",
    "ax = plt.gca()\n",
    "for params, (test_color, train_color) in [({}, ('#d7191c', '#2c7bb6')),\n",
    "                                          ({'learning_rate': 0.1},\n",
    "                                           ('#fdae61', '#abd9e9'))]:\n",
    "    est = GradientBoostingRegressor(n_estimators=1000, max_depth=1, learning_rate=1.0)\n",
    "    est.set_params(**params)\n",
    "    est.fit(X_train, y_train)\n",
    "    \n",
    "    test_dev, ax = deviance_plot(est, X_test, y_test, ax=ax, label=fmt_params(params),\n",
    "                                 train_color=train_color, test_color=test_color)\n",
    "    \n",
    "ax.annotate('Requires more trees', xy=(200, est.train_score_[199]), \n",
    "            xytext=(300, 1.75), **annotation_kw)\n",
    "ax.annotate('Lower test error', xy=(900, test_dev[899]),\n",
    "            xytext=(600, 1.75), **annotation_kw)\n",
    "plt.legend(loc='upper right')"
   ]
  },
  {
   "cell_type": "markdown",
   "metadata": {
    "id": "0x-Hz3xfsNW7"
   },
   "source": [
    "## Stochastic Gradient Boosting\n",
    "\n",
    "\n",
    "\n",
    " * Submuestreo del conjunto de entrenamiento antes de hacer crecer cada árbol (`` subsample ``)\n",
    " * Submuestreo de las características antes de encontrar el mejor nodo dividido (`` max_features ``)\n",
    " * La última suele funcionar mejor si hay una cantidad suficiente de funciones"
   ]
  },
  {
   "cell_type": "code",
   "execution_count": null,
   "metadata": {
    "colab": {
     "base_uri": "https://localhost:8080/",
     "height": 466
    },
    "id": "0d230qiasNW7",
    "outputId": "3d14f1d0-1146-4ba0-9a95-ad72404723c5"
   },
   "outputs": [],
   "source": [
    "fig = plt.figure(figsize=FIGSIZE)\n",
    "ax = plt.gca()\n",
    "for params, (test_color, train_color) in [({}, ('#d7191c', '#2c7bb6')),\n",
    "                                          ({'learning_rate': 0.1, 'subsample': 0.5},\n",
    "                                           ('#fdae61', '#abd9e9'))]:\n",
    "    est = GradientBoostingRegressor(n_estimators=1000, max_depth=1, learning_rate=1.0,\n",
    "                                    random_state=1)\n",
    "    est.set_params(**params)\n",
    "    est.fit(X_train, y_train)\n",
    "    test_dev, ax = deviance_plot(est, X_test, y_test, ax=ax, label=fmt_params(params),\n",
    "                                 train_color=train_color, test_color=test_color)\n",
    "    \n",
    "ax.annotate('Even lower test error', xy=(400, test_dev[399]),\n",
    "            xytext=(500, 3.0), **annotation_kw)\n",
    "\n",
    "est = GradientBoostingRegressor(n_estimators=1000, max_depth=1, learning_rate=1.0,\n",
    "                                subsample=0.5)\n",
    "est.fit(X_train, y_train)\n",
    "test_dev, ax = deviance_plot(est, X_test, y_test, ax=ax, label=fmt_params({'subsample': 0.5}),\n",
    "                             train_color='#abd9e9', test_color='#fdae61', alpha=0.5)\n",
    "ax.annotate('Subsample alone does poorly', xy=(300, test_dev[299]), \n",
    "            xytext=(500, 5.5), **annotation_kw)\n",
    "plt.legend(loc='upper right', fontsize='small')"
   ]
  },
  {
   "cell_type": "markdown",
   "metadata": {
    "id": "a4ejiTlksNW8"
   },
   "source": [
    "## Hyperparameter tuning\n",
    "\n",
    "  Normalmente sigo esta receta para ajustar los hiperparámetros:\n",
    "\n",
    "  1. Elija `` n_estimators``  tan grande como sea posible (computacionalmente) (por ejemplo, 3000)\n",
    "  2. Sintonice `` max_depth``, `` learning_rate``, `` min_samples_leaf`` y `` max_features`` mediante GridSearch\n",
    "  3. Aumente `` n_estimators`` aún más y ajuste ``learning_rate`` nuevamente manteniendo los otros parámetros fijos"
   ]
  },
  {
   "cell_type": "code",
   "execution_count": null,
   "metadata": {
    "colab": {
     "base_uri": "https://localhost:8080/"
    },
    "id": "lCoTR-HYsNW8",
    "outputId": "fed7fda3-0c7d-4064-bb2d-a5565dbc3d7a"
   },
   "outputs": [],
   "source": [
    "from sklearn.model_selection import GridSearchCV\n",
    "\n",
    "param_grid = {'learning_rate': [0.1, 0.01, 0.001],\n",
    "              'max_depth': [4, 6],\n",
    "              'min_samples_leaf': [3, 5]  ## depends on the nr of training examples\n",
    "              # 'max_features': [1.0, 0.3, 0.1] ## not possible in our example (only 1 fx)\n",
    "              }\n",
    "\n",
    "est = GradientBoostingRegressor(n_estimators=3000)\n",
    "# this may take some minutes\n",
    "gs_cv = GridSearchCV(est, param_grid, scoring='neg_mean_squared_error', n_jobs=4).fit(X_train, y_train)\n",
    "\n",
    "# best hyperparameter setting\n",
    "print('Best hyperparameters: %r' % gs_cv.best_params_)"
   ]
  },
  {
   "cell_type": "code",
   "execution_count": null,
   "metadata": {
    "colab": {
     "base_uri": "https://localhost:8080/",
     "height": 461
    },
    "id": "ZACozJhFsNW8",
    "outputId": "ba1bf30d-b87f-4cb4-9bf9-931b879b412a"
   },
   "outputs": [],
   "source": [
    "# refit model on best parameters\n",
    "est.set_params(**gs_cv.best_params_)\n",
    "est.fit(X_train, y_train)\n",
    "\n",
    "# plot the approximation\n",
    "plot_data()\n",
    "plt.plot(x_plot, est.predict(x_plot[:, np.newaxis]), color='r', linewidth=2)"
   ]
  },
  {
   "cell_type": "markdown",
   "metadata": {
    "id": "ZwijvP9SsNW9"
   },
   "source": [
    "# Use-case: California Housing\n",
    "\n",
    "* Predecir el valor medio de la vivienda para los grupos de bloques del censo en California\n",
    " * 20.000 grupos, 8 características: *ingreso medio*, *edad promedio de la vivienda*, *latitud*, *longitud*, ...\n",
    " * Error absoluto medio en la división de prueba de entrenamiento 80-20"
   ]
  },
  {
   "cell_type": "code",
   "execution_count": null,
   "metadata": {
    "id": "XTKk4OjMsNW9"
   },
   "outputs": [],
   "source": [
    "from sklearn.datasets.california_housing import fetch_california_housing\n",
    "\n",
    "cal_housing = fetch_california_housing()\n",
    "\n",
    "# split 80/20 train-test\n",
    "X_train, X_test, y_train, y_test = train_test_split(cal_housing.data,\n",
    "                                                    cal_housing.target,\n",
    "                                                    test_size=0.2,\n",
    "                                                    random_state=1)\n",
    "names = cal_housing.feature_names"
   ]
  },
  {
   "cell_type": "markdown",
   "metadata": {
    "id": "eZeoLScLsNW-"
   },
   "source": [
    "## Desafíos\n",
    "\n",
    "  * características heterogéneas (diferentes escalas y distribuciones, ver gráfico a continuación)\n",
    "  * interacciones de características no lineales (interacción: latitud y longitud)\n",
    "  * respuestas extremas (técnicas de regresión robustas)\n"
   ]
  },
  {
   "cell_type": "code",
   "execution_count": null,
   "metadata": {
    "colab": {
     "base_uri": "https://localhost:8080/",
     "height": 444
    },
    "id": "8TJd2gkgsNW-",
    "outputId": "0a50ba88-f7c1-462b-ea29-08db1477b740"
   },
   "outputs": [],
   "source": [
    "import pandas as pd\n",
    "X_df = pd.DataFrame(data=X_train, columns=names)\n",
    "X_df['MedHouseVal'] = y_train\n",
    "_ = X_df.hist(column=['Latitude', 'Longitude', 'MedInc', 'MedHouseVal'], figsize=FIGSIZE)"
   ]
  },
  {
   "cell_type": "markdown",
   "metadata": {
    "id": "Ud883qS4sNW-"
   },
   "source": [
    "## Evaluation\n",
    "\n",
    "  * GBRT vs RandomForest vs SVM vs Ridge Regression"
   ]
  },
  {
   "cell_type": "code",
   "execution_count": null,
   "metadata": {
    "colab": {
     "base_uri": "https://localhost:8080/",
     "height": 206
    },
    "id": "YVA4KfFesNW_",
    "outputId": "0cd90270-b6d6-4d76-cf0c-acd696e7a25d"
   },
   "outputs": [],
   "source": [
    "import time\n",
    "from collections import defaultdict\n",
    "from sklearn.metrics import mean_absolute_error\n",
    "from sklearn.linear_model import Ridge\n",
    "from sklearn.ensemble import RandomForestRegressor\n",
    "from sklearn.pipeline import Pipeline\n",
    "from sklearn.preprocessing import StandardScaler\n",
    "from sklearn.dummy import DummyRegressor\n",
    "from sklearn.svm import SVR\n",
    "\n",
    "res = defaultdict(dict)\n",
    "\n",
    "def benchmark(est, name=None):\n",
    "    if not name:\n",
    "        name = est.__class__.__name__\n",
    "    t0 = time.clock()\n",
    "    est.fit(X_train, y_train)\n",
    "    res[name]['train_time'] = time.clock() - t0\n",
    "    t0 = time.clock()\n",
    "    pred = est.predict(X_test)\n",
    "    res[name]['test_time'] = time.clock() - t0\n",
    "    res[name]['MAE'] = mean_absolute_error(y_test, pred)\n",
    "    return est\n",
    "    \n",
    "benchmark(DummyRegressor())\n",
    "benchmark(Ridge(alpha=0.0001, normalize=True))\n",
    "benchmark(Pipeline([('std', StandardScaler()), \n",
    "                    ('svr', SVR(kernel='rbf', C=10.0, gamma=0.1, tol=0.001))]), name='SVR')\n",
    "benchmark(RandomForestRegressor(n_estimators=100, max_features=5, random_state=0, \n",
    "                                bootstrap=False, n_jobs=4))\n",
    "est = benchmark(GradientBoostingRegressor(n_estimators=500, max_depth=4, learning_rate=0.1,\n",
    "                                          loss='huber', min_samples_leaf=3, \n",
    "                                          random_state=0))\n",
    "\n",
    "res_df = pd.DataFrame(data=res).T\n",
    "res_df[['train_time', 'test_time', 'MAE']].sort_values('MAE', ascending=False)"
   ]
  },
  {
   "cell_type": "markdown",
   "metadata": {
    "id": "gRBiKRpksNW_"
   },
   "source": [
    "## <font color='green'>**Actividad 2**</font>\n",
    "\n",
    "El `` GradientBoostingRegressor``  anterior no está ajustado correctamente para este conjunto de datos. Diagnostique el modelo actual y encuentre configuraciones de hiperparámetros más apropiadas."
   ]
  },
  {
   "cell_type": "code",
   "execution_count": null,
   "metadata": {
    "colab": {
     "base_uri": "https://localhost:8080/",
     "height": 447
    },
    "id": "UswfzdUTsNW_",
    "outputId": "4fab50ed-1eb5-4251-b93b-14aecb07d37e"
   },
   "outputs": [],
   "source": [
    "# diagnose the model\n",
    "test_dev, ax = deviance_plot(est, X_test, y_test, ylim=(0, 1.0))"
   ]
  },
  {
   "cell_type": "code",
   "execution_count": null,
   "metadata": {
    "id": "H0VmSIo2sNW_"
   },
   "outputs": [],
   "source": [
    "## modify the hyperparameters\n",
    "#tuned_est = benchmark(GradientBoostingRegressor(n_estimators=500, max_depth=4, learning_rate=0.1,\n",
    "#                                                loss='huber', random_state=0, verbose=1))\n",
    "\n",
    "## print results\n",
    "#res_df = pd.DataFrame(data=res).T\n",
    "#res_df[['train_time', 'test_time', 'MAE']].sort('MAE', ascending=False)"
   ]
  },
  {
   "cell_type": "markdown",
   "metadata": {
    "id": "ATT2kB_gERpw"
   },
   "source": [
    "## <font color='green'>**Fin Actividad 2**</font>"
   ]
  },
  {
   "cell_type": "markdown",
   "metadata": {
    "id": "tjKH1_OysNW_"
   },
   "source": [
    "## Importancia de la característica\n",
    "\n",
    "  * ¿Cuáles son las características importantes y cómo contribuyen a predecir la respuesta objetivo?\n",
    "  * Derivado de los árboles de regresión\n",
    "  * Se puede acceder a través del atributo `` est.feature_importances_``"
   ]
  },
  {
   "cell_type": "code",
   "execution_count": null,
   "metadata": {
    "colab": {
     "base_uri": "https://localhost:8080/",
     "height": 447
    },
    "id": "uyxAjqhHsNXA",
    "outputId": "250a6484-066a-450c-a8e1-30e3341e19ad"
   },
   "outputs": [],
   "source": [
    "fx_imp = pd.Series(est.feature_importances_, index=names)\n",
    "fx_imp /= fx_imp.max()  # normalize\n",
    "fx_imp.sort_values()\n",
    "fx_imp.plot(kind='barh', figsize=FIGSIZE)"
   ]
  },
  {
   "cell_type": "markdown",
   "metadata": {
    "id": "e6iAQu-nsNXA"
   },
   "source": [
    "## Dependencia parcial\n",
    "\n",
    "  * Relación entre la respuesta y un conjunto de características, marginando todas las demás características\n",
    "  * Intuitivamente: respuesta esperada en función de las características a las que condicionamos"
   ]
  },
  {
   "cell_type": "code",
   "execution_count": null,
   "metadata": {
    "colab": {
     "base_uri": "https://localhost:8080/",
     "height": 544
    },
    "id": "_JDonRRJsNXA",
    "outputId": "ad06b497-b0a9-495c-f7e0-3f8b77eeb49c"
   },
   "outputs": [],
   "source": [
    "from sklearn.ensemble.partial_dependence import plot_partial_dependence\n",
    "\n",
    "features = ['MedInc', 'AveOccup', 'HouseAge',\n",
    "            ('AveOccup', 'HouseAge')]\n",
    "fig, axs = plot_partial_dependence(est, X_train, features, feature_names=names, \n",
    "                                   n_cols=2, figsize=FIGSIZE)"
   ]
  },
  {
   "cell_type": "markdown",
   "metadata": {
    "id": "O70Gu2-PsNXB"
   },
   "source": [
    "## Tips & Tricks\n",
    "\n",
    "### Características categóricas\n",
    "\n",
    "Scikit-learn requiere que las variables categóricas estén codificadas como numéricas. Para los métodos basados ​​en árboles, la codificación ordinal es tan efectiva como la codificación one-hot pero más eficiente (menos memoria y tiempo de ejecución más rápido) dado que creces árboles con suficiente profundidad:"
   ]
  },
  {
   "cell_type": "code",
   "execution_count": null,
   "metadata": {
    "id": "hpW680d_sNXB"
   },
   "outputs": [],
   "source": [
    "df = pd.DataFrame(data={'icao': ['CRJ2', 'A380', 'B737', 'B737']})\n",
    "# ordinal encoding\n",
    "df_enc = pd.DataFrame(data={'icao': np.unique(df.icao,\n",
    "                      return_inverse=True)[1]})\n",
    "X = np.asfortranarray(df_enc.values, dtype=np.float32)"
   ]
  },
  {
   "cell_type": "markdown",
   "metadata": {
    "id": "cDcJt2YisNXB"
   },
   "source": [
    "## Resumen\n",
    "\n",
    " - Técnica flexible de clasificación y regresión no paramétrica\n",
    " - Aplicable a una variedad de problemas\n",
    " - Implementación sólida en scikit-learn\n",
    " "
   ]
  },
  {
   "cell_type": "markdown",
   "metadata": {
    "id": "q1TuGBTIsNXB"
   },
   "source": [
    "## <font color='green'>**Actividad 3**</font>"
   ]
  },
  {
   "cell_type": "code",
   "execution_count": null,
   "metadata": {
    "id": "8rAJDp8msNXC",
    "outputId": "9c5e75eb-dc91-4bfe-e195-e6c548db4648"
   },
   "outputs": [],
   "source": [
    "from sklearn.datasets import fetch_covtype\n",
    "X, y = fetch_covtype(return_X_y=True)"
   ]
  },
  {
   "cell_type": "code",
   "execution_count": null,
   "metadata": {
    "id": "qDnAvCilsNXC"
   },
   "outputs": [],
   "source": [
    "from sklearn.ensemble import GradientBoostingClassifier\n"
   ]
  },
  {
   "cell_type": "markdown",
   "metadata": {
    "id": "-bDPHsuAsNXD"
   },
   "source": [
    "Encuentre los mejores parametros con GridSearchCV e implemente la experimentacion con 5-fold cross-validation. Reporte el F1, precision y recall."
   ]
  },
  {
   "cell_type": "code",
   "execution_count": null,
   "metadata": {
    "id": "zql1cvGXsNXD"
   },
   "outputs": [],
   "source": []
  },
  {
   "cell_type": "markdown",
   "metadata": {
    "id": "3OLxXDB0EXh3"
   },
   "source": [
    "## <font color='green'>**Fin Actividad 3**</font>"
   ]
  },
  {
   "cell_type": "code",
   "execution_count": null,
   "metadata": {
    "id": "JaAoGUzPEYsl"
   },
   "outputs": [],
   "source": []
  }
 ],
 "metadata": {
  "colab": {
   "name": "gbrt-tutorial.ipynb",
   "provenance": []
  },
  "kernelspec": {
   "display_name": "Python 3",
   "language": "python",
   "name": "python3"
  },
  "language_info": {
   "codemirror_mode": {
    "name": "ipython",
    "version": 3
   },
   "file_extension": ".py",
   "mimetype": "text/x-python",
   "name": "python",
   "nbconvert_exporter": "python",
   "pygments_lexer": "ipython3",
   "version": "3.7.3"
  }
 },
 "nbformat": 4,
 "nbformat_minor": 4
}

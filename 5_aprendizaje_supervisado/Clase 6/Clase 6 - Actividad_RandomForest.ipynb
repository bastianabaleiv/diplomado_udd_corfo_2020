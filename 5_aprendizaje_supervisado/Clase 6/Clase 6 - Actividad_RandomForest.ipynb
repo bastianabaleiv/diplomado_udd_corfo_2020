{
 "cells": [
  {
   "cell_type": "markdown",
   "metadata": {
    "id": "UpHWY0tjIZqM"
   },
   "source": [
    "## Este es el ejericio Final de la sección de random forest."
   ]
  },
  {
   "cell_type": "markdown",
   "metadata": {
    "id": "PGQ64OolIZqT"
   },
   "source": [
    "Can we predict the maximum temperature tomorrow for Seattle, Washington given one year of historical data? "
   ]
  },
  {
   "cell_type": "markdown",
   "metadata": {
    "id": "wPYyzeclIZqT"
   },
   "source": [
    "Los datos que tenemos disponibles son las temperaturas máximas en Seattle de la Administración Nacional Oceánica y Atmosférica (NOAA)[Climate Data Online Tool](https://www.ncdc.noaa.gov/cdo-web/)."
   ]
  },
  {
   "cell_type": "code",
   "execution_count": null,
   "metadata": {
    "colab": {
     "base_uri": "https://localhost:8080/"
    },
    "executionInfo": {
     "elapsed": 152880,
     "status": "ok",
     "timestamp": 1610236977399,
     "user": {
      "displayName": "Jose Garcia",
      "photoUrl": "https://lh3.googleusercontent.com/a-/AOh14GjhVumYNbkFNN5_FNhYU66e0ISQpLkFFjToc7wy0Q=s64",
      "userId": "13404731561212022132"
     },
     "user_tz": 180
    },
    "id": "j8j3cTltInNw",
    "outputId": "cb93171e-1685-4025-cfb7-72d9eaa77f74"
   },
   "outputs": [
    {
     "name": "stdout",
     "output_type": "stream",
     "text": [
      "Mounted at /content/drive\n"
     ]
    }
   ],
   "source": [
    "from google.colab import drive\r\n",
    "drive.mount('/content/drive')"
   ]
  },
  {
   "cell_type": "markdown",
   "metadata": {
    "id": "dvKCYlvvIZqU"
   },
   "source": [
    "### Cargando la data"
   ]
  },
  {
   "cell_type": "code",
   "execution_count": 3,
   "metadata": {
    "hideCode": false,
    "hidePrompt": false,
    "id": "lUgIk1jWIZqU"
   },
   "outputs": [
    {
     "data": {
      "text/html": [
       "<div>\n",
       "<style scoped>\n",
       "    .dataframe tbody tr th:only-of-type {\n",
       "        vertical-align: middle;\n",
       "    }\n",
       "\n",
       "    .dataframe tbody tr th {\n",
       "        vertical-align: top;\n",
       "    }\n",
       "\n",
       "    .dataframe thead th {\n",
       "        text-align: right;\n",
       "    }\n",
       "</style>\n",
       "<table border=\"1\" class=\"dataframe\">\n",
       "  <thead>\n",
       "    <tr style=\"text-align: right;\">\n",
       "      <th></th>\n",
       "      <th>year</th>\n",
       "      <th>month</th>\n",
       "      <th>day</th>\n",
       "      <th>week</th>\n",
       "      <th>temp_2</th>\n",
       "      <th>temp_1</th>\n",
       "      <th>average</th>\n",
       "      <th>actual</th>\n",
       "      <th>friend</th>\n",
       "    </tr>\n",
       "  </thead>\n",
       "  <tbody>\n",
       "    <tr>\n",
       "      <th>0</th>\n",
       "      <td>2016</td>\n",
       "      <td>1</td>\n",
       "      <td>1</td>\n",
       "      <td>Fri</td>\n",
       "      <td>45</td>\n",
       "      <td>45</td>\n",
       "      <td>45.6</td>\n",
       "      <td>45</td>\n",
       "      <td>29</td>\n",
       "    </tr>\n",
       "    <tr>\n",
       "      <th>1</th>\n",
       "      <td>2016</td>\n",
       "      <td>1</td>\n",
       "      <td>2</td>\n",
       "      <td>Sat</td>\n",
       "      <td>44</td>\n",
       "      <td>45</td>\n",
       "      <td>45.7</td>\n",
       "      <td>44</td>\n",
       "      <td>61</td>\n",
       "    </tr>\n",
       "    <tr>\n",
       "      <th>2</th>\n",
       "      <td>2016</td>\n",
       "      <td>1</td>\n",
       "      <td>3</td>\n",
       "      <td>Sun</td>\n",
       "      <td>45</td>\n",
       "      <td>44</td>\n",
       "      <td>45.8</td>\n",
       "      <td>41</td>\n",
       "      <td>56</td>\n",
       "    </tr>\n",
       "    <tr>\n",
       "      <th>3</th>\n",
       "      <td>2016</td>\n",
       "      <td>1</td>\n",
       "      <td>4</td>\n",
       "      <td>Mon</td>\n",
       "      <td>44</td>\n",
       "      <td>41</td>\n",
       "      <td>45.9</td>\n",
       "      <td>40</td>\n",
       "      <td>53</td>\n",
       "    </tr>\n",
       "    <tr>\n",
       "      <th>4</th>\n",
       "      <td>2016</td>\n",
       "      <td>1</td>\n",
       "      <td>5</td>\n",
       "      <td>Tues</td>\n",
       "      <td>41</td>\n",
       "      <td>40</td>\n",
       "      <td>46.0</td>\n",
       "      <td>44</td>\n",
       "      <td>41</td>\n",
       "    </tr>\n",
       "  </tbody>\n",
       "</table>\n",
       "</div>"
      ],
      "text/plain": [
       "   year  month  day  week  temp_2  temp_1  average  actual  friend\n",
       "0  2016      1    1   Fri      45      45     45.6      45      29\n",
       "1  2016      1    2   Sat      44      45     45.7      44      61\n",
       "2  2016      1    3   Sun      45      44     45.8      41      56\n",
       "3  2016      1    4   Mon      44      41     45.9      40      53\n",
       "4  2016      1    5  Tues      41      40     46.0      44      41"
      ]
     },
     "execution_count": 3,
     "metadata": {},
     "output_type": "execute_result"
    }
   ],
   "source": [
    "import pandas as pd\n",
    "#path = '/content/drive/MyDrive/Cursos/TalentoDigital/Modulo 5- Aprendizaje Supervizado/6. Modelos de Ensamblado/EjercicioFinal/'\n",
    "\n",
    "features = pd.read_csv('temps.csv')\n",
    "features.head(5)"
   ]
  },
  {
   "cell_type": "markdown",
   "metadata": {
    "id": "p9p608f6IZqW"
   },
   "source": [
    "### Visualizando la data\r\n",
    "\r\n",
    "1. year: 2016 para todos los puntos de datos\r\n",
    "2. month: número para el mes del año\r\n",
    "3. day: número para el día del año\r\n",
    "4. weak: día de la semana como una cadena de caracteres\r\n",
    "5. temp_2: temperatura máxima 2 días antes\r\n",
    "6. temp_1: temperatura máxima 1 día antes\r\n",
    "7. promedio: temperatura máxima promedio histórica\r\n",
    "8. real: medición de temperatura máxima\r\n",
    "9. amigo: la predicción de tu amigo, un número aleatorio entre 20 por debajo del promedio y 20 por encima del promedio"
   ]
  },
  {
   "cell_type": "code",
   "execution_count": 4,
   "metadata": {
    "colab": {
     "base_uri": "https://localhost:8080/"
    },
    "executionInfo": {
     "elapsed": 1051,
     "status": "ok",
     "timestamp": 1610237559695,
     "user": {
      "displayName": "Jose Garcia",
      "photoUrl": "https://lh3.googleusercontent.com/a-/AOh14GjhVumYNbkFNN5_FNhYU66e0ISQpLkFFjToc7wy0Q=s64",
      "userId": "13404731561212022132"
     },
     "user_tz": 180
    },
    "hideCode": false,
    "hidePrompt": false,
    "id": "qU-tcEfWIZqW",
    "outputId": "6b40cea0-02d7-466e-d2cc-a84509fb8ac8"
   },
   "outputs": [
    {
     "name": "stdout",
     "output_type": "stream",
     "text": [
      "La forma de la data es: (348, 9)\n"
     ]
    }
   ],
   "source": [
    "print('La forma de la data es:', features.shape)"
   ]
  },
  {
   "cell_type": "code",
   "execution_count": 5,
   "metadata": {
    "colab": {
     "base_uri": "https://localhost:8080/",
     "height": 294
    },
    "executionInfo": {
     "elapsed": 1113,
     "status": "ok",
     "timestamp": 1610229246657,
     "user": {
      "displayName": "Jose Garcia",
      "photoUrl": "https://lh3.googleusercontent.com/a-/AOh14GjhVumYNbkFNN5_FNhYU66e0ISQpLkFFjToc7wy0Q=s64",
      "userId": "13404731561212022132"
     },
     "user_tz": 180
    },
    "id": "lnLQciPQIZqX",
    "outputId": "b8f0f1d5-f4b6-4c4f-a2ca-1bcaefbee65a"
   },
   "outputs": [
    {
     "data": {
      "text/html": [
       "<div>\n",
       "<style scoped>\n",
       "    .dataframe tbody tr th:only-of-type {\n",
       "        vertical-align: middle;\n",
       "    }\n",
       "\n",
       "    .dataframe tbody tr th {\n",
       "        vertical-align: top;\n",
       "    }\n",
       "\n",
       "    .dataframe thead th {\n",
       "        text-align: right;\n",
       "    }\n",
       "</style>\n",
       "<table border=\"1\" class=\"dataframe\">\n",
       "  <thead>\n",
       "    <tr style=\"text-align: right;\">\n",
       "      <th></th>\n",
       "      <th>year</th>\n",
       "      <th>month</th>\n",
       "      <th>day</th>\n",
       "      <th>temp_2</th>\n",
       "      <th>temp_1</th>\n",
       "      <th>average</th>\n",
       "      <th>actual</th>\n",
       "      <th>friend</th>\n",
       "    </tr>\n",
       "  </thead>\n",
       "  <tbody>\n",
       "    <tr>\n",
       "      <th>count</th>\n",
       "      <td>348.0</td>\n",
       "      <td>348.000000</td>\n",
       "      <td>348.000000</td>\n",
       "      <td>348.000000</td>\n",
       "      <td>348.000000</td>\n",
       "      <td>348.000000</td>\n",
       "      <td>348.000000</td>\n",
       "      <td>348.000000</td>\n",
       "    </tr>\n",
       "    <tr>\n",
       "      <th>mean</th>\n",
       "      <td>2016.0</td>\n",
       "      <td>6.477011</td>\n",
       "      <td>15.514368</td>\n",
       "      <td>62.511494</td>\n",
       "      <td>62.560345</td>\n",
       "      <td>59.760632</td>\n",
       "      <td>62.543103</td>\n",
       "      <td>60.034483</td>\n",
       "    </tr>\n",
       "    <tr>\n",
       "      <th>std</th>\n",
       "      <td>0.0</td>\n",
       "      <td>3.498380</td>\n",
       "      <td>8.772982</td>\n",
       "      <td>11.813019</td>\n",
       "      <td>11.767406</td>\n",
       "      <td>10.527306</td>\n",
       "      <td>11.794146</td>\n",
       "      <td>15.626179</td>\n",
       "    </tr>\n",
       "    <tr>\n",
       "      <th>min</th>\n",
       "      <td>2016.0</td>\n",
       "      <td>1.000000</td>\n",
       "      <td>1.000000</td>\n",
       "      <td>35.000000</td>\n",
       "      <td>35.000000</td>\n",
       "      <td>45.100000</td>\n",
       "      <td>35.000000</td>\n",
       "      <td>28.000000</td>\n",
       "    </tr>\n",
       "    <tr>\n",
       "      <th>25%</th>\n",
       "      <td>2016.0</td>\n",
       "      <td>3.000000</td>\n",
       "      <td>8.000000</td>\n",
       "      <td>54.000000</td>\n",
       "      <td>54.000000</td>\n",
       "      <td>49.975000</td>\n",
       "      <td>54.000000</td>\n",
       "      <td>47.750000</td>\n",
       "    </tr>\n",
       "    <tr>\n",
       "      <th>50%</th>\n",
       "      <td>2016.0</td>\n",
       "      <td>6.000000</td>\n",
       "      <td>15.000000</td>\n",
       "      <td>62.500000</td>\n",
       "      <td>62.500000</td>\n",
       "      <td>58.200000</td>\n",
       "      <td>62.500000</td>\n",
       "      <td>60.000000</td>\n",
       "    </tr>\n",
       "    <tr>\n",
       "      <th>75%</th>\n",
       "      <td>2016.0</td>\n",
       "      <td>10.000000</td>\n",
       "      <td>23.000000</td>\n",
       "      <td>71.000000</td>\n",
       "      <td>71.000000</td>\n",
       "      <td>69.025000</td>\n",
       "      <td>71.000000</td>\n",
       "      <td>71.000000</td>\n",
       "    </tr>\n",
       "    <tr>\n",
       "      <th>max</th>\n",
       "      <td>2016.0</td>\n",
       "      <td>12.000000</td>\n",
       "      <td>31.000000</td>\n",
       "      <td>92.000000</td>\n",
       "      <td>92.000000</td>\n",
       "      <td>77.400000</td>\n",
       "      <td>92.000000</td>\n",
       "      <td>95.000000</td>\n",
       "    </tr>\n",
       "  </tbody>\n",
       "</table>\n",
       "</div>"
      ],
      "text/plain": [
       "         year       month         day      temp_2      temp_1     average  \\\n",
       "count   348.0  348.000000  348.000000  348.000000  348.000000  348.000000   \n",
       "mean   2016.0    6.477011   15.514368   62.511494   62.560345   59.760632   \n",
       "std       0.0    3.498380    8.772982   11.813019   11.767406   10.527306   \n",
       "min    2016.0    1.000000    1.000000   35.000000   35.000000   45.100000   \n",
       "25%    2016.0    3.000000    8.000000   54.000000   54.000000   49.975000   \n",
       "50%    2016.0    6.000000   15.000000   62.500000   62.500000   58.200000   \n",
       "75%    2016.0   10.000000   23.000000   71.000000   71.000000   69.025000   \n",
       "max    2016.0   12.000000   31.000000   92.000000   92.000000   77.400000   \n",
       "\n",
       "           actual      friend  \n",
       "count  348.000000  348.000000  \n",
       "mean    62.543103   60.034483  \n",
       "std     11.794146   15.626179  \n",
       "min     35.000000   28.000000  \n",
       "25%     54.000000   47.750000  \n",
       "50%     62.500000   60.000000  \n",
       "75%     71.000000   71.000000  \n",
       "max     92.000000   95.000000  "
      ]
     },
     "execution_count": 5,
     "metadata": {},
     "output_type": "execute_result"
    }
   ],
   "source": [
    "# Estadistica descriptiva\n",
    "features.describe()"
   ]
  },
  {
   "cell_type": "code",
   "execution_count": 11,
   "metadata": {
    "id": "iyqJT-_SIZqX"
   },
   "outputs": [],
   "source": [
    "# Convertimos a date\n",
    "import datetime\n",
    "\n",
    "years = features['year']\n",
    "months = features['month']\n",
    "days = features['day']\n",
    "\n",
    "# List and then convert to datetime object\n",
    "dates = [str(int(year)) + '-' + str(int(month)) + '-' + str(int(day)) for year, month, day in zip(years, months, days)]\n",
    "# Se genera una lista.\n",
    "dates = [datetime.datetime.strptime(date, '%Y-%m-%d') for date in dates]"
   ]
  },
  {
   "cell_type": "code",
   "execution_count": 8,
   "metadata": {
    "id": "AqRh1Pf9IZqX"
   },
   "outputs": [],
   "source": [
    "\n",
    "import matplotlib.pyplot as plt\n",
    "\n",
    "%matplotlib inline\n",
    "\n",
    "# Set the style\n",
    "#plt.style.use('fivethirtyeight')"
   ]
  },
  {
   "cell_type": "code",
   "execution_count": null,
   "metadata": {
    "id": "TncGhA61IZqY"
   },
   "outputs": [],
   "source": [
    "# Realice algunos graficos de linea utilizando temperature y algunas de las variables independeientes"
   ]
  },
  {
   "cell_type": "markdown",
   "metadata": {
    "id": "GnoT_XCLIZqY"
   },
   "source": [
    "### Realicemos un one-hot-encodig"
   ]
  },
  {
   "cell_type": "markdown",
   "metadata": {
    "id": "ler-VGCZIZqZ"
   },
   "source": [
    "Tomamos esto\n",
    "\n",
    "| week |\n",
    "|------|\n",
    "| Mon  |\n",
    "| Tue  |\n",
    "| Wed  |\n",
    "| Thu  |\n",
    "| Fri  |\n",
    "| Sat  |\n",
    "| Sun  |\n",
    "\n",
    "Y lo convertimos a esto:\n",
    "\n",
    "| Mon | Tue | Wed | Thu | Fri | Sat | Sun |\n",
    "|-----|-----|-----|-----|-----|-----|-----|\n",
    "| 1   | 0   | 0   | 0   | 0   |  0  |  0  |\n",
    "| 0   | 1   | 0   | 0   | 0   |  0  |  0  |\n",
    "| 0   | 0   | 1   | 0   | 0   |  0  |  0  |\n",
    "| 0   | 0   | 0   | 1   | 0   |  0  |  0  |\n",
    "| 0   | 0   | 0   | 0   | 1   |  0  |  0  |\n",
    "| 0   | 0   | 0   | 0   | 0   |  1  |  0  |\n",
    "| 0   | 0   | 0   | 0   | 0   |  0  |  1  |"
   ]
  },
  {
   "cell_type": "code",
   "execution_count": 10,
   "metadata": {
    "colab": {
     "base_uri": "https://localhost:8080/",
     "height": 202
    },
    "executionInfo": {
     "elapsed": 1043,
     "status": "ok",
     "timestamp": 1610237585405,
     "user": {
      "displayName": "Jose Garcia",
      "photoUrl": "https://lh3.googleusercontent.com/a-/AOh14GjhVumYNbkFNN5_FNhYU66e0ISQpLkFFjToc7wy0Q=s64",
      "userId": "13404731561212022132"
     },
     "user_tz": 180
    },
    "hideCode": false,
    "hidePrompt": false,
    "id": "017nT6SPIZqa",
    "outputId": "1378d7ae-a885-408e-8ad9-08143a94393a"
   },
   "outputs": [
    {
     "data": {
      "text/html": [
       "<div>\n",
       "<style scoped>\n",
       "    .dataframe tbody tr th:only-of-type {\n",
       "        vertical-align: middle;\n",
       "    }\n",
       "\n",
       "    .dataframe tbody tr th {\n",
       "        vertical-align: top;\n",
       "    }\n",
       "\n",
       "    .dataframe thead th {\n",
       "        text-align: right;\n",
       "    }\n",
       "</style>\n",
       "<table border=\"1\" class=\"dataframe\">\n",
       "  <thead>\n",
       "    <tr style=\"text-align: right;\">\n",
       "      <th></th>\n",
       "      <th>year</th>\n",
       "      <th>month</th>\n",
       "      <th>day</th>\n",
       "      <th>week</th>\n",
       "      <th>temp_2</th>\n",
       "      <th>temp_1</th>\n",
       "      <th>average</th>\n",
       "      <th>actual</th>\n",
       "      <th>friend</th>\n",
       "    </tr>\n",
       "  </thead>\n",
       "  <tbody>\n",
       "    <tr>\n",
       "      <th>0</th>\n",
       "      <td>2016</td>\n",
       "      <td>1</td>\n",
       "      <td>1</td>\n",
       "      <td>Fri</td>\n",
       "      <td>45</td>\n",
       "      <td>45</td>\n",
       "      <td>45.6</td>\n",
       "      <td>45</td>\n",
       "      <td>29</td>\n",
       "    </tr>\n",
       "    <tr>\n",
       "      <th>1</th>\n",
       "      <td>2016</td>\n",
       "      <td>1</td>\n",
       "      <td>2</td>\n",
       "      <td>Sat</td>\n",
       "      <td>44</td>\n",
       "      <td>45</td>\n",
       "      <td>45.7</td>\n",
       "      <td>44</td>\n",
       "      <td>61</td>\n",
       "    </tr>\n",
       "    <tr>\n",
       "      <th>2</th>\n",
       "      <td>2016</td>\n",
       "      <td>1</td>\n",
       "      <td>3</td>\n",
       "      <td>Sun</td>\n",
       "      <td>45</td>\n",
       "      <td>44</td>\n",
       "      <td>45.8</td>\n",
       "      <td>41</td>\n",
       "      <td>56</td>\n",
       "    </tr>\n",
       "    <tr>\n",
       "      <th>3</th>\n",
       "      <td>2016</td>\n",
       "      <td>1</td>\n",
       "      <td>4</td>\n",
       "      <td>Mon</td>\n",
       "      <td>44</td>\n",
       "      <td>41</td>\n",
       "      <td>45.9</td>\n",
       "      <td>40</td>\n",
       "      <td>53</td>\n",
       "    </tr>\n",
       "    <tr>\n",
       "      <th>4</th>\n",
       "      <td>2016</td>\n",
       "      <td>1</td>\n",
       "      <td>5</td>\n",
       "      <td>Tues</td>\n",
       "      <td>41</td>\n",
       "      <td>40</td>\n",
       "      <td>46.0</td>\n",
       "      <td>44</td>\n",
       "      <td>41</td>\n",
       "    </tr>\n",
       "    <tr>\n",
       "      <th>...</th>\n",
       "      <td>...</td>\n",
       "      <td>...</td>\n",
       "      <td>...</td>\n",
       "      <td>...</td>\n",
       "      <td>...</td>\n",
       "      <td>...</td>\n",
       "      <td>...</td>\n",
       "      <td>...</td>\n",
       "      <td>...</td>\n",
       "    </tr>\n",
       "    <tr>\n",
       "      <th>343</th>\n",
       "      <td>2016</td>\n",
       "      <td>12</td>\n",
       "      <td>27</td>\n",
       "      <td>Tues</td>\n",
       "      <td>42</td>\n",
       "      <td>42</td>\n",
       "      <td>45.2</td>\n",
       "      <td>47</td>\n",
       "      <td>47</td>\n",
       "    </tr>\n",
       "    <tr>\n",
       "      <th>344</th>\n",
       "      <td>2016</td>\n",
       "      <td>12</td>\n",
       "      <td>28</td>\n",
       "      <td>Wed</td>\n",
       "      <td>42</td>\n",
       "      <td>47</td>\n",
       "      <td>45.3</td>\n",
       "      <td>48</td>\n",
       "      <td>58</td>\n",
       "    </tr>\n",
       "    <tr>\n",
       "      <th>345</th>\n",
       "      <td>2016</td>\n",
       "      <td>12</td>\n",
       "      <td>29</td>\n",
       "      <td>Thurs</td>\n",
       "      <td>47</td>\n",
       "      <td>48</td>\n",
       "      <td>45.3</td>\n",
       "      <td>48</td>\n",
       "      <td>65</td>\n",
       "    </tr>\n",
       "    <tr>\n",
       "      <th>346</th>\n",
       "      <td>2016</td>\n",
       "      <td>12</td>\n",
       "      <td>30</td>\n",
       "      <td>Fri</td>\n",
       "      <td>48</td>\n",
       "      <td>48</td>\n",
       "      <td>45.4</td>\n",
       "      <td>57</td>\n",
       "      <td>42</td>\n",
       "    </tr>\n",
       "    <tr>\n",
       "      <th>347</th>\n",
       "      <td>2016</td>\n",
       "      <td>12</td>\n",
       "      <td>31</td>\n",
       "      <td>Sat</td>\n",
       "      <td>48</td>\n",
       "      <td>57</td>\n",
       "      <td>45.5</td>\n",
       "      <td>40</td>\n",
       "      <td>57</td>\n",
       "    </tr>\n",
       "  </tbody>\n",
       "</table>\n",
       "<p>348 rows × 9 columns</p>\n",
       "</div>"
      ],
      "text/plain": [
       "     year  month  day   week  temp_2  temp_1  average  actual  friend\n",
       "0    2016      1    1    Fri      45      45     45.6      45      29\n",
       "1    2016      1    2    Sat      44      45     45.7      44      61\n",
       "2    2016      1    3    Sun      45      44     45.8      41      56\n",
       "3    2016      1    4    Mon      44      41     45.9      40      53\n",
       "4    2016      1    5   Tues      41      40     46.0      44      41\n",
       "..    ...    ...  ...    ...     ...     ...      ...     ...     ...\n",
       "343  2016     12   27   Tues      42      42     45.2      47      47\n",
       "344  2016     12   28    Wed      42      47     45.3      48      58\n",
       "345  2016     12   29  Thurs      47      48     45.3      48      65\n",
       "346  2016     12   30    Fri      48      48     45.4      57      42\n",
       "347  2016     12   31    Sat      48      57     45.5      40      57\n",
       "\n",
       "[348 rows x 9 columns]"
      ]
     },
     "execution_count": 10,
     "metadata": {},
     "output_type": "execute_result"
    }
   ],
   "source": [
    "# Realice un One-hot encode.\n",
    "features"
   ]
  },
  {
   "cell_type": "markdown",
   "metadata": {
    "id": "-8TLaEukIZqa"
   },
   "source": [
    "### Los convertimos a np array. \r\n",
    "\r\n",
    "Esto para entregarlo al metodo con el formato correcto.\r\n",
    "\r\n"
   ]
  },
  {
   "cell_type": "code",
   "execution_count": null,
   "metadata": {
    "collapsed": true,
    "id": "HxS5PO4jIZqa",
    "jupyter": {
     "outputs_hidden": true
    }
   },
   "outputs": [],
   "source": [
    "import numpy as np\n",
    "\n",
    "# La variable que queremos predecir. \n",
    "labels = np.array(features['actual'])\n",
    "\n",
    "\n",
    "# La removemos del dataset original.\n",
    "features= features.drop('actual', axis = 1)\n",
    "\n",
    "# Guardamos la lista de variables independientes. \n",
    "feature_list = list(features.columns)\n",
    "\n",
    "#  convertimos las caracteristicas a numpy arrayConvert to numpy array\n",
    "features = np.array(features)"
   ]
  },
  {
   "cell_type": "markdown",
   "metadata": {
    "id": "CTpVsMkzIZqb"
   },
   "source": [
    "### Conjunto de entrenamiento y validación."
   ]
  },
  {
   "cell_type": "code",
   "execution_count": null,
   "metadata": {
    "collapsed": true,
    "id": "l4cFyWj0IZqb",
    "jupyter": {
     "outputs_hidden": true
    }
   },
   "outputs": [],
   "source": [
    "# Genere un conjunto de entrenamiento y validación. "
   ]
  },
  {
   "cell_type": "code",
   "execution_count": null,
   "metadata": {
    "colab": {
     "base_uri": "https://localhost:8080/"
    },
    "executionInfo": {
     "elapsed": 1284,
     "status": "ok",
     "timestamp": 1610237641593,
     "user": {
      "displayName": "Jose Garcia",
      "photoUrl": "https://lh3.googleusercontent.com/a-/AOh14GjhVumYNbkFNN5_FNhYU66e0ISQpLkFFjToc7wy0Q=s64",
      "userId": "13404731561212022132"
     },
     "user_tz": 180
    },
    "id": "onvUavY8IZqb",
    "outputId": "1cf1f9b4-4620-410d-abdd-3fad3311537c"
   },
   "outputs": [
    {
     "name": "stdout",
     "output_type": "stream",
     "text": [
      "Training Features Shape: (261, 14)\n",
      "Training Labels Shape: (261,)\n",
      "Testing Features Shape: (87, 14)\n",
      "Testing Labels Shape: (87,)\n"
     ]
    }
   ],
   "source": [
    "print('Training Features Shape:', train_features.shape)\n",
    "print('Training Labels Shape:', train_labels.shape)\n",
    "print('Testing Features Shape:', test_features.shape)\n",
    "print('Testing Labels Shape:', test_labels.shape)"
   ]
  },
  {
   "cell_type": "markdown",
   "metadata": {
    "id": "1XpSf9bsIZqc"
   },
   "source": [
    "### Entrenando el modelo"
   ]
  },
  {
   "cell_type": "code",
   "execution_count": null,
   "metadata": {
    "collapsed": true,
    "hideCode": false,
    "hidePrompt": false,
    "id": "d0HFqcAdIZqc",
    "jupyter": {
     "outputs_hidden": true
    }
   },
   "outputs": [],
   "source": [
    "# Entrene el modelo "
   ]
  },
  {
   "cell_type": "markdown",
   "metadata": {
    "id": "RaHp_bFsIZqc"
   },
   "source": [
    "### Realice las predicciones"
   ]
  },
  {
   "cell_type": "code",
   "execution_count": null,
   "metadata": {
    "colab": {
     "base_uri": "https://localhost:8080/"
    },
    "executionInfo": {
     "elapsed": 1060,
     "status": "ok",
     "timestamp": 1610237979431,
     "user": {
      "displayName": "Jose Garcia",
      "photoUrl": "https://lh3.googleusercontent.com/a-/AOh14GjhVumYNbkFNN5_FNhYU66e0ISQpLkFFjToc7wy0Q=s64",
      "userId": "13404731561212022132"
     },
     "user_tz": 180
    },
    "id": "uHGjPZfJIZqc",
    "outputId": "ba663086-502e-4cec-caa4-e8c7dbd2100e"
   },
   "outputs": [
    {
     "name": "stdout",
     "output_type": "stream",
     "text": [
      "Mean Absolute Error: 3.83 degrees.\n"
     ]
    }
   ],
   "source": [
    "predictions = rf.predict(test_features)\n",
    "errors = abs(predictions - test_labels)\n",
    "print('Mean Absolute Error:', round(np.mean(errors), 2), 'degrees.')"
   ]
  },
  {
   "cell_type": "markdown",
   "metadata": {
    "id": "Tsc4lHV7IZqd"
   },
   "source": [
    "### Determine el performance"
   ]
  },
  {
   "cell_type": "code",
   "execution_count": null,
   "metadata": {
    "colab": {
     "base_uri": "https://localhost:8080/"
    },
    "executionInfo": {
     "elapsed": 1159,
     "status": "ok",
     "timestamp": 1610238121397,
     "user": {
      "displayName": "Jose Garcia",
      "photoUrl": "https://lh3.googleusercontent.com/a-/AOh14GjhVumYNbkFNN5_FNhYU66e0ISQpLkFFjToc7wy0Q=s64",
      "userId": "13404731561212022132"
     },
     "user_tz": 180
    },
    "id": "4cc5sleGIZqd",
    "outputId": "31add3ec-2b7a-4c2d-cde4-b11705680084"
   },
   "outputs": [
    {
     "name": "stdout",
     "output_type": "stream",
     "text": [
      "Accuracy: 93.99 %.\n"
     ]
    }
   ],
   "source": [
    "# Determine el performance del modelo."
   ]
  },
  {
   "cell_type": "markdown",
   "metadata": {
    "id": "sYRTjvqPIZqd"
   },
   "source": [
    "### Modifique algunos hyperparámetros parámetros"
   ]
  },
  {
   "cell_type": "markdown",
   "metadata": {
    "id": "Y4QXfcsOMTsD"
   },
   "source": [
    "### Determine la importancia de las variables (rf.feature_importances_)\r\n",
    "\r\n",
    "Realice un grafico de barras, por ejemplo.\r\n",
    "\r\n",
    "Pruebe utilizando menos variables, como varia el performance del modelo. \r\n"
   ]
  },
  {
   "cell_type": "markdown",
   "metadata": {
    "id": "w0C2LvWyIZqi"
   },
   "source": [
    "### Realice una comparación con los valores predichos y los actuales. \r\n",
    "\r\n",
    "Utilice por ejemplo un grafico de lineas. "
   ]
  }
 ],
 "metadata": {
  "colab": {
   "collapsed_sections": [],
   "name": "Actividad3_RandomForest_Workbook.ipynb",
   "provenance": [],
   "toc_visible": true
  },
  "hide_code_all_hidden": false,
  "kernelspec": {
   "display_name": "Python 3",
   "language": "python",
   "name": "python3"
  },
  "language_info": {
   "codemirror_mode": {
    "name": "ipython",
    "version": 3
   },
   "file_extension": ".py",
   "mimetype": "text/x-python",
   "name": "python",
   "nbconvert_exporter": "python",
   "pygments_lexer": "ipython3",
   "version": "3.7.3"
  }
 },
 "nbformat": 4,
 "nbformat_minor": 4
}

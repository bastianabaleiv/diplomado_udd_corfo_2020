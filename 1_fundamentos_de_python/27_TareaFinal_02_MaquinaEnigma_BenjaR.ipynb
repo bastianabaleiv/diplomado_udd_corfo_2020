{
 "cells": [
  {
   "cell_type": "markdown",
   "metadata": {
    "id": "VhqR-Jf8QM1m"
   },
   "source": [
    "# 27-Tarea Final 02 \n",
    "## Máquina Enigma"
   ]
  },
  {
   "cell_type": "markdown",
   "metadata": {
    "id": "R4zFw96TQM1n"
   },
   "source": [
    "## Grupo # <font color='green'>____numero_de_grupo____</font> \n",
    "\n",
    "\n",
    "## Integrantes: \n",
    "* <font color='green'>____nombre_integrante____</font> \n",
    "* <font color='green'>____nombre_integrante____</font> \n",
    "* <font color='green'>____nombre_integrante____</font> \n",
    "* <font color='green'>____nombre_integrante____</font> \n",
    "* <font color='green'>____nombre_integrante____</font> \n",
    "* <font color='green'>____nombre_integrante____</font> \n",
    "* <font color='green'>____nombre_integrante____</font> "
   ]
  },
  {
   "cell_type": "markdown",
   "metadata": {
    "id": "rhGv3Iu8QM1o"
   },
   "source": [
    "¡Bienvenido Agente! Nos encontramos en pleno conflicto y hemos encontrado los planos de una  [Máquina Enigma](https://es.wikipedia.org/wiki/Enigma_(máquina)) enemiga. Necesitamos que configures una máquina que nos ayude a descifrar los mensajes que interceptamos.\n",
    "La máquina posee tres rotores y un reflector. Cada rotor es un disco circular plano con 26 contactos eléctricos en cada cara, uno por cada letra del alfabeto. Cada contacto de una cara está conectado o cableado a un contacto diferente de la cara contraria. Por ejemplo, en un rotor en particular, el contacto número 1 de una cara puede estar conectado con el contacto número 14 en la otra cara y el contacto número 5 de una cara con el número 22 de la otra.\n",
    "\n",
    "Como cada rotor está en contacto con el otro, lo anterior permite ir cambiando el indice de las letras de entrada, configurando así una criptografía muy compleja de resolver en aquellos tiempos. Estos rotores se conocen como.\n",
    "\n",
    "* Rotor derecho\n",
    "* Rotor medio\n",
    "* Rotor izquierdo\n",
    "* Reflector\n",
    "\n",
    "Mira este video para que entiendas mejor el concepto le la [Máquina Enigma](https://youtu.be/VnsTHAH5yAE)."
   ]
  },
  {
   "cell_type": "markdown",
   "metadata": {
    "id": "GKY1Wph8QM1p"
   },
   "source": [
    "## Estructura de los rotores\n",
    "\n",
    "Los tres rotores (izquierdo, medio y derecho) tienen el alfabeto de 26 letras ordenadas en su sección de entrada y las mismas 26 letras desordenadas en su sección de salida.<br>\n",
    "El reflector, posee solo 13 letra, las cuales están repetidas 2 veces cada una y están repartidas aleatoriamente en el dispositivo. El punto en donde la señal del rotor izquierdo pasa al reflector, determina la letra de entrada; la salida será por la letra que conforma la pareja.\n",
    "\n",
    "Esta es la configuración que hemos encontrado:\n",
    "\n",
    "```python\n",
    "\"\"\"\n",
    "Reflector  Rot_izd   Rot_med   Rot_der  Teclado\n",
    "    A       A - E     A - A     A - B      A\n",
    "    B       B - K     B - J     B - D      B\n",
    "    C       C - M     C - D     C - F      C\n",
    "    D       D - F     D - K     D - H      D\n",
    "    E       E - L     E - S     E - J      E\n",
    "    F       F - G     F - I     F - L      F\n",
    "    G       G - D     G - R     G - C      G\n",
    "    D       H - Q     H - U     H - P      H\n",
    "    I       I - V     I - X     I - R      I\n",
    "    J       J - Z     J - B     J - T      J\n",
    "    K       K - N     K - L     K - X      K\n",
    "    G       L - T     L - H     L - V      L\n",
    "    M       M - O     M - W     M - Z      M\n",
    "    K       N - W     N - T     N - N      N\n",
    "    M       O - Y     O - M     O - Y      O\n",
    "    I       P - H     P - C     P - E      P\n",
    "    E       Q - X     Q - Q     Q - I      Q\n",
    "    B       R - U     R - G     R - W      R\n",
    "    F       S - S     S - Z     S - G      S\n",
    "    T       T - P     T - N     T - A      T\n",
    "    C       U - A     U - P     U - K      U\n",
    "    V       V - I     V - Y     V - M      V\n",
    "    V       W - B     W - F     W - U      W\n",
    "    J       X - R     X - V     X - S      X\n",
    "    A       Y - C     Y - O     Y - Q      Y\n",
    "    T       Z - J     Z - E     Z - O      Z\n",
    "\"\"\"\n",
    "```"
   ]
  },
  {
   "cell_type": "markdown",
   "metadata": {
    "id": "UY5Da-QbQM1q"
   },
   "source": [
    "## Funcionamiento general\n",
    "Cada vez que un usuario presiona una tecla en el Teclado (columna derecha del diagrama anterior), ocurre lo siguiente:\n",
    "1. El Rotor_derecho avanza una posición hacia arriba, i.e., la combinación 'A - B' pasa al final de la lista y el primer lugar lo ocupa 'B - D'\n",
    "2. Se obtiene la posición en la lista (Teclado) de la tecla presionada por el operador . \n",
    "3. La posición obtenida en el punto 2, se utiliza para buscar la letra la sección derecha del Rotor_derecho que está en la misma posición (frente a frente). En esa posición existe una letra a la cual llamaremos Letra_entrada.\n",
    "4. En el Rotor_derecho se busca la posición de la Letra_entrada en la sección de salida. Esta será la posición de salida del rotor.\n",
    "5. Se repiten los pasos amteriores 3 y 4 en el Rotor_medio; esta vez la posición de entrada en equivalente a la posición de salida del punto 4.\n",
    "6. Se repiten los pasos amteriores 3 y 4 en el Rotor_izquierdo.\n",
    "7. Con la posición de salida del Rotor_izquierdo se entra en el Reflector. En la posición de entrada en el Reflector, hay una letra. Se buscará entonces la otra letra equivalente dentro del Reflector. Esto determinará la posición de salida.\n",
    "8. Con esta posición (la de salida del Reflector) se invierte el proceso, es decir, se busca la letra que está en contacto con el rotor anterior y se busca la posición de dicha letra en la salida del rotor. Este proceso se repita sucesivamente con los rotores izquierdo, medio y derecho.\n",
    "9. La posición de salida del Rotor_derecho marcará la posicón en el Teclado, indicando la letra encriptada."
   ]
  },
  {
   "cell_type": "markdown",
   "metadata": {
    "id": "mVF433M0QM1r"
   },
   "source": [
    "## Algunos detalles adicionales\n",
    "Cada vez que procesamos una letra, primero rotamos una posición el Rotor_derecho (hacia arriba).\n",
    "Cuando la letra \"V\" de la componente ordenada (iquierza) del Rotor_derecho alcanza la posición inicial en la lista, se gira una posición hacia arriba el Rotor_medio.\n",
    "Lo mismo ocurre cuando la letra 'Q' de la componente ordenada (iquierza) del Rotor_medio llega al inicio, en este caso, se avanza una posición hacia arriba el Rotor_izquierdo."
   ]
  },
  {
   "cell_type": "markdown",
   "metadata": {
    "id": "iEv7lAzdQM1s"
   },
   "source": [
    "## Más detalles\n",
    "Esto no termina aquí. Para hacer más difícil el trabajo de desencriptación, la máquina tiene la posibilidad de fijar la posición inicial de los tres rotores centrales. Para esto se elige una clave de tres letras, las cuales marcan la posición inicial de la primera letra de la sección ordenada (izquierda) de cada rotor. Por ejemplo la clave <font color='red'>'MCK'</font> dejaría los rotores de la siguiente forma:\n",
    "\n",
    "```Python\n",
    "\"\"\"\n",
    "Reflector  Rot_izd   Rot_med   Rot_der  Teclado\n",
    "    A       M - O     C - D     K - X      A\n",
    "    B       N - W     D - K     L - V      B\n",
    "    C       O - Y     E - S     M - Z      C\n",
    "    D       P - H     F - I     N - N      D\n",
    "    E       Q - X     G - R     O - Y      E\n",
    "    F       R - U     H - U     P - E      F\n",
    "    G       S - S     I - X     Q - I      G\n",
    "    D       T - P     J - B     R - W      H\n",
    "    I       U - A     K - L     S - G      I\n",
    "    J       V - I     L - H     T - A      J\n",
    "    K       W - B     M - W     U - K      K\n",
    "    G       X - R     N - T     V - M      L\n",
    "    M       Y - C     O - M     W - U      M\n",
    "    K       Z - J     P - C     X - S      N\n",
    "    M       A - E     Q - Q     Y - Q      O\n",
    "    I       B - K     R - G     Z - O      P\n",
    "    E       C - M     S - Z     A - B      Q\n",
    "    B       D - F     T - N     B - D      R\n",
    "    F       E - L     U - P     C - F      S\n",
    "    T       F - G     V - Y     D - H      T\n",
    "    C       G - D     W - F     E - J      U\n",
    "    V       H - Q     X - V     F - L      V\n",
    "    V       I - V     Y - O     G - C      W\n",
    "    J       J - Z     Z - E     H - P      X\n",
    "    A       K - N     A - A     I - R      Y\n",
    "    T       L - T     B - J     J - T      Z\n",
    "\"\"\"\n",
    "```\n",
    "Fíjate que ni el Teclado ni el Reflector cambian, solo los rotores izquierdo, medio y derecho."
   ]
  },
  {
   "cell_type": "markdown",
   "metadata": {
    "id": "_tWaRrYJQM1s"
   },
   "source": [
    "Aquí te dejamos algunos videos con la misma explicación:\n",
    "    \n",
    "[Criptografía - Máquina Enigma, funcionamiento detallado](https://youtu.be/XK_1gUo8YDE)\n"
   ]
  },
  {
   "cell_type": "markdown",
   "metadata": {
    "id": "T7-lRROmQM1u"
   },
   "source": [
    "## <font color='green'>Misión</font>\n",
    "\n",
    "Con los planos obtenidos, debes programar en Python tu propia Máquina Enigma. Cuando hayas terminado, se te dará un mensaje cifrado que deberás decodificar para aprobar el curso.\n",
    "\n",
    "Tu misión consiste en lo siguiente:<br>\n",
    "1. Programar la lógica de la máquina utilizando la información de los rotores conseguidos\n",
    "2. Ingresar una clave inicial (te será dada)\n",
    "3. Decodificar el mensaje correctamente\n",
    "\n",
    "Tips:\n",
    "\n",
    "1. Con la clave <font color='red'>'MCK'</font>, la frace **\"ENIGMA REVEALED\"** debiera encriptarse como **'QMJIDOMZWZJFJR\"** y viceversa.\n",
    "2. Recuerda usa stackoverflow e internet para buscar sintaxis y funciones.\n",
    "3. Divide el desafío en tantos problemas pequeños como puedas. "
   ]
  },
  {
   "cell_type": "markdown",
   "metadata": {
    "id": "M9Cit4aaQM1v"
   },
   "source": [
    "## <font color='green'>Tarea 1:</font> Cablea los rotores\n",
    "\n",
    "Crea los cableados de los rotores \n",
    "\n",
    "TIP:\n",
    "1. Crea lista con las secuencias\n",
    "2. Utiliza los strings proporcionados y conviértelos a listas con **split( )**\n"
   ]
  },
  {
   "cell_type": "code",
   "execution_count": null,
   "metadata": {
    "colab": {
     "base_uri": "https://localhost:8080/",
     "height": 119
    },
    "id": "Jv5c1XpNQM1v",
    "outputId": "0ce72a88-518f-4118-e6f3-4965bbce6a6c"
   },
   "outputs": [
    {
     "name": "stdout",
     "output_type": "stream",
     "text": [
      "['A', 'B', 'C', 'D', 'E', 'F', 'G', 'H', 'I', 'J', 'K', 'L', 'M', 'N', 'O', 'P', 'Q', 'R', 'S', 'T', 'U', 'V', 'W', 'X', 'Y', 'Z']\n",
      "['A', 'B', 'C', 'D', 'E', 'F', 'G', 'D', 'I', 'J', 'K', 'G', 'M', 'K', 'M', 'I', 'E', 'B', 'F', 'T', 'C', 'V', 'V', 'J', 'A', 'T']\n",
      "['B', 'D', 'F', 'H', 'J', 'L', 'C', 'P', 'R', 'T', 'X', 'V', 'Z', 'N', 'Y', 'E', 'I', 'W', 'G', 'A', 'K', 'M', 'U', 'S', 'Q', 'O']\n",
      "['A', 'J', 'D', 'K', 'S', 'I', 'R', 'U', 'X', 'B', 'L', 'H', 'W', 'T', 'M', 'C', 'Q', 'G', 'Z', 'N', 'P', 'Y', 'F', 'V', 'O', 'E']\n",
      "['E', 'K', 'M', 'F', 'L', 'G', 'D', 'Q', 'V', 'Z', 'N', 'T', 'O', 'W', 'Y', 'H', 'X', 'U', 'S', 'P', 'A', 'I', 'B', 'R', 'C', 'J']\n"
     ]
    },
    {
     "data": {
      "text/plain": [
       "list"
      ]
     },
     "execution_count": 18,
     "metadata": {
      "tags": []
     },
     "output_type": "execute_result"
    }
   ],
   "source": [
    "# Tarea 1: Cablea los rotores\n",
    "# Componente ordenada de los rotores \n",
    "st = 'A B C D E F G H I J K L M N O P Q R S T U V W X Y Z'\n",
    "\n",
    "# Convierte el string 'st' en una lista\n",
    "# Tu código aquí ...\n",
    "list_st = st.split()\n",
    "print(list_st)\n",
    "type(list_st)\n",
    "\n",
    "# Creamos el reflector\n",
    "rf = 'A B C D E F G D I J K G M K M I E B F T C V V J A T'\n",
    "\n",
    "# Convierte el string 'rf' en una lista\n",
    "# Tu código aquí ...\n",
    "list_rf = rf.split()\n",
    "print(list_rf)\n",
    "type(list_rf)\n",
    "\n",
    "# Creamos el rotor derecho\n",
    "# Este string contiene el alfabeto de salida (desordenado)\n",
    "str_r_derecha = 'B D F H J L C P R T X V Z N Y E I W G A K M U S Q O'\n",
    "\n",
    "# Convierte el string 'rf' en una lista\n",
    "# Tu código aquí ...\n",
    "list_str_r_derecha = str_r_derecha.split()\n",
    "print(list_str_r_derecha)\n",
    "type(list_str_r_derecha)\n",
    "\n",
    "# Creamos el rotor medio\n",
    "# Este string contiene el alfabeto de salida (desordenado)\n",
    "str_r_medio = 'A J D K S I R U X B L H W T M C Q G Z N P Y F V O E'\n",
    "\n",
    "# Convierte el string 'rf' en una lista\n",
    "# Tu código aquí ...\n",
    "list_str_r_medio = str_r_medio.split()\n",
    "print(list_str_r_medio)\n",
    "type(list_str_r_medio)\n",
    "\n",
    "# Creamos el rotor iquierdo\n",
    "# Este string contiene el alfabeto de salida (desordenado)\n",
    "str_r_izq = 'E K M F L G D Q V Z N T O W Y H X U S P A I B R C J '\n",
    "\n",
    "# Convierte el string 'rf' en una lista\n",
    "# Tu código aquí ...\n",
    "list_str_r_izq = str_r_izq.split()\n",
    "print(list_str_r_izq)\n",
    "type(list_str_r_izq)\n"
   ]
  },
  {
   "cell_type": "markdown",
   "metadata": {
    "id": "s-SvIbK6QM2D"
   },
   "source": [
    "## <font color='green'>Tarea 2:</font> Arma los rotores\n",
    "\n",
    "Crea tres listas vacias para almacenar los rotores armados\n",
    "Recuerda que cada rotor tiene una componente ordenada y otra desordenada. La ordenada va la izquierda y desordenada a la derecha.\n",
    "\n",
    "TIP:\n",
    "1. La estructura a obtener debiera ser una lista de listas. Por ejemplo, el rotor_izquierdo debería verse así:\n",
    "\n",
    "```python\n",
    "[['A', 'E'],\n",
    " ['B', 'K'],\n",
    " ['C', 'M'],\n",
    " ['D', 'F'],\n",
    " ['E', 'L'],\n",
    " ['F', 'G'],\n",
    " ['G', 'D'],\n",
    " ['H', 'Q'],\n",
    " ['I', 'V'],\n",
    " ['J', 'Z'],\n",
    " ['K', 'N'],\n",
    " ['L', 'T'],\n",
    " ['M', 'O'],\n",
    " ['N', 'W'],\n",
    " ['O', 'Y'],\n",
    " ['P', 'H'],\n",
    " ['Q', 'X'],\n",
    " ['R', 'U'],\n",
    " ['S', 'S'],\n",
    " ['T', 'P'],\n",
    " ['U', 'A'],\n",
    " ['V', 'I'],\n",
    " ['W', 'B'],\n",
    " ['X', 'R'],\n",
    " ['Y', 'C'],\n",
    " ['Z', 'J']]\n",
    "```"
   ]
  },
  {
   "cell_type": "code",
   "execution_count": null,
   "metadata": {
    "id": "wt4CViOLQM2F"
   },
   "outputs": [],
   "source": [
    "# Crea tres listas vacias para almacenar los rotores armados\n",
    "# Recuerda que cada rotor tendré una componente ordenada y otra desordenada\n",
    "\n",
    "# Tu código aquí ...ABAJO\n",
    "#Rot_izq = []\n",
    "#Rot_med = []\n",
    "#Rot_der = []\n",
    "#Reflector = []\n",
    "#Teclado = []"
   ]
  },
  {
   "cell_type": "markdown",
   "metadata": {
    "id": "I2mne_8BQM2J"
   },
   "source": [
    "Crea tres listas vacias para almacenar los rotores armados\n",
    "Recuerda que cada rotor tiene una componente ordenada y otra desordenada. Ordenada a la izquierda y desordenada a la derecha.\n",
    "\n",
    "TIP:\n",
    "1. Utiliza un ciclo **for** para añadir los pares de elementos  (ordenado - desordenado) en cada rotor. \n",
    "2. Utiliza las listas que creamos anteriormente\n",
    "3. Utiliza la función zip( ) para unir las lista\n",
    "4. Utiliza la función **append( )** e *indexing* \n",
    "\n",
    "```python\n",
    "for i in zip(lista_1, lista_2):\n",
    "    disco.append([i[0], i[1]])\n",
    "```"
   ]
  },
  {
   "cell_type": "code",
   "execution_count": null,
   "metadata": {
    "colab": {
     "base_uri": "https://localhost:8080/",
     "height": 122
    },
    "id": "knwIusr-QM2K",
    "outputId": "6f7a7ae8-6f0d-4db0-970f-12abaf9c75b0"
   },
   "outputs": [
    {
     "name": "stdout",
     "output_type": "stream",
     "text": [
      "[['A', 'B'], ['B', 'D'], ['C', 'F'], ['D', 'H'], ['E', 'J'], ['F', 'L'], ['G', 'C'], ['H', 'P'], ['I', 'R'], ['J', 'T'], ['K', 'X'], ['L', 'V'], ['M', 'Z'], ['N', 'N'], ['O', 'Y'], ['P', 'E'], ['Q', 'I'], ['R', 'W'], ['S', 'G'], ['T', 'A'], ['U', 'K'], ['V', 'M'], ['W', 'U'], ['X', 'S'], ['Y', 'Q'], ['Z', 'O']]\n",
      "[['A', 'A'], ['B', 'J'], ['C', 'D'], ['D', 'K'], ['E', 'S'], ['F', 'I'], ['G', 'R'], ['H', 'U'], ['I', 'X'], ['J', 'B'], ['K', 'L'], ['L', 'H'], ['M', 'W'], ['N', 'T'], ['O', 'M'], ['P', 'C'], ['Q', 'Q'], ['R', 'G'], ['S', 'Z'], ['T', 'N'], ['U', 'P'], ['V', 'Y'], ['W', 'F'], ['X', 'V'], ['Y', 'O'], ['Z', 'E']]\n",
      "[['A', 'E'], ['B', 'K'], ['C', 'M'], ['D', 'F'], ['E', 'L'], ['F', 'G'], ['G', 'D'], ['H', 'Q'], ['I', 'V'], ['J', 'Z'], ['K', 'N'], ['L', 'T'], ['M', 'O'], ['N', 'W'], ['O', 'Y'], ['P', 'H'], ['Q', 'X'], ['R', 'U'], ['S', 'S'], ['T', 'P'], ['U', 'A'], ['V', 'I'], ['W', 'B'], ['X', 'R'], ['Y', 'C'], ['Z', 'J']]\n",
      "['A', 'B', 'C', 'D', 'E', 'F', 'G', 'H', 'I', 'J', 'K', 'L', 'M', 'N', 'O', 'P', 'Q', 'R', 'S', 'T', 'U', 'V', 'W', 'X', 'Y', 'Z']\n",
      "['A', 'B', 'C', 'D', 'E', 'F', 'G', 'D', 'I', 'J', 'K', 'G', 'M', 'K', 'M', 'I', 'E', 'B', 'F', 'T', 'C', 'V', 'V', 'J', 'A', 'T']\n"
     ]
    }
   ],
   "source": [
    "# Tarea 2: Arma los rotores\n",
    "Rot_izq = []\n",
    "Rot_med = []\n",
    "Rot_der = []\n",
    "Reflector = []\n",
    "Teclado = []\n",
    "\n",
    "for i in zip(list_st, list_str_r_derecha):\n",
    "    Rot_der.append([i[0],i[1]])\n",
    "\n",
    "for i in zip(list_st, list_str_r_medio):\n",
    "    Rot_med.append([i[0], i[1]])\n",
    "\n",
    "for i in zip(list_st, list_str_r_izq):\n",
    "    Rot_izq.append([i[0], i[1]])\n",
    "\n",
    "Teclado = list_st\n",
    "\n",
    "Reflector = list_rf\n",
    "\n",
    "print(Rot_der)\n",
    "print(Rot_med)\n",
    "print(Rot_izq)\n",
    "print(Teclado)\n",
    "print(Reflector)"
   ]
  },
  {
   "cell_type": "markdown",
   "metadata": {
    "id": "oDybkgd1QM2N"
   },
   "source": [
    "Imprime la configuración del Reflector, de los tres rotores y del Teclado. De la misma forma que en la instrucciones iniciales.\n",
    "\n",
    "Tip:\n",
    "1. Utiliza función **print( )** y **f-strings** para el correcto formateo\n",
    "2. Utiliza **zip( )** nuevamente para agrupar todas las listas. Luego recórrelas con un ciclo **for** para imprimirlas."
   ]
  },
  {
   "cell_type": "code",
   "execution_count": null,
   "metadata": {
    "colab": {
     "base_uri": "https://localhost:8080/",
     "height": 476
    },
    "id": "BxlxMQXyQM2N",
    "outputId": "c37a171e-a621-42f6-a0cd-dfc0721af892",
    "scrolled": true
   },
   "outputs": [
    {
     "name": "stdout",
     "output_type": "stream",
     "text": [
      "Reflector Rotor_izd  Rotor_med  Rotor_der  Teclado\n",
      "   ('A', ['A', 'E'], ['A', 'A'], ['A', 'B'], 'A')\n",
      "   ('B', ['B', 'K'], ['B', 'J'], ['B', 'D'], 'B')\n",
      "   ('C', ['C', 'M'], ['C', 'D'], ['C', 'F'], 'C')\n",
      "   ('D', ['D', 'F'], ['D', 'K'], ['D', 'H'], 'D')\n",
      "   ('E', ['E', 'L'], ['E', 'S'], ['E', 'J'], 'E')\n",
      "   ('F', ['F', 'G'], ['F', 'I'], ['F', 'L'], 'F')\n",
      "   ('G', ['G', 'D'], ['G', 'R'], ['G', 'C'], 'G')\n",
      "   ('D', ['H', 'Q'], ['H', 'U'], ['H', 'P'], 'H')\n",
      "   ('I', ['I', 'V'], ['I', 'X'], ['I', 'R'], 'I')\n",
      "   ('J', ['J', 'Z'], ['J', 'B'], ['J', 'T'], 'J')\n",
      "   ('K', ['K', 'N'], ['K', 'L'], ['K', 'X'], 'K')\n",
      "   ('G', ['L', 'T'], ['L', 'H'], ['L', 'V'], 'L')\n",
      "   ('M', ['M', 'O'], ['M', 'W'], ['M', 'Z'], 'M')\n",
      "   ('K', ['N', 'W'], ['N', 'T'], ['N', 'N'], 'N')\n",
      "   ('M', ['O', 'Y'], ['O', 'M'], ['O', 'Y'], 'O')\n",
      "   ('I', ['P', 'H'], ['P', 'C'], ['P', 'E'], 'P')\n",
      "   ('E', ['Q', 'X'], ['Q', 'Q'], ['Q', 'I'], 'Q')\n",
      "   ('B', ['R', 'U'], ['R', 'G'], ['R', 'W'], 'R')\n",
      "   ('F', ['S', 'S'], ['S', 'Z'], ['S', 'G'], 'S')\n",
      "   ('T', ['T', 'P'], ['T', 'N'], ['T', 'A'], 'T')\n",
      "   ('C', ['U', 'A'], ['U', 'P'], ['U', 'K'], 'U')\n",
      "   ('V', ['V', 'I'], ['V', 'Y'], ['V', 'M'], 'V')\n",
      "   ('V', ['W', 'B'], ['W', 'F'], ['W', 'U'], 'W')\n",
      "   ('J', ['X', 'R'], ['X', 'V'], ['X', 'S'], 'X')\n",
      "   ('A', ['Y', 'C'], ['Y', 'O'], ['Y', 'Q'], 'Y')\n",
      "   ('T', ['Z', 'J'], ['Z', 'E'], ['Z', 'O'], 'Z')\n"
     ]
    }
   ],
   "source": [
    "# Tu código aquí ...\n",
    "\n",
    "print(f'Reflector Rotor_izd  Rotor_med  Rotor_der  Teclado')\n",
    "\n",
    "for i in zip(Reflector, Rot_izq, Rot_med, Rot_der, Teclado):\n",
    "    print(f'   {i}')"
   ]
  },
  {
   "cell_type": "markdown",
   "metadata": {
    "id": "M-2ZyZdaQM2S"
   },
   "source": [
    "## <font color='green'>Tarea 3:</font> Crea una función para girar los rotores\n",
    "\n",
    "Crea una función llamada **avanza_rotor**. La función debe girar los rotores hacia arriba. Créala de esta forma:\n",
    "\n",
    "```python\n",
    "def avanza_rotor(disco, paso):\n",
    "```\n",
    "Entrada:<br>\n",
    "**disco**: corresponde a la lista con la información del rotor a avanzar. Esta es una lista de listas.<br>\n",
    "**paso**. Esta variable indicará la cantidad de pasos que debe avanzar el rotor.\n",
    "\n",
    "Salida:<br>\n",
    "La funión deve devolver el rotor (lista de listas) rotado **paso** pasos.\n",
    "\n",
    "TIP:\n",
    "1. Recuerda el uso de **pop( )** y **append( )** en las listas"
   ]
  },
  {
   "cell_type": "code",
   "execution_count": null,
   "metadata": {
    "id": "mknnst6cQM2W"
   },
   "outputs": [],
   "source": [
    "# Tarea 3: Crea una función para girar los rotores\n",
    "#Rot_der_gir = []\n",
    "def avanza_rotor(Rot_der,paso):\n",
    "    global Rot_der_gir\n",
    "    Aux = Rot_der\n",
    "    for x in range (paso):\n",
    "        Rot_der_gir = []\n",
    "        for i in range (len(Rot_der)):\n",
    "            if i == 0:\n",
    "                Rot_der_gir.append(Aux[1])\n",
    "                       \n",
    "            elif i >= 1 and i < 25:\n",
    "                Rot_der_gir.append(Aux[i+1])\n",
    "            \n",
    "            else:\n",
    "                Rot_der_gir.append(Aux[0])\n",
    "        Aux = Rot_der_gir\n",
    "    return Rot_der_gir\n",
    "    #print(Rot_der)        \n",
    "    print(Rot_der_gir)\n",
    "    #print(Aux)\n",
    "\n",
    "\n",
    "#Rot_med_gir = []\n",
    "def avanza_rotor2(Rot_med,paso2):\n",
    "    global Rot_med_gir\n",
    "    Aux2 = Rot_med\n",
    "    for y in range (paso2):\n",
    "        Rot_med_gir = []\n",
    "        for j in range (len(Rot_med)):\n",
    "            if j == 0:\n",
    "                Rot_med_gir.append(Aux2[1])\n",
    "                       \n",
    "            elif j >= 1 and j < 25:\n",
    "                Rot_med_gir.append(Aux2[j+1])\n",
    "            \n",
    "            else:\n",
    "                Rot_med_gir.append(Aux2[0])\n",
    "        Aux2 = Rot_med_gir\n",
    "    return Rot_med_gir\n",
    "    #print(Rot_der)        \n",
    "    #print(Rot_der_gir)\n",
    "    #print(Aux)\n",
    "\n",
    "\n",
    "#Rot_izq_gir = []\n",
    "def avanza_rotor3(Rot_izq,paso3):\n",
    "    global Rot_izq_gir\n",
    "    Aux3 = Rot_izq\n",
    "    for z in range (paso3):\n",
    "        Rot_izq_gir = []\n",
    "        for k in range (len(Rot_izq)):\n",
    "            if k == 0:\n",
    "                Rot_izq_gir.append(Aux3[1])\n",
    "                       \n",
    "            elif k >= 1 and k < 25:\n",
    "                Rot_izq_gir.append(Aux3[k+1])\n",
    "            \n",
    "            else:\n",
    "                Rot_izq_gir.append(Aux3[0])\n",
    "        Aux3 = Rot_izq_gir\n",
    "    return Rot_izq_gir\n",
    "    #print(Rot_izq)        \n",
    "    #print(Rot_izq_gir)\n",
    "    #print(Aux2)"
   ]
  },
  {
   "cell_type": "code",
   "execution_count": null,
   "metadata": {
    "colab": {
     "base_uri": "https://localhost:8080/",
     "height": 513
    },
    "id": "t0D0HeL0BX67",
    "outputId": "4f489c78-6a71-4255-d88f-ed861bd354f2"
   },
   "outputs": [
    {
     "name": "stdout",
     "output_type": "stream",
     "text": [
      "Rot_izq  Rot_med_gir  Rot_der_gir\n",
      "   (['B', 'K'], ['B', 'J'], ['B', 'D'])\n",
      "   (['C', 'M'], ['C', 'D'], ['C', 'F'])\n",
      "   (['D', 'F'], ['D', 'K'], ['D', 'H'])\n",
      "   (['E', 'L'], ['E', 'S'], ['E', 'J'])\n",
      "   (['F', 'G'], ['F', 'I'], ['F', 'L'])\n",
      "   (['G', 'D'], ['G', 'R'], ['G', 'C'])\n",
      "   (['H', 'Q'], ['H', 'U'], ['H', 'P'])\n",
      "   (['I', 'V'], ['I', 'X'], ['I', 'R'])\n",
      "   (['J', 'Z'], ['J', 'B'], ['J', 'T'])\n",
      "   (['K', 'N'], ['K', 'L'], ['K', 'X'])\n",
      "   (['L', 'T'], ['L', 'H'], ['L', 'V'])\n",
      "   (['M', 'O'], ['M', 'W'], ['M', 'Z'])\n",
      "   (['N', 'W'], ['N', 'T'], ['N', 'N'])\n",
      "   (['O', 'Y'], ['O', 'M'], ['O', 'Y'])\n",
      "   (['P', 'H'], ['P', 'C'], ['P', 'E'])\n",
      "   (['Q', 'X'], ['Q', 'Q'], ['Q', 'I'])\n",
      "   (['R', 'U'], ['R', 'G'], ['R', 'W'])\n",
      "   (['S', 'S'], ['S', 'Z'], ['S', 'G'])\n",
      "   (['T', 'P'], ['T', 'N'], ['T', 'A'])\n",
      "   (['U', 'A'], ['U', 'P'], ['U', 'K'])\n",
      "   (['V', 'I'], ['V', 'Y'], ['V', 'M'])\n",
      "   (['W', 'B'], ['W', 'F'], ['W', 'U'])\n",
      "   (['X', 'R'], ['X', 'V'], ['X', 'S'])\n",
      "   (['Y', 'C'], ['Y', 'O'], ['Y', 'Q'])\n",
      "   (['Z', 'J'], ['Z', 'E'], ['Z', 'O'])\n",
      "   (['A', 'E'], ['A', 'A'], ['A', 'B'])\n",
      "[['A', 'B'], ['B', 'D'], ['C', 'F'], ['D', 'H'], ['E', 'J'], ['F', 'L'], ['G', 'C'], ['H', 'P'], ['I', 'R'], ['J', 'T'], ['K', 'X'], ['L', 'V'], ['M', 'Z'], ['N', 'N'], ['O', 'Y'], ['P', 'E'], ['Q', 'I'], ['R', 'W'], ['S', 'G'], ['T', 'A'], ['U', 'K'], ['V', 'M'], ['W', 'U'], ['X', 'S'], ['Y', 'Q'], ['Z', 'O']]\n"
     ]
    }
   ],
   "source": [
    "paso = 1\n",
    "paso2 = 1\n",
    "paso3 = 1\n",
    "avanza_rotor(Rot_der,paso)\n",
    "avanza_rotor2(Rot_med,paso2)\n",
    "avanza_rotor3(Rot_izq,paso3)\n",
    "print(f'Rot_izq  Rot_med_gir  Rot_der_gir')\n",
    "\n",
    "for i in zip(Rot_izq_gir, Rot_med_gir, Rot_der_gir):\n",
    "    print(f'   {i}')\n",
    "\n",
    "#print(Rot_der)"
   ]
  },
  {
   "cell_type": "markdown",
   "metadata": {
    "id": "ARMCdUifQM2Z"
   },
   "source": [
    "## <font color='green'>Tarea 4:</font> Crea una función para posicionar los rotores según la clave inicial\n",
    "\n",
    "Crea una función que configure la posición inicial de los rotores. Llámala **conf_rotores** de esta forma:\n",
    "\n",
    "```python\n",
    "def conf_rotores(clave_inicial):\n",
    "```\n",
    "Entrada:<br>\n",
    "**clave_inicial**: corresponde a un string de tres letras.<br>\n",
    "\n",
    "A partir de la clave inicial se rotan los tres rotores (izquierdo, medio y derecho).\n",
    "\n",
    "Salida:<br>\n",
    "La funión debe devolver los tres rotores posicionados según la clave ingresada.\n",
    "\n",
    "Tip:\n",
    "1. Necesitarás usa un ciclo **while** cuya condición de salida sea que la letra izquierda del primer par de letras de cada rotor coincida con la letra correspondiente de la clave ingresada.\n",
    "2. No es necesario que pases los rotores (lista) como argumentos ya que esta estrcutura tiene caracter *global* en Python\n"
   ]
  },
  {
   "cell_type": "code",
   "execution_count": null,
   "metadata": {
    "id": "3L1v3OBlQM2a"
   },
   "outputs": [],
   "source": [
    "# Tarea 4: Crea una función para posicionar los rotores según la clave inicial\n",
    "\n",
    "def conf_rotores(clave_inicial, verbose=True):\n",
    "    aumenta1 = 0\n",
    "    aumenta2 = 0\n",
    "    aumenta3 = 0\n",
    "    global Rot_der_K\n",
    "    global Rot_med_C\n",
    "    global Rot_izq_M\n",
    "\n",
    "    while Rot_der[aumenta1][0] != clave_inicial[2]:\n",
    "        avanza_rotor(Rot_der, aumenta1+1)\n",
    "        aumenta1 += 1\n",
    "    #print(Rot_der_gir)\n",
    "    Rot_der_K = Rot_der_gir\n",
    "    print(Rot_der_K)\n",
    "    #return Rot_der_gir\n",
    "        \n",
    "    while Rot_med[aumenta2][0] != clave_inicial[1]:\n",
    "        avanza_rotor2(Rot_med, aumenta2+1)\n",
    "        aumenta2 += 1\n",
    "    #print(Rot_med_gir)\n",
    "    Rot_med_C = Rot_med_gir\n",
    "    print(Rot_med_C)\n",
    "    #return Rot_med_gir\n",
    "\n",
    "    while Rot_izq[aumenta3][0] != clave_inicial[0]:\n",
    "        avanza_rotor3(Rot_izq, aumenta3+1)\n",
    "        aumenta3 += 1\n",
    "    #print(Rot_izq_gir)\n",
    "    Rot_izq_M = Rot_izq_gir    \n",
    "    print(Rot_izq_M)\n",
    "    #return Rot_izq_gir\n",
    "    \n",
    "    #return Rot_der_gir\n",
    "    #return Rot_med_gir\n",
    "    #return Rot_izq_gir"
   ]
  },
  {
   "cell_type": "code",
   "execution_count": null,
   "metadata": {
    "colab": {
     "base_uri": "https://localhost:8080/",
     "height": 88
    },
    "id": "REiGf81EQM2d",
    "outputId": "47e36f4e-035a-4db3-fa71-55d421e1584f"
   },
   "outputs": [
    {
     "name": "stdout",
     "output_type": "stream",
     "text": [
      "[['K', 'X'], ['L', 'V'], ['M', 'Z'], ['N', 'N'], ['O', 'Y'], ['P', 'E'], ['Q', 'I'], ['R', 'W'], ['S', 'G'], ['T', 'A'], ['U', 'K'], ['V', 'M'], ['W', 'U'], ['X', 'S'], ['Y', 'Q'], ['Z', 'O'], ['A', 'B'], ['B', 'D'], ['C', 'F'], ['D', 'H'], ['E', 'J'], ['F', 'L'], ['G', 'C'], ['H', 'P'], ['I', 'R'], ['J', 'T']]\n",
      "[['C', 'D'], ['D', 'K'], ['E', 'S'], ['F', 'I'], ['G', 'R'], ['H', 'U'], ['I', 'X'], ['J', 'B'], ['K', 'L'], ['L', 'H'], ['M', 'W'], ['N', 'T'], ['O', 'M'], ['P', 'C'], ['Q', 'Q'], ['R', 'G'], ['S', 'Z'], ['T', 'N'], ['U', 'P'], ['V', 'Y'], ['W', 'F'], ['X', 'V'], ['Y', 'O'], ['Z', 'E'], ['A', 'A'], ['B', 'J']]\n",
      "[['M', 'O'], ['N', 'W'], ['O', 'Y'], ['P', 'H'], ['Q', 'X'], ['R', 'U'], ['S', 'S'], ['T', 'P'], ['U', 'A'], ['V', 'I'], ['W', 'B'], ['X', 'R'], ['Y', 'C'], ['Z', 'J'], ['A', 'E'], ['B', 'K'], ['C', 'M'], ['D', 'F'], ['E', 'L'], ['F', 'G'], ['G', 'D'], ['H', 'Q'], ['I', 'V'], ['J', 'Z'], ['K', 'N'], ['L', 'T']]\n"
     ]
    }
   ],
   "source": [
    "# Pureba con la clave 'MCK'\n",
    "\n",
    "conf_rotores('MCK')"
   ]
  },
  {
   "cell_type": "code",
   "execution_count": null,
   "metadata": {
    "colab": {
     "base_uri": "https://localhost:8080/",
     "height": 476
    },
    "id": "UsfLHEgaQM2h",
    "outputId": "e398e4aa-3dda-4a04-8c4d-b02f771021d9"
   },
   "outputs": [
    {
     "name": "stdout",
     "output_type": "stream",
     "text": [
      "Reflector  Rotor_izq   Rotor_med   Rotor_der   Teclado\n",
      "   ('A', ['M', 'O'], ['C', 'D'], ['K', 'X'], 'A')\n",
      "   ('B', ['N', 'W'], ['D', 'K'], ['L', 'V'], 'B')\n",
      "   ('C', ['O', 'Y'], ['E', 'S'], ['M', 'Z'], 'C')\n",
      "   ('D', ['P', 'H'], ['F', 'I'], ['N', 'N'], 'D')\n",
      "   ('E', ['Q', 'X'], ['G', 'R'], ['O', 'Y'], 'E')\n",
      "   ('F', ['R', 'U'], ['H', 'U'], ['P', 'E'], 'F')\n",
      "   ('G', ['S', 'S'], ['I', 'X'], ['Q', 'I'], 'G')\n",
      "   ('D', ['T', 'P'], ['J', 'B'], ['R', 'W'], 'H')\n",
      "   ('I', ['U', 'A'], ['K', 'L'], ['S', 'G'], 'I')\n",
      "   ('J', ['V', 'I'], ['L', 'H'], ['T', 'A'], 'J')\n",
      "   ('K', ['W', 'B'], ['M', 'W'], ['U', 'K'], 'K')\n",
      "   ('G', ['X', 'R'], ['N', 'T'], ['V', 'M'], 'L')\n",
      "   ('M', ['Y', 'C'], ['O', 'M'], ['W', 'U'], 'M')\n",
      "   ('K', ['Z', 'J'], ['P', 'C'], ['X', 'S'], 'N')\n",
      "   ('M', ['A', 'E'], ['Q', 'Q'], ['Y', 'Q'], 'O')\n",
      "   ('I', ['B', 'K'], ['R', 'G'], ['Z', 'O'], 'P')\n",
      "   ('E', ['C', 'M'], ['S', 'Z'], ['A', 'B'], 'Q')\n",
      "   ('B', ['D', 'F'], ['T', 'N'], ['B', 'D'], 'R')\n",
      "   ('F', ['E', 'L'], ['U', 'P'], ['C', 'F'], 'S')\n",
      "   ('T', ['F', 'G'], ['V', 'Y'], ['D', 'H'], 'T')\n",
      "   ('C', ['G', 'D'], ['W', 'F'], ['E', 'J'], 'U')\n",
      "   ('V', ['H', 'Q'], ['X', 'V'], ['F', 'L'], 'V')\n",
      "   ('V', ['I', 'V'], ['Y', 'O'], ['G', 'C'], 'W')\n",
      "   ('J', ['J', 'Z'], ['Z', 'E'], ['H', 'P'], 'X')\n",
      "   ('A', ['K', 'N'], ['A', 'A'], ['I', 'R'], 'Y')\n",
      "   ('T', ['L', 'T'], ['B', 'J'], ['J', 'T'], 'Z')\n"
     ]
    }
   ],
   "source": [
    "# Imprime la nueva configuración de rotores\n",
    "# Este codigo lo deberías haber hecho más arriba\n",
    "print(f'Reflector  Rotor_izq   Rotor_med   Rotor_der   Teclado')\n",
    "\n",
    "# Tu código aquí ...\n",
    "\n",
    "for l in zip(Reflector, Rot_izq_gir_M, Rot_med_gir_C, Rot_der_gir_K, Teclado):\n",
    "    print(f'   {l}')\n",
    "\n"
   ]
  },
  {
   "cell_type": "markdown",
   "metadata": {
    "id": "vYmi1uObQM2k"
   },
   "source": [
    "## <font color='green'>Tarea 5:</font> Crea funciones para pasar señales por los rotores\n",
    "\n",
    "Crea tres funciones llamadas **pasa_senal_ida**, **pasa_senal_vuelta** y **pasa_senal_ida** y **indice_reflextor** de esta forma:\n",
    "\n",
    "```python\n",
    "def pasa_senal_ida(rotor, indice):\n",
    "\n",
    "    \n",
    "def pasa_senal_vuelta(rotor, indice):\n",
    "    \n",
    "    \n",
    "def indice_reflextor(rotor, indice):\n",
    "    \n",
    "```\n",
    "Entrada:<br>\n",
    "**rotor**: corresponde a la lista con la información del rotor. Esta es una lista de listas.<br>\n",
    "**indice**. Es el punto de contacto en el rotor: En el caso de **pasa_senal_ida** será por la derecha y en el caso de **pasa_senal_vuelta** será por la izquierda\n",
    "\n",
    "Salida:<br>\n",
    "Las funciones devuelven el indice de salida del rotor"
   ]
  },
  {
   "cell_type": "code",
   "execution_count": null,
   "metadata": {
    "id": "LIe7GKZkQM2k"
   },
   "outputs": [],
   "source": [
    "# Tu código aquí ...\n",
    "def pasa_senal_ida(Rotor,indice1):\n",
    "    \n",
    "    letra_in1 = Rotor[indice1][1]\n",
    "    print(letra_in1)\n",
    "    for puntero1 in range (len(Rotor)):\n",
    "        if Rotor[puntero1][0] == letra_in1:\n",
    "            indice_salida_der = puntero1\n",
    "            return indice_salida_der\n",
    "            #print(puntero1)\n",
    "\n",
    "'''def pasa_senal_ida_2(Rot_med_gir,indice2):\n",
    "    global indice_salida_med\n",
    "    letra_in2 = Rot_med_gir[indice2][1]\n",
    "    #print(letra_in2)\n",
    "    for puntero2 in range (len(Rot_med_gir)):\n",
    "        if Rot_med_gir[puntero2][0] == letra_in2:\n",
    "            indice_salida_med = puntero2\n",
    "            return indice_salida_med\n",
    "            #print(puntero2)\n",
    "'''\n",
    "\n",
    "'''def pasa_senal_ida_3(Rot_izq_gir,indice3):\n",
    "    global indice_salida_izq\n",
    "    letra_in3 = Rot_izq_gir[indice3][1]\n",
    "    #print(letra_in3)\n",
    "    for puntero3 in range (len(Rot_med_gir)):\n",
    "        if Rot_med_gir[puntero3][0] == letra_in3:\n",
    "            indice_salida_izq = puntero3\n",
    "            return indice_salida_izq\n",
    "            #print(puntero3)\n",
    "'''            \n",
    "\n",
    "def indice_reflextor(Reflector,indice4):\n",
    "    global indice_salida_ref\n",
    "    Ref_Aux = []\n",
    "    letra_in4 = Reflector[indice4]\n",
    "    for punt in range(len(Reflector)):\n",
    "        if punt == indice4:\n",
    "            Ref_Aux.append('0')\n",
    "        else:\n",
    "            Ref_Aux.append(Reflector[punt])\n",
    "              \n",
    "    for m in range(len(Ref_Aux)):\n",
    "        if Ref_Aux[m] == letra_in4:\n",
    "            indice_salida_ref = m\n",
    "            return indice_salida_ref\n",
    "            #print(indice_salida_ref)\n",
    "\n",
    "\n",
    "def pasa_senal_vuelta(Rotor,indice2):\n",
    "    global indice_salida2\n",
    "    letra_in2 = Rotor[indice2][0]\n",
    "    for puntero2 in range (len(Rotor)):\n",
    "        if Rotor[puntero2][1] == letra_in2:\n",
    "            indice_salida2 = puntero2\n",
    "            return indice_salida2\n",
    "            print(puntero2)\n",
    "\n"
   ]
  },
  {
   "cell_type": "code",
   "execution_count": null,
   "metadata": {
    "colab": {
     "base_uri": "https://localhost:8080/",
     "height": 51
    },
    "id": "S3KVuUAMDOyb",
    "outputId": "faddce4b-2e2f-485c-9fc2-5e57cd61bb69"
   },
   "outputs": [
    {
     "name": "stdout",
     "output_type": "stream",
     "text": [
      "I\n"
     ]
    },
    {
     "data": {
      "text/plain": [
       "8"
      ]
     },
     "execution_count": 38,
     "metadata": {
      "tags": []
     },
     "output_type": "execute_result"
    }
   ],
   "source": [
    "indice1 = 16\n",
    "pasa_senal_ida(Rot_der,indice1)\n",
    "\n",
    "#print(Rot_der[6][0])"
   ]
  },
  {
   "cell_type": "code",
   "execution_count": null,
   "metadata": {
    "colab": {
     "base_uri": "https://localhost:8080/",
     "height": 34
    },
    "id": "xyuzNphTDVAt",
    "outputId": "7bfd9dda-6aa3-48be-baa0-8bb837a4568f"
   },
   "outputs": [
    {
     "data": {
      "text/plain": [
       "16"
      ]
     },
     "execution_count": 43,
     "metadata": {
      "tags": []
     },
     "output_type": "execute_result"
    }
   ],
   "source": [
    "indice2 = 8\n",
    "pasa_senal_vuelta(Rot_der,indice2)"
   ]
  },
  {
   "cell_type": "code",
   "execution_count": null,
   "metadata": {
    "colab": {
     "base_uri": "https://localhost:8080/",
     "height": 34
    },
    "id": "zLlYjrt8jpM9",
    "outputId": "4b6a45ce-631a-44a1-bbb1-e6ddfa8f623b"
   },
   "outputs": [
    {
     "data": {
      "text/plain": [
       "20"
      ]
     },
     "execution_count": 53,
     "metadata": {
      "tags": []
     },
     "output_type": "execute_result"
    }
   ],
   "source": [
    "indice3 = 2\n",
    "indice_reflextor(Reflector,indice3)"
   ]
  },
  {
   "cell_type": "markdown",
   "metadata": {
    "id": "gLtAN6HaQM2n"
   },
   "source": [
    "## <font color='green'>Tarea 5:</font> Armando la ENIGMA\n",
    "\n",
    "Bien hecho hasta acá Hacker. Ahora debes armar la máquina.\n",
    "\n",
    "Crea una función **enigma**\n",
    "\n",
    "```python\n",
    "def enigma(mensaje, clave):\n",
    "```\n",
    "Entrada:<br>\n",
    "**mensaje**: corresponde a un strig que contiene el mensaje a codificar. Recuerda que no se usaban ni numeros ni caractares especiales. Solo lo que el teclado de entrada pudiera escribir.<br>\n",
    "**clave**. Es la clave para posicionar los rotores al inicio\n",
    "\n",
    "Salida:<br>\n",
    "Mensaje cifrado\n"
   ]
  },
  {
   "cell_type": "code",
   "execution_count": null,
   "metadata": {
    "id": "xq7uEXXWQM2o"
   },
   "outputs": [],
   "source": [
    "# Tu código aquí ... AGREGAR EL TEMA DE SOLO NUMEROS NO LETRAS U OTRO CARACTER\n",
    "Frase = []\n",
    "\n",
    "def enigma(mensaje, clave):\n",
    "    \n",
    "         # Se rotan los discos a la posición clave\n",
    "        conf_rotores(clave, verbose=True)\n",
    "        Rot_der_K_AUX = Rot_der_K\n",
    "        Rot_med_C_AUX = Rot_med_C\n",
    "        Rot_izq_M_AUX = Rot_izq_M\n",
    "        for n in range(len(mensaje)): # Se recorre el mensaje de entrada y se giran los rotores\n",
    "            # Se avanza un paso el rotor derechi cada vez que ingresa un caracter del mensaje\n",
    "            avanza_rotor(Rot_der_K_AUX,1)\n",
    "            print(f'Rot_der_gir: {Rot_der_gir}')\n",
    "            Rot_der_K_AUX = Rot_der_gir\n",
    "            # Si el caracter 'V' de la fila izquierda del rotor derecho llega a la primera posición, avanza un paso el rotor medio\n",
    "            #if Rot_der_gir[0][0] == 'V':\n",
    "            #    print(f'Avanza Rotor Medio_V')\n",
    "            #    avanza_rotor2(Rot_med_C_AUX,1)\n",
    "            #    print(f'Rot_med_gir: {Rot_med_gir}')\n",
    "                # Si el caracter 'Q' de la fila izquierda del rotor medio llega a la primera posición, avanza un paso el rotor izquierdo\n",
    "            #    if Rot_med_gir[0][0] == 'Q':\n",
    "            #        print(f'Avanza Rotor Izquierda_Q')\n",
    "            #        avanza_rotor3(Rot_izq_M_AUX,1)\n",
    "            #        print(f'Rot_izq_gir: {Rot_izq_gir}')\n",
    "\n",
    "            # Cada vez que procesamos una letra, primero OK\n",
    "            # rotamos las dos componentes del disco derecho  OK\n",
    "            # Cuando la letra \"V\" del la componente de salida del rotor derecho  OK\n",
    "            # alcanza la posición inicial, se gira una posición el rotor central  OK\n",
    "           # Lo mismo ocurre cuando la letra 'Q' del rotor centra llega al inicio,  OK\n",
    "           # se avanza una posición ambos componentes del rotor izquierdo  OK\n",
    "              \n",
    "            # ida en rotor derecho\n",
    "            for pos_tec in range(len(Teclado)):\n",
    "                if mensaje[n] == Teclado[pos_tec]:\n",
    "                    print(f'Pos. teclado {pos_tec}')\n",
    "                    indice1 = pos_tec\n",
    "                \n",
    "                    Salida1 = pasa_senal_ida(Rot_der_gir,indice1)\n",
    "                    print(f' Retorno función PSI DER: {Salida1}')\n",
    "\n",
    "                    Salida2 = pasa_senal_ida(Rot_med_gir,Salida1)\n",
    "                    print(f' Retorno función PSI MED: {Salida2}')\n",
    "                \n",
    "                    Salida3 = pasa_senal_ida(Rot_izq_gir,Salida2)\n",
    "                    print(f' Retorno función PSI IZQ: {Salida3}')\n",
    "\n",
    "                    Salida4 = indice_reflextor(Reflector,Salida3)\n",
    "                    print(f' Retorno función PSI REF: {Salida4}')\n",
    "\n",
    "                    Salida5 = pasa_senal_vuelta(Rot_izq_gir,Salida4)\n",
    "                    print(f' Retorno función PSV IZQ : {Salida5}')\n",
    "\n",
    "                    Salida6 = pasa_senal_vuelta(Rot_med_gir,Salida5)\n",
    "                    print(f' Retorno función PSV MED : {Salida6}')\n",
    "\n",
    "                    Salida7 = pasa_senal_vuelta(Rot_der_gir,Salida6)\n",
    "                    print(f' Retorno función PSV DER : {Salida7}')\n",
    "\n",
    "                    Final = Teclado[Salida7]\n",
    "                    print(f' Posición de Retorno Final: {Final}')\n",
    "            if Rot_der_gir[0][0] == 'V':\n",
    "                print(f'Avanza Rotor Medio_V')\n",
    "                avanza_rotor2(Rot_med_C_AUX,1)\n",
    "                print(f'Rot_med_gir: {Rot_med_gir}')\n",
    "                # Si el caracter 'Q' de la fila izquierda del rotor medio llega a la primera posición, avanza un paso el rotor izquierdo\n",
    "                if Rot_med_gir[0][0] == 'Q':\n",
    "                    print(f'Avanza Rotor Izquierda_Q')\n",
    "                    avanza_rotor3(Rot_izq_M_AUX,1)\n",
    "                    print(f'Rot_izq_gir: {Rot_izq_gir}')\n",
    "            Frase.append(Final)\n",
    "            print(f'La frase es: {Frase}')\n",
    "            Frase_Final = ''.join(Frase)\n",
    "            #print(Frase_Final)\n",
    "\n",
    "        return Frase_Final "
   ]
  },
  {
   "cell_type": "code",
   "execution_count": null,
   "metadata": {
    "colab": {
     "base_uri": "https://localhost:8080/",
     "height": 1000
    },
    "id": "KZJQHLHcQM2q",
    "outputId": "11270159-bec0-4306-fcd7-eed755e7711f"
   },
   "outputs": [
    {
     "name": "stdout",
     "output_type": "stream",
     "text": [
      "[['K', 'X'], ['L', 'V'], ['M', 'Z'], ['N', 'N'], ['O', 'Y'], ['P', 'E'], ['Q', 'I'], ['R', 'W'], ['S', 'G'], ['T', 'A'], ['U', 'K'], ['V', 'M'], ['W', 'U'], ['X', 'S'], ['Y', 'Q'], ['Z', 'O'], ['A', 'B'], ['B', 'D'], ['C', 'F'], ['D', 'H'], ['E', 'J'], ['F', 'L'], ['G', 'C'], ['H', 'P'], ['I', 'R'], ['J', 'T']]\n",
      "[['C', 'D'], ['D', 'K'], ['E', 'S'], ['F', 'I'], ['G', 'R'], ['H', 'U'], ['I', 'X'], ['J', 'B'], ['K', 'L'], ['L', 'H'], ['M', 'W'], ['N', 'T'], ['O', 'M'], ['P', 'C'], ['Q', 'Q'], ['R', 'G'], ['S', 'Z'], ['T', 'N'], ['U', 'P'], ['V', 'Y'], ['W', 'F'], ['X', 'V'], ['Y', 'O'], ['Z', 'E'], ['A', 'A'], ['B', 'J']]\n",
      "[['M', 'O'], ['N', 'W'], ['O', 'Y'], ['P', 'H'], ['Q', 'X'], ['R', 'U'], ['S', 'S'], ['T', 'P'], ['U', 'A'], ['V', 'I'], ['W', 'B'], ['X', 'R'], ['Y', 'C'], ['Z', 'J'], ['A', 'E'], ['B', 'K'], ['C', 'M'], ['D', 'F'], ['E', 'L'], ['F', 'G'], ['G', 'D'], ['H', 'Q'], ['I', 'V'], ['J', 'Z'], ['K', 'N'], ['L', 'T']]\n",
      "Rot_der_gir: [['L', 'V'], ['M', 'Z'], ['N', 'N'], ['O', 'Y'], ['P', 'E'], ['Q', 'I'], ['R', 'W'], ['S', 'G'], ['T', 'A'], ['U', 'K'], ['V', 'M'], ['W', 'U'], ['X', 'S'], ['Y', 'Q'], ['Z', 'O'], ['A', 'B'], ['B', 'D'], ['C', 'F'], ['D', 'H'], ['E', 'J'], ['F', 'L'], ['G', 'C'], ['H', 'P'], ['I', 'R'], ['J', 'T'], ['K', 'X']]\n",
      "Pos. teclado 16\n",
      "D\n",
      " Retorno función PSI DER: 18\n",
      "P\n",
      " Retorno función PSI MED: 13\n",
      "J\n",
      " Retorno función PSI IZQ: 23\n",
      " Retorno función PSI REF: 9\n",
      " Retorno función PSV IZQ : 22\n",
      " Retorno función PSV MED : 19\n",
      " Retorno función PSV DER : 4\n",
      " Posición de Retorno Final: E\n",
      "La frase es: ['E']\n",
      "Rot_der_gir: [['M', 'Z'], ['N', 'N'], ['O', 'Y'], ['P', 'E'], ['Q', 'I'], ['R', 'W'], ['S', 'G'], ['T', 'A'], ['U', 'K'], ['V', 'M'], ['W', 'U'], ['X', 'S'], ['Y', 'Q'], ['Z', 'O'], ['A', 'B'], ['B', 'D'], ['C', 'F'], ['D', 'H'], ['E', 'J'], ['F', 'L'], ['G', 'C'], ['H', 'P'], ['I', 'R'], ['J', 'T'], ['K', 'X'], ['L', 'V']]\n",
      "Pos. teclado 12\n",
      "Q\n",
      " Retorno función PSI DER: 4\n",
      "R\n",
      " Retorno función PSI MED: 15\n",
      "K\n",
      " Retorno función PSI IZQ: 24\n",
      " Retorno función PSI REF: 0\n",
      " Retorno función PSV IZQ : 16\n",
      " Retorno función PSV MED : 2\n",
      " Retorno función PSV DER : 13\n",
      " Posición de Retorno Final: N\n",
      "La frase es: ['E', 'N']\n",
      "Rot_der_gir: [['N', 'N'], ['O', 'Y'], ['P', 'E'], ['Q', 'I'], ['R', 'W'], ['S', 'G'], ['T', 'A'], ['U', 'K'], ['V', 'M'], ['W', 'U'], ['X', 'S'], ['Y', 'Q'], ['Z', 'O'], ['A', 'B'], ['B', 'D'], ['C', 'F'], ['D', 'H'], ['E', 'J'], ['F', 'L'], ['G', 'C'], ['H', 'P'], ['I', 'R'], ['J', 'T'], ['K', 'X'], ['L', 'V'], ['M', 'Z']]\n",
      "Pos. teclado 9\n",
      "U\n",
      " Retorno función PSI DER: 7\n",
      "B\n",
      " Retorno función PSI MED: 25\n",
      "T\n",
      " Retorno función PSI IZQ: 7\n",
      " Retorno función PSI REF: 3\n",
      " Retorno función PSV IZQ : 7\n",
      " Retorno función PSV MED : 25\n",
      " Retorno función PSV DER : 8\n",
      " Posición de Retorno Final: I\n",
      "La frase es: ['E', 'N', 'I']\n",
      "Rot_der_gir: [['O', 'Y'], ['P', 'E'], ['Q', 'I'], ['R', 'W'], ['S', 'G'], ['T', 'A'], ['U', 'K'], ['V', 'M'], ['W', 'U'], ['X', 'S'], ['Y', 'Q'], ['Z', 'O'], ['A', 'B'], ['B', 'D'], ['C', 'F'], ['D', 'H'], ['E', 'J'], ['F', 'L'], ['G', 'C'], ['H', 'P'], ['I', 'R'], ['J', 'T'], ['K', 'X'], ['L', 'V'], ['M', 'Z'], ['N', 'N']]\n",
      "Pos. teclado 8\n",
      "U\n",
      " Retorno función PSI DER: 6\n",
      "X\n",
      " Retorno función PSI MED: 21\n",
      "Q\n",
      " Retorno función PSI IZQ: 4\n",
      " Retorno función PSI REF: 16\n",
      " Retorno función PSV IZQ : 12\n",
      " Retorno función PSV MED : 22\n",
      " Retorno función PSV DER : 6\n",
      " Posición de Retorno Final: G\n",
      "La frase es: ['E', 'N', 'I', 'G']\n",
      "Rot_der_gir: [['P', 'E'], ['Q', 'I'], ['R', 'W'], ['S', 'G'], ['T', 'A'], ['U', 'K'], ['V', 'M'], ['W', 'U'], ['X', 'S'], ['Y', 'Q'], ['Z', 'O'], ['A', 'B'], ['B', 'D'], ['C', 'F'], ['D', 'H'], ['E', 'J'], ['F', 'L'], ['G', 'C'], ['H', 'P'], ['I', 'R'], ['J', 'T'], ['K', 'X'], ['L', 'V'], ['M', 'Z'], ['N', 'N'], ['O', 'Y']]\n",
      "Pos. teclado 3\n",
      "G\n",
      " Retorno función PSI DER: 17\n",
      "N\n",
      " Retorno función PSI MED: 11\n",
      "R\n",
      " Retorno función PSI IZQ: 5\n",
      " Retorno función PSI REF: 18\n",
      " Retorno función PSV IZQ : 14\n",
      " Retorno función PSV MED : 14\n",
      " Retorno función PSV DER : 12\n",
      " Posición de Retorno Final: M\n",
      "La frase es: ['E', 'N', 'I', 'G', 'M']\n",
      "Rot_der_gir: [['Q', 'I'], ['R', 'W'], ['S', 'G'], ['T', 'A'], ['U', 'K'], ['V', 'M'], ['W', 'U'], ['X', 'S'], ['Y', 'Q'], ['Z', 'O'], ['A', 'B'], ['B', 'D'], ['C', 'F'], ['D', 'H'], ['E', 'J'], ['F', 'L'], ['G', 'C'], ['H', 'P'], ['I', 'R'], ['J', 'T'], ['K', 'X'], ['L', 'V'], ['M', 'Z'], ['N', 'N'], ['O', 'Y'], ['P', 'E']]\n",
      "Pos. teclado 14\n",
      "J\n",
      " Retorno función PSI DER: 19\n",
      "Y\n",
      " Retorno función PSI MED: 22\n",
      "V\n",
      " Retorno función PSI IZQ: 9\n",
      " Retorno función PSI REF: 23\n",
      " Retorno función PSV IZQ : 13\n",
      " Retorno función PSV MED : 18\n",
      " Retorno función PSV DER : 0\n",
      " Posición de Retorno Final: A\n",
      "La frase es: ['E', 'N', 'I', 'G', 'M', 'A']\n",
      "Rot_der_gir: [['R', 'W'], ['S', 'G'], ['T', 'A'], ['U', 'K'], ['V', 'M'], ['W', 'U'], ['X', 'S'], ['Y', 'Q'], ['Z', 'O'], ['A', 'B'], ['B', 'D'], ['C', 'F'], ['D', 'H'], ['E', 'J'], ['F', 'L'], ['G', 'C'], ['H', 'P'], ['I', 'R'], ['J', 'T'], ['K', 'X'], ['L', 'V'], ['M', 'Z'], ['N', 'N'], ['O', 'Y'], ['P', 'E'], ['Q', 'I']]\n",
      "Pos. teclado 12\n",
      "H\n",
      " Retorno función PSI DER: 16\n",
      "Z\n",
      " Retorno función PSI MED: 23\n",
      "Z\n",
      " Retorno función PSI IZQ: 13\n",
      " Retorno función PSI REF: 10\n",
      " Retorno función PSV IZQ : 1\n",
      " Retorno función PSV MED : 0\n",
      " Retorno función PSV DER : 17\n",
      " Posición de Retorno Final: R\n",
      "La frase es: ['E', 'N', 'I', 'G', 'M', 'A', 'R']\n",
      "Rot_der_gir: [['S', 'G'], ['T', 'A'], ['U', 'K'], ['V', 'M'], ['W', 'U'], ['X', 'S'], ['Y', 'Q'], ['Z', 'O'], ['A', 'B'], ['B', 'D'], ['C', 'F'], ['D', 'H'], ['E', 'J'], ['F', 'L'], ['G', 'C'], ['H', 'P'], ['I', 'R'], ['J', 'T'], ['K', 'X'], ['L', 'V'], ['M', 'Z'], ['N', 'N'], ['O', 'Y'], ['P', 'E'], ['Q', 'I'], ['R', 'W']]\n",
      "Pos. teclado 25\n",
      "W\n",
      " Retorno función PSI DER: 4\n",
      "R\n",
      " Retorno función PSI MED: 15\n",
      "K\n",
      " Retorno función PSI IZQ: 24\n",
      " Retorno función PSI REF: 0\n",
      " Retorno función PSV IZQ : 16\n",
      " Retorno función PSV MED : 2\n",
      " Retorno función PSV DER : 4\n",
      " Posición de Retorno Final: E\n",
      "La frase es: ['E', 'N', 'I', 'G', 'M', 'A', 'R', 'E']\n",
      "Rot_der_gir: [['T', 'A'], ['U', 'K'], ['V', 'M'], ['W', 'U'], ['X', 'S'], ['Y', 'Q'], ['Z', 'O'], ['A', 'B'], ['B', 'D'], ['C', 'F'], ['D', 'H'], ['E', 'J'], ['F', 'L'], ['G', 'C'], ['H', 'P'], ['I', 'R'], ['J', 'T'], ['K', 'X'], ['L', 'V'], ['M', 'Z'], ['N', 'N'], ['O', 'Y'], ['P', 'E'], ['Q', 'I'], ['R', 'W'], ['S', 'G']]\n",
      "Pos. teclado 22\n",
      "E\n",
      " Retorno función PSI DER: 11\n",
      "T\n",
      " Retorno función PSI MED: 17\n",
      "F\n",
      " Retorno función PSI IZQ: 19\n",
      " Retorno función PSI REF: 25\n",
      " Retorno función PSV IZQ : 18\n",
      " Retorno función PSV MED : 5\n",
      " Retorno función PSV DER : 21\n",
      " Posición de Retorno Final: V\n",
      "La frase es: ['E', 'N', 'I', 'G', 'M', 'A', 'R', 'E', 'V']\n",
      "Rot_der_gir: [['U', 'K'], ['V', 'M'], ['W', 'U'], ['X', 'S'], ['Y', 'Q'], ['Z', 'O'], ['A', 'B'], ['B', 'D'], ['C', 'F'], ['D', 'H'], ['E', 'J'], ['F', 'L'], ['G', 'C'], ['H', 'P'], ['I', 'R'], ['J', 'T'], ['K', 'X'], ['L', 'V'], ['M', 'Z'], ['N', 'N'], ['O', 'Y'], ['P', 'E'], ['Q', 'I'], ['R', 'W'], ['S', 'G'], ['T', 'A']]\n",
      "Pos. teclado 25\n",
      "A\n",
      " Retorno función PSI DER: 6\n",
      "X\n",
      " Retorno función PSI MED: 21\n",
      "Q\n",
      " Retorno función PSI IZQ: 4\n",
      " Retorno función PSI REF: 16\n",
      " Retorno función PSV IZQ : 12\n",
      " Retorno función PSV MED : 22\n",
      " Retorno función PSV DER : 4\n",
      " Posición de Retorno Final: E\n",
      "La frase es: ['E', 'N', 'I', 'G', 'M', 'A', 'R', 'E', 'V', 'E']\n",
      "Rot_der_gir: [['V', 'M'], ['W', 'U'], ['X', 'S'], ['Y', 'Q'], ['Z', 'O'], ['A', 'B'], ['B', 'D'], ['C', 'F'], ['D', 'H'], ['E', 'J'], ['F', 'L'], ['G', 'C'], ['H', 'P'], ['I', 'R'], ['J', 'T'], ['K', 'X'], ['L', 'V'], ['M', 'Z'], ['N', 'N'], ['O', 'Y'], ['P', 'E'], ['Q', 'I'], ['R', 'W'], ['S', 'G'], ['T', 'A'], ['U', 'K']]\n",
      "Pos. teclado 9\n",
      "J\n",
      " Retorno función PSI DER: 14\n",
      "Q\n",
      " Retorno función PSI MED: 14\n",
      "E\n",
      " Retorno función PSI IZQ: 18\n",
      " Retorno función PSI REF: 5\n",
      " Retorno función PSV IZQ : 11\n",
      " Retorno función PSV MED : 17\n",
      " Retorno función PSV DER : 0\n",
      " Posición de Retorno Final: A\n",
      "Avanza Rotor Medio_V\n",
      "Rot_med_gir: [['D', 'K'], ['E', 'S'], ['F', 'I'], ['G', 'R'], ['H', 'U'], ['I', 'X'], ['J', 'B'], ['K', 'L'], ['L', 'H'], ['M', 'W'], ['N', 'T'], ['O', 'M'], ['P', 'C'], ['Q', 'Q'], ['R', 'G'], ['S', 'Z'], ['T', 'N'], ['U', 'P'], ['V', 'Y'], ['W', 'F'], ['X', 'V'], ['Y', 'O'], ['Z', 'E'], ['A', 'A'], ['B', 'J'], ['C', 'D']]\n",
      "La frase es: ['E', 'N', 'I', 'G', 'M', 'A', 'R', 'E', 'V', 'E', 'A']\n",
      "Rot_der_gir: [['W', 'U'], ['X', 'S'], ['Y', 'Q'], ['Z', 'O'], ['A', 'B'], ['B', 'D'], ['C', 'F'], ['D', 'H'], ['E', 'J'], ['F', 'L'], ['G', 'C'], ['H', 'P'], ['I', 'R'], ['J', 'T'], ['K', 'X'], ['L', 'V'], ['M', 'Z'], ['N', 'N'], ['O', 'Y'], ['P', 'E'], ['Q', 'I'], ['R', 'W'], ['S', 'G'], ['T', 'A'], ['U', 'K'], ['V', 'M']]\n",
      "Pos. teclado 5\n",
      "D\n",
      " Retorno función PSI DER: 7\n",
      "L\n",
      " Retorno función PSI MED: 8\n",
      "A\n",
      " Retorno función PSI IZQ: 14\n",
      " Retorno función PSI REF: 12\n",
      " Retorno función PSV IZQ : 2\n",
      " Retorno función PSV MED : 19\n",
      " Retorno función PSV DER : 11\n",
      " Posición de Retorno Final: L\n",
      "La frase es: ['E', 'N', 'I', 'G', 'M', 'A', 'R', 'E', 'V', 'E', 'A', 'L']\n",
      "Rot_der_gir: [['X', 'S'], ['Y', 'Q'], ['Z', 'O'], ['A', 'B'], ['B', 'D'], ['C', 'F'], ['D', 'H'], ['E', 'J'], ['F', 'L'], ['G', 'C'], ['H', 'P'], ['I', 'R'], ['J', 'T'], ['K', 'X'], ['L', 'V'], ['M', 'Z'], ['N', 'N'], ['O', 'Y'], ['P', 'E'], ['Q', 'I'], ['R', 'W'], ['S', 'G'], ['T', 'A'], ['U', 'K'], ['V', 'M'], ['W', 'U']]\n",
      "Pos. teclado 9\n",
      "C\n",
      " Retorno función PSI DER: 5\n",
      "X\n",
      " Retorno función PSI MED: 20\n",
      "D\n",
      " Retorno función PSI IZQ: 17\n",
      " Retorno función PSI REF: 1\n",
      " Retorno función PSV IZQ : 24\n",
      " Retorno función PSV MED : 6\n",
      " Retorno función PSV DER : 4\n",
      " Posición de Retorno Final: E\n",
      "La frase es: ['E', 'N', 'I', 'G', 'M', 'A', 'R', 'E', 'V', 'E', 'A', 'L', 'E']\n",
      "Rot_der_gir: [['Y', 'Q'], ['Z', 'O'], ['A', 'B'], ['B', 'D'], ['C', 'F'], ['D', 'H'], ['E', 'J'], ['F', 'L'], ['G', 'C'], ['H', 'P'], ['I', 'R'], ['J', 'T'], ['K', 'X'], ['L', 'V'], ['M', 'Z'], ['N', 'N'], ['O', 'Y'], ['P', 'E'], ['Q', 'I'], ['R', 'W'], ['S', 'G'], ['T', 'A'], ['U', 'K'], ['V', 'M'], ['W', 'U'], ['X', 'S']]\n",
      "Pos. teclado 17\n",
      "E\n",
      " Retorno función PSI DER: 6\n",
      "B\n",
      " Retorno función PSI MED: 24\n",
      "N\n",
      " Retorno función PSI IZQ: 1\n",
      " Retorno función PSI REF: 17\n",
      " Retorno función PSV IZQ : 20\n",
      " Retorno función PSV MED : 5\n",
      " Retorno función PSV DER : 3\n",
      " Posición de Retorno Final: D\n",
      "La frase es: ['E', 'N', 'I', 'G', 'M', 'A', 'R', 'E', 'V', 'E', 'A', 'L', 'E', 'D']\n"
     ]
    },
    {
     "data": {
      "application/vnd.google.colaboratory.intrinsic+json": {
       "type": "string"
      },
      "text/plain": [
       "'ENIGMAREVEALED'"
      ]
     },
     "execution_count": 33,
     "metadata": {
      "tags": []
     },
     "output_type": "execute_result"
    }
   ],
   "source": [
    "# Probemos si funciona\n",
    "\n",
    "enigma('QMJIDOMZWZJFJR','MCK')"
   ]
  },
  {
   "cell_type": "markdown",
   "metadata": {
    "id": "6-NUc0UWQM2t"
   },
   "source": [
    "El resultado esperado es:\n",
    "```python\n",
    "ENIGMAREVEALED\n",
    "```"
   ]
  },
  {
   "cell_type": "markdown",
   "metadata": {
    "id": "MoO_0iWXQM2u"
   },
   "source": [
    "<font color='red'>NOTA: </font>El texto cifrado y la clave serán dadas al final del curso"
   ]
  }
 ],
 "metadata": {
  "colab": {
   "collapsed_sections": [],
   "name": "27-TareaFinal-02-MaquinaEnigma_BenjaR.ipynb",
   "provenance": []
  },
  "kernelspec": {
   "display_name": "Python 3",
   "language": "python",
   "name": "python3"
  },
  "language_info": {
   "codemirror_mode": {
    "name": "ipython",
    "version": 3
   },
   "file_extension": ".py",
   "mimetype": "text/x-python",
   "name": "python",
   "nbconvert_exporter": "python",
   "pygments_lexer": "ipython3",
   "version": "3.8.6"
  }
 },
 "nbformat": 4,
 "nbformat_minor": 1
}

{
 "cells": [
  {
   "cell_type": "markdown",
   "metadata": {
    "collapsed": true
   },
   "source": [
    "## 12-Control de flujo (Contro Flow)\n",
    "## if , elif , y else statements\n",
    "¡Hola, Hackers!\n",
    "\n",
    "A veces necesitamos tomar decisiones en nuestro código. Necesitamos realizar algunas acciones u otras distintas dependiendo de si se cumplen o no ciertas condiciones. Para ello usamos las declaraciones **if**, **elif** y **else** para controlar estos casos. Veamos cómo funcionan !!!"
   ]
  },
  {
   "cell_type": "markdown",
   "metadata": {},
   "source": [
    "## La instrucción if \n",
    "La forma más simple de la sentencia *if* es la siguiente:\n",
    "```Python\n",
    "    if some_condition:\n",
    "        # Do Something\n",
    "```"
   ]
  },
  {
   "cell_type": "code",
   "execution_count": 1,
   "metadata": {},
   "outputs": [
    {
     "name": "stdout",
     "output_type": "stream",
     "text": [
      "Uno es menor que dos\n"
     ]
    }
   ],
   "source": [
    "if 1 < 2:\n",
    "    print('Uno es menor que dos')"
   ]
  },
  {
   "cell_type": "markdown",
   "metadata": {},
   "source": [
    "<font color=\"gree\">Pythonista:</font> El operador lógico siempre lleva un espacio antes y después."
   ]
  },
  {
   "cell_type": "code",
   "execution_count": 2,
   "metadata": {},
   "outputs": [],
   "source": [
    "if 1 > 2:\n",
    "    print(\"Uno es más grande que dos?\")"
   ]
  },
  {
   "cell_type": "markdown",
   "metadata": {},
   "source": [
    "Notice what happens, the indented block of code only runs when the if condition is True!"
   ]
  },
  {
   "cell_type": "code",
   "execution_count": 3,
   "metadata": {},
   "outputs": [
    {
     "name": "stdout",
     "output_type": "stream",
     "text": [
      "La sentencia 'if' se evaluó afirmativamente\n"
     ]
    }
   ],
   "source": [
    "# Podemos usar una variable booleana \n",
    "if True:\n",
    "    print(\"La sentencia 'if' se evaluó afirmativamente\")"
   ]
  },
  {
   "cell_type": "markdown",
   "metadata": {},
   "source": [
    "Comentario: la condición de verdad anterior siempre se cumplirá, luego siempre se llevará a cabo la impresión del string contenido."
   ]
  },
  {
   "cell_type": "markdown",
   "metadata": {},
   "source": [
    "**ATENCION con la indentación**. \n",
    "\n",
    "\n",
    "La **indentación** (sangría del código) le permite a Python saber cuáles líneas de código pertenecen a un mismo bloque. Unas celdas más abajo veremos reglas detalladas de cómo hacerlo."
   ]
  },
  {
   "cell_type": "markdown",
   "metadata": {},
   "source": [
    "## if else Statement\n",
    "Ahora agreguemos una acción alternativa en caso de que **if** no sea *True* usando la instrucción **else**.\n",
    "\n",
    "Observa el formato y cómo se alinean los bloques de código con **indentación**, ¡esto es crucial en Python!"
   ]
  },
  {
   "cell_type": "code",
   "execution_count": 5,
   "metadata": {},
   "outputs": [
    {
     "name": "stdout",
     "output_type": "stream",
     "text": [
      "Uno es igual a uno, obvio !!\n"
     ]
    }
   ],
   "source": [
    "if 1 == 1:\n",
    "    print(\"Uno es igual a uno, obvio !!\")\n",
    "else:\n",
    "    print(\"La comparación no es correcta\")"
   ]
  },
  {
   "cell_type": "code",
   "execution_count": 6,
   "metadata": {},
   "outputs": [
    {
     "name": "stdout",
     "output_type": "stream",
     "text": [
      "La comparación no es Verdadera (True)\n"
     ]
    }
   ],
   "source": [
    "if 1 == 2:\n",
    "    print(\"Uno es igual a uno, obvio !!\")\n",
    "else:\n",
    "    print(\"La comparación no es Verdadera (True)\")"
   ]
  },
  {
   "cell_type": "markdown",
   "metadata": {},
   "source": [
    "## if, elif, else \n",
    "\n",
    "Ahora imaginemos que tenemos varias condiciones para verificar antes de la declaración **else** final, aquí es donde podemos usar la palabra clave **elif** para verificar tantas condiciones individuales como sea necesario:"
   ]
  },
  {
   "cell_type": "code",
   "execution_count": 7,
   "metadata": {},
   "outputs": [
    {
     "name": "stdout",
     "output_type": "stream",
     "text": [
      "La tercera comparación es Verdadera (True)\n"
     ]
    }
   ],
   "source": [
    "if 2 == 0:\n",
    "    print('La primera comparación es Verdadera (True)')\n",
    "elif 2 == 1:\n",
    "    print(\"La segunda comparación es Verdadera (True)\")\n",
    "elif 2 == 2:\n",
    "    print(\"La tercera comparación es Verdadera (True)\")\n",
    "else:\n",
    "    print(\"Ninguna de las comparaciones anteriores es Verdadera (True)\")"
   ]
  },
  {
   "cell_type": "code",
   "execution_count": 8,
   "metadata": {},
   "outputs": [
    {
     "name": "stdout",
     "output_type": "stream",
     "text": [
      "Ninguna de las comparaciones anteriores es Verdadera (True)\n"
     ]
    }
   ],
   "source": [
    "if 2 == 0:\n",
    "    print('La primera comparación es Verdadera (True)')\n",
    "elif 2 == 1:\n",
    "    print(\"La segunda comparación es Verdadera (True)\")\n",
    "elif 2 == 100:\n",
    "    print(\"La tercera comparación es Verdadera (True)\")\n",
    "else:\n",
    "    print(\"Ninguna de las comparaciones anteriores es Verdadera (True)\")"
   ]
  },
  {
   "cell_type": "markdown",
   "metadata": {},
   "source": [
    "Veamos qué sucede si tuviéramos múltiples condiciones *True*:"
   ]
  },
  {
   "cell_type": "code",
   "execution_count": 9,
   "metadata": {},
   "outputs": [
    {
     "name": "stdout",
     "output_type": "stream",
     "text": [
      "La primera comparación es Verdadera (True)\n"
     ]
    }
   ],
   "source": [
    "if 2 == 2:\n",
    "    print('La primera comparación es Verdadera (True)')\n",
    "elif 2 == 2:\n",
    "    print(\"La segunda comparación es Verdadera (True)\")\n",
    "elif 2 == 2:\n",
    "    print(\"La tercera comparación es Verdadera (True)\")\n",
    "else:\n",
    "    print(\"Ninguna de las comparaciones anteriores es Verdadera (True)\")"
   ]
  },
  {
   "cell_type": "markdown",
   "metadata": {},
   "source": [
    "Observa cómo solo se ejecutará el bloque de código de la primera condición verdadera, ¡ten esto en cuenta al escribir sus scripts!"
   ]
  },
  {
   "cell_type": "markdown",
   "metadata": {},
   "source": [
    "Es importante tener una buena comprensión de cómo funciona la **indentación** en Python para mantener la estructura y el orden de su código. ¡Tocaremos este tema nuevamente cuando comencemos a construir funciones!"
   ]
  },
  {
   "cell_type": "markdown",
   "metadata": {},
   "source": [
    "## Veamos un poco más acerca de la indentación\n",
    "### Reglas\n",
    "1. Cada nivel de indentación utiliza 4 espacios\n",
    "2. Aún cuando funcionan, se recomienda NO usar tabs para las indentaciones\n",
    "3. NUNCA combines tabs y espacios para indentar código"
   ]
  },
  {
   "cell_type": "code",
   "execution_count": 10,
   "metadata": {},
   "outputs": [
    {
     "name": "stdout",
     "output_type": "stream",
     "text": [
      "Esta impresión está dentro del bloque 'if'\n",
      "Esta impresión está dentro del bloque 'if'\n",
      "Esta impresión está dentro del bloque 'if'\n",
      "Esta impresión está fuera del bloque 'if'\n"
     ]
    }
   ],
   "source": [
    "if True:\n",
    "    print(\"Esta impresión está dentro del bloque 'if'\")\n",
    "    print(\"Esta impresión está dentro del bloque 'if'\")\n",
    "    print(\"Esta impresión está dentro del bloque 'if'\")\n",
    "print(\"Esta impresión está fuera del bloque 'if'\")"
   ]
  },
  {
   "cell_type": "code",
   "execution_count": 11,
   "metadata": {},
   "outputs": [
    {
     "name": "stdout",
     "output_type": "stream",
     "text": [
      "Esta impresión está fuera del bloque 'if'\n"
     ]
    }
   ],
   "source": [
    "# Veamos que ocurre cuando cambiamos la condición a False\n",
    "if False:\n",
    "    print(\"Esta impresión está dentro del bloque 'if'\")\n",
    "    print(\"Esta impresión está dentro del bloque 'if'\")\n",
    "    print(\"Esta impresión está dentro del bloque 'if'\")\n",
    "print(\"Esta impresión está fuera del bloque 'if'\")"
   ]
  },
  {
   "cell_type": "code",
   "execution_count": 13,
   "metadata": {},
   "outputs": [
    {
     "ename": "IndentationError",
     "evalue": "unindent does not match any outer indentation level (<tokenize>, line 6)",
     "output_type": "error",
     "traceback": [
      "\u001b[0;36m  File \u001b[0;32m\"<tokenize>\"\u001b[0;36m, line \u001b[0;32m6\u001b[0m\n\u001b[0;31m    print(\"Esta impresión está dentro del bloque 'if'\")\u001b[0m\n\u001b[0m    ^\u001b[0m\n\u001b[0;31mIndentationError\u001b[0m\u001b[0;31m:\u001b[0m unindent does not match any outer indentation level\n"
     ]
    }
   ],
   "source": [
    "# En este caso hemos introducido una indentación es de tres espacios. \n",
    "# Esto genererá un error del tipo *IndentationEror*\n",
    "\n",
    "if False:\n",
    "    print(\"Esta impresión está dentro del bloque 'if'\")\n",
    "   print(\"Esta impresión está dentro del bloque 'if'\")\n",
    "    print(\"Esta impresión está dentro del bloque 'if'\")\n",
    "print(\"Esta impresión está fuera del bloque 'if'\")"
   ]
  },
  {
   "cell_type": "markdown",
   "metadata": {},
   "source": [
    "##  Ejemplo final\n",
    "Veamos un ejemplo final."
   ]
  },
  {
   "cell_type": "code",
   "execution_count": 14,
   "metadata": {},
   "outputs": [],
   "source": [
    "agent_code = 231912\n",
    "access = False"
   ]
  },
  {
   "cell_type": "code",
   "execution_count": 16,
   "metadata": {},
   "outputs": [
    {
     "name": "stdout",
     "output_type": "stream",
     "text": [
      "Bienvenido agente\n",
      "Inicializando su acceso a condición: Verdadera\n"
     ]
    }
   ],
   "source": [
    "if agent_code == 12345:\n",
    "    print('Código reinicializado')\n",
    "    print(\"Comuníquese con el supervisor\")\n",
    "elif agent_code == 231912:\n",
    "    print('Bienvenido agente')\n",
    "    print('Inicializando su acceso a condición: Verdadera')\n",
    "    access = True\n",
    "else:\n",
    "    print(\"Código erréneo\")"
   ]
  },
  {
   "cell_type": "code",
   "execution_count": 17,
   "metadata": {},
   "outputs": [
    {
     "name": "stdout",
     "output_type": "stream",
     "text": [
      "Acceso concedido\n"
     ]
    }
   ],
   "source": [
    "# Ahora podemos iniciar otro conjunto de lógica de flujo de control aquí.\n",
    "\n",
    "if access == True:\n",
    "    print('Acceso concedido')\n",
    "else:\n",
    "    print('Access denegado')"
   ]
  },
  {
   "cell_type": "markdown",
   "metadata": {},
   "source": [
    "Echa un vistazo al último conjunto del bloque *if / else*, dado que la variable **acceso** en sí es un booleano, también podríamos haberlo escrito así:"
   ]
  },
  {
   "cell_type": "code",
   "execution_count": 18,
   "metadata": {},
   "outputs": [
    {
     "name": "stdout",
     "output_type": "stream",
     "text": [
      "Acceso concedido\n"
     ]
    }
   ],
   "source": [
    "if access:\n",
    "    print('Acceso concedido')\n",
    "else:\n",
    "    print('Access denegado')"
   ]
  },
  {
   "cell_type": "markdown",
   "metadata": {},
   "source": [
    "Escribir código como acabamos de hacer en la celda anterior es más limpio, y puede nombrar tus variables de manera diferente para que también sea aún más legible (por ejemplo, cambia el nombre de **acceso** a **acceso_concedido** de forma que el código quede com sigue:\n",
    "\n",
    "```python\n",
    "if acceso_concedido:\n",
    "```"
   ]
  },
  {
   "cell_type": "markdown",
   "metadata": {},
   "source": [
    "## <font color='green'>Tarea:</font> \n",
    "### Guess the number game\n",
    "\n",
    "Game: The computer is going to generate a random number; you will try to guess it !!!\n",
    "\n",
    "Steps:\n",
    "1. Enter a number from the keyboard using the input function and store it in a variable called 'my_guess_number'\n",
    "2. Generate a random number and store it in a varuable called 'secret_number'\n",
    "3. Compare the numbers and print a message: if you guessed it print \"Bingo, you win!!\" and if you don't print \"Try again\"\n",
    "\n",
    "Juego adivina el número\n",
    "\n",
    "Juego: el computador generará un número aleatorio; intenta adivinarlo !!!\n",
    "\n",
    "Pasos:\n",
    "1. Ingresa un número desde el teclado usando la función de entrada y guárdalo en una variable llamada 'my_guess_number'\n",
    "2. Genera un número aleatorio y guárdalo en una variable llamada 'número_secreto'\n",
    "3. Compara los números e imprime un mensaje: si lo adivinó, imprime \"¡Bingo, tú ganas!\" y si no, imprime \"Inténtalo de nuevo\""
   ]
  },
  {
   "cell_type": "code",
   "execution_count": 19,
   "metadata": {},
   "outputs": [],
   "source": [
    "# Primero vamos a importar una biblioteca llamada 'numpy'\n",
    "# Hablaremos mucho de bibliotecas muy pronto; por ahora decir que en ellas hay mucho código pre-armado\n",
    "# Por ahora ejecuta esta celda\n",
    "\n",
    "import numpy as np"
   ]
  },
  {
   "cell_type": "code",
   "execution_count": 41,
   "metadata": {},
   "outputs": [
    {
     "name": "stdout",
     "output_type": "stream",
     "text": [
      "Ingresa un número: 2\n",
      "Inténtalo de nuevo\n"
     ]
    }
   ],
   "source": [
    "my_guess_number = input(\"Ingresa un número: \")\n",
    "secret_number = np.random.randint(0,9)\n",
    "\n",
    "# Tu código aquí ...\n",
    "\n",
    "if int(my_guess_number) == secret_number:\n",
    "    print('¡Bingo, tú ganas!')\n",
    "else:\n",
    "    print(\"Inténtalo de nuevo\")\n",
    "\n",
    "#print(f\"El número secreto era {secret_number}.\")"
   ]
  },
  {
   "cell_type": "markdown",
   "metadata": {},
   "source": [
    "<font color='green'>Fin tarea</font> "
   ]
  },
  {
   "cell_type": "markdown",
   "metadata": {},
   "source": [
    "## <font color='green'>Tarea: Super challenging</font> \n",
    "### Año bisiesto\n",
    "Un año bisiesto (también conocido como año intercalario o año bissextil) es un año calendario que contiene un día adicional.\n",
    "Por ejemplo, en el calendario gregoriano, cada año bisiesto tiene 366 días en lugar de los 365 habituales, extendiendo febrero a 29 días en lugar de los 28 habituales. \n",
    "\n",
    "**Algoritmo para calcular si un año es bisiesto**\n",
    "\n",
    "Comprueba las siguientes condiciones en el orden en que se presentan:\n",
    "\n",
    "**Condición_1:** si el año es exactamente divisible por 4<br>\n",
    "**Condición_2:** si el año es divisible por 100<br>\n",
    "**Condición_3:** si el año es exactamente divisible por 400. <br>\n",
    "\n",
    "La fórmula lógica que se suele usar para establecer si un año es bisiesto sería:\n",
    "\n",
    "si **condición_1** y (**condición_2** o **condición_3**) entonces:\n",
    "    es año bisiesto\n",
    "sino\n",
    "    no es bisiesto\n",
    "\n",
    "Por ejemplo, los años 1700, 1800 y 1900 no fueron años bisiestos, pero los años 1600 y 2000 sí lo fueron.\n",
    "\n",
    "Desafío: determina si un año específico es bisiesto o no.\n",
    "\n",
    "Pasos:\n",
    "1. Ingrese un año desde el teclado usando la función de entrada y guárdelo en una variable llamada 'input_year'\n",
    "2. Cree un código que determine si 'input_year' es o no es un año bisiesto.\n",
    "3. Imprima un mensaje que indique que input_year 'es un año bisiesto' o 'no es un año bisiesto'\n",
    "\n",
    "Tips:\n",
    "\n",
    "1. Use las funciones de entrada para ingresar el año\n",
    "2. Utilice el operador % (módulo) para hacer las divisiones\n",
    "3. Utilice la siguiente estructura \n",
    "\n",
    "```Python\n",
    "    if condition_1 and (condición_2 or condición_3):\n",
    "        print('Es año bisiesto')\n",
    "    else:\n",
    "        print('No es año bisiesto')\n",
    "```"
   ]
  },
  {
   "cell_type": "code",
   "execution_count": 65,
   "metadata": {},
   "outputs": [
    {
     "name": "stdout",
     "output_type": "stream",
     "text": [
      "Ingresa un año para evaluar si es bisiesto: 2000\n",
      "El año 2000 es bisiesto.\n"
     ]
    }
   ],
   "source": [
    "input_year = int(input('Ingresa un año para evaluar si es bisiesto: ')) \n",
    "\n",
    "if input_year % 4 == 0 and (input_year % 100 != 0 or input_year % 400 == 0):\n",
    "    print(f'El año {input_year} es bisiesto.')\n",
    "else:\n",
    "    print(f'El año {input_year} NO es bisiesto.')"
   ]
  },
  {
   "cell_type": "markdown",
   "metadata": {},
   "source": [
    "# <font color='blue'>Tiempo de revisión grupal</font>\n",
    "La **Bitácora Grupal** es la herramienta de evaluación de este curso. La misma estará conformada por todos los **Notebooks Grupales** de cada una de las clases y módulos del curso. Los grupos de trabajo deben desarrollarla de forma colaborativa y creativa.\n",
    "\n",
    "Rúbrica de la **Bitácora Grupal** y de los **Notebook Grupal** que la componen:\n",
    "* El notebook se ve ordenado y con una secuencia lógica y limpia.\n",
    "* El notebook no tiene celdas en blanco innecesarias.\n",
    "* El notebook no tiene celdas con errores, salvo aquellas en las que explícitamente queremos mostrar un error.\n",
    "* Todos los ejercicios propuestos están correctamente desarrollados.\n",
    "* Los ejercicios tiene comentarios y reflexiones del grupo.\n",
    "* El notebook tiene abundantes comentarios explicativos del código.\n",
    "* El notebook tiene una sección adicional, creada por el grupo, con experimentos de los alumnos relativos al contenido del mismo.\n",
    "* La Bitácora Grupa, y por ende los notebooks que la componen, tiene aspectos creativos y novedoso que la diferencian significativamente de las de los demás grupos."
   ]
  },
  {
   "cell_type": "code",
   "execution_count": null,
   "metadata": {},
   "outputs": [],
   "source": []
  }
 ],
 "metadata": {
  "kernelspec": {
   "display_name": "Python 3",
   "language": "python",
   "name": "python3"
  },
  "language_info": {
   "codemirror_mode": {
    "name": "ipython",
    "version": 3
   },
   "file_extension": ".py",
   "mimetype": "text/x-python",
   "name": "python",
   "nbconvert_exporter": "python",
   "pygments_lexer": "ipython3",
   "version": "3.8.5"
  }
 },
 "nbformat": 4,
 "nbformat_minor": 2
}

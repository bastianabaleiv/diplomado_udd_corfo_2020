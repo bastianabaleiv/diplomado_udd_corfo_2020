{
 "cells": [
  {
   "cell_type": "markdown",
   "metadata": {},
   "source": [
    "# 27-Tarea Final 02 \n",
    "## Máquina Enigma"
   ]
  },
  {
   "cell_type": "markdown",
   "metadata": {},
   "source": [
    "## Grupo B\n",
    "\n",
    "\n",
    "## Integrantes: \n",
    "* <font color='green'>Hugo Ubilla</font> \n",
    "* <font color='green'>Benjamín Rodríguez</font> \n",
    "* <font color='green'>Francisco Quiroz</font> \n",
    "* <font color='green'>Daniela Quezada</font> \n",
    "* <font color='green'>Bastián Aballay</font>"
   ]
  },
  {
   "cell_type": "markdown",
   "metadata": {},
   "source": [
    "¡Bienvenido Agente! Nos encontramos en pleno conflicto y hemos encontrado los planos de una  [Máquina Enigma](https://es.wikipedia.org/wiki/Enigma_(máquina)) enemiga. Necesitamos que configures una máquina que nos ayude a descifrar los mensajes que interceptamos.\n",
    "La máquina posee tres rotores y un reflector. Cada rotor es un disco circular plano con 26 contactos eléctricos en cada cara, uno por cada letra del alfabeto. Cada contacto de una cara está conectado o cableado a un contacto diferente de la cara contraria. Por ejemplo, en un rotor en particular, el contacto número 1 de una cara puede estar conectado con el contacto número 14 en la otra cara y el contacto número 5 de una cara con el número 22 de la otra.\n",
    "\n",
    "Como cada rotor está en contacto con el otro, lo anterior permite ir cambiando el indice de las letras de entrada, configurando así una criptografía muy compleja de resolver en aquellos tiempos. Estos rotores se conocen como.\n",
    "\n",
    "* Rotor derecho\n",
    "* Rotor medio\n",
    "* Rotor izquierdo\n",
    "* Reflector\n",
    "\n",
    "Mira este video para que entiendas mejor el concepto le la [Máquina Enigma](https://youtu.be/VnsTHAH5yAE)."
   ]
  },
  {
   "cell_type": "markdown",
   "metadata": {},
   "source": [
    "## Estructura de los rotores\n",
    "\n",
    "Los tres rotores (izquierdo, medio y derecho) tienen el alfabeto de 26 letras ordenadas en su sección de entrada y las mismas 26 letras desordenadas en su sección de salida.<br>\n",
    "El reflector, posee solo 13 letra, las cuales están repetidas 2 veces cada una y están repartidas aleatoriamente en el dispositivo. El punto en donde la señal del rotor izquierdo pasa al reflector, determina la letra de entrada; la salida será por la letra que conforma la pareja.\n",
    "\n",
    "Esta es la configuración que hemos encontrado:\n",
    "\n",
    "```python\n",
    "\"\"\"\n",
    "Reflector  Rot_izd   Rot_med   Rot_der  Teclado\n",
    "    A       A - E     A - A     A - B      A\n",
    "    B       B - K     B - J     B - D      B\n",
    "    C       C - M     C - D     C - F      C\n",
    "    D       D - F     D - K     D - H      D\n",
    "    E       E - L     E - S     E - J      E\n",
    "    F       F - G     F - I     F - L      F\n",
    "    G       G - D     G - R     G - C      G\n",
    "    D       H - Q     H - U     H - P      H\n",
    "    I       I - V     I - X     I - R      I\n",
    "    J       J - Z     J - B     J - T      J\n",
    "    K       K - N     K - L     K - X      K\n",
    "    G       L - T     L - H     L - V      L\n",
    "    M       M - O     M - W     M - Z      M\n",
    "    K       N - W     N - T     N - N      N\n",
    "    M       O - Y     O - M     O - Y      O\n",
    "    I       P - H     P - C     P - E      P\n",
    "    E       Q - X     Q - Q     Q - I      Q\n",
    "    B       R - U     R - G     R - W      R\n",
    "    F       S - S     S - Z     S - G      S\n",
    "    T       T - P     T - N     T - A      T\n",
    "    C       U - A     U - P     U - K      U\n",
    "    V       V - I     V - Y     V - M      V\n",
    "    V       W - B     W - F     W - U      W\n",
    "    J       X - R     X - V     X - S      X\n",
    "    A       Y - C     Y - O     Y - Q      Y\n",
    "    T       Z - J     Z - E     Z - O      Z\n",
    "\"\"\"\n",
    "```"
   ]
  },
  {
   "cell_type": "markdown",
   "metadata": {},
   "source": [
    "## Funcionamiento general\n",
    "Cada vez que un usuario presiona una tecla en el Teclado (columna derecha del diagrama anterior), ocurre lo siguiente:\n",
    "1. El Rotor_derecho avanza una posición hacia arriba, i.e., la combinación 'A - B' pasa al final de la lista y el primer lugar lo ocupa 'B - D'\n",
    "2. Se obtiene la posición en la lista (Teclado) de la tecla presionada por el operador . \n",
    "3. La posición obtenida en el punto 2, se utiliza para buscar la letra la sección derecha del Rotor_derecho que está en la misma posición (frente a frente). En esa posición existe una letra a la cual llamaremos Letra_entrada.\n",
    "4. En el Rotor_derecho se busca la posición de la Letra_entrada en la sección de salida. Esta será la posición de salida del rotor.\n",
    "5. Se repiten los pasos amteriores 3 y 4 en el Rotor_medio; esta vez la posición de entrada en equivalente a la posición de salida del punto 4.\n",
    "6. Se repiten los pasos amteriores 3 y 4 en el Rotor_izquierdo.\n",
    "7. Con la posición de salida del Rotor_izquierdo se entra en el Reflector. En la posición de entrada en el Reflector, hay una letra. Se buscará entonces la otra letra equivalente dentro del Reflector. Esto determinará la posición de salida.\n",
    "8. Con esta posición (la de salida del Reflector) se invierte el proceso, es decir, se busca la letra que está en contacto con el rotor anterior y se busca la posición de dicha letra en la salida del rotor. Este proceso se repita sucesivamente con los rotores izquierdo, medio y derecho.\n",
    "9. La posición de salida del Rotor_derecho marcará la posicón en el Teclado, indicando la letra encriptada."
   ]
  },
  {
   "cell_type": "markdown",
   "metadata": {},
   "source": [
    "## Algunos detalles adicionales\n",
    "Cada vez que procesamos una letra, primero rotamos una posición el Rotor_derecho (hacia arriba).\n",
    "Cuando la letra \"V\" de la componente ordenada (iquierza) del Rotor_derecho alcanza la posición inicial en la lista, se gira una posición hacia arriba el Rotor_medio.\n",
    "Lo mismo ocurre cuando la letra 'Q' de la componente ordenada (iquierza) del Rotor_medio llega al inicio, en este caso, se avanza una posición hacia arriba el Rotor_izquierdo."
   ]
  },
  {
   "cell_type": "markdown",
   "metadata": {},
   "source": [
    "## Más detalles\n",
    "Esto no termina aquí. Para hacer más difícil el trabajo de desencriptación, la máquina tiene la posibilidad de fijar la posición inicial de los tres rotores centrales. Para esto se elige una clave de tres letras, las cuales marcan la posición inicial de la primera letra de la sección ordenada (izquierda) de cada rotor. Por ejemplo la clave <font color='red'>'MCK'</font> dejaría los rotores de la siguiente forma:\n",
    "\n",
    "```Python\n",
    "\"\"\"\n",
    "Reflector  Rot_izd   Rot_med   Rot_der  Teclado\n",
    "    A       M - O     C - D     K - X      A\n",
    "    B       N - W     D - K     L - V      B\n",
    "    C       O - Y     E - S     M - Z      C\n",
    "    D       P - H     F - I     N - N      D\n",
    "    E       Q - X     G - R     O - Y      E\n",
    "    F       R - U     H - U     P - E      F\n",
    "    G       S - S     I - X     Q - I      G\n",
    "    D       T - P     J - B     R - W      H\n",
    "    I       U - A     K - L     S - G      I\n",
    "    J       V - I     L - H     T - A      J\n",
    "    K       W - B     M - W     U - K      K\n",
    "    G       X - R     N - T     V - M      L\n",
    "    M       Y - C     O - M     W - U      M\n",
    "    K       Z - J     P - C     X - S      N\n",
    "    M       A - E     Q - Q     Y - Q      O\n",
    "    I       B - K     R - G     Z - O      P\n",
    "    E       C - M     S - Z     A - B      Q\n",
    "    B       D - F     T - N     B - D      R\n",
    "    F       E - L     U - P     C - F      S\n",
    "    T       F - G     V - Y     D - H      T\n",
    "    C       G - D     W - F     E - J      U\n",
    "    V       H - Q     X - V     F - L      V\n",
    "    V       I - V     Y - O     G - C      W\n",
    "    J       J - Z     Z - E     H - P      X\n",
    "    A       K - N     A - A     I - R      Y\n",
    "    T       L - T     B - J     J - T      Z\n",
    "\"\"\"\n",
    "```\n",
    "Fíjate que ni el Teclado ni el Reflector cambian, solo los rotores izquierdo, medio y derecho."
   ]
  },
  {
   "cell_type": "markdown",
   "metadata": {},
   "source": [
    "Aquí te dejamos algunos videos con la misma explicación:\n",
    "    \n",
    "[Criptografía - Máquina Enigma, funcionamiento detallado](https://youtu.be/XK_1gUo8YDE)\n"
   ]
  },
  {
   "cell_type": "markdown",
   "metadata": {},
   "source": [
    "## <font color='green'>Misión</font>\n",
    "\n",
    "Con los planos obtenidos, debes programar en Python tu propia Máquina Enigma. Cuando hayas terminado, se te dará un mensaje cifrado que deberás decodificar para aprobar el curso.\n",
    "\n",
    "Tu misión consiste en lo siguiente:<br>\n",
    "1. Programar la lógica de la máquina utilizando la información de los rotores conseguidos\n",
    "2. Ingresar una clave inicial (te será dada)\n",
    "3. Decodificar el mensaje correctamente\n",
    "\n",
    "Tips:\n",
    "\n",
    "1. Con la clave <font color='red'>'MCK'</font>, la frace **\"ENIGMA REVEALED\"** debiera encriptarse como **'QMJIDOMZWZJFJR\"** y viceversa.\n",
    "2. Recuerda usa stackoverflow e internet para buscar sintaxis y funciones.\n",
    "3. Divide el desafío en tantos problemas pequeños como puedas. "
   ]
  },
  {
   "cell_type": "markdown",
   "metadata": {},
   "source": [
    "## <font color='green'>Tarea 1:</font> Cablea los rotores\n",
    "\n",
    "Crea los cableados de los rotores \n",
    "\n",
    "TIP:\n",
    "1. Crea lista con las secuencias\n",
    "2. Utiliza los strings proporcionados y conviértelos a listas con **split( )**\n"
   ]
  },
  {
   "cell_type": "code",
   "execution_count": 3,
   "metadata": {},
   "outputs": [],
   "source": [
    "# Creamos el Teclado\n",
    "teclado = 'A B C D E F G H I J K L M N O P Q R S T U V W X Y Z'\n",
    "\n",
    "# Convertimos el teclado en una lista\n",
    "teclado = teclado.split()"
   ]
  },
  {
   "cell_type": "code",
   "execution_count": 4,
   "metadata": {},
   "outputs": [],
   "source": [
    "# Creamos el reflector\n",
    "reflector = 'A B C D E F G D I J K G M K M I E B F T C V V J A T'\n",
    "\n",
    "# Convierte el reflector en una lista\n",
    "reflector = reflector.split()"
   ]
  },
  {
   "cell_type": "code",
   "execution_count": 8,
   "metadata": {},
   "outputs": [],
   "source": [
    "# Creamos el rotor derecho\n",
    "# Este string contiene el alfabeto de salida (desordenado)\n",
    "abc_rotor_der = 'B D F H J L C P R T X V Z N Y E I W G A K M U S Q O'\n",
    "\n",
    "# Convierte el string 'rf' en una lista\n",
    "abc_rotor_der = abc_rotor_der.split()"
   ]
  },
  {
   "cell_type": "code",
   "execution_count": 9,
   "metadata": {},
   "outputs": [],
   "source": [
    "# Creamos el rotor medio\n",
    "# Este string contiene el alfabeto de salida (desordenado)\n",
    "abc_rotor_med = 'A J D K S I R U X B L H W T M C Q G Z N P Y F V O E'\n",
    "\n",
    "# Convierte el string 'rf' en una lista\n",
    "abc_rotor_med = abc_rotor_med.split()"
   ]
  },
  {
   "cell_type": "code",
   "execution_count": 11,
   "metadata": {},
   "outputs": [],
   "source": [
    "# Creamos el rotor iquierdo\n",
    "# Este string contiene el alfabeto de salida (desordenado)\n",
    "abc_rotor_izq = 'E K M F L G D Q V Z N T O W Y H X U S P A I B R C J '\n",
    "\n",
    "# Convierte el string 'rf' en una lista\n",
    "abc_rotor_izq = abc_rotor_izq.split()\n"
   ]
  },
  {
   "cell_type": "markdown",
   "metadata": {},
   "source": [
    "## <font color='green'>Tarea 2:</font> Arma los rotores\n",
    "\n",
    "Crea tres listas vacias para almacenar los rotores armados\n",
    "Recuerda que cada rotor tiene una componente ordenada y otra desordenada. La ordenada va la izquierda y desordenada a la derecha.\n",
    "\n",
    "TIP:\n",
    "1. La estructura a obtener debiera ser una lista de listas. Por ejemplo, el rotor_izquierdo debería verse así:\n",
    "\n",
    "```python\n",
    "[['A', 'E'],\n",
    " ['B', 'K'],\n",
    " ['C', 'M'],\n",
    " ['D', 'F'],\n",
    " ['E', 'L'],\n",
    " ['F', 'G'],\n",
    " ['G', 'D'],\n",
    " ['H', 'Q'],\n",
    " ['I', 'V'],\n",
    " ['J', 'Z'],\n",
    " ['K', 'N'],\n",
    " ['L', 'T'],\n",
    " ['M', 'O'],\n",
    " ['N', 'W'],\n",
    " ['O', 'Y'],\n",
    " ['P', 'H'],\n",
    " ['Q', 'X'],\n",
    " ['R', 'U'],\n",
    " ['S', 'S'],\n",
    " ['T', 'P'],\n",
    " ['U', 'A'],\n",
    " ['V', 'I'],\n",
    " ['W', 'B'],\n",
    " ['X', 'R'],\n",
    " ['Y', 'C'],\n",
    " ['Z', 'J']]\n",
    "```"
   ]
  },
  {
   "cell_type": "code",
   "execution_count": 12,
   "metadata": {},
   "outputs": [],
   "source": [
    "# Crea tres listas vacias para almacenar los rotores armados\n",
    "# Recuerda que cada rotor tendré una componente ordenada y otra desordenada\n",
    "rotor_izq = []\n",
    "rotor_med = []\n",
    "rotor_der = []"
   ]
  },
  {
   "cell_type": "markdown",
   "metadata": {},
   "source": [
    "Crea tres listas vacias para almacenar los rotores armados\n",
    "Recuerda que cada rotor tiene una componente ordenada y otra desordenada. Ordenada a la izquierda y desordenada a la derecha.\n",
    "\n",
    "TIP:\n",
    "1. Utiliza un ciclo **for** para añadir los pares de elementos  (ordenado - desordenado) en cada rotor. \n",
    "2. Utiliza las listas que creamos anteriormente\n",
    "3. Utiliza la función zip( ) para unir las lista\n",
    "4. Utiliza la función **append( )** e *indexing* \n",
    "\n",
    "```python\n",
    "for i in zip(lista_1, lista_2):\n",
    "    disco.append([i[0], i[1]])\n",
    "```"
   ]
  },
  {
   "cell_type": "code",
   "execution_count": 14,
   "metadata": {},
   "outputs": [],
   "source": [
    "for i in zip(teclado, abc_rotor_der):\n",
    "    rotor_der.append([i[0],i[1]])\n",
    "\n",
    "for i in zip(teclado, abc_rotor_med):\n",
    "    rotor_med.append([i[0], i[1]])\n",
    "\n",
    "for i in zip(teclado, abc_rotor_izq):\n",
    "    rotor_izq.append([i[0], i[1]])"
   ]
  },
  {
   "cell_type": "markdown",
   "metadata": {},
   "source": [
    "Imprime la configuración del Reflector, de los tres rotores y del Teclado. De la misma forma que en la instrucciones iniciales.\n",
    "\n",
    "Tip:\n",
    "1. Utiliza función **print( )** y **f-strings** para el correcto formateo\n",
    "2. Utiliza **zip( )** nuevamente para agrupar todas las listas. Luego recórrelas con un ciclo **for** para imprimirlas."
   ]
  },
  {
   "cell_type": "code",
   "execution_count": 15,
   "metadata": {
    "scrolled": true
   },
   "outputs": [
    {
     "name": "stdout",
     "output_type": "stream",
     "text": [
      "Reflector  Rot_izd   Rot_med   Rot_der  Teclado\n",
      "    A       A - E     A - A     A - B      A\n",
      "    B       B - K     B - J     B - D      B\n",
      "    C       C - M     C - D     C - F      C\n",
      "    D       D - F     D - K     D - H      D\n",
      "    E       E - L     E - S     E - J      E\n",
      "    F       F - G     F - I     F - L      F\n",
      "    G       G - D     G - R     G - C      G\n",
      "    D       H - Q     H - U     H - P      H\n",
      "    I       I - V     I - X     I - R      I\n",
      "    J       J - Z     J - B     J - T      J\n",
      "    K       K - N     K - L     K - X      K\n",
      "    G       L - T     L - H     L - V      L\n",
      "    M       M - O     M - W     M - Z      M\n",
      "    K       N - W     N - T     N - N      N\n",
      "    M       O - Y     O - M     O - Y      O\n",
      "    I       P - H     P - C     P - E      P\n",
      "    E       Q - X     Q - Q     Q - I      Q\n",
      "    B       R - U     R - G     R - W      R\n",
      "    F       S - S     S - Z     S - G      S\n",
      "    T       T - P     T - N     T - A      T\n",
      "    C       U - A     U - P     U - K      U\n",
      "    V       V - I     V - Y     V - M      V\n",
      "    V       W - B     W - F     W - U      W\n",
      "    J       X - R     X - V     X - S      X\n",
      "    A       Y - C     Y - O     Y - Q      Y\n",
      "    T       Z - J     Z - E     Z - O      Z\n"
     ]
    }
   ],
   "source": [
    "print(f'Reflector  Rot_izd   Rot_med   Rot_der  Teclado')\n",
    "for i in zip(reflector, rotor_izq, rotor_med, rotor_der, teclado):\n",
    "    print(f'    {i[0]:8}{i[1][0]} - {i[1][1]:6}{i[2][0]} - {i[2][1]:6}{i[3][0]} - {i[3][1]:7}{i[4]}')"
   ]
  },
  {
   "cell_type": "markdown",
   "metadata": {},
   "source": [
    "## <font color='green'>Tarea 3:</font> Crea una función para girar los rotores\n",
    "\n",
    "Crea una función llamada **avanza_rotor**. La función debe girar los rotores hacia arriba. Créala de esta forma:\n",
    "\n",
    "```python\n",
    "def avanza_rotor(disco, paso):\n",
    "```\n",
    "Entrada:<br>\n",
    "**disco**: corresponde a la lista con la información del rotor a avanzar. Esta es una lista de listas.<br>\n",
    "**paso**. Esta variable indicará la cantidad de pasos que debe avanzar el rotor.\n",
    "\n",
    "Salida:<br>\n",
    "La funión deve devolver el rotor (lista de listas) rotado **paso** pasos.\n",
    "\n",
    "TIP:\n",
    "1. Recuerda el uso de **pop( )** y **append( )** en las listas"
   ]
  },
  {
   "cell_type": "code",
   "execution_count": 16,
   "metadata": {},
   "outputs": [],
   "source": [
    "def avanza_rotor(disco, paso):\n",
    "    [disco.append(disco[i]) for i in range(paso)]\n",
    "    [disco.pop(0) for i in range(paso)]"
   ]
  },
  {
   "cell_type": "markdown",
   "metadata": {},
   "source": [
    "## <font color='green'>Tarea 4:</font> Crea una función para posicionar los rotores según la clave inicial\n",
    "\n",
    "Crea una función que configure la posición inicial de los rotores. Llámala **conf_rotores** de esta forma:\n",
    "\n",
    "```python\n",
    "def conf_rotores(clave_inicial):\n",
    "```\n",
    "Entrada:<br>\n",
    "**clave_inicial**: corresponde a un string de tres letras.<br>\n",
    "\n",
    "A partir de la clave inicial se rotan los tres rotores (izquierdo, medio y derecho).\n",
    "\n",
    "Salida:<br>\n",
    "La funión debe devolver los tres rotores posicionados según la clave ingresada.\n",
    "\n",
    "Tip:\n",
    "1. Necesitarás usa un ciclo **while** cuya condición de salida sea que la letra izquierda del primer par de letras de cada rotor coincida con la letra correspondiente de la clave ingresada.\n",
    "2. No es necesario que pases los rotores (lista) como argumentos ya que esta estrcutura tiene caracter *global* en Python\n"
   ]
  },
  {
   "cell_type": "code",
   "execution_count": 17,
   "metadata": {},
   "outputs": [],
   "source": [
    "def conf_rotores(clave_inicial):\n",
    "    # Avanzamos los rotores hasta obtener la configuración inicial\n",
    "    # otorgada por clave_inicial\n",
    "    \n",
    "    # Primer caracter de la clave debe ser igual al elemento de la\n",
    "    # componente ordenada respectiva\n",
    "    while clave_inicial[0] != rotor_izq[0][0]:\n",
    "        avanza_rotor(rotor_izq, 1)\n",
    "        \n",
    "    # Segundo caracter de la clave debe ser igual al elemento de la\n",
    "    # componente ordenada respectiva\n",
    "    while clave_inicial[1] != rotor_med[0][0]:\n",
    "        avanza_rotor(rotor_med, 1)\n",
    "        \n",
    "    # Tercer caracter de la clave debe ser igual al elemento de la\n",
    "    # componente ordenada respectiva\n",
    "    while clave_inicial[2] != rotor_der[0][0]:\n",
    "        avanza_rotor(rotor_der, 1)"
   ]
  },
  {
   "cell_type": "code",
   "execution_count": 28,
   "metadata": {},
   "outputs": [
    {
     "name": "stdout",
     "output_type": "stream",
     "text": [
      "--- Configuración Inicial ---\n",
      "Rotor Izq: ['M', 'O'], Rotor Med: ['C', 'D'], Rotor Der:['K', 'X']\n"
     ]
    }
   ],
   "source": [
    "# Pureba con la clave 'MCK'\n",
    "conf_rotores('MCK')\n",
    "print('--- Configuración Inicial ---')\n",
    "print(f'Rotor Izq: {rotor_izq[0]}, Rotor Med: {rotor_med[0]}, Rotor Der:{rotor_der[0]}')"
   ]
  },
  {
   "cell_type": "code",
   "execution_count": 30,
   "metadata": {},
   "outputs": [
    {
     "name": "stdout",
     "output_type": "stream",
     "text": [
      "Reflector  Rot_izd   Rot_med   Rot_der  Teclado\n",
      "    A       M - O     C - D     K - X      A\n",
      "    B       N - W     D - K     L - V      B\n",
      "    C       O - Y     E - S     M - Z      C\n",
      "    D       P - H     F - I     N - N      D\n",
      "    E       Q - X     G - R     O - Y      E\n",
      "    F       R - U     H - U     P - E      F\n",
      "    G       S - S     I - X     Q - I      G\n",
      "    D       T - P     J - B     R - W      H\n",
      "    I       U - A     K - L     S - G      I\n",
      "    J       V - I     L - H     T - A      J\n",
      "    K       W - B     M - W     U - K      K\n",
      "    G       X - R     N - T     V - M      L\n",
      "    M       Y - C     O - M     W - U      M\n",
      "    K       Z - J     P - C     X - S      N\n",
      "    M       A - E     Q - Q     Y - Q      O\n",
      "    I       B - K     R - G     Z - O      P\n",
      "    E       C - M     S - Z     A - B      Q\n",
      "    B       D - F     T - N     B - D      R\n",
      "    F       E - L     U - P     C - F      S\n",
      "    T       F - G     V - Y     D - H      T\n",
      "    C       G - D     W - F     E - J      U\n",
      "    V       H - Q     X - V     F - L      V\n",
      "    V       I - V     Y - O     G - C      W\n",
      "    J       J - Z     Z - E     H - P      X\n",
      "    A       K - N     A - A     I - R      Y\n",
      "    T       L - T     B - J     J - T      Z\n"
     ]
    }
   ],
   "source": [
    "# Imprime la nueva configuración de rotores\n",
    "# Este codigo lo deberías haber hecho más arriba\n",
    "print(f'Reflector  Rot_izd   Rot_med   Rot_der  Teclado')\n",
    "for i in zip(reflector, rotor_izq, rotor_med, rotor_der, teclado):\n",
    "    print(f'    {i[0]:8}{i[1][0]} - {i[1][1]:6}{i[2][0]} - {i[2][1]:6}{i[3][0]} - {i[3][1]:7}{i[4]}')"
   ]
  },
  {
   "cell_type": "markdown",
   "metadata": {},
   "source": [
    "## <font color='green'>Tarea 5:</font> Crea funciones para pasar señales por los rotores\n",
    "\n",
    "Crea tres funciones llamadas **pasa_senal_ida**, **pasa_senal_vuelta** y **pasa_senal_ida** y **indice_reflextor** de esta forma:\n",
    "\n",
    "```python\n",
    "def pasa_senal_ida(rotor, indice):\n",
    "\n",
    "    \n",
    "def pasa_senal_vuelta(rotor, indice):\n",
    "    \n",
    "    \n",
    "def indice_reflextor(rotor, indice):\n",
    "    \n",
    "```\n",
    "Entrada:<br>\n",
    "**rotor**: corresponde a la lista con la información del rotor. Esta es una lista de listas.<br>\n",
    "**indice**. Es el punto de contacto en el rotor: En el caso de **pasa_senal_ida** será por la derecha y en el caso de **pasa_senal_vuelta** será por la izquierda\n",
    "\n",
    "Salida:<br>\n",
    "Las funciones devuelven el indice de salida del rotor"
   ]
  },
  {
   "cell_type": "code",
   "execution_count": 33,
   "metadata": {},
   "outputs": [
    {
     "data": {
      "text/plain": [
       "'K'"
      ]
     },
     "execution_count": 33,
     "metadata": {},
     "output_type": "execute_result"
    }
   ],
   "source": [
    "rotor_der[0][0]"
   ]
  },
  {
   "cell_type": "code",
   "execution_count": 67,
   "metadata": {},
   "outputs": [],
   "source": [
    "def pasa_senal_ida(rotor, indice):\n",
    "    \n",
    "    # Iteramos por cada elementor del rotor\n",
    "    for i in range(len(rotor)):\n",
    "        # Si el elemento del rotor (componente desordenada) \n",
    "        # coincide con la letra ingresada por el teclado (índice)\n",
    "        if rotor[i][0] == rotor[indice][1]:\n",
    "            # Obtenemos la posición asociada\n",
    "            indice_salida = i\n",
    "            break\n",
    "        \n",
    "    return indice_salida\n",
    "    \n",
    "def pasa_senal_vuelta(rotor, indice):\n",
    "    \n",
    "    for i in range(len(rotor)):\n",
    "        if rotor[i][1] == rotor[indice][0]:\n",
    "            indice_salida = i\n",
    "            break\n",
    "            \n",
    "    return indice_salida\n",
    "    \n",
    "    \n",
    "def indice_reflextor(disco, indice):\n",
    "    \n",
    "    for i in range(len(disco)):\n",
    "        # Buscamos la posición de la segunda aparición de la letra en el reflector\n",
    "        if disco[indice] == disco[i] and indice != i:\n",
    "            indice_salida = i\n",
    "            break\n",
    "    \n",
    "    return indice_salida"
   ]
  },
  {
   "cell_type": "code",
   "execution_count": 34,
   "metadata": {},
   "outputs": [],
   "source": [
    "# Otra manera de definir indice_reflextor considerando reflector\n",
    "# como una variable que se encuentra en el alcance global (fuera de la función)\n",
    "#def indice_reflextor(indice):\n",
    "#    list_aux = reflector[:]\n",
    "#    Letra_entrada = reflector[indice]\n",
    "#    indice2 = reflector.index(Letra_entrada)\n",
    "#    if indice == indice2:\n",
    "#        del list_aux[indice]\n",
    "#        indice_salida = list_aux.index(Letra_entrada) + 1\n",
    "#    else:\n",
    "#        indice_salida = indice2\n",
    "#    return indice_salida"
   ]
  },
  {
   "cell_type": "markdown",
   "metadata": {},
   "source": [
    "## <font color='green'>Tarea 5:</font> Armando la ENIGMA\n",
    "\n",
    "Bien hecho hasta acá Hacker. Ahora debes armar la máquina.\n",
    "\n",
    "Crea una función **enigma**\n",
    "\n",
    "```python\n",
    "def enigma(mensaje, clave):\n",
    "```\n",
    "Entrada:<br>\n",
    "**mensaje**: corresponde a un strig que contiene el mensaje a codificar. Recuerda que no se usaban ni numeros ni caractares especiales. Solo lo que el teclado de entrada pudiera escribir.<br>\n",
    "**clave**. Es la clave para posicionar los rotores al inicio\n",
    "\n",
    "Salida:<br>\n",
    "Mensaje cifrado\n"
   ]
  },
  {
   "cell_type": "code",
   "execution_count": 78,
   "metadata": {},
   "outputs": [],
   "source": [
    "def enigma(mensaje, clave):\n",
    "    \"\"\"\n",
    "    Función que simula la operación de la Máquina Enigma\n",
    "    \"\"\"\n",
    "    \n",
    "    # Rotamos discos a posición clave\n",
    "    conf_rotores(clave)\n",
    "    \n",
    "    # Lista con elementos (letras) desencriptados\n",
    "    mensaje_desenc = []\n",
    "    \n",
    "    # Para cada letra contenida en el mensaje\n",
    "    for letra in mensaje: \n",
    "        \n",
    "        # Cada vez que procesamos una letra, primero \n",
    "        # rotamos las dos componentes del disco derecho\n",
    "        avanza_rotor(rotor_der,1)\n",
    "        \n",
    "        # Cuando la letra \"V\" del la componente de salida del rotor derecho\n",
    "        # alcanza la posición inicial, se gira una posición el rotor central\n",
    "        # Lo mismo ocurre cuando la letra 'Q' del rotor centra llega al inicio,\n",
    "        # se avanza una posición ambos componentes del rotor izquierdo\n",
    "\n",
    "        # ida en rotor derecho\n",
    "        # Indice de la letra del alfabeto presionada en Teclado\n",
    "        idx_salida = pasa_senal_ida(rotor_der, teclado.index(letra))\n",
    "         \n",
    "        # ida en rotor medio\n",
    "        idx_salida = pasa_senal_ida(rotor_med, idx_salida)    \n",
    "        \n",
    "        # ida en rotor izquierdo\n",
    "        idx_salida = pasa_senal_ida(rotor_izq, idx_salida)\n",
    "              \n",
    "        # rebote en rotor reflector\n",
    "        idx_salida = indice_reflextor(reflector, idx_salida) # Probar con solo salida_idx\n",
    "        \n",
    "        # vuelta en rotor izquierdo\n",
    "        idx_salida =  pasa_senal_vuelta(rotor_izq, idx_salida)\n",
    "        \n",
    "        # vuelta en rotor medio\n",
    "        idx_salida =  pasa_senal_vuelta(rotor_med, idx_salida)\n",
    "        \n",
    "        # vuelta en rotor derecho\n",
    "        idx_salida =  pasa_senal_vuelta(rotor_der, idx_salida)   \n",
    "        \n",
    "        if rotor_der[0][0] == 'V':\n",
    "            avanza_rotor(rotor_med, 1)\n",
    "        \n",
    "        if rotor_med[0][0] == 'Q':\n",
    "            avanza_rotor(rotor_izq, 1)\n",
    "        \n",
    "        # Vuelta LETRA DE SALIDA\n",
    "        mensaje_desenc.append(teclado[idx_salida])\n",
    "       \n",
    "    return ''.join(mensaje_desenc)"
   ]
  },
  {
   "cell_type": "code",
   "execution_count": 79,
   "metadata": {},
   "outputs": [
    {
     "name": "stdout",
     "output_type": "stream",
     "text": [
      "ENIGMAREVEALED\n",
      "QMJIDOMZWZJFJR\n"
     ]
    }
   ],
   "source": [
    "# Desciframos el Enigma!\n",
    "print(enigma('QMJIDOMZWZJFJR','MCK')) # ENIGMAREVEALED\n",
    "print(enigma('ENIGMAREVEALED','MCK')) # 'QMJIDOMZWZJFJR'"
   ]
  },
  {
   "cell_type": "markdown",
   "metadata": {},
   "source": [
    "El resultado esperado es:\n",
    "```python\n",
    "ENIGMAREVEALED\n",
    "```"
   ]
  },
  {
   "cell_type": "code",
   "execution_count": 83,
   "metadata": {},
   "outputs": [
    {
     "name": "stdout",
     "output_type": "stream",
     "text": [
      "HOLAMUNDOHOLAMUNDOHOLAMUNDOHOLAMUNDOHOLAMUNDOHOLAMUNDOHOLAMUNDOHOLAMUNDOHOLAMUNDOHOLAMUNDOHOLAMUNDOHOLAMUNDOHOLAMUNDOHOLAMUNDOHOLAMUNDOHOLAMUNDOHOLAMUNDOHOLAMUNDOHOLAMUNDOHOLAMUNDOHOLAMUNDOHOLAMUNDOHACGSSDSKMDHWTPDQPHIKXPPGLOQFKZPOPAKCAYLYPZJJDSXKVITEKWRKSOCZVNJXZEPIRMRTRRFAWAMTPQBZDKIFLGLZCWQKOFIHORLIWFBNPBEGZGPSASQKKCEBMIRZJPCVMQOHGMYMDFYEDVXYBOQYOINDYWBPEVYFYDQUYNMSTDCGQYBMAOFZRGYEFAURRIITCJNXHDCCAFFLHQZCDRFUGDVQWHHZPYEZWTJRROTJSJVZAQGQDVVGGKEAPNDYZYNDJXMQSXSBRWSGUSOCYVMEZSHPPBVXQKTYHEBLZCEDJTZLQLBPJBRPFYCXRRRWBZQFNSDJJDFCVMJEYHBUCRGADPLLRQLKXRTKAWUQDDRDHDAMWDZEUXBXBJAUFFDTUCTYKZXLYONFWACPOQSYSGHXPOVBXLEALJITYTZQBRHOYICSJEOXCEAVZEKRDVRQGVJEIGIJEBMFAITKWWCAPCDNKHOHEICXJTLQVOMFVPGTENJWIYSXTBVGRGITOYYGUEWVCLURV\n"
     ]
    }
   ],
   "source": [
    "# Segundo mensaje codificado\n",
    "print(enigma('VQATANPYKOEUMGOHUSLVVGKABCSSGXPYIBGGWWIPYAAGBRMPKWGJBULUNOOORLZESYYCSSKLAFUGLQOQHIXTJDHUHWJQHMLRUCAZRJMYODVEVLHGVVYYYCMYIDIEWHJFIVUIYRKVWAYIIWOSQGCURDBNSLAOEKJSOEAGIQWLILDAICEHFMUIOJEITKZEBVTVNCZDIDWIGJYWUAJNZPEKWEKXBESNTLYXPBYZLSJJBGOYGUEOPAKNRAMOGFMRGJNIESDZBFLQCHTQHTKHODHHFLGERYDBWGBYLUVYDREKBYTJZXJDMKQETBOBJKNNUAIEGANSELBLFNEPLCPYLIIIPUNKYUCXRONESRWUVDVBXLEWERVLHSTYXEJZSFUSNYKGBWYTDONKFTOVWCGOYEWUMAJTULJHVDRABRAXDTFIBJRLRBMQASQFHFPUAFXNGWBOJPJNHWOPMWJMPGOXQRICIEFXOWDTRKKVYZHIXDGAYXEZGOKADWCHXYIJNJCIDLLHUJKATKRDXLPIGQIMQIEWLUXZPOXNOWKWQRBOKGPMCAXVBNEEOEOISFAZNOKVPIZDZBNCSRFGNMBENLSFUXGZOZTGONJCNBYJRKEEQHBPCPVGGMVDZCHRJPKKNVIHKIBFBIPTTJTPBICLPNCMAJRSDNIKAUTTOBYHRXJBKIJNSVGFKXZCNMJFMVKBRCZCNBZNOCKXJIDEYOHTRAKT',\n",
    "            'DIE'))"
   ]
  },
  {
   "cell_type": "markdown",
   "metadata": {},
   "source": [
    "<font color='red'>NOTA: </font>El texto cifrado y la clave serán dadas al final del curso"
   ]
  }
 ],
 "metadata": {
  "kernelspec": {
   "display_name": "Python 3",
   "language": "python",
   "name": "python3"
  },
  "language_info": {
   "codemirror_mode": {
    "name": "ipython",
    "version": 3
   },
   "file_extension": ".py",
   "mimetype": "text/x-python",
   "name": "python",
   "nbconvert_exporter": "python",
   "pygments_lexer": "ipython3",
   "version": "3.8.6"
  }
 },
 "nbformat": 4,
 "nbformat_minor": 2
}

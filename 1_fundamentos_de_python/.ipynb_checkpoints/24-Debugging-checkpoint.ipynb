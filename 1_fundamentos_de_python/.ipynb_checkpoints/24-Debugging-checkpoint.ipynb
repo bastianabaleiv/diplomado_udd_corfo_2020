{
 "cells": [
  {
   "cell_type": "markdown",
   "metadata": {
    "collapsed": true
   },
   "source": [
    "# 24-Depurando nuestro programa (Debugging)\n",
    "\n",
    "Cubramos rápidamente el uso de la función de depuración (**debugging**) de Python para encontrar más fácilmente los errores en nuestro código."
   ]
  },
  {
   "cell_type": "markdown",
   "metadata": {},
   "source": [
    "## Depurando con Python Debugger"
   ]
  },
  {
   "cell_type": "markdown",
   "metadata": {
    "collapsed": true
   },
   "source": [
    "Probablemente hayas utilizado una variedad de declaraciones de impresión para intentar encontrar errores en tu código. No te preocupes, es muy normal !!\n",
    "\n",
    "Una mejor forma de hacerlo es utilizando el módulo depurador incorporado de Python (**pdb**). El módulo pdb implementa un entorno de depuración interactivo para programas Python. Incluye funciones que le permiten pausar su programa, observar los valores de las variables y observar la ejecución del programa paso a paso, para que puedas comprender lo que hace realmente tu programa y encontrar errores en la lógica."
   ]
  },
  {
   "cell_type": "code",
   "execution_count": 1,
   "metadata": {},
   "outputs": [],
   "source": [
    "# Fabriquemos un error. Sumaremos un string con un entero (str + int)\n",
    "\n",
    "x = '1'\n",
    "y = 2\n",
    "z = 3"
   ]
  },
  {
   "cell_type": "code",
   "execution_count": 2,
   "metadata": {},
   "outputs": [
    {
     "name": "stdout",
     "output_type": "stream",
     "text": [
      "5\n"
     ]
    }
   ],
   "source": [
    "result = y + z\n",
    "\n",
    "print(result)"
   ]
  },
  {
   "cell_type": "code",
   "execution_count": 3,
   "metadata": {},
   "outputs": [
    {
     "ename": "TypeError",
     "evalue": "unsupported operand type(s) for +: 'int' and 'str'",
     "output_type": "error",
     "traceback": [
      "\u001b[0;31m---------------------------------------------------------------------------\u001b[0m",
      "\u001b[0;31mTypeError\u001b[0m                                 Traceback (most recent call last)",
      "\u001b[0;32m<ipython-input-3-14639e445d83>\u001b[0m in \u001b[0;36m<module>\u001b[0;34m\u001b[0m\n\u001b[1;32m      1\u001b[0m \u001b[0;31m# Esto dará un error. Obvio !!\u001b[0m\u001b[0;34m\u001b[0m\u001b[0;34m\u001b[0m\u001b[0;34m\u001b[0m\u001b[0m\n\u001b[1;32m      2\u001b[0m \u001b[0;34m\u001b[0m\u001b[0m\n\u001b[0;32m----> 3\u001b[0;31m \u001b[0mresult\u001b[0m \u001b[0;34m=\u001b[0m \u001b[0my\u001b[0m \u001b[0;34m+\u001b[0m \u001b[0mx\u001b[0m\u001b[0;34m\u001b[0m\u001b[0;34m\u001b[0m\u001b[0m\n\u001b[0m\u001b[1;32m      4\u001b[0m \u001b[0mprint\u001b[0m\u001b[0;34m(\u001b[0m\u001b[0mresult\u001b[0m\u001b[0;34m)\u001b[0m\u001b[0;34m\u001b[0m\u001b[0;34m\u001b[0m\u001b[0m\n",
      "\u001b[0;31mTypeError\u001b[0m: unsupported operand type(s) for +: 'int' and 'str'"
     ]
    }
   ],
   "source": [
    "# Esto dará un error. Obvio !!\n",
    "\n",
    "result = y + x\n",
    "print(result)"
   ]
  },
  {
   "cell_type": "markdown",
   "metadata": {},
   "source": [
    "Ahora imagina que este pequeño trozo de código está en alguna parte de un programa con muchas líneas. Es posible que no sea evidente qué contienen las variables **x** e **y**. Y la ejecución nos dé un error.\n",
    "\n",
    "Python nos dice la línea en la que se encuentra el error y el tipo del mismo, pero no sabemos el origen. En nuestro ejemplo no sabríamos donde definimos mal la variable *x*."
   ]
  },
  {
   "cell_type": "code",
   "execution_count": 4,
   "metadata": {},
   "outputs": [
    {
     "name": "stdout",
     "output_type": "stream",
     "text": [
      "5\n"
     ]
    },
    {
     "ename": "TypeError",
     "evalue": "unsupported operand type(s) for +: 'int' and 'str'",
     "output_type": "error",
     "traceback": [
      "\u001b[0;31m---------------------------------------------------------------------------\u001b[0m",
      "\u001b[0;31mTypeError\u001b[0m                                 Traceback (most recent call last)",
      "\u001b[0;32m<ipython-input-4-1bdf5ce30d5c>\u001b[0m in \u001b[0;36m<module>\u001b[0;34m\u001b[0m\n\u001b[1;32m     16\u001b[0m \u001b[0;31m# Muchas\u001b[0m\u001b[0;34m\u001b[0m\u001b[0;34m\u001b[0m\u001b[0;34m\u001b[0m\u001b[0m\n\u001b[1;32m     17\u001b[0m \u001b[0;34m\u001b[0m\u001b[0m\n\u001b[0;32m---> 18\u001b[0;31m \u001b[0mresult\u001b[0m \u001b[0;34m=\u001b[0m \u001b[0my\u001b[0m \u001b[0;34m+\u001b[0m \u001b[0mx\u001b[0m\u001b[0;34m\u001b[0m\u001b[0;34m\u001b[0m\u001b[0m\n\u001b[0m\u001b[1;32m     19\u001b[0m \u001b[0mprint\u001b[0m\u001b[0;34m(\u001b[0m\u001b[0mresult\u001b[0m\u001b[0;34m)\u001b[0m\u001b[0;34m\u001b[0m\u001b[0;34m\u001b[0m\u001b[0m\n",
      "\u001b[0;31mTypeError\u001b[0m: unsupported operand type(s) for +: 'int' and 'str'"
     ]
    }
   ],
   "source": [
    "x = '1'\n",
    "y = 2\n",
    "z = 3\n",
    "\n",
    "# Imagina que aquí hay muchas líneas de cógigo\n",
    "#\n",
    "#\n",
    "# Muchas \n",
    "\n",
    "result = y + z\n",
    "print(result)\n",
    "\n",
    "# Y aquí más líneas de cógigo\n",
    "#\n",
    "#\n",
    "# Muchas\n",
    "\n",
    "result = y + x\n",
    "print(result)"
   ]
  },
  {
   "cell_type": "markdown",
   "metadata": {},
   "source": [
    "\n",
    "Lo que puedes hacer es establecer un seguimiento (*trace*) en cualquier punto de tu código para jugar con las variables y ver cuáles son:"
   ]
  },
  {
   "cell_type": "markdown",
   "metadata": {},
   "source": [
    "## Definiendo un *trace* con el modulo de depuración (*debugger module*)"
   ]
  },
  {
   "cell_type": "code",
   "execution_count": 5,
   "metadata": {},
   "outputs": [],
   "source": [
    "import pdb"
   ]
  },
  {
   "cell_type": "code",
   "execution_count": 7,
   "metadata": {},
   "outputs": [
    {
     "name": "stdout",
     "output_type": "stream",
     "text": [
      "5\n",
      "--Return--\n",
      "> <ipython-input-7-eb572a5119c7>(21)<module>()->None\n",
      "-> pdb.set_trace()\n",
      "(Pdb) s\n",
      "> /home/bastian/.local/lib/python3.8/site-packages/IPython/core/interactiveshell.py(3334)run_code()\n",
      "-> sys.excepthook = old_excepthook\n",
      "(Pdb) s\n",
      "> /home/bastian/.local/lib/python3.8/site-packages/IPython/core/interactiveshell.py(3350)run_code()\n",
      "-> outflag = False\n",
      "(Pdb) s\n",
      "> /home/bastian/.local/lib/python3.8/site-packages/IPython/core/interactiveshell.py(3351)run_code()\n",
      "-> return outflag\n",
      "(Pdb) s\n",
      "--Return--\n",
      "> /home/bastian/.local/lib/python3.8/site-packages/IPython/core/interactiveshell.py(3351)run_code()->False\n",
      "-> return outflag\n",
      "(Pdb) s\n",
      "> /home/bastian/.local/lib/python3.8/site-packages/IPython/core/interactiveshell.py(3246)run_ast_nodes()\n",
      "-> for node,mode in to_run:\n",
      "(Pdb) s\n",
      "> /home/bastian/.local/lib/python3.8/site-packages/IPython/core/interactiveshell.py(3247)run_ast_nodes()\n",
      "-> if mode == 'exec':\n",
      "(Pdb) s\n",
      "> /home/bastian/.local/lib/python3.8/site-packages/IPython/core/interactiveshell.py(3248)run_ast_nodes()\n",
      "-> mod = Module([node], [])\n",
      "(Pdb) s\n",
      "> /home/bastian/.local/lib/python3.8/site-packages/IPython/core/interactiveshell.py(3251)run_ast_nodes()\n",
      "-> with compiler.extra_flags(getattr(ast, 'PyCF_ALLOW_TOP_LEVEL_AWAIT', 0x0) if self.autoawait else 0x0):\n",
      "(Pdb) s\n",
      "--Call--\n",
      "> /home/bastian/.local/lib/python3.8/site-packages/traitlets/traitlets.py(545)__get__()\n",
      "-> def __get__(self, obj, cls=None):\n",
      "(Pdb) s\n",
      "> /home/bastian/.local/lib/python3.8/site-packages/traitlets/traitlets.py(553)__get__()\n",
      "-> if obj is None:\n",
      "(Pdb) s\n",
      "> /home/bastian/.local/lib/python3.8/site-packages/traitlets/traitlets.py(556)__get__()\n",
      "-> return self.get(obj, cls)\n",
      "(Pdb) s\n",
      "--Call--\n",
      "> /home/bastian/.local/lib/python3.8/site-packages/traitlets/traitlets.py(526)get()\n",
      "-> def get(self, obj, cls=None):\n",
      "(Pdb) s\n",
      "> /home/bastian/.local/lib/python3.8/site-packages/traitlets/traitlets.py(527)get()\n",
      "-> try:\n",
      "(Pdb) s\n",
      "> /home/bastian/.local/lib/python3.8/site-packages/traitlets/traitlets.py(528)get()\n",
      "-> value = obj._trait_values[self.name]\n",
      "(Pdb) s\n",
      "> /home/bastian/.local/lib/python3.8/site-packages/traitlets/traitlets.py(543)get()\n",
      "-> return value\n",
      "(Pdb) b\n",
      "(Pdb) \n",
      "(Pdb) \n",
      "(Pdb) c\n"
     ]
    },
    {
     "ename": "TypeError",
     "evalue": "unsupported operand type(s) for +: 'int' and 'str'",
     "output_type": "error",
     "traceback": [
      "\u001b[0;31m---------------------------------------------------------------------------\u001b[0m",
      "\u001b[0;31mTypeError\u001b[0m                                 Traceback (most recent call last)",
      "\u001b[0;32m<ipython-input-7-eb572a5119c7>\u001b[0m in \u001b[0;36m<module>\u001b[0;34m\u001b[0m\n\u001b[1;32m     21\u001b[0m \u001b[0mpdb\u001b[0m\u001b[0;34m.\u001b[0m\u001b[0mset_trace\u001b[0m\u001b[0;34m(\u001b[0m\u001b[0;34m)\u001b[0m\u001b[0;34m\u001b[0m\u001b[0;34m\u001b[0m\u001b[0m\n\u001b[1;32m     22\u001b[0m \u001b[0;34m\u001b[0m\u001b[0m\n\u001b[0;32m---> 23\u001b[0;31m \u001b[0mresult2\u001b[0m \u001b[0;34m=\u001b[0m \u001b[0myy\u001b[0m \u001b[0;34m+\u001b[0m \u001b[0mxx\u001b[0m\u001b[0;34m\u001b[0m\u001b[0;34m\u001b[0m\u001b[0m\n\u001b[0m\u001b[1;32m     24\u001b[0m \u001b[0mprint\u001b[0m\u001b[0;34m(\u001b[0m\u001b[0mresult2\u001b[0m\u001b[0;34m)\u001b[0m\u001b[0;34m\u001b[0m\u001b[0;34m\u001b[0m\u001b[0m\n",
      "\u001b[0;31mTypeError\u001b[0m: unsupported operand type(s) for +: 'int' and 'str'"
     ]
    }
   ],
   "source": [
    "xx = '1'\n",
    "yy = 2\n",
    "zz = 3\n",
    "\n",
    "# Imagina que aquí hay muchas líneas de cógigo\n",
    "#\n",
    "#\n",
    "# Muchas \n",
    "\n",
    "result1 = yy + zz\n",
    "print(result1)\n",
    "\n",
    "cc = 3\n",
    "\n",
    "# Y aquí más líneas de cógigo\n",
    "#\n",
    "#\n",
    "# Muchas\n",
    "\n",
    "# Definimos un 'trace' usando Python Debugger\n",
    "pdb.set_trace()\n",
    "\n",
    "result2 = yy + xx\n",
    "print(result2)\n"
   ]
  },
  {
   "cell_type": "markdown",
   "metadata": {},
   "source": [
    "```python\n",
    "pdb.set_trace()\n",
    "```\n",
    "Detiene la ejecución del programa en este punto.\n",
    "\n",
    "Vuelve a ejecutar la celda anterior y práctica con algunos comandos útiles del *tracer*\n",
    "```python\n",
    "c --> continue\n",
    "s --> step\n",
    "b 12 --> set break point at line 12 and so on.\n",
    "```\n",
    "Encontrarás más en la documentación oficial de [pdb](https://docs.python.org/3/library/pdb.html#debugger-commands)"
   ]
  },
  {
   "cell_type": "markdown",
   "metadata": {},
   "source": [
    "____"
   ]
  },
  {
   "cell_type": "markdown",
   "metadata": {},
   "source": [
    "## Getting Dates and Times\n",
    "\n",
    "Let's show how you can get the current date or time from Python:"
   ]
  },
  {
   "cell_type": "code",
   "execution_count": 8,
   "metadata": {},
   "outputs": [],
   "source": [
    "import datetime"
   ]
  },
  {
   "cell_type": "code",
   "execution_count": 2,
   "metadata": {},
   "outputs": [],
   "source": [
    "t = datetime.time(1, 15, 5)"
   ]
  },
  {
   "cell_type": "code",
   "execution_count": 3,
   "metadata": {},
   "outputs": [
    {
     "data": {
      "text/plain": [
       "1"
      ]
     },
     "execution_count": 3,
     "metadata": {},
     "output_type": "execute_result"
    }
   ],
   "source": [
    "t.hour"
   ]
  },
  {
   "cell_type": "code",
   "execution_count": 4,
   "metadata": {},
   "outputs": [
    {
     "data": {
      "text/plain": [
       "15"
      ]
     },
     "execution_count": 4,
     "metadata": {},
     "output_type": "execute_result"
    }
   ],
   "source": [
    "t.minute"
   ]
  },
  {
   "cell_type": "code",
   "execution_count": 5,
   "metadata": {},
   "outputs": [
    {
     "data": {
      "text/plain": [
       "5"
      ]
     },
     "execution_count": 5,
     "metadata": {},
     "output_type": "execute_result"
    }
   ],
   "source": [
    "t.second"
   ]
  },
  {
   "cell_type": "code",
   "execution_count": 6,
   "metadata": {},
   "outputs": [
    {
     "data": {
      "text/plain": [
       "0"
      ]
     },
     "execution_count": 6,
     "metadata": {},
     "output_type": "execute_result"
    }
   ],
   "source": [
    "t.microsecond"
   ]
  },
  {
   "cell_type": "code",
   "execution_count": 7,
   "metadata": {},
   "outputs": [
    {
     "data": {
      "text/plain": [
       "datetime.date(2020, 10, 7)"
      ]
     },
     "execution_count": 7,
     "metadata": {},
     "output_type": "execute_result"
    }
   ],
   "source": [
    "# Get current date\n",
    "datetime.date.today()"
   ]
  },
  {
   "cell_type": "code",
   "execution_count": 8,
   "metadata": {},
   "outputs": [
    {
     "data": {
      "text/plain": [
       "datetime.datetime(2020, 10, 7, 21, 49, 22, 663569)"
      ]
     },
     "execution_count": 8,
     "metadata": {},
     "output_type": "execute_result"
    }
   ],
   "source": [
    "# Get current time\n",
    "datetime.datetime.now()"
   ]
  },
  {
   "cell_type": "markdown",
   "metadata": {},
   "source": [
    "## Midiendo los tiempos de ejecución de nuestro código Code\n",
    "\n",
    "A veces es necesario medir los tiempos de ejecución de nuestro código. Esto se hace necesario porque, en muchas ocasiones, la solución a un problema puede ser de multiples formas, y no toda ellas son eficientes.\n",
    "\n",
    "Para eso importaremos la librería **time**"
   ]
  },
  {
   "cell_type": "code",
   "execution_count": 13,
   "metadata": {},
   "outputs": [],
   "source": [
    "import time\n",
    "\n",
    "# Guardamos el tiempo inicial en una variable llamada t0\n",
    "\n",
    "t0 = time.time() # Llamamos a la función time() que está en la librería time\n",
    "\n",
    "# Ejecutamos una operación que consuma algo de tiempo\n",
    "result = [x**2 for x in range(1000000)]\n",
    "time.sleep(1)\n",
    "\n",
    "t1 = time.time() # Medimos el timpo final"
   ]
  },
  {
   "cell_type": "code",
   "execution_count": 14,
   "metadata": {},
   "outputs": [
    {
     "name": "stdout",
     "output_type": "stream",
     "text": [
      "TIempo de ejecición =  1.376\n"
     ]
    }
   ],
   "source": [
    "# La diferencia estará en segundos\n",
    "\n",
    "print(f'TIempo de ejecición = {t1 - t0: 2.3f}')"
   ]
  },
  {
   "cell_type": "markdown",
   "metadata": {},
   "source": [
    "### Uso de los *magic commands* de Jupyter\n",
    "\n",
    "Hay cuatro formas de usarlos para medir tiempos:\n",
    "\n",
    "```python\n",
    "# dos para medir el timpo de ejecución de una instruccione específica\n",
    "%time\n",
    "%timeit\n",
    "\n",
    "# dos para medir el timpo de ejecución de la celda completa\n",
    "%time\n",
    "%timeit\n",
    "```\n",
    "\n",
    "**%time** mide el tiempo de ejecución de una instruccion<br>\n",
    "**%timeit** es mucho más preciso ya que repite las mediciónr muchas veces para eliminar la influencia de otras tareas de tu computador que pudieran está ejecutándose en paralelo"
   ]
  },
  {
   "cell_type": "code",
   "execution_count": 15,
   "metadata": {},
   "outputs": [
    {
     "name": "stdout",
     "output_type": "stream",
     "text": [
      "CPU times: user 3 s, sys: 316 ms, total: 3.32 s\n",
      "Wall time: 3.49 s\n"
     ]
    },
    {
     "data": {
      "text/plain": [
       "333333283333335000000"
      ]
     },
     "execution_count": 15,
     "metadata": {},
     "output_type": "execute_result"
    }
   ],
   "source": [
    "# '%time' medirá el tiempo de la instrucción solamente\n",
    "\n",
    "%time result = [x**2 for x in range(10000000)]\n",
    "\n",
    "sum(result)"
   ]
  },
  {
   "cell_type": "code",
   "execution_count": 16,
   "metadata": {},
   "outputs": [
    {
     "name": "stdout",
     "output_type": "stream",
     "text": [
      "CPU times: user 324 ms, sys: 0 ns, total: 324 ms\n",
      "Wall time: 329 ms\n"
     ]
    },
    {
     "data": {
      "text/plain": [
       "333333283333335000000"
      ]
     },
     "execution_count": 16,
     "metadata": {},
     "output_type": "execute_result"
    }
   ],
   "source": [
    "# '%time' medirá el tiempo de la instrucción solamente\n",
    "\n",
    "result = [x**2 for x in range(10000000)]\n",
    "\n",
    "%time sum(result)"
   ]
  },
  {
   "cell_type": "code",
   "execution_count": 17,
   "metadata": {},
   "outputs": [
    {
     "name": "stdout",
     "output_type": "stream",
     "text": [
      "3.37 s ± 130 ms per loop (mean ± std. dev. of 7 runs, 1 loop each)\n"
     ]
    },
    {
     "data": {
      "text/plain": [
       "333333283333335000000"
      ]
     },
     "execution_count": 17,
     "metadata": {},
     "output_type": "execute_result"
    }
   ],
   "source": [
    "# '%timeit' medirá el tiempo de ejeción PROMEDIO de la instrucción solamente, \n",
    "# la ejecutará varias veces\n",
    "\n",
    "%timeit result = [x**2 for x in range(10000000)]\n",
    "\n",
    "sum(result)"
   ]
  },
  {
   "cell_type": "code",
   "execution_count": 18,
   "metadata": {},
   "outputs": [
    {
     "name": "stdout",
     "output_type": "stream",
     "text": [
      "357 ms ± 31.5 ms per loop (mean ± std. dev. of 7 runs, 1 loop each)\n"
     ]
    }
   ],
   "source": [
    "# '%timeit' medirá el tiempo de ejeción PROMEDIO de la instrucción solamente, \n",
    "# la ejecutará varias veces\n",
    "\n",
    "result = [x**2 for x in range(10000000)]\n",
    "\n",
    "%timeit sum(result)"
   ]
  },
  {
   "cell_type": "code",
   "execution_count": 19,
   "metadata": {},
   "outputs": [
    {
     "name": "stdout",
     "output_type": "stream",
     "text": [
      "CPU times: user 3.21 s, sys: 250 ms, total: 3.46 s\n",
      "Wall time: 3.6 s\n"
     ]
    },
    {
     "data": {
      "text/plain": [
       "333333283333335000000"
      ]
     },
     "execution_count": 19,
     "metadata": {},
     "output_type": "execute_result"
    }
   ],
   "source": [
    "%%time \n",
    "# '%%time' con dos '%%' medirá el tiempo de ejeción de la celda completa \n",
    "# debe ir al inicio del todo\n",
    "\n",
    "result = [x**2 for x in range(10000000)]\n",
    "\n",
    "sum(result)"
   ]
  },
  {
   "cell_type": "code",
   "execution_count": 20,
   "metadata": {},
   "outputs": [
    {
     "name": "stdout",
     "output_type": "stream",
     "text": [
      "3.61 ms ± 227 µs per loop (mean ± std. dev. of 7 runs, 100 loops each)\n"
     ]
    }
   ],
   "source": [
    "%%timeit \n",
    "# '%%timeit' con dos '%%' medirá el tiempo de ejeción PROMEDIO de la celda completa \n",
    "# debe ir al inicio del todo\n",
    "\n",
    "result = [x**2 for x in range(10000)]\n",
    "\n",
    "sum(result)"
   ]
  },
  {
   "cell_type": "markdown",
   "metadata": {},
   "source": [
    "# <font color='blue'>Tiempo de revisión grupal</font>\n",
    "La **Bitácora Grupal** es la herramienta de evaluación de este curso. La misma estará conformada por todos los **Notebooks Grupales** de cada una de las clases y módulos del curso. Los grupos de trabajo deben desarrollarla de forma colaborativa y creativa.\n",
    "\n",
    "Rúbrica de la **Bitácora Grupal** y de los **Notebook Grupal** que la componen:\n",
    "* El notebook se ve ordenado y con una secuencia lógica y limpia.\n",
    "* El notebook no tiene celdas en blanco innecesarias.\n",
    "* El notebook no tiene celdas con errores, salvo aquellas en las que explícitamente queremos mostrar un error.\n",
    "* Todos los ejercicios propuestos están correctamente desarrollados.\n",
    "* Los ejercicios tiene comentarios y reflexiones del grupo.\n",
    "* El notebook tiene abundantes comentarios explicativos del código.\n",
    "* El notebook tiene una sección adicional, creada por el grupo, con experimentos de los alumnos relativos al contenido del mismo.\n",
    "* La Bitácora Grupa, y por ende los notebooks que la componen, tiene aspectos creativos y novedoso que la diferencian significativamente de las de los demás grupos."
   ]
  }
 ],
 "metadata": {
  "anaconda-cloud": {},
  "kernelspec": {
   "display_name": "Python 3",
   "language": "python",
   "name": "python3"
  },
  "language_info": {
   "codemirror_mode": {
    "name": "ipython",
    "version": 3
   },
   "file_extension": ".py",
   "mimetype": "text/x-python",
   "name": "python",
   "nbconvert_exporter": "python",
   "pygments_lexer": "ipython3",
   "version": "3.8.6"
  }
 },
 "nbformat": 4,
 "nbformat_minor": 2
}

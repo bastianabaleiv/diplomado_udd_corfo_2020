{
 "cells": [
  {
   "cell_type": "markdown",
   "metadata": {
    "id": "TPyVPQong2VE"
   },
   "source": [
    "# 18-Tarea 3\n",
    "\n",
    "Hola hackers. Aquí tienes una tarea exclusiva de funciones. Hay desafíos de distinto tipo, trata de superarlos todos.\n",
    "Buena suerte !!\n",
    "_______"
   ]
  },
  {
   "cell_type": "markdown",
   "metadata": {
    "id": "f2T5GRYDg2VF"
   },
   "source": [
    "## Grupo B\n",
    "\n",
    "\n",
    "## Integrantes: \n",
    "* <font color='green'>Hugo Ubilla</font> \n",
    "* <font color='green'>Benjamín Rodríguez</font> \n",
    "* <font color='green'>Francisco Quiroz</font> \n",
    "* <font color='green'>Daniela Quezada</font> \n",
    "* <font color='green'>Bastián Aballay</font>"
   ]
  },
  {
   "cell_type": "markdown",
   "metadata": {
    "id": "gG0IaLQZg2VF"
   },
   "source": [
    "## <font color='green'>Tarea 1: Challenging</font>  \n",
    "Cree una función que tome un número del 1 al 10 y que devuelva la tabla de multiplicación de dicho número (hasta x 10).<br>\n",
    "Verifica que el númeor ingresado sea mayor que 0 y menor que 11, en caso contrario despliega un mensaje.\n",
    "Nombra la función como **tabla_mult**\n",
    "\n",
    "El resultado debería verse como\n",
    "```python\n",
    "tabla_mult(3)\n",
    "```\n",
    " 1 x 3 =   3 <br> \n",
    " 2 x 3 =   6 <br>\n",
    " 3 x 3 =   9 <br>\n",
    " 4 x 3 =  12 <br>\n",
    " 5 x 3 =  15 <br>\n",
    " 6 x 3 =  18 <br>\n",
    " 7 x 3 =  21 <br>\n",
    " 8 x 3 =  24 <br>\n",
    " 9 x 3 =  27 <br>\n",
    "10 x 3 =  30 <br>"
   ]
  },
  {
   "cell_type": "code",
   "execution_count": 1,
   "metadata": {
    "id": "_TPjVxZgg2VG"
   },
   "outputs": [],
   "source": [
    "def tabla_mult(x):\n",
    "    if x < 1 or x > 10:\n",
    "        print('El número ingresado no permite el cálculo de su tabla de multiplicar.')\n",
    "    else:\n",
    "        for i in range(1,11):\n",
    "            print(f'{i} x {x} = {x*i}')"
   ]
  },
  {
   "cell_type": "code",
   "execution_count": 2,
   "metadata": {},
   "outputs": [],
   "source": [
    "def tabla_mult(numero): \n",
    "    if numero > 0 and numero < 11: \n",
    "        for i in range(1,11): \n",
    "            print(f'{i} x {numero} = {i*numero}') \n",
    "    else: \n",
    "        print('El número ingresado está fuera de rango.')"
   ]
  },
  {
   "cell_type": "code",
   "execution_count": 3,
   "metadata": {
    "id": "vcq6VLLEg2VI"
   },
   "outputs": [
    {
     "name": "stdout",
     "output_type": "stream",
     "text": [
      "1 x 3 = 3\n",
      "2 x 3 = 6\n",
      "3 x 3 = 9\n",
      "4 x 3 = 12\n",
      "5 x 3 = 15\n",
      "6 x 3 = 18\n",
      "7 x 3 = 21\n",
      "8 x 3 = 24\n",
      "9 x 3 = 27\n",
      "10 x 3 = 30\n"
     ]
    }
   ],
   "source": [
    "tabla_mult(3)"
   ]
  },
  {
   "cell_type": "code",
   "execution_count": 4,
   "metadata": {
    "id": "VYo9LISQg2VK"
   },
   "outputs": [
    {
     "name": "stdout",
     "output_type": "stream",
     "text": [
      "1 x 5 = 5\n",
      "2 x 5 = 10\n",
      "3 x 5 = 15\n",
      "4 x 5 = 20\n",
      "5 x 5 = 25\n",
      "6 x 5 = 30\n",
      "7 x 5 = 35\n",
      "8 x 5 = 40\n",
      "9 x 5 = 45\n",
      "10 x 5 = 50\n"
     ]
    }
   ],
   "source": [
    "tabla_mult(5)"
   ]
  },
  {
   "cell_type": "code",
   "execution_count": 5,
   "metadata": {
    "id": "m_qBS80sg2VM"
   },
   "outputs": [
    {
     "name": "stdout",
     "output_type": "stream",
     "text": [
      "El número ingresado está fuera de rango.\n"
     ]
    }
   ],
   "source": [
    "tabla_mult(15)"
   ]
  },
  {
   "cell_type": "markdown",
   "metadata": {
    "id": "kHKZiRdgg2VO"
   },
   "source": [
    "## <font color='green'>Tarea 2:</font> \n",
    "Crea una función que tome un entero y devuelva **True** si es par y **False** sies impar.<br>\n",
    "Nombra la función como **check_par_impar**"
   ]
  },
  {
   "cell_type": "code",
   "execution_count": 6,
   "metadata": {
    "id": "WmyWFkSIg2VO"
   },
   "outputs": [],
   "source": [
    "def check_par_impar(x):\n",
    "    return x % 2 == 0"
   ]
  },
  {
   "cell_type": "code",
   "execution_count": 7,
   "metadata": {},
   "outputs": [],
   "source": [
    "def check_par_impar(x): \n",
    "    if x % 2 == 0: \n",
    "        return True \n",
    "    else: \n",
    "        return False "
   ]
  },
  {
   "cell_type": "code",
   "execution_count": 8,
   "metadata": {
    "id": "AYBLrd8Fg2VU"
   },
   "outputs": [
    {
     "data": {
      "text/plain": [
       "True"
      ]
     },
     "execution_count": 8,
     "metadata": {},
     "output_type": "execute_result"
    }
   ],
   "source": [
    "check_par_impar(10)"
   ]
  },
  {
   "cell_type": "code",
   "execution_count": 9,
   "metadata": {
    "id": "PTLlb1_Ag2VW"
   },
   "outputs": [
    {
     "data": {
      "text/plain": [
       "False"
      ]
     },
     "execution_count": 9,
     "metadata": {},
     "output_type": "execute_result"
    }
   ],
   "source": [
    "check_par_impar(7)"
   ]
  },
  {
   "cell_type": "markdown",
   "metadata": {
    "id": "GBYhXzPQg2VY"
   },
   "source": [
    "## <font color='green'>Tarea 3:</font> \n",
    "\n",
    "Crea una función que tome una cadena y devuelva el primer carácter de esa cadena en mayúsculas.<br>\n",
    "Nombra la función como **first_upper**"
   ]
  },
  {
   "cell_type": "code",
   "execution_count": 10,
   "metadata": {
    "id": "Xst1TqFeg2VY"
   },
   "outputs": [],
   "source": [
    "def first_upper(x):\n",
    "    return x[0].upper()"
   ]
  },
  {
   "cell_type": "code",
   "execution_count": 11,
   "metadata": {
    "id": "y2GXpIZSg2Vb"
   },
   "outputs": [
    {
     "data": {
      "text/plain": [
       "'H'"
      ]
     },
     "execution_count": 11,
     "metadata": {},
     "output_type": "execute_result"
    }
   ],
   "source": [
    "first_upper('hello')"
   ]
  },
  {
   "cell_type": "code",
   "execution_count": 12,
   "metadata": {
    "id": "sVMz17j7g2Ve"
   },
   "outputs": [
    {
     "data": {
      "text/plain": [
       "'A'"
      ]
     },
     "execution_count": 12,
     "metadata": {},
     "output_type": "execute_result"
    }
   ],
   "source": [
    "first_upper('agent')"
   ]
  },
  {
   "cell_type": "markdown",
   "metadata": {
    "id": "uGqYDvUig2Vg"
   },
   "source": [
    "## <font color='green'>Tarea 4:</font> \n",
    "\n",
    "Crea una función que tome una cadena y devuelva los dos últimos caracteres. Si hay menos de dos caracteres, devuelve la palabra: \"Error\".<br>\n",
    "Nombra la función como **last_two**\n",
    "\n",
    "Tip:\n",
    "[Usa este link si necesitas ayuda](https://stackoverflow.com/questions/7983820/get-the-last-4-characters-of-a-string)\n",
    "\n",
    "Acostúmbrate a buscar ayuda en internet!!!"
   ]
  },
  {
   "cell_type": "code",
   "execution_count": 13,
   "metadata": {},
   "outputs": [],
   "source": [
    "# Primera aproximación\n",
    "def last_two(mystring):\n",
    "    if len(mystring)>=2:\n",
    "        return mystring[-2:]\n",
    "    else:\n",
    "        print('Error')"
   ]
  },
  {
   "cell_type": "code",
   "execution_count": 14,
   "metadata": {},
   "outputs": [],
   "source": [
    "# Sentencia if complementaria a la anterior\n",
    "def last_two(a):\n",
    "    if len(a) < 2:\n",
    "        print('Error')\n",
    "    else:\n",
    "        return a[-2:]"
   ]
  },
  {
   "cell_type": "code",
   "execution_count": 15,
   "metadata": {
    "id": "SA2Hr6WSg2Vh"
   },
   "outputs": [],
   "source": [
    "# Menos verboso, Más pythonista\n",
    "def last_two(x):\n",
    "    return x[-2:] if len(x) >= 2 else 'Error'"
   ]
  },
  {
   "cell_type": "code",
   "execution_count": 16,
   "metadata": {
    "id": "yeI-xz0zg2Vi"
   },
   "outputs": [
    {
     "data": {
      "text/plain": [
       "'lo'"
      ]
     },
     "execution_count": 16,
     "metadata": {},
     "output_type": "execute_result"
    }
   ],
   "source": [
    "last_two('hello')"
   ]
  },
  {
   "cell_type": "code",
   "execution_count": 17,
   "metadata": {
    "id": "m5TpusXCg2Vk"
   },
   "outputs": [
    {
     "data": {
      "text/plain": [
       "'hi'"
      ]
     },
     "execution_count": 17,
     "metadata": {},
     "output_type": "execute_result"
    }
   ],
   "source": [
    "last_two('hi')"
   ]
  },
  {
   "cell_type": "code",
   "execution_count": 18,
   "metadata": {
    "id": "t28M5PrYg2Vm"
   },
   "outputs": [
    {
     "data": {
      "text/plain": [
       "'Error'"
      ]
     },
     "execution_count": 18,
     "metadata": {},
     "output_type": "execute_result"
    }
   ],
   "source": [
    "last_two('a')"
   ]
  },
  {
   "cell_type": "markdown",
   "metadata": {
    "id": "_lOIJFgFg2Vn"
   },
   "source": [
    "## <font color='green'>Tarea 5: Challenging</font> \n",
    "Dada una lista de enteros, devuelve **True** si la secuencia [1, 2, 3] está en algún lugar de la lista.\n",
    "<br>\n",
    "Nombra la función como **seq_check**\n",
    "\n",
    "Tip:\n",
    "Use *slicing* y un bucle **for**."
   ]
  },
  {
   "cell_type": "code",
   "execution_count": 19,
   "metadata": {},
   "outputs": [],
   "source": [
    "def seq_check(x):\n",
    "    for i in range(len(x)-2):\n",
    "        if [1,2,3] == x[i:i+3]:\n",
    "            return True\n",
    "        else:\n",
    "            continue\n",
    "    return False"
   ]
  },
  {
   "cell_type": "code",
   "execution_count": 20,
   "metadata": {
    "id": "-S4I81vag2Vq"
   },
   "outputs": [
    {
     "data": {
      "text/plain": [
       "True"
      ]
     },
     "execution_count": 20,
     "metadata": {},
     "output_type": "execute_result"
    }
   ],
   "source": [
    "seq_check([1, 2, 3])"
   ]
  },
  {
   "cell_type": "code",
   "execution_count": 21,
   "metadata": {
    "id": "MSRMJgJog2Vs"
   },
   "outputs": [
    {
     "data": {
      "text/plain": [
       "True"
      ]
     },
     "execution_count": 21,
     "metadata": {},
     "output_type": "execute_result"
    }
   ],
   "source": [
    "seq_check([7, 7, 7, 1, 2, 3, 7, 7, 7])"
   ]
  },
  {
   "cell_type": "code",
   "execution_count": 22,
   "metadata": {
    "id": "gH7iEr1qg2Vu"
   },
   "outputs": [
    {
     "data": {
      "text/plain": [
       "False"
      ]
     },
     "execution_count": 22,
     "metadata": {},
     "output_type": "execute_result"
    }
   ],
   "source": [
    "seq_check([3, 2, 1, 3, 2, 1, 1, 1, 2, 2, 3, 3, 3])"
   ]
  },
  {
   "cell_type": "markdown",
   "metadata": {
    "collapsed": true,
    "id": "tT4oSPWUg2Vx"
   },
   "source": [
    "## <font color='green'>Tarea 6: Challenging</font> \n",
    "\n",
    "Dados 2 strings (cadenas), crea una función que devuelva la diferencia de longitud entre ellas. Esta diferencia de longitud siempre debe ser un número positivo (o solo 0). <br>\n",
    "Nombra la función como **compare_len**\n",
    "\n",
    "Tip: \n",
    "Busca en internet la función de valor absoluto en Python"
   ]
  },
  {
   "cell_type": "code",
   "execution_count": 23,
   "metadata": {
    "id": "fHdZ5pG_g2Vx"
   },
   "outputs": [],
   "source": [
    "def compare_len(x,y):\n",
    "    return abs(len(x)-len(y))"
   ]
  },
  {
   "cell_type": "code",
   "execution_count": 24,
   "metadata": {
    "id": "wbAqLJ4Rg2Vz"
   },
   "outputs": [
    {
     "data": {
      "text/plain": [
       "0"
      ]
     },
     "execution_count": 24,
     "metadata": {},
     "output_type": "execute_result"
    }
   ],
   "source": [
    "compare_len('aa','aa')"
   ]
  },
  {
   "cell_type": "code",
   "execution_count": 25,
   "metadata": {
    "id": "-X289oXfg2V0"
   },
   "outputs": [
    {
     "data": {
      "text/plain": [
       "1"
      ]
     },
     "execution_count": 25,
     "metadata": {},
     "output_type": "execute_result"
    }
   ],
   "source": [
    "compare_len('a','bb')"
   ]
  },
  {
   "cell_type": "code",
   "execution_count": 26,
   "metadata": {
    "id": "lALNJItAg2V2"
   },
   "outputs": [
    {
     "data": {
      "text/plain": [
       "1"
      ]
     },
     "execution_count": 26,
     "metadata": {},
     "output_type": "execute_result"
    }
   ],
   "source": [
    "compare_len('bb','a')"
   ]
  },
  {
   "cell_type": "markdown",
   "metadata": {
    "id": "ox830Bfmg2V3"
   },
   "source": [
    "## <font color='green'>Tarea 7:</font> \n",
    "\n",
    "Dada una lista de enteros, si la longitud de la lista es un número par, devuelve la suma de la lista. Si la longitud de la lista es impar, devuelva el valor máximo en esa lista.\n",
    "\n",
    "Nombra tu función como **sum_or_max**"
   ]
  },
  {
   "cell_type": "code",
   "execution_count": 27,
   "metadata": {
    "id": "3Yz21Iylg2V4"
   },
   "outputs": [],
   "source": [
    "def sum_or_max(x):\n",
    "    return sum(x) if len(x) % 2 == 0 else max(x)"
   ]
  },
  {
   "cell_type": "code",
   "execution_count": 28,
   "metadata": {
    "id": "sEzJueaAg2V6"
   },
   "outputs": [
    {
     "data": {
      "text/plain": [
       "5"
      ]
     },
     "execution_count": 28,
     "metadata": {},
     "output_type": "execute_result"
    }
   ],
   "source": [
    "sum_or_max([1,2,5])"
   ]
  },
  {
   "cell_type": "code",
   "execution_count": 29,
   "metadata": {
    "id": "jAwkgc83g2V8"
   },
   "outputs": [
    {
     "data": {
      "text/plain": [
       "6"
      ]
     },
     "execution_count": 29,
     "metadata": {},
     "output_type": "execute_result"
    }
   ],
   "source": [
    "sum_or_max([0,1,2,3])"
   ]
  },
  {
   "cell_type": "code",
   "execution_count": 30,
   "metadata": {},
   "outputs": [],
   "source": [
    "# Version extendida\n",
    "def sum_or_max(mylist):\n",
    "    if len(mylist) % 2 == 0:\n",
    "        return sum(mylist)\n",
    "    else:\n",
    "        return max(mylist)"
   ]
  },
  {
   "cell_type": "code",
   "execution_count": 31,
   "metadata": {},
   "outputs": [],
   "source": [
    "# Version iterando en la lista de enteros:\n",
    "def sum_or_max(enteros):         # Se define la función \"sum_or_max\" y la variable \"enteros\"\n",
    "    if len(enteros) %2 == 0:     # Se verifica que la lista de enteros sea par\n",
    "        suma = 0                 # Si la lista de enteros es par se realiza la suma de los valores de la lista. Primero se inicializa la variable \"suma\" en 0.\n",
    "        for i in enteros:        # Se inicia el ciclo \"For\" que hará un barriso de los valores de la lista de enteros \n",
    "            suma += i            # Se realiza la sumamediante la acuulación de sumas parciales  \n",
    "            #print(suma)\n",
    "        return suma              # La función devuelve el total de la suma\n",
    "    else:\n",
    "        return max(enteros)      # Si la lista de enteros es impar se devuelve el valor máximo mediante la función \"max\""
   ]
  },
  {
   "cell_type": "markdown",
   "metadata": {
    "id": "qKsdaxCqg2V-"
   },
   "source": [
    "## <font color='green'>Tarea 8: Super challenging</font> \n",
    "\n",
    "Los agentes en el campo a veces necesitan hablar en código. Cree una función que tome un nombre (un string, por ejemplo, \"Juan Antonio\", \"Alejandra\", etc.) y reemplace todas las vocales con la letra x. Para nuestros propósitos, consideremos estas letras como vocales: [a, e, i, o, u]). Luego cambie la posición de la primera y última letra.\n",
    "\n",
    "Tip:\n",
    "1. Esta tarea es desafiante, divídela en varias partes.\n",
    "2. AL trabajar sobre una lista, necesitarás unirla en un único string para devolver el resultado. Utiliza para ello el método **.join( )** de los strings."
   ]
  },
  {
   "cell_type": "code",
   "execution_count": 32,
   "metadata": {
    "id": "EI3NI24Rg2V-"
   },
   "outputs": [],
   "source": [
    "# Usando método replace \n",
    "def replace_and_switch(x):\n",
    "    if len(x) > 1:\n",
    "        # Replace\n",
    "        vowels = 'aeiouAEIOU'\n",
    "        for vowel in vowels:\n",
    "            x = x.replace(vowel, 'x')\n",
    "        # Switch\n",
    "        return x[len(x) - 1] + x[1:len(x) - 1] + x[0]\n",
    "    else:\n",
    "        return x"
   ]
  },
  {
   "cell_type": "code",
   "execution_count": 33,
   "metadata": {},
   "outputs": [],
   "source": [
    "# Utilizando lista para agregar contenidos\n",
    "def replace_and_switch(x):\n",
    "    if len(x) > 1:\n",
    "        replaced = []\n",
    "        for letter in list(x):\n",
    "            if letter in 'aeiouAEIOU':\n",
    "                replaced.append('x')\n",
    "            else:\n",
    "                replaced.append(letter)\n",
    "        replaced = ''.join(replaced)\n",
    "        switched = replaced[len(replaced) - 1] + replaced[1:len(replaced) - 1] + replaced[0]\n",
    "        return switched       \n",
    "    else:\n",
    "        return x"
   ]
  },
  {
   "cell_type": "code",
   "execution_count": 34,
   "metadata": {},
   "outputs": [],
   "source": [
    "# Menos verboso, usando list comprehension, \n",
    "# transformando elementos a minúsculas y con aproximación swap\n",
    "def replace_and_switch(cadena):\n",
    "    a = [i if i.lower() not in 'aeiou' else 'x' for i in cadena]\n",
    "    aux = a[0] # swap\n",
    "    a[0] = a[-1]\n",
    "    a[-1] = aux\n",
    "    return ''.join(a)"
   ]
  },
  {
   "cell_type": "code",
   "execution_count": 35,
   "metadata": {},
   "outputs": [],
   "source": [
    "#\n",
    "def replace_and_switch(cadena):\n",
    "    a = []\n",
    "    for i in range(len(cadena)):\n",
    "        if cadena[i].lower() in 'aeiou':\n",
    "            a.append('x')\n",
    "        else:\n",
    "            a.append(cadena[i])\n",
    "    aux = a[0]\n",
    "    a[0] = a[-1]\n",
    "    a[-1] = aux\n",
    "    return ''.join(a)\n"
   ]
  },
  {
   "cell_type": "code",
   "execution_count": 36,
   "metadata": {},
   "outputs": [],
   "source": [
    "# Utilzando una función dentro de una función\n",
    "def replace_and_switch(cadena):\n",
    "    def vocal(letra):\n",
    "        return 'x' if letra in 'aeiou' else letra\n",
    "    # Aplicando la función definida anteriormente\n",
    "    a = list(map(vocal, cadena))\n",
    "    # swap\n",
    "    aux = a[0]\n",
    "    a[0] = a[-1]\n",
    "    a[-1] = aux    \n",
    "    return ''.join(a)"
   ]
  },
  {
   "cell_type": "code",
   "execution_count": 37,
   "metadata": {
    "id": "tpd8_beZg2V_"
   },
   "outputs": [
    {
     "data": {
      "text/plain": [
       "'xxxn AntxnxJ'"
      ]
     },
     "execution_count": 37,
     "metadata": {},
     "output_type": "execute_result"
    }
   ],
   "source": [
    "replace_and_switch('Juan Antonio')"
   ]
  },
  {
   "cell_type": "code",
   "execution_count": 38,
   "metadata": {
    "id": "cU_ZQTieg2WB"
   },
   "outputs": [
    {
     "data": {
      "text/plain": [
       "'xxrcxlM'"
      ]
     },
     "execution_count": 38,
     "metadata": {},
     "output_type": "execute_result"
    }
   ],
   "source": [
    "replace_and_switch(\"Marcela\")"
   ]
  },
  {
   "cell_type": "markdown",
   "metadata": {
    "id": "A_p_7YYmg2WE"
   },
   "source": [
    "¡Excelente trabajo recluta! Más adelante, podrá combinar múltiples funciones para crear grandes piezas de código de trabajo que realizan tareas complejas."
   ]
  },
  {
   "cell_type": "markdown",
   "metadata": {
    "id": "wVdkBgeZg2WE"
   },
   "source": [
    "# <font color='blue'>Tiempo de revisión grupal</font>\n",
    "La **Bitácora Grupal** es la herramienta de evaluación de este curso. La misma estará conformada por todos los **Notebooks Grupales** de cada una de las clases y módulos del curso. Los grupos de trabajo deben desarrollarla de forma colaborativa y creativa.\n",
    "\n",
    "Rúbrica de la **Bitácora Grupal** y de los **Notebook Grupal** que la componen:\n",
    "* El notebook se ve ordenado y con una secuencia lógica y limpia.\n",
    "* El notebook no tiene celdas en blanco innecesarias.\n",
    "* El notebook no tiene celdas con errores, salvo aquellas en las que explícitamente queremos mostrar un error.\n",
    "* Todos los ejercicios propuestos están correctamente desarrollados.\n",
    "* Los ejercicios tiene comentarios y reflexiones del grupo.\n",
    "* El notebook tiene abundantes comentarios explicativos del código.\n",
    "* El notebook tiene una sección adicional, creada por el grupo, con experimentos de los alumnos relativos al contenido del mismo.\n",
    "* La Bitácora Grupa, y por ende los notebooks que la componen, tiene aspectos creativos y novedoso que la diferencian significativamente de las de los demás grupos."
   ]
  }
 ],
 "metadata": {
  "colab": {
   "name": "18-Tarea_funciones.ipynb",
   "provenance": []
  },
  "kernelspec": {
   "display_name": "Python 3",
   "language": "python",
   "name": "python3"
  },
  "language_info": {
   "codemirror_mode": {
    "name": "ipython",
    "version": 3
   },
   "file_extension": ".py",
   "mimetype": "text/x-python",
   "name": "python",
   "nbconvert_exporter": "python",
   "pygments_lexer": "ipython3",
   "version": "3.8.6"
  }
 },
 "nbformat": 4,
 "nbformat_minor": 1
}

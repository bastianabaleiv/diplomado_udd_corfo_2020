{
 "cells": [
  {
   "cell_type": "markdown",
   "metadata": {
    "collapsed": true
   },
   "source": [
    "# 14-Ciclos for (for loop)\n",
    "\n",
    "¡Bienvenidos de nuevo Hackers, es hora de aprender un nuevo ciclo!\n",
    "\n",
    "Un bucle  **for** actúa como un iterador en Python, pasa por elementos que están en una secuencia o cualquier otro **objeto iterable**. Los objetos que hemos aprendido sobre los que podemos iterar incluyen: cadenas o strings, listas, tuplas e incluso iterables incorporados para diccionarios, como las claves o los valores.\n",
    "\n",
    "Aquí está el formato general para un bucle for en Python:\n",
    "```python\n",
    "     for item in object:\n",
    "         your code\n",
    "         your code\n",
    "```        \n",
    "El nombre de la variable utilizado para el *item* depende completamente del programados (o sea, tú!!), así que usa tu mejor criterio para elegir un nombre que tenga sentido y que podrás entenderlo cuando vuelva a revisar tu código. Puedes utiliza esa variable **sólo dentro del bucle**, fuera del mismo no tendrá un valor asignado.\n",
    "\n",
    "Sigamos adelante y trabajemos con varios ejemplos de bucles **fo**r utilizando una variedad de tipos de objetos de datos."
   ]
  },
  {
   "cell_type": "markdown",
   "metadata": {},
   "source": [
    "## for loop con listas"
   ]
  },
  {
   "cell_type": "code",
   "execution_count": 1,
   "metadata": {},
   "outputs": [
    {
     "name": "stdout",
     "output_type": "stream",
     "text": [
      "1\n",
      "2\n",
      "3\n",
      "4\n",
      "5\n",
      "6\n",
      "7\n",
      "8\n",
      "9\n",
      "10\n"
     ]
    }
   ],
   "source": [
    "mylist = [1, 2, 3, 4, 5, 6, 7, 8, 9, 10]\n",
    "# La lista es un objeto iterable por esencia\n",
    "# Esto significa que podemos recorrerla\n",
    "\n",
    "for num in mylist:\n",
    "    print(num)"
   ]
  },
  {
   "cell_type": "code",
   "execution_count": 2,
   "metadata": {},
   "outputs": [
    {
     "name": "stdout",
     "output_type": "stream",
     "text": [
      "1\n",
      "2\n",
      "3\n",
      "4\n",
      "5\n",
      "6\n",
      "7\n",
      "8\n",
      "9\n",
      "10\n"
     ]
    }
   ],
   "source": [
    "for la_variable_puede_ser_cualquier_cosa in mylist:\n",
    "    print(la_variable_puede_ser_cualquier_cosa)"
   ]
  },
  {
   "cell_type": "markdown",
   "metadata": {},
   "source": [
    "Pero no creo que te atrevas a usar un nombre variable como este!! O sí?"
   ]
  },
  {
   "cell_type": "code",
   "execution_count": 3,
   "metadata": {},
   "outputs": [
    {
     "name": "stdout",
     "output_type": "stream",
     "text": [
      "1 2 3 4 5 6 7 8 9 10 "
     ]
    }
   ],
   "source": [
    "for num in mylist:\n",
    "    print(num, end=' ')"
   ]
  },
  {
   "cell_type": "code",
   "execution_count": 4,
   "metadata": {},
   "outputs": [
    {
     "name": "stdout",
     "output_type": "stream",
     "text": [
      "some unrelated string, but print for every num in mylist\n",
      "some unrelated string, but print for every num in mylist\n",
      "some unrelated string, but print for every num in mylist\n",
      "some unrelated string, but print for every num in mylist\n",
      "some unrelated string, but print for every num in mylist\n",
      "some unrelated string, but print for every num in mylist\n",
      "some unrelated string, but print for every num in mylist\n",
      "some unrelated string, but print for every num in mylist\n",
      "some unrelated string, but print for every num in mylist\n",
      "some unrelated string, but print for every num in mylist\n"
     ]
    }
   ],
   "source": [
    "for num in mylist:\n",
    "    print(\"some unrelated string, but print for every num in mylist\")"
   ]
  },
  {
   "cell_type": "markdown",
   "metadata": {},
   "source": [
    "## for loop con strings"
   ]
  },
  {
   "cell_type": "code",
   "execution_count": 5,
   "metadata": {},
   "outputs": [
    {
     "name": "stdout",
     "output_type": "stream",
     "text": [
      "T\n",
      "h\n",
      "i\n",
      "s\n",
      " \n",
      "i\n",
      "s\n",
      " \n",
      "a\n",
      " \n",
      "s\n",
      "t\n",
      "r\n",
      "i\n",
      "n\n",
      "g\n",
      " \n",
      "H\n",
      "a\n",
      "c\n",
      "k\n",
      "e\n",
      "r\n",
      "s\n"
     ]
    }
   ],
   "source": [
    "for letter in \"This is a string Hackers\":\n",
    "    print(letter)"
   ]
  },
  {
   "cell_type": "code",
   "execution_count": 6,
   "metadata": {},
   "outputs": [
    {
     "name": "stdout",
     "output_type": "stream",
     "text": [
      "This\n",
      "is\n",
      "a\n",
      "string\n",
      "Hackers\n"
     ]
    }
   ],
   "source": [
    "mystring = 'This is a string Hackers'\n",
    "\n",
    "for word in mystring.split():\n",
    "    print(word)"
   ]
  },
  {
   "cell_type": "markdown",
   "metadata": {},
   "source": [
    "## for loop con tuplas"
   ]
  },
  {
   "cell_type": "code",
   "execution_count": 7,
   "metadata": {},
   "outputs": [
    {
     "name": "stdout",
     "output_type": "stream",
     "text": [
      "1\n",
      "2\n",
      "3\n",
      "4\n"
     ]
    }
   ],
   "source": [
    "tup = (1, 2, 3, 4)\n",
    "\n",
    "for num in tup:\n",
    "    print(num)"
   ]
  },
  {
   "cell_type": "markdown",
   "metadata": {},
   "source": [
    "## Desempaquetado de tuplas (tuple unpacking)"
   ]
  },
  {
   "cell_type": "code",
   "execution_count": 8,
   "metadata": {},
   "outputs": [],
   "source": [
    "list_of_tups = [(1, 2), (3, 4), (5, 6), (7, 8), (9, 10)]"
   ]
  },
  {
   "cell_type": "code",
   "execution_count": 9,
   "metadata": {},
   "outputs": [
    {
     "name": "stdout",
     "output_type": "stream",
     "text": [
      "(1, 2)\n",
      "(3, 4)\n",
      "(5, 6)\n",
      "(7, 8)\n",
      "(9, 10)\n"
     ]
    }
   ],
   "source": [
    "for x in list_of_tups:\n",
    "    print(x)"
   ]
  },
  {
   "cell_type": "code",
   "execution_count": 10,
   "metadata": {},
   "outputs": [
    {
     "name": "stdout",
     "output_type": "stream",
     "text": [
      "1\n",
      "3\n",
      "5\n",
      "7\n",
      "9\n"
     ]
    }
   ],
   "source": [
    "for x in list_of_tups:\n",
    "    print(x[0])"
   ]
  },
  {
   "cell_type": "code",
   "execution_count": 11,
   "metadata": {},
   "outputs": [
    {
     "name": "stdout",
     "output_type": "stream",
     "text": [
      "2\n",
      "4\n",
      "6\n",
      "8\n",
      "10\n"
     ]
    }
   ],
   "source": [
    "for x in list_of_tups:\n",
    "    print(x[1])"
   ]
  },
  {
   "cell_type": "markdown",
   "metadata": {},
   "source": [
    "## <font color='green'>Tarea:</font>  Desempaque el tercer elemento de la tupla\n",
    "Ejecuta la siguiente celda donde creamos una lista de tuplas.<br>\n",
    "Extrae e imprime los números de las tuplas usando un bucle for\n",
    "\n",
    "Pasos:\n",
    "1. Ejecuta la celda para crear la lista de tuplas.\n",
    "2. Extrae e imprime los números usando un bucle for e indexado\n",
    "\n",
    "Challenge:\n",
    "3. Imprime los números en una única fila separados por un espacio; así: 1 4 6 8 10"
   ]
  },
  {
   "cell_type": "code",
   "execution_count": 12,
   "metadata": {},
   "outputs": [],
   "source": [
    "# EJECUTE ESTA CELDA. NO LA MODIFIQUE !!!\n",
    "list_of_tuples = [('A', ['B', 1]),\n",
    "                  ('C', ['D', 4]),\n",
    "                  ('E', ['F', 6]),\n",
    "                  ('G', ['H', 8]),\n",
    "                  ('I', ['J', 10])] "
   ]
  },
  {
   "cell_type": "code",
   "execution_count": 13,
   "metadata": {},
   "outputs": [
    {
     "name": "stdout",
     "output_type": "stream",
     "text": [
      "1 4 6 8 10 "
     ]
    }
   ],
   "source": [
    "# Tu código aquí ...\n",
    "for i in list_of_tuples:\n",
    "    print(f'{i[1][1]} ', end='')"
   ]
  },
  {
   "cell_type": "markdown",
   "metadata": {},
   "source": [
    "<font color='green'>Fin tarea</font> "
   ]
  },
  {
   "cell_type": "markdown",
   "metadata": {},
   "source": [
    "Continuemos"
   ]
  },
  {
   "cell_type": "code",
   "execution_count": 14,
   "metadata": {},
   "outputs": [
    {
     "name": "stdout",
     "output_type": "stream",
     "text": [
      "1\n",
      "2\n",
      "\n",
      "\n",
      "3\n",
      "4\n",
      "\n",
      "\n",
      "5\n",
      "6\n",
      "\n",
      "\n",
      "7\n",
      "8\n",
      "\n",
      "\n",
      "9\n",
      "10\n",
      "\n",
      "\n"
     ]
    }
   ],
   "source": [
    "for (num1,num2) in list_of_tups:\n",
    "    print(num1)\n",
    "    print(num2)\n",
    "    print('\\n')"
   ]
  },
  {
   "cell_type": "code",
   "execution_count": 15,
   "metadata": {},
   "outputs": [
    {
     "name": "stdout",
     "output_type": "stream",
     "text": [
      "1\n",
      "2\n",
      "\n",
      "\n",
      "3\n",
      "4\n",
      "\n",
      "\n",
      "5\n",
      "6\n",
      "\n",
      "\n",
      "7\n",
      "8\n",
      "\n",
      "\n",
      "9\n",
      "10\n",
      "\n",
      "\n"
     ]
    }
   ],
   "source": [
    "# No necesitamos el paréntesis\n",
    "\n",
    "for num1,num2 in list_of_tups:\n",
    "    print(num1)\n",
    "    print(num2)\n",
    "    print('\\n')\n",
    "    "
   ]
  },
  {
   "cell_type": "markdown",
   "metadata": {},
   "source": [
    "## for loop con dictionarios"
   ]
  },
  {
   "cell_type": "code",
   "execution_count": 16,
   "metadata": {},
   "outputs": [],
   "source": [
    "counties_populations = {'Chile':'18', 'USA':'323', 'Germany':'83', 'India':'1324', 'Spain':'45'}"
   ]
  },
  {
   "cell_type": "markdown",
   "metadata": {},
   "source": [
    "¡Recuerde que los diccionarios no mantienen ningún orden! ¡Así que solo recorrelos con esto en mente!"
   ]
  },
  {
   "cell_type": "code",
   "execution_count": 17,
   "metadata": {},
   "outputs": [
    {
     "name": "stdout",
     "output_type": "stream",
     "text": [
      "Chile\n",
      "USA\n",
      "Germany\n",
      "India\n",
      "Spain\n"
     ]
    }
   ],
   "source": [
    "for item in counties_populations:\n",
    "    print(item)"
   ]
  },
  {
   "cell_type": "code",
   "execution_count": 18,
   "metadata": {},
   "outputs": [
    {
     "name": "stdout",
     "output_type": "stream",
     "text": [
      "Chile\n",
      "USA\n",
      "Germany\n",
      "India\n",
      "Spain\n"
     ]
    }
   ],
   "source": [
    "for k in counties_populations.keys():\n",
    "    print(k)"
   ]
  },
  {
   "cell_type": "code",
   "execution_count": 19,
   "metadata": {},
   "outputs": [
    {
     "name": "stdout",
     "output_type": "stream",
     "text": [
      "18\n",
      "323\n",
      "83\n",
      "1324\n",
      "45\n"
     ]
    }
   ],
   "source": [
    "for values in counties_populations.values():\n",
    "    print(values)"
   ]
  },
  {
   "cell_type": "markdown",
   "metadata": {},
   "source": [
    "### <font color='green'>Tarea: NEW CHALLENGE</font> \n",
    "### Imprimiendo países y poblaciones y biscando en [stackoverflow](https://stackoverflow.com/)\n",
    "\n",
    "Cree un programa que imprima el nombre del país y su población, de esta manera:\n",
    "\n",
    "      En Chile hay 17 millones de habitantes.\n",
    "\n",
    "Imprime un país por línea\n",
    "Deja una línea en blanco entre países\n",
    "\n",
    "Pasos:\n",
    "1. Utiliza un bucle **for** para recorrer el diccionario.\n",
    "2. Busca en [stackoverflow](https://stackoverflow.com/) cómo desempaquetar un diccionario en un ciclo for\n",
    "3. Imprima utilizando la función de **print()** y **f-strings**.\n",
    "4. Deje una línea en blanco usando el carácter de control '\\n' dentro de la función print().\n",
    "\n",
    "En stackoverflow: https://stackoverflow.com/questions/12094764/python-tuple-unpacking-in-dict-comprehension\n",
    "       "
   ]
  },
  {
   "cell_type": "code",
   "execution_count": 20,
   "metadata": {},
   "outputs": [
    {
     "name": "stdout",
     "output_type": "stream",
     "text": [
      "En Chile hay 18 millones de habitantes.\n",
      "\n",
      "En USA hay 323 millones de habitantes.\n",
      "\n",
      "En Germany hay 83 millones de habitantes.\n",
      "\n",
      "En India hay 1324 millones de habitantes.\n",
      "\n",
      "En Spain hay 45 millones de habitantes.\n",
      "\n"
     ]
    }
   ],
   "source": [
    "# Método 1: Desempaquetando los items como una tupla\n",
    "for country, pop in counties_populations.items():\n",
    "    print(f\"En {country} hay {pop} millones de habitantes.\\n\")"
   ]
  },
  {
   "cell_type": "code",
   "execution_count": 21,
   "metadata": {},
   "outputs": [
    {
     "name": "stdout",
     "output_type": "stream",
     "text": [
      "dict_items([('Chile', '18'), ('USA', '323'), ('Germany', '83'), ('India', '1324'), ('Spain', '45')])\n"
     ]
    }
   ],
   "source": [
    "print(counties_populations.items())"
   ]
  },
  {
   "cell_type": "code",
   "execution_count": 22,
   "metadata": {},
   "outputs": [
    {
     "name": "stdout",
     "output_type": "stream",
     "text": [
      "En Chile hay 18 millones de habitantes.\n",
      "\n",
      "En USA hay 323 millones de habitantes.\n",
      "\n",
      "En Germany hay 83 millones de habitantes.\n",
      "\n",
      "En India hay 1324 millones de habitantes.\n",
      "\n",
      "En Spain hay 45 millones de habitantes.\n",
      "\n"
     ]
    }
   ],
   "source": [
    "# Método 2: Desempaquetando por llave y obteniendo el valor utilizando objeto[llave]\n",
    "for k in counties_populations.keys(): \n",
    "    print(f'En {k} hay {counties_populations[k]} millones de habitantes.\\n') "
   ]
  },
  {
   "cell_type": "code",
   "execution_count": 23,
   "metadata": {},
   "outputs": [
    {
     "name": "stdout",
     "output_type": "stream",
     "text": [
      "En Chile hay 18 millones de habitantes.\n",
      "\n",
      "En USA hay 323 millones de habitantes.\n",
      "\n",
      "En Germany hay 83 millones de habitantes.\n",
      "\n",
      "En India hay 1324 millones de habitantes.\n",
      "\n",
      "En Spain hay 45 millones de habitantes.\n",
      "\n"
     ]
    }
   ],
   "source": [
    "# Método 3: Desempaquetando por items y obteniendo llaves y valores mediante su posicion en la tupla\n",
    "for k in counties_populations.items(): \n",
    "    print(f'En {k[0]} hay {k[1]} millones de habitantes.\\n') "
   ]
  },
  {
   "cell_type": "markdown",
   "metadata": {},
   "source": [
    "<font color='green'>Fin tarea</font> "
   ]
  },
  {
   "cell_type": "markdown",
   "metadata": {},
   "source": [
    "Más de **for loops**"
   ]
  },
  {
   "cell_type": "code",
   "execution_count": 24,
   "metadata": {},
   "outputs": [
    {
     "name": "stdout",
     "output_type": "stream",
     "text": [
      "Hello Sebastián\n",
      "Hello Zavi\n",
      "Hello Isidora\n"
     ]
    }
   ],
   "source": [
    "for name in \"Sebastián\", \"Zavi\", \"Isidora\":\n",
    "    print(\"Hello \" + name)"
   ]
  },
  {
   "cell_type": "code",
   "execution_count": 25,
   "metadata": {},
   "outputs": [
    {
     "name": "stdout",
     "output_type": "stream",
     "text": [
      "0\n",
      "1\n",
      "2\n",
      "3\n",
      "4\n",
      "5\n",
      "6\n",
      "7\n",
      "8\n",
      "9\n"
     ]
    }
   ],
   "source": [
    "for i in range(10):\n",
    "    print(i)"
   ]
  },
  {
   "cell_type": "code",
   "execution_count": 26,
   "metadata": {},
   "outputs": [
    {
     "name": "stdout",
     "output_type": "stream",
     "text": [
      "5\n",
      "7\n",
      "11\n",
      "13\n",
      "36\n"
     ]
    }
   ],
   "source": [
    "total = 0\n",
    "for i in 5, 7, 11, 13:\n",
    "    print(i)\n",
    "    total = total + i  # total += i\n",
    "\n",
    "print(total)"
   ]
  },
  {
   "cell_type": "code",
   "execution_count": 27,
   "metadata": {},
   "outputs": [
    {
     "name": "stdout",
     "output_type": "stream",
     "text": [
      "Hello Sebastián\n",
      "Hello Zavi\n",
      "Hello Isidora\n"
     ]
    }
   ],
   "source": [
    "for name in [\"Sebastián\", \"Zavi\", \"Isidora\"]:\n",
    "    print(\"Hello \" + name)"
   ]
  },
  {
   "cell_type": "markdown",
   "metadata": {},
   "source": [
    "----"
   ]
  },
  {
   "cell_type": "markdown",
   "metadata": {},
   "source": [
    "## continue\n",
    "\n",
    "La palabra clave **continue** puede ser un poco complicada para ver su utilidad. Te permite continuar con el ciclo de nivel superior, básicamente lo opuesto a break. Pasará tiempo antes de que te des cuenta de una buena situación para usarla, pero aquí hay un ejemplo simple:"
   ]
  },
  {
   "cell_type": "code",
   "execution_count": 28,
   "metadata": {},
   "outputs": [
    {
     "name": "stdout",
     "output_type": "stream",
     "text": [
      "Current Letter is: c\n",
      "Current Letter is: o\n",
      "Current Letter is: e\n"
     ]
    }
   ],
   "source": [
    "for letter in 'code':\n",
    "    if letter == 'd':\n",
    "        continue\n",
    "        \n",
    "    print('Current Letter is: {}'.format(letter))"
   ]
  },
  {
   "cell_type": "markdown",
   "metadata": {},
   "source": [
    "Intenta explicar qué paso aquí!!"
   ]
  },
  {
   "cell_type": "markdown",
   "metadata": {},
   "source": [
    "**R:** Se da una *pronta continuación* a la iteración sin ejecutar el resto del código dentro del iterador."
   ]
  },
  {
   "cell_type": "markdown",
   "metadata": {},
   "source": [
    "Es posible utilizar **continue** en un ciclo **while**"
   ]
  },
  {
   "cell_type": "code",
   "execution_count": 29,
   "metadata": {},
   "outputs": [
    {
     "name": "stdout",
     "output_type": "stream",
     "text": [
      "1\n",
      "3\n",
      "4\n",
      "5\n"
     ]
    }
   ],
   "source": [
    "x = 0\n",
    "\n",
    "while x < 5:\n",
    "    \n",
    "    x += 1\n",
    "    \n",
    "    if x == 2:\n",
    "        continue\n",
    "        \n",
    "    print(x)    "
   ]
  },
  {
   "cell_type": "markdown",
   "metadata": {},
   "source": [
    "# <font color='blue'>Tiempo de revisión grupal</font>\n",
    "No olviden de enriquecer la bitácora grupal. La bitácora grupal estará conformada por todos los **Notebooks Grupales** de cada una de las clases y módulos del curso.\n",
    "\n",
    "Rúbrica del **Notebook Grupal**\n",
    "* El notebook se ve ordenado y con una secuencia lógica y limpia\n",
    "* El notebook no tiene celdas en blanco innecesarias\n",
    "* El notebook no tiene celdas con errores, salvo aquellas en las que explícitamente queremos mostrar un error\n",
    "* Todos los ejercicios propuestos están correctamente desarrollados\n",
    "* Los ejercicios tiene comentarios y reflexiones del grupo\n",
    "* El notebook tiene abundantes comentarios explicativos del código\n",
    "* El notebook tiene una sección adicional con experimentos de los alumnos relativos al tema del mismo\n"
   ]
  }
 ],
 "metadata": {
  "kernelspec": {
   "display_name": "Python 3",
   "language": "python",
   "name": "python3"
  },
  "language_info": {
   "codemirror_mode": {
    "name": "ipython",
    "version": 3
   },
   "file_extension": ".py",
   "mimetype": "text/x-python",
   "name": "python",
   "nbconvert_exporter": "python",
   "pygments_lexer": "ipython3",
   "version": "3.8.6"
  }
 },
 "nbformat": 4,
 "nbformat_minor": 2
}

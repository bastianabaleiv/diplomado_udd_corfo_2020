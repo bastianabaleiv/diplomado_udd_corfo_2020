{
 "cells": [
  {
   "cell_type": "markdown",
   "metadata": {
    "collapsed": true
   },
   "source": [
    "# 21-Programación Orientada a Objetos (OOP)\n",
    "\n",
    "La **programación orientada a objetos** (OOP) tiende a ser uno de los principales obstáculos para los reclutas cuando comienzan a aprender Python.\n",
    "\n",
    "Para esta lección, construiremos nuestro conocimiento de OOP en Python basándose en los siguientes temas:\n",
    "\n",
    "* Objetos\n",
    "* Usando la palabra clave **class**\n",
    "* Creando atributos de clase\n",
    "* Creando métodos en una clase\n",
    "* Aprendiendo sobre la herencia\n",
    "* Aprendiendo sobre métodos especiales para clases.\n",
    "\n",
    "Comencemos la lección recordando las estructuras (objetos) básicos de Python. Por ejemplo:"
   ]
  },
  {
   "cell_type": "code",
   "execution_count": 1,
   "metadata": {},
   "outputs": [],
   "source": [
    "mylist = [1, 2, 3]"
   ]
  },
  {
   "cell_type": "markdown",
   "metadata": {},
   "source": [
    "¿Recuerda cómo usábamos los métodos en una lista?"
   ]
  },
  {
   "cell_type": "code",
   "execution_count": 2,
   "metadata": {},
   "outputs": [
    {
     "data": {
      "text/plain": [
       "1"
      ]
     },
     "execution_count": 2,
     "metadata": {},
     "output_type": "execute_result"
    }
   ],
   "source": [
    "mylist.count(2)"
   ]
  },
  {
   "cell_type": "markdown",
   "metadata": {},
   "source": [
    "Básicamente, lo que haremos en esta lección es explorar cómo podríamos crear un tipo de objeto como una lista. Ya hemos aprendido cómo crear funciones para secciones de código repetibles. El uso de la programación orientada a objetos nos permitirá crear objetos que podamos importar a otros scripts y nos permitirá escalar nuestros proyectos aún más. Comenzaremos explorando los Objetos en general.\n",
    "\n",
    "## Objetos\n",
    "\n",
    "En Python, **todo es un objeto**. Recuerda que de lecciones anteriores podemos usar **type( )** para verificar el tipo de objeto que es algo:"
   ]
  },
  {
   "cell_type": "code",
   "execution_count": 3,
   "metadata": {},
   "outputs": [
    {
     "name": "stdout",
     "output_type": "stream",
     "text": [
      "<class 'int'>\n",
      "<class 'list'>\n",
      "<class 'tuple'>\n",
      "<class 'dict'>\n"
     ]
    }
   ],
   "source": [
    "print(type(1))\n",
    "print(type([]))\n",
    "print(type(()))\n",
    "print(type({}))"
   ]
  },
  {
   "cell_type": "markdown",
   "metadata": {},
   "source": [
    "Sabemos que todas estas cosas son objetos, entonces, ¿cómo podemos crear nuestros propios tipos de objetos? Ahí es donde entra la palabra clave **class**.\n",
    "\n",
    "## clase (class)\n",
    "\n",
    "Los objetos definidos por el usuario se crean utilizando la palabra clave **class**. La clase es una maqueta que define la naturaleza de un objeto futuro. A partir de clases podemos construir instancias. Una instancia es un objeto específico creado a partir de una clase particular. \n",
    "\n",
    "Por ejemplo, creemos el objeto 'l' como una instancia de un objeto de la clase lista."
   ]
  },
  {
   "cell_type": "code",
   "execution_count": 4,
   "metadata": {},
   "outputs": [
    {
     "data": {
      "text/plain": [
       "list"
      ]
     },
     "execution_count": 4,
     "metadata": {},
     "output_type": "execute_result"
    }
   ],
   "source": [
    "l = list()\n",
    "type(l)"
   ]
  },
  {
   "cell_type": "markdown",
   "metadata": {},
   "source": [
    "Veamos cómo podemos usar **class**:"
   ]
  },
  {
   "cell_type": "code",
   "execution_count": 5,
   "metadata": {},
   "outputs": [
    {
     "name": "stdout",
     "output_type": "stream",
     "text": [
      "<class '__main__.Sample'>\n"
     ]
    }
   ],
   "source": [
    "# Creamos un nuevo objeto llamado Sample\n",
    "# Es pythonista el nombrar los objetos con la primera letra en mayúscula\n",
    "\n",
    "class Sample():\n",
    "    pass\n",
    "\n",
    "# Creamos una instancia de la clase Sample\n",
    "x = Sample()\n",
    "\n",
    "print(type(x))"
   ]
  },
  {
   "cell_type": "markdown",
   "metadata": {},
   "source": [
    "Por convención (pytonista), damos a las clases un nombre que comienza con una letra mayúscula. Observe cómo x es ahora la referencia a nuestra nueva instancia de una clase Sample. En otras palabras, **instanciamos** la clase Sample.\n",
    "\n",
    "Dentro del código de la clase solo tenemos, por ahora **pass**, como una forma de poder definirla \"vacía\". Pero podemos definir atributos y métodos de clase.\n",
    "\n",
    "Un **atributo** es una característica de un objeto.\n",
    "Un **método** es una operación que podemos realizar con el objeto.\n",
    "\n",
    "Por ejemplo, podemos crear una clase llamada Agente. Un atributo de un Agente puede ser su altura, color de ojos, nombre, etc. Un **método** es típicamente más similar a una **función** que actúa sobre el objeto mismo, por ejemplo, hacer que el objeto Agente imprima su nombre de código sería adecuado para un método.\n",
    "\n",
    "Entendamos mejor los atributos a través de un ejemplo.\n",
    "\n",
    "## Atributos\n",
    "La sintaxis para crear un atributo es:\n",
    "```python    \n",
    "     self.attribute = algo\n",
    "```    \n",
    "Existe un método especial llamado:\n",
    "```python\n",
    "     __init__()\n",
    "```\n",
    "Este método se utiliza para inicializar los atributos de un objeto. Técnicamente es conocido como el **constructor** de la clase. Veamos un ejemplo:"
   ]
  },
  {
   "cell_type": "code",
   "execution_count": 6,
   "metadata": {},
   "outputs": [],
   "source": [
    "class Agente():\n",
    "    def __init__(self, nombre_real):\n",
    "        self.nombre_real = nombre_real"
   ]
  },
  {
   "cell_type": "code",
   "execution_count": 7,
   "metadata": {},
   "outputs": [
    {
     "data": {
      "text/plain": [
       "__main__.Agente"
      ]
     },
     "execution_count": 7,
     "metadata": {},
     "output_type": "execute_result"
    }
   ],
   "source": [
    "Agente"
   ]
  },
  {
   "cell_type": "code",
   "execution_count": 8,
   "metadata": {},
   "outputs": [
    {
     "ename": "TypeError",
     "evalue": "__init__() missing 1 required positional argument: 'nombre_real'",
     "output_type": "error",
     "traceback": [
      "\u001b[0;31m---------------------------------------------------------------------------\u001b[0m",
      "\u001b[0;31mTypeError\u001b[0m                                 Traceback (most recent call last)",
      "\u001b[0;32m<ipython-input-8-fba50ea0bda4>\u001b[0m in \u001b[0;36m<module>\u001b[0;34m\u001b[0m\n\u001b[1;32m      1\u001b[0m \u001b[0;31m# Este código dará un error porque necesitamos pasarle argumentos!\u001b[0m\u001b[0;34m\u001b[0m\u001b[0;34m\u001b[0m\u001b[0;34m\u001b[0m\u001b[0m\n\u001b[0;32m----> 2\u001b[0;31m \u001b[0mm\u001b[0m \u001b[0;34m=\u001b[0m \u001b[0mAgente\u001b[0m\u001b[0;34m(\u001b[0m\u001b[0;34m)\u001b[0m\u001b[0;34m\u001b[0m\u001b[0;34m\u001b[0m\u001b[0m\n\u001b[0m",
      "\u001b[0;31mTypeError\u001b[0m: __init__() missing 1 required positional argument: 'nombre_real'"
     ]
    }
   ],
   "source": [
    "# Este código dará un error porque necesitamos pasarle argumentos!\n",
    "m = Agente()"
   ]
  },
  {
   "cell_type": "code",
   "execution_count": 9,
   "metadata": {},
   "outputs": [],
   "source": [
    "m = Agente('Mike')"
   ]
  },
  {
   "cell_type": "code",
   "execution_count": 10,
   "metadata": {},
   "outputs": [],
   "source": [
    "a = Agente('Alice')"
   ]
  },
  {
   "cell_type": "markdown",
   "metadata": {},
   "source": [
    "Analicemos lo que tenemos arriba. El método especial\n",
    "```python\n",
    "     __init__()\n",
    "```\n",
    "se llama automáticamente justo después de que se ha creado el objeto:\n",
    "```python\n",
    "     def __init __ (self, real_name):\n",
    "```\n",
    "Cada atributo en una definición de clase comienza con una referencia al objeto instanciado. Por convención lo llamaremos **self**. La variable *nombre_real* es el argumento. El valor se pasa durante la instanciación de la clase.\n",
    "```python\n",
    "      self.nombre_real = nombre_real\n",
    "````"
   ]
  },
  {
   "cell_type": "markdown",
   "metadata": {},
   "source": [
    "Ahora hemos creado dos instancias de la clase Agente. Con dos instancias de Agente, cada una tiene su propio atributo *nombre_real*, luego podemos acceder a estos atributos de esta manera:"
   ]
  },
  {
   "cell_type": "code",
   "execution_count": 11,
   "metadata": {},
   "outputs": [
    {
     "data": {
      "text/plain": [
       "'Mike'"
      ]
     },
     "execution_count": 11,
     "metadata": {},
     "output_type": "execute_result"
    }
   ],
   "source": [
    "m.nombre_real"
   ]
  },
  {
   "cell_type": "code",
   "execution_count": 12,
   "metadata": {},
   "outputs": [
    {
     "data": {
      "text/plain": [
       "'Alice'"
      ]
     },
     "execution_count": 12,
     "metadata": {},
     "output_type": "execute_result"
    }
   ],
   "source": [
    "a.nombre_real"
   ]
  },
  {
   "cell_type": "markdown",
   "metadata": {},
   "source": [
    "Ten en cuenta que no ponemos paréntesis después de *nombre_real*, esto se debe a que es un atributo y no una función; no acepta argumentos.\n",
    "\n",
    "En Python también hay *atributos de objeto de clase*. Estos atributos de objeto de clase son los mismos para cualquier instancia de la clase. Por ejemplo, podríamos crear el atributo **planeta** para la clase Agente. Los agentes (independientemente de su altura, color de ojos, nombre u otros atributos siempre estarán en el planeta Tierra, ¡al menos por ahora! Aplicamos esta lógica de la siguiente manera:"
   ]
  },
  {
   "cell_type": "code",
   "execution_count": 13,
   "metadata": {},
   "outputs": [],
   "source": [
    "class Agente():\n",
    "    \n",
    "    # Class Object Attribute (atributos de objeto de clase)\n",
    "    planeta = 'Tierra'\n",
    "    \n",
    "    def __init__(self, nombre_real, color_ojos, altura):\n",
    "        self.nombre_real = nombre_real\n",
    "        self.color_ojos = color_ojos\n",
    "        self.altura = altura\n",
    "    def saltar():\n",
    "        self.gotox"
   ]
  },
  {
   "cell_type": "code",
   "execution_count": 14,
   "metadata": {},
   "outputs": [],
   "source": [
    "agente1 = Agente('Pancho', 'Pardos', (1, 8))"
   ]
  },
  {
   "cell_type": "code",
   "execution_count": 15,
   "metadata": {},
   "outputs": [
    {
     "data": {
      "text/plain": [
       "'Pancho'"
      ]
     },
     "execution_count": 15,
     "metadata": {},
     "output_type": "execute_result"
    }
   ],
   "source": [
    "agente1.nombre_real"
   ]
  },
  {
   "cell_type": "code",
   "execution_count": 16,
   "metadata": {},
   "outputs": [],
   "source": [
    "m = Agente('Mike', 'Verdes', 175)"
   ]
  },
  {
   "cell_type": "code",
   "execution_count": 17,
   "metadata": {},
   "outputs": [
    {
     "data": {
      "text/plain": [
       "'Mike'"
      ]
     },
     "execution_count": 17,
     "metadata": {},
     "output_type": "execute_result"
    }
   ],
   "source": [
    "m.nombre_real"
   ]
  },
  {
   "cell_type": "code",
   "execution_count": 18,
   "metadata": {},
   "outputs": [
    {
     "data": {
      "text/plain": [
       "175"
      ]
     },
     "execution_count": 18,
     "metadata": {},
     "output_type": "execute_result"
    }
   ],
   "source": [
    "m.altura"
   ]
  },
  {
   "cell_type": "code",
   "execution_count": 19,
   "metadata": {},
   "outputs": [
    {
     "data": {
      "text/plain": [
       "'Verdes'"
      ]
     },
     "execution_count": 19,
     "metadata": {},
     "output_type": "execute_result"
    }
   ],
   "source": [
    "m.color_ojos"
   ]
  },
  {
   "cell_type": "markdown",
   "metadata": {},
   "source": [
    "Ten en cuenta que el *Class Object Attribute* (atributo de objeto de clase) se define fuera de cualquier método de la clase. También por convención, los colocamos primero antes del constuctor de la clase (*init*)."
   ]
  },
  {
   "cell_type": "code",
   "execution_count": 20,
   "metadata": {},
   "outputs": [
    {
     "data": {
      "text/plain": [
       "'Tierra'"
      ]
     },
     "execution_count": 20,
     "metadata": {},
     "output_type": "execute_result"
    }
   ],
   "source": [
    "m.planeta"
   ]
  },
  {
   "cell_type": "markdown",
   "metadata": {},
   "source": [
    "## Métodos (methods)\n",
    "\n",
    "Los métodos son funciones definidas dentro del cuerpo de una clase. Se utilizan para realizar operaciones con los atributos de nuestros objetos. Los métodos son esenciales en el concepto de encapsulación del paradigma OOP. Esto es esencial para segmentar las funcionalidades, especialmente, en aplicaciones grandes.\n",
    "\n",
    "Básicamente, puede pensar en los métodos como funciones que actúan sobre un Objeto que tienen en cuenta el Objeto mismo a través de su argumento *self*.\n",
    "\n",
    "Veamos un ejemplo de cómo crear una clase Circulo:"
   ]
  },
  {
   "cell_type": "code",
   "execution_count": 21,
   "metadata": {},
   "outputs": [],
   "source": [
    "class Circulo():\n",
    "    \n",
    "    # Definimos PI, el cual es el mismo para cualquier círculo\n",
    "    PI = 3.14\n",
    "\n",
    "    # Instanciamos un círculo con radio por defecto de 1\n",
    "    def __init__(self, radio=1):\n",
    "        self.radio = radio \n",
    "\n",
    "    # El método 'área´ calcula el área del círculo. Noten el uso de 'self'\n",
    "    def area(self):\n",
    "        return self.radio * self.radio * Circulo.PI\n",
    "\n",
    "    def perimetro(self):\n",
    "        return 2 * self.radio * Circulo.PI"
   ]
  },
  {
   "cell_type": "code",
   "execution_count": 22,
   "metadata": {},
   "outputs": [
    {
     "name": "stdout",
     "output_type": "stream",
     "text": [
      "EL radio del circulo es: 2\n"
     ]
    }
   ],
   "source": [
    "c = Circulo(radio=2)\n",
    "\n",
    "print(f'EL radio del circulo es: {c.radio}')"
   ]
  },
  {
   "cell_type": "code",
   "execution_count": 23,
   "metadata": {},
   "outputs": [
    {
     "name": "stdout",
     "output_type": "stream",
     "text": [
      "El área del círculo es: 12.56\n"
     ]
    }
   ],
   "source": [
    "# Notice how for a method we need the () to actually call the method!\n",
    "# Observa cómo para un método necesitamos que con () llamemos al método (a diferencia de un atribito)!\n",
    "\n",
    "print(f'El área del círculo es: {c.area()}')"
   ]
  },
  {
   "cell_type": "code",
   "execution_count": 24,
   "metadata": {},
   "outputs": [],
   "source": [
    "# Podemos cambiar el radio\n",
    "c.radio = 10"
   ]
  },
  {
   "cell_type": "code",
   "execution_count": 25,
   "metadata": {},
   "outputs": [
    {
     "data": {
      "text/plain": [
       "314.0"
      ]
     },
     "execution_count": 25,
     "metadata": {},
     "output_type": "execute_result"
    }
   ],
   "source": [
    "c.area()"
   ]
  },
  {
   "cell_type": "markdown",
   "metadata": {},
   "source": [
    "Observa cómo nos usamos la notación **self** para hacer referencia a los atributos de la clase dentro de las llamadas al método.\n",
    "\n",
    "También observa la diferencia entre llamar a un método y llamar a un atributo, los métodos necesitan que se los llame con un () al final, de lo contrario no se ejecutarán."
   ]
  },
  {
   "cell_type": "markdown",
   "metadata": {},
   "source": [
    "## Herencia (inheritance)\n",
    "\n",
    "La **herencia** es una forma de formar nuevas clases utilizando clases que ya se han definido. Las nuevas clases recién formadas se denominan **clases derivadas**, y las clases de las que derivamos se denominan **clases base**. Los beneficios importantes de la herencia son la reutilización de código y la reducción de la complejidad de un programa. Las clases derivadas (descendientes) anulan o amplían la funcionalidad de las clases base (ancestros).\n",
    "\n",
    "Veamos un ejemplo incorporando nuestro trabajo anterior en dos nuevas clases:"
   ]
  },
  {
   "cell_type": "markdown",
   "metadata": {},
   "source": [
    "**Priemro la Clase Base (Base Class)**"
   ]
  },
  {
   "cell_type": "code",
   "execution_count": 28,
   "metadata": {},
   "outputs": [],
   "source": [
    "class Persona():\n",
    "    def __init__(self, nombre, apellido):\n",
    "        self.nombre = nombre\n",
    "        self.apellido = apellido\n",
    "\n",
    "    def reporte(self):\n",
    "        print(f\"Soy {self.nombre} {self.apellido}.\")\n",
    "    def hola(self):\n",
    "        print(f\"Hola!\")"
   ]
  },
  {
   "cell_type": "markdown",
   "metadata": {},
   "source": [
    "La Clase Derivada (**Derived Class**) *Agente*, heredará de la Clase Base (**Base Class**) *Persona*, lo que le permitirá heredar sus atributos y métodos. Observe cómo pasamos la clase, en realidad no la instanciamos con ( ), simplemente la pasamos."
   ]
  },
  {
   "cell_type": "code",
   "execution_count": 29,
   "metadata": {},
   "outputs": [],
   "source": [
    "class Agente(Persona):\n",
    "    \n",
    "    def __init__(self, nombre, apellido, nombre_clave):\n",
    "        Persona.__init__(self, nombre, apellido)\n",
    "        self.nombre_clave = nombre_clave\n",
    "\n",
    "    def reporte(self):\n",
    "        # Esto sobre-escribe el metodo report() de la clase Persona\n",
    "        print('Lo siento, esta información es clasificada')\n",
    "        print(f\"Puede llamarme {self.nombre_clave}\")\n",
    "        \n",
    "    def nombre_real(self, clave):\n",
    "        # Podemos añadir métodos adicionales únicos para la clase Agente\n",
    "        if clave == 123:\n",
    "            print(\"Clave secreta correcta!!\")\n",
    "            print(f\"Mi nombre real es {self.nombre} {self.apellido}.\")\n",
    "        else:\n",
    "            self.reporte()\n",
    "    \n",
    "    def _metodos_privados(self):\n",
    "        # Inicia los métodos con un solo guión bajo para hacerlos \"privados\"\n",
    "        # Ten en cuenta que Python es muy abierto por naturaleza\n",
    "        # Cualquier usuario podría descubrir que estas clases existen\n",
    "        # Esto es solo una convención, la cual denotaa que el usuario no debería \n",
    "        # necesitar interactuar con este método\n",
    "        print(\"Método privado.\")\n",
    "        \n",
    "        \n",
    "        \n",
    "    # Observa que no tenemos el método hola( ) aquí\n",
    "    # Lo heredaremos de la clase Persona!          "
   ]
  },
  {
   "cell_type": "code",
   "execution_count": 30,
   "metadata": {},
   "outputs": [],
   "source": [
    "x = Agente(nombre='Alan', apellido='Turing', nombre_clave='Enigma')"
   ]
  },
  {
   "cell_type": "code",
   "execution_count": 31,
   "metadata": {},
   "outputs": [
    {
     "name": "stdout",
     "output_type": "stream",
     "text": [
      "Hola!\n"
     ]
    }
   ],
   "source": [
    "x.hola()"
   ]
  },
  {
   "cell_type": "code",
   "execution_count": 32,
   "metadata": {},
   "outputs": [
    {
     "name": "stdout",
     "output_type": "stream",
     "text": [
      "Lo siento, esta información es clasificada\n",
      "Puede llamarme Enigma\n"
     ]
    }
   ],
   "source": [
    "x.nombre_real(100)"
   ]
  },
  {
   "cell_type": "code",
   "execution_count": 33,
   "metadata": {},
   "outputs": [
    {
     "name": "stdout",
     "output_type": "stream",
     "text": [
      "Clave secreta correcta!!\n",
      "Mi nombre real es Alan Turing.\n"
     ]
    }
   ],
   "source": [
    "x.nombre_real(123)"
   ]
  },
  {
   "cell_type": "markdown",
   "metadata": {},
   "source": [
    "En este ejemplo, tenemos dos clases: *Persona* y *Agente*. La clase *Persona* es la clase base, la clase *Agente* es la clase derivada.\n",
    "\n",
    "La clase derivada hereda la funcionalidad de la clase base.\n",
    "\n",
    "* Se muestra mediante el método hola( )\n",
    "\n",
    "La clase derivada modifica el comportamiento existente de la clase base.\n",
    "\n",
    "* mostrado por el método reporte( )\n",
    "\n",
    "Finalmente, la clase derivada extiende la funcionalidad de la clase base, definiendo un nuevo método *nombre_real( )*."
   ]
  },
  {
   "cell_type": "markdown",
   "metadata": {},
   "source": [
    "## Métodos especiales\n",
    "\n",
    "Finally lets go over special methods. Let's imagine you wanted to check the length of a list, that is easy, you just call len() on that object. But what is the length of an Agent? Let's see what happens:\n",
    "\n",
    "\n",
    "\n",
    "Finalmente, repasemos los métodos especiales. Imaginemos que desea verificar la longitud de una lista, eso es fácil, simplemente llame a *len( )* en ese objeto. Pero, ¿cuál es el largo de un Agente? Veamos qué pasa:"
   ]
  },
  {
   "cell_type": "code",
   "execution_count": 34,
   "metadata": {},
   "outputs": [
    {
     "ename": "TypeError",
     "evalue": "object of type 'Agente' has no len()",
     "output_type": "error",
     "traceback": [
      "\u001b[0;31m---------------------------------------------------------------------------\u001b[0m",
      "\u001b[0;31mTypeError\u001b[0m                                 Traceback (most recent call last)",
      "\u001b[0;32m<ipython-input-34-a7f4a5366567>\u001b[0m in \u001b[0;36m<module>\u001b[0;34m\u001b[0m\n\u001b[0;32m----> 1\u001b[0;31m \u001b[0mlen\u001b[0m\u001b[0;34m(\u001b[0m\u001b[0mx\u001b[0m\u001b[0;34m)\u001b[0m\u001b[0;34m\u001b[0m\u001b[0;34m\u001b[0m\u001b[0m\n\u001b[0m",
      "\u001b[0;31mTypeError\u001b[0m: object of type 'Agente' has no len()"
     ]
    }
   ],
   "source": [
    "len(x)"
   ]
  },
  {
   "cell_type": "markdown",
   "metadata": {},
   "source": [
    "Mmmm interesante, Interesting!!<br>\n",
    "¿Qué pasa si intentamos imprimir el objeto Agente?"
   ]
  },
  {
   "cell_type": "code",
   "execution_count": 35,
   "metadata": {},
   "outputs": [
    {
     "name": "stdout",
     "output_type": "stream",
     "text": [
      "<__main__.Agente object at 0x7f9c884103d0>\n"
     ]
    }
   ],
   "source": [
    "print(x)"
   ]
  },
  {
   "cell_type": "markdown",
   "metadata": {},
   "source": [
    "Para interactuar con los métodos integrados de Python, necesitaremos usar nombres de métodos especiales que están integrados en Python. Estos se indican mediante el uso de guiones bajos dobles en cada lado:"
   ]
  },
  {
   "cell_type": "markdown",
   "metadata": {},
   "source": [
    "Las clases en Python pueden implementar ciertas operaciones con nombres de métodos especiales. En realidad, estos métodos no se llaman directamente, sino mediante la sintaxis específica del lenguaje Python. Por ejemplo, creemos una clase de *Libro*:"
   ]
  },
  {
   "cell_type": "code",
   "execution_count": 36,
   "metadata": {},
   "outputs": [],
   "source": [
    "class Libro():\n",
    "    \n",
    "    def __init__(self, titulo, autor, paginas):\n",
    "        print(\"Se crea un libro\")\n",
    "        self.titulo = titulo\n",
    "        self.autor = autor\n",
    "        self.paginas = paginas\n",
    "\n",
    "    def __str__(self):\n",
    "        return f\"Título: {self.titulo} \\nAutor: {self.autor} \\nPáginas: {self.paginas}.\\n\"\n",
    "\n",
    "    def __len__(self):\n",
    "        return self.paginas\n",
    "\n",
    "    def __del__(self):\n",
    "        print(\"Un libro es destruido\")"
   ]
  },
  {
   "cell_type": "code",
   "execution_count": 37,
   "metadata": {},
   "outputs": [
    {
     "name": "stdout",
     "output_type": "stream",
     "text": [
      "Se crea un libro\n",
      "Título: Python Rocks! \n",
      "Autor: Jose Portilla \n",
      "Páginas: 159.\n",
      "\n",
      "El libro tiene 159 páginas\n",
      "Un libro es destruido\n"
     ]
    }
   ],
   "source": [
    "libro = Libro(\"Python Rocks!\", \"Jose Portilla\", 159)\n",
    "\n",
    "# Metodos especiales\n",
    "print(libro)\n",
    "print(f'El libro tiene {len(libro)} páginas')\n",
    "del libro"
   ]
  },
  {
   "cell_type": "markdown",
   "metadata": {},
   "source": [
    "    The __init__(), __str__(), __len__() and the __del__() methods.\n",
    "\n",
    "Estos métodos especiales se definen mediante el uso de guiones bajos. A esta notacion le llamamos coloquialmente *dunder*. No permiten usar funciones específicas de Python en objetos creados a través de nuestra clase."
   ]
  },
  {
   "cell_type": "markdown",
   "metadata": {
    "collapsed": true
   },
   "source": [
    "¡Excelente trabajo recluta! "
   ]
  },
  {
   "cell_type": "markdown",
   "metadata": {},
   "source": [
    "# <font color='blue'>Tiempo de revisión grupal</font>\n",
    "La **Bitácora Grupal** es la herramienta de evaluación de este curso. La misma estará conformada por todos los **Notebooks Grupales** de cada una de las clases y módulos del curso. Los grupos de trabajo deben desarrollarla de forma colaborativa y creativa.\n",
    "\n",
    "Rúbrica de la **Bitácora Grupal** y de los **Notebook Grupal** que la componen:\n",
    "* El notebook se ve ordenado y con una secuencia lógica y limpia.\n",
    "* El notebook no tiene celdas en blanco innecesarias.\n",
    "* El notebook no tiene celdas con errores, salvo aquellas en las que explícitamente queremos mostrar un error.\n",
    "* Todos los ejercicios propuestos están correctamente desarrollados.\n",
    "* Los ejercicios tiene comentarios y reflexiones del grupo.\n",
    "* El notebook tiene abundantes comentarios explicativos del código.\n",
    "* El notebook tiene una sección adicional, creada por el grupo, con experimentos de los alumnos relativos al contenido del mismo.\n",
    "* La Bitácora Grupa, y por ende los notebooks que la componen, tiene aspectos creativos y novedoso que la diferencian significativamente de las de los demás grupos."
   ]
  }
 ],
 "metadata": {
  "anaconda-cloud": {},
  "kernelspec": {
   "display_name": "Python 3",
   "language": "python",
   "name": "python3"
  },
  "language_info": {
   "codemirror_mode": {
    "name": "ipython",
    "version": 3
   },
   "file_extension": ".py",
   "mimetype": "text/x-python",
   "name": "python",
   "nbconvert_exporter": "python",
   "pygments_lexer": "ipython3",
   "version": "3.8.5"
  }
 },
 "nbformat": 4,
 "nbformat_minor": 1
}

{
 "cells": [
  {
   "cell_type": "markdown",
   "metadata": {},
   "source": [
    "# 02-Imprimiendo"
   ]
  },
  {
   "cell_type": "markdown",
   "metadata": {},
   "source": [
    "# La función print() "
   ]
  },
  {
   "cell_type": "code",
   "execution_count": 1,
   "metadata": {},
   "outputs": [
    {
     "name": "stdout",
     "output_type": "stream",
     "text": [
      "Hello World\n"
     ]
    }
   ],
   "source": [
    "print(\"Hello World\")"
   ]
  },
  {
   "cell_type": "markdown",
   "metadata": {},
   "source": [
    "TIP:\n",
    "\n",
    "En Python, las comillas simples, dobles y triples se utilizan para denotar una cadena o *string*. <br>\n",
    "La mayoría usa comillas simples al declarar un solo carácter. <br>\n",
    "Comillas dobles al declarar una línea y ... <br>\n",
    "Comillas triples al declarar un párrafo / varias líneas."
   ]
  },
  {
   "cell_type": "code",
   "execution_count": 2,
   "metadata": {},
   "outputs": [
    {
     "name": "stdout",
     "output_type": "stream",
     "text": [
      "A\n"
     ]
    }
   ],
   "source": [
    "print('A')"
   ]
  },
  {
   "cell_type": "code",
   "execution_count": 3,
   "metadata": {},
   "outputs": [
    {
     "name": "stdout",
     "output_type": "stream",
     "text": [
      "Hello World\n"
     ]
    }
   ],
   "source": [
    "print(\"Hello World\")"
   ]
  },
  {
   "cell_type": "code",
   "execution_count": 4,
   "metadata": {},
   "outputs": [
    {
     "name": "stdout",
     "output_type": "stream",
     "text": [
      "My name is <write your name here> and\n",
      "\n",
      "I love Python.\n"
     ]
    }
   ],
   "source": [
    "print (\"\"\"My name is <write your name here> and\n",
    "\n",
    "I love Python.\"\"\")"
   ]
  },
  {
   "cell_type": "markdown",
   "metadata": {},
   "source": [
    "Las cadenas se pueden asignar a una variable, por ejemplo, _string1_ y _string2_, las cuales se pueden llamar cuando se usa la función de impresión."
   ]
  },
  {
   "cell_type": "code",
   "execution_count": 5,
   "metadata": {
    "scrolled": true
   },
   "outputs": [
    {
     "name": "stdout",
     "output_type": "stream",
     "text": [
      "Hello World\n",
      "Hello World !\n"
     ]
    }
   ],
   "source": [
    "string1 = 'World'\n",
    "print('Hello', string1)\n",
    "\n",
    "string2 = '!'\n",
    "print('Hello', string1, string2)"
   ]
  },
  {
   "cell_type": "markdown",
   "metadata": {},
   "source": [
    "La concatenación de cadenas es la \"suma\" de dos cadenas. Observe que durante la concatenación no habrá espacio entre las dos cadenas o strings."
   ]
  },
  {
   "cell_type": "code",
   "execution_count": 6,
   "metadata": {},
   "outputs": [
    {
     "name": "stdout",
     "output_type": "stream",
     "text": [
      "HelloWorld!\n"
     ]
    }
   ],
   "source": [
    "print('Hello' + string1 + string2)"
   ]
  },
  {
   "cell_type": "markdown",
   "metadata": {},
   "source": [
    "# String formating (formateo)"
   ]
  },
  {
   "cell_type": "markdown",
   "metadata": {},
   "source": [
    "## La vieja escuela"
   ]
  },
  {
   "cell_type": "markdown",
   "metadata": {},
   "source": [
    "## Opción 1: %-formatting"
   ]
  },
  {
   "cell_type": "code",
   "execution_count": 7,
   "metadata": {},
   "outputs": [
    {
     "data": {
      "text/plain": [
       "'Hola, Juan.'"
      ]
     },
     "execution_count": 7,
     "metadata": {},
     "output_type": "execute_result"
    }
   ],
   "source": [
    "nombre = \"Juan\"\n",
    "\"Hola, %s.\" % nombre"
   ]
  },
  {
   "cell_type": "code",
   "execution_count": 8,
   "metadata": {},
   "outputs": [
    {
     "data": {
      "text/plain": [
       "'Hola, Juan. Tú tienes 34 años.'"
      ]
     },
     "execution_count": 8,
     "metadata": {},
     "output_type": "execute_result"
    }
   ],
   "source": [
    "nombre = \"Juan\"\n",
    "edad = 34\n",
    "\n",
    "\"Hola, %s. Tú tienes %s años.\" % (nombre, edad)"
   ]
  },
  {
   "cell_type": "code",
   "execution_count": 9,
   "metadata": {},
   "outputs": [
    {
     "data": {
      "text/plain": [
       "'Hola, Andrea. Tú tienes 38 años.'"
      ]
     },
     "execution_count": 9,
     "metadata": {},
     "output_type": "execute_result"
    }
   ],
   "source": [
    "# Si las líneas a imprimir son más de una necesitaremos usa la función print()\n",
    "nombre2 = \"Andrea\"\n",
    "edad2 = 38\n",
    "\"Hola, %s. Tú tienes %s años.\" % (nombre, edad)\n",
    "\"Hola, %s. Tú tienes %s años.\" % (nombre2, edad2)"
   ]
  },
  {
   "cell_type": "code",
   "execution_count": 10,
   "metadata": {},
   "outputs": [
    {
     "name": "stdout",
     "output_type": "stream",
     "text": [
      "Hola, Juan. Tú tienes 34 años.\n",
      "Hola, Andrea. Tú tienes 38 años.\n"
     ]
    }
   ],
   "source": [
    "# Ahora si la salida estándar (la pantalla) mostrará las dos sentencias\n",
    "print(\"Hola, %s. Tú tienes %s años.\" % (nombre, edad))\n",
    "print(\"Hola, %s. Tú tienes %s años.\" % (nombre2, edad2))"
   ]
  },
  {
   "cell_type": "markdown",
   "metadata": {},
   "source": [
    "Esta lógica de formateo resultó ser muy verborreica (verbose) y propensa a errores"
   ]
  },
  {
   "cell_type": "code",
   "execution_count": 11,
   "metadata": {},
   "outputs": [
    {
     "data": {
      "text/plain": [
       "'Hola, Juan Perez. Tú tienes 74 años. Eres un comediante. Eres miembro de Monty Python.'"
      ]
     },
     "execution_count": 11,
     "metadata": {},
     "output_type": "execute_result"
    }
   ],
   "source": [
    "nombre = \"Juan\"\n",
    "apellido = \"Perez\"\n",
    "edad = 74\n",
    "profesion = \"comediante\"\n",
    "afiliacion = \"Monty Python\"\n",
    "\"Hola, %s %s. Tú tienes %s años. Eres un %s. Eres miembro de %s.\" % (nombre, apellido, edad, profesion, afiliacion)"
   ]
  },
  {
   "cell_type": "markdown",
   "metadata": {},
   "source": [
    "## Opción 2: str.format()\n",
    "\n",
    "En esta opción, se reemplazarán los campos marcados con corchetes {}"
   ]
  },
  {
   "cell_type": "code",
   "execution_count": 13,
   "metadata": {},
   "outputs": [
    {
     "data": {
      "text/plain": [
       "'Hello World'"
      ]
     },
     "execution_count": 13,
     "metadata": {},
     "output_type": "execute_result"
    }
   ],
   "source": [
    "\"Hello {}\".format(string1)"
   ]
  },
  {
   "cell_type": "code",
   "execution_count": 14,
   "metadata": {},
   "outputs": [
    {
     "name": "stdout",
     "output_type": "stream",
     "text": [
      "Hello World\n"
     ]
    }
   ],
   "source": [
    "print(\"Hello {}\".format(string1))"
   ]
  },
  {
   "cell_type": "code",
   "execution_count": 15,
   "metadata": {},
   "outputs": [
    {
     "data": {
      "text/plain": [
       "'Hola, Juan. Tu tienes 74.'"
      ]
     },
     "execution_count": 15,
     "metadata": {},
     "output_type": "execute_result"
    }
   ],
   "source": [
    "# Podemos manejar la posición de las variables en el string de salida\n",
    "\"Hola, {}. Tu tienes {}.\".format(nombre, edad)"
   ]
  },
  {
   "cell_type": "code",
   "execution_count": 16,
   "metadata": {},
   "outputs": [
    {
     "data": {
      "text/plain": [
       "'Hola, Juan. Tu tienes 74.'"
      ]
     },
     "execution_count": 16,
     "metadata": {},
     "output_type": "execute_result"
    }
   ],
   "source": [
    "\"Hola, {1}. Tu tienes {0}.\".format(edad, nombre)"
   ]
  },
  {
   "cell_type": "markdown",
   "metadata": {},
   "source": [
    "Podemos utilizar otras notaciones numéricas durante el formateo\n",
    "\n",
    "    - %s -> string\n",
    "    - %d -> Integer\n",
    "    - %f -> Float\n",
    "    - %o -> Octal\n",
    "    - %x -> Hexadecimal\n",
    "    - %e -> exponential\n",
    "    \n",
    "Pueden ser utilizados dentro de la función print() para convertir los tipos de datos"
   ]
  },
  {
   "cell_type": "code",
   "execution_count": 17,
   "metadata": {},
   "outputs": [
    {
     "name": "stdout",
     "output_type": "stream",
     "text": [
      "Actual Number = 18\n",
      "Float of the number = 18.000000\n",
      "Octal equivalent of the number = 22\n",
      "Hexadecimal equivalent of the number = 12\n",
      "Exponential equivalent of the number = 1.800000e+01\n"
     ]
    }
   ],
   "source": [
    "# Utilizando la Opción 1\n",
    "\n",
    "print (\"Actual Number = %d\" %18)\n",
    "print (\"Float of the number = %f\" %18)\n",
    "print (\"Octal equivalent of the number = %o\" %18)\n",
    "print (\"Hexadecimal equivalent of the number = %x\" %18)\n",
    "print (\"Exponential equivalent of the number = %e\" %18)"
   ]
  },
  {
   "cell_type": "code",
   "execution_count": 18,
   "metadata": {},
   "outputs": [
    {
     "name": "stdout",
     "output_type": "stream",
     "text": [
      "Actual Number = 18\n",
      "Float of the number = 18.000000\n",
      "Octal equivalent of the number = 22\n",
      "Hexadecimal equivalent of the number = 12\n",
      "Exponential equivalent of the number = 1.800000e+01\n"
     ]
    }
   ],
   "source": [
    "# Utilizando la opción 2\n",
    "\n",
    "print (\"Actual Number = {:d}\".format(18))\n",
    "print (\"Float of the number = {:f}\".format(18))\n",
    "print (\"Octal equivalent of the number = {:o}\".format(18))\n",
    "print (\"Hexadecimal equivalent of the number = {:x}\".format(18))\n",
    "print (\"Exponential equivalent of the number = {:e}\".format(18))"
   ]
  },
  {
   "cell_type": "markdown",
   "metadata": {},
   "source": [
    "## <font color='green'>TAREA:</font> Completa las líneas de código\n",
    "Complete las siguientes 10 líneas de código de forma tal que todas las sentencias se impriman correctamente.<br>\n",
    "Analice y comente las diferentes salidas"
   ]
  },
  {
   "cell_type": "code",
   "execution_count": 32,
   "metadata": {},
   "outputs": [
    {
     "name": "stdout",
     "output_type": "stream",
     "text": [
      "two one\n",
      "      test\n",
      "test      \n",
      "42\n",
      "3.141593\n",
      "  42\n",
      "003.14\n",
      "0042\n",
      "-23\n",
      "Hello world!\n"
     ]
    }
   ],
   "source": [
    "print('{1} {0}'.format('one', 'two')) # usando índice\n",
    "print('{:>10}'.format('test')) # tabulación\n",
    "print('{:10}'.format('test'))  # Alineación izquierda\n",
    "\n",
    "# numeros\n",
    "print('{:d}'.format(42))\n",
    "print('{:f}'.format(3.141592653589793))\n",
    "print('{:4d}'.format(42)) # padding\n",
    "print('{:06.2f}'.format(3.141592653589793))\n",
    "print('{:04d}'.format(42))\n",
    "print('{: d}'.format((- 23)))\n",
    "print('{first} {last}'.format(first='Hello', last='world!'))"
   ]
  },
  {
   "cell_type": "markdown",
   "metadata": {},
   "source": [
    "<font color='green'>Fin tarea</font> "
   ]
  },
  {
   "cell_type": "code",
   "execution_count": 20,
   "metadata": {},
   "outputs": [
    {
     "name": "stdout",
     "output_type": "stream",
     "text": [
      "Hello World !\n"
     ]
    }
   ],
   "source": [
    "print(\"Hello {:s} {:s}\".format(string1,string2))"
   ]
  },
  {
   "cell_type": "markdown",
   "metadata": {},
   "source": [
    "## Otros ejemplos"
   ]
  },
  {
   "cell_type": "markdown",
   "metadata": {},
   "source": [
    "Las siguientes son otras formas diferentes de utilizar la declaración de impresión."
   ]
  },
  {
   "cell_type": "code",
   "execution_count": 33,
   "metadata": {},
   "outputs": [
    {
     "name": "stdout",
     "output_type": "stream",
     "text": [
      "I want to be printed here\n"
     ]
    }
   ],
   "source": [
    "print (\"I want to be printed {:s}\".format('here'))"
   ]
  },
  {
   "cell_type": "code",
   "execution_count": 34,
   "metadata": {},
   "outputs": [
    {
     "name": "stdout",
     "output_type": "stream",
     "text": [
      "_A_A_A_A_A_A_A_A_A_A\n"
     ]
    }
   ],
   "source": [
    "print('_A'*10)"
   ]
  },
  {
   "cell_type": "code",
   "execution_count": 35,
   "metadata": {},
   "outputs": [
    {
     "name": "stdout",
     "output_type": "stream",
     "text": [
      "Jan\n",
      "Feb\n",
      "Mar\n",
      "Apr\n",
      "May\n",
      "Jun\n",
      "Jul\n",
      "Aug\n"
     ]
    }
   ],
   "source": [
    "# Con el caracter de control \\n saltamos una línea\n",
    "print(\"Jan\\nFeb\\nMar\\nApr\\nMay\\nJun\\nJul\\nAug\")"
   ]
  },
  {
   "cell_type": "code",
   "execution_count": 36,
   "metadata": {},
   "outputs": [
    {
     "name": "stdout",
     "output_type": "stream",
     "text": [
      "I want \\n to be printed.\n"
     ]
    }
   ],
   "source": [
    "# Si queremos imprimier el caracter \\n sin saltar línea diplicamos el backslash\n",
    "print(\"I want \\\\n to be printed.\")"
   ]
  },
  {
   "cell_type": "code",
   "execution_count": 37,
   "metadata": {},
   "outputs": [
    {
     "name": "stdout",
     "output_type": "stream",
     "text": [
      "Look\twhat\thappens.\n"
     ]
    }
   ],
   "source": [
    "# Con \\t generamos una tabulación\n",
    "print(\"Look\\twhat\\thappens.\")"
   ]
  },
  {
   "cell_type": "code",
   "execution_count": 38,
   "metadata": {},
   "outputs": [
    {
     "name": "stdout",
     "output_type": "stream",
     "text": [
      "\n",
      "Routine:\n",
      "\t- Eat\n",
      "\t- Sleep\n",
      "\t- Repeat\n",
      "\n"
     ]
    }
   ],
   "source": [
    "print(\"\"\"\n",
    "Routine:\n",
    "\\t- Eat\n",
    "\\t- Sleep\\n\\t- Repeat\n",
    "\"\"\")"
   ]
  },
  {
   "cell_type": "markdown",
   "metadata": {},
   "source": [
    "## Manejando la precisión y la cantidad de números a mostrar"
   ]
  },
  {
   "cell_type": "markdown",
   "metadata": {},
   "source": [
    "El ancho del campo es el ancho del número completo y la precisión es el ancho hacia la derecha. Se pueden modificar estos anchos según los requisitos.\n",
    "El ancho de precisión predeterminado se establece en 6."
   ]
  },
  {
   "cell_type": "code",
   "execution_count": 39,
   "metadata": {},
   "outputs": [
    {
     "data": {
      "text/plain": [
       "'3.121312'"
      ]
     },
     "execution_count": 39,
     "metadata": {},
     "output_type": "execute_result"
    }
   ],
   "source": [
    "# predeterminado = 6\n",
    "\"%f\" % 3.121312312312"
   ]
  },
  {
   "cell_type": "markdown",
   "metadata": {},
   "source": [
    "Observa que se devuelven hasta 6 decimales. Para especificar el número de decimales, se utiliza '% (fieldwidth). (precisionwidth) f'."
   ]
  },
  {
   "cell_type": "code",
   "execution_count": 42,
   "metadata": {},
   "outputs": [
    {
     "data": {
      "text/plain": [
       "'3.12131'"
      ]
     },
     "execution_count": 42,
     "metadata": {},
     "output_type": "execute_result"
    }
   ],
   "source": [
    "\"%.5f\" % 3.121312312312"
   ]
  },
  {
   "cell_type": "markdown",
   "metadata": {},
   "source": [
    "### Lo mismo pero usando la opción 2 con str.format()\n",
    "Cuál es la diferencia? \n",
    "\n",
    "TIP: busca en los pequeños detalles"
   ]
  },
  {
   "cell_type": "code",
   "execution_count": 43,
   "metadata": {},
   "outputs": [
    {
     "name": "stdout",
     "output_type": "stream",
     "text": [
      "3.12131\n"
     ]
    }
   ],
   "source": [
    "print(\"{:.5f}\".format(3.121312312312))"
   ]
  },
  {
   "cell_type": "code",
   "execution_count": 44,
   "metadata": {},
   "outputs": [
    {
     "data": {
      "text/plain": [
       "str"
      ]
     },
     "execution_count": 44,
     "metadata": {},
     "output_type": "execute_result"
    }
   ],
   "source": [
    "type(\"%.5f\" % 3.121312312312)"
   ]
  },
  {
   "cell_type": "code",
   "execution_count": 45,
   "metadata": {},
   "outputs": [
    {
     "name": "stdout",
     "output_type": "stream",
     "text": [
      "3.12131\n"
     ]
    },
    {
     "data": {
      "text/plain": [
       "NoneType"
      ]
     },
     "execution_count": 45,
     "metadata": {},
     "output_type": "execute_result"
    }
   ],
   "source": [
    "# NoneType\n",
    "type(print(\"{:.5f}\".format(3.121312312312)))"
   ]
  },
  {
   "cell_type": "markdown",
   "metadata": {},
   "source": [
    "Si el ancho del campo se establece más de lo necesario, los datos a la derecha se alinean para ajustarse a los valores especificados."
   ]
  },
  {
   "cell_type": "code",
   "execution_count": 46,
   "metadata": {},
   "outputs": [
    {
     "data": {
      "text/plain": [
       "'  3.12131'"
      ]
     },
     "execution_count": 46,
     "metadata": {},
     "output_type": "execute_result"
    }
   ],
   "source": [
    "\"%9.5f\" % 3.121312312312"
   ]
  },
  {
   "cell_type": "markdown",
   "metadata": {},
   "source": [
    "## <font color='green'>Tarea:</font> Escribe sentencias con str.format()\n",
    "Escriba las sentencias utilizando la opción 2 con str.format()"
   ]
  },
  {
   "cell_type": "code",
   "execution_count": 47,
   "metadata": {},
   "outputs": [
    {
     "data": {
      "text/plain": [
       "'  3.12131'"
      ]
     },
     "execution_count": 47,
     "metadata": {},
     "output_type": "execute_result"
    }
   ],
   "source": [
    "# \"%9.5f\" % 3.121312312312\n",
    "# Tu código aquí...\n",
    "\"{:9.5f}\".format(3.121312312312)\n",
    "\n"
   ]
  },
  {
   "cell_type": "markdown",
   "metadata": {},
   "source": [
    "El relleno de ceros (zero padding) se realiza agregando un 0 al comienzo del ancho de campo."
   ]
  },
  {
   "cell_type": "code",
   "execution_count": 49,
   "metadata": {},
   "outputs": [
    {
     "data": {
      "text/plain": [
       "'00000000000003.12131'"
      ]
     },
     "execution_count": 49,
     "metadata": {},
     "output_type": "execute_result"
    }
   ],
   "source": [
    "# \"%020.5f\" % 3.121312312312\n",
    "# Tu código aquí...\n",
    "\"{:020.5f}\".format(3.121312312312)\n"
   ]
  },
  {
   "cell_type": "markdown",
   "metadata": {},
   "source": [
    "<font color='green'>Fin tarea</font>"
   ]
  },
  {
   "cell_type": "markdown",
   "metadata": {},
   "source": [
    "Para una alineación adecuada, se puede dejar un espacio en blanco en el ancho del campo para que cuando se use un número negativo, se mantenga la alineación adecuada."
   ]
  },
  {
   "cell_type": "code",
   "execution_count": 53,
   "metadata": {},
   "outputs": [
    {
     "name": "stdout",
     "output_type": "stream",
     "text": [
      "  3.121312\n",
      " -3.121312\n"
     ]
    }
   ],
   "source": [
    "print(\"{:10f}\".format(3.121312312312))\n",
    "print(\"{:10f}\".format(-3.121312312312))"
   ]
  },
  {
   "cell_type": "markdown",
   "metadata": {},
   "source": [
    "Como se mencionó anteriormente, los datos a la derecha se alinean cuando el ancho del campo mencionado es mayor que el ancho del campo real. Pero la alineación a la izquierda se puede hacer especificando un símbolo negativo en el ancho del campo."
   ]
  },
  {
   "cell_type": "markdown",
   "metadata": {},
   "source": [
    "## <font color='green'>Tarea:</font> Cuál es la diferencia?\n",
    "Abra una nueva celda debajo de la siguiente y escriba un texto (como este en modo Markdown) que explique cuál es la diferencia entre las dos declaraciones de impresión."
   ]
  },
  {
   "cell_type": "code",
   "execution_count": 54,
   "metadata": {},
   "outputs": [
    {
     "name": "stdout",
     "output_type": "stream",
     "text": [
      "    3.121\n",
      "3.121\n"
     ]
    }
   ],
   "source": [
    "print(\"{:9.3f}\".format(3.121312312312))\n",
    "print(\"{:.3f}\".format(3.121312312312))"
   ]
  },
  {
   "cell_type": "markdown",
   "metadata": {},
   "source": [
    "R: La primera declaración posee padding de 9 dígitos, utilizando un ancho de campo de 9 según '% (fieldwidth). (precisionwidth) f'."
   ]
  },
  {
   "cell_type": "markdown",
   "metadata": {},
   "source": [
    "<font color='green'>Fin tarea</font>"
   ]
  },
  {
   "cell_type": "markdown",
   "metadata": {},
   "source": [
    "## La nueva escuela"
   ]
  },
  {
   "cell_type": "markdown",
   "metadata": {},
   "source": [
    "## Opción 3: f-Strings"
   ]
  },
  {
   "cell_type": "markdown",
   "metadata": {},
   "source": [
    "La sintaxis es similar a la que usó con str.format () pero menos detallada (verbose). Mira lo fácil de leer que es:"
   ]
  },
  {
   "cell_type": "code",
   "execution_count": 55,
   "metadata": {},
   "outputs": [
    {
     "data": {
      "text/plain": [
       "'Hola, Pedro. Tu tienes 42 años.'"
      ]
     },
     "execution_count": 55,
     "metadata": {},
     "output_type": "execute_result"
    }
   ],
   "source": [
    "nombre = \"Pedro\"\n",
    "edad = 42\n",
    "f\"Hola, {nombre}. Tu tienes {edad} años.\""
   ]
  },
  {
   "cell_type": "code",
   "execution_count": 56,
   "metadata": {},
   "outputs": [
    {
     "data": {
      "text/plain": [
       "'Hola, Pedro. Tu tienes 42 años.'"
      ]
     },
     "execution_count": 56,
     "metadata": {},
     "output_type": "execute_result"
    }
   ],
   "source": [
    "# la f puede ser mayúscula tambien\n",
    "F\"Hola, {nombre}. Tu tienes {edad} años.\""
   ]
  },
  {
   "cell_type": "markdown",
   "metadata": {},
   "source": [
    "Los f-strings pueden evaluar operaciones en su interior"
   ]
  },
  {
   "cell_type": "code",
   "execution_count": 58,
   "metadata": {},
   "outputs": [
    {
     "data": {
      "text/plain": [
       "'16'"
      ]
     },
     "execution_count": 58,
     "metadata": {},
     "output_type": "execute_result"
    }
   ],
   "source": [
    "f'{2 * 8}'"
   ]
  },
  {
   "cell_type": "code",
   "execution_count": 59,
   "metadata": {},
   "outputs": [
    {
     "data": {
      "text/plain": [
       "'2 x 8 = 16'"
      ]
     },
     "execution_count": 59,
     "metadata": {},
     "output_type": "execute_result"
    }
   ],
   "source": [
    "f'{2} x {8} = {2 * 8}'"
   ]
  },
  {
   "cell_type": "code",
   "execution_count": 60,
   "metadata": {},
   "outputs": [
    {
     "data": {
      "text/plain": [
       "'Hola, Andrea. Tu tienes 38 años.'"
      ]
     },
     "execution_count": 60,
     "metadata": {},
     "output_type": "execute_result"
    }
   ],
   "source": [
    "# Igual que antes, si queremos imprimir más de una sentencia, deberemos usar la función print()\n",
    "F\"Hola, {nombre}. Tu tienes {edad} años.\"\n",
    "F\"Hola, {nombre2}. Tu tienes {edad2} años.\""
   ]
  },
  {
   "cell_type": "code",
   "execution_count": 61,
   "metadata": {},
   "outputs": [
    {
     "name": "stdout",
     "output_type": "stream",
     "text": [
      "Hola, Pedro. Tu tienes 42 años.\n",
      "Hola, Andrea. Tu tienes 38 años.\n"
     ]
    }
   ],
   "source": [
    "print(F\"Hola, {nombre}. Tu tienes {edad} años.\")\n",
    "print(F\"Hola, {nombre2}. Tu tienes {edad2} años.\")"
   ]
  },
  {
   "cell_type": "code",
   "execution_count": 62,
   "metadata": {},
   "outputs": [
    {
     "name": "stdout",
     "output_type": "stream",
     "text": [
      "Hola, Pedro. Tu tienes 42 años. \n",
      "Hola, Andrea. Tu tienes 38 años.\n"
     ]
    }
   ],
   "source": [
    "mensaje = (\n",
    "    F\"Hola, {nombre}. Tu tienes {edad} años. \\n\"\n",
    "    F\"Hola, {nombre2}. Tu tienes {edad2} años.\"\n",
    ")\n",
    "print(mensaje)"
   ]
  },
  {
   "cell_type": "code",
   "execution_count": 1,
   "metadata": {},
   "outputs": [
    {
     "name": "stdout",
     "output_type": "stream",
     "text": [
      "Actual Number =  18\n",
      "Float of the number =  18.000000\n",
      "Octal equivalent of the number = 22\n",
      "Hexadecimal equivalent of the number = 12\n",
      "Exponential equivalent of the number = 1.800000e+01\n"
     ]
    }
   ],
   "source": [
    "# Otras notaciones numéricas utilizando la Opción 3\n",
    "val = 18\n",
    "print (f\"Actual Number = {val: d}\")\n",
    "print (f\"Float of the number = {val: f}\")\n",
    "print (f\"Octal equivalent of the number = {val :o}\")\n",
    "print (f\"Hexadecimal equivalent of the number = {val :x}\")\n",
    "print (f\"Exponential equivalent of the number = {val :e}\")"
   ]
  },
  {
   "cell_type": "markdown",
   "metadata": {},
   "source": [
    "## Manejando la precisión y la cantidad de números a mostrar"
   ]
  },
  {
   "cell_type": "code",
   "execution_count": 2,
   "metadata": {},
   "outputs": [
    {
     "name": "stdout",
     "output_type": "stream",
     "text": [
      "3.12\n",
      "3.12131\n",
      "  3.12131\n",
      "003.12131\n"
     ]
    }
   ],
   "source": [
    "val2 = 3.121312312312\n",
    "print(f\"{val2:.2f}\")\n",
    "print(f\"{val2:.5f}\")\n",
    "print(f\"{val2:9.5f}\")\n",
    "print(f\"{val2:09.5f}\")"
   ]
  },
  {
   "cell_type": "markdown",
   "metadata": {},
   "source": [
    "## Justificando y manejo de ancho con f-strings"
   ]
  },
  {
   "cell_type": "code",
   "execution_count": 3,
   "metadata": {},
   "outputs": [
    {
     "name": "stdout",
     "output_type": "stream",
     "text": [
      "         a\n",
      "        ab\n",
      "       abc\n",
      "      abcd\n"
     ]
    }
   ],
   "source": [
    "s1 = 'a'\n",
    "s2 = 'ab'\n",
    "s3 = 'abc'\n",
    "s4 = 'abcd'\n",
    "\n",
    "print(f'{s1:>10}')\n",
    "print(f'{s2:>10}')\n",
    "print(f'{s3:>10}')\n",
    "print(f'{s4:>10}')"
   ]
  },
  {
   "cell_type": "markdown",
   "metadata": {},
   "source": [
    "## <font color='green'>Tarea:</font> Manejo de ancho con f-strings\n",
    "Ejecuta el siguiente ejemplo y luego desarrolla el desafío "
   ]
  },
  {
   "cell_type": "code",
   "execution_count": 4,
   "metadata": {},
   "outputs": [
    {
     "name": "stdout",
     "output_type": "stream",
     "text": [
      " 1     1     1\n",
      " 2     2     2\n",
      " 3     3     3\n",
      " 4     4     4\n",
      " 5     5     5\n",
      " 6     6     6\n",
      " 7     7     7\n",
      " 8     8     8\n",
      " 9     9     9\n",
      "10    10    10\n"
     ]
    }
   ],
   "source": [
    "# El siguiente ejemplo imprime tres columnas del mismo ancho\n",
    "\n",
    "for x in range(1, 11):\n",
    "    print(f'{x:2} {x:5} {x:5}')"
   ]
  },
  {
   "cell_type": "code",
   "execution_count": null,
   "metadata": {},
   "outputs": [],
   "source": [
    "# Crea tres columnas similares a las anteriores en cuyas filas se escriba el número, su potencia de dos y su potencia de tres\n",
    "# El ancho de las columnas debe ser 2 para la primera, 3 para la segunda y 4 para la tercera\n",
    "# Tu código aquí...\n",
    "\n",
    "for x in range(1, 11):\n",
    "    print(....\n"
   ]
  },
  {
   "cell_type": "markdown",
   "metadata": {},
   "source": [
    "<font color='green'>Fin tarea</font>"
   ]
  },
  {
   "cell_type": "markdown",
   "metadata": {},
   "source": [
    "## Ingresando datos desde el teclado"
   ]
  },
  {
   "cell_type": "code",
   "execution_count": null,
   "metadata": {},
   "outputs": [],
   "source": [
    "input(\"Mi nombre es: \")"
   ]
  },
  {
   "cell_type": "markdown",
   "metadata": {},
   "source": [
    "## <font color='green'>Tarea:</font> Almacene el dato ingresado en una variable\n",
    "Almacene su nombre en una variable\n",
    "TIP: utilice la función input()\n"
   ]
  },
  {
   "cell_type": "code",
   "execution_count": null,
   "metadata": {},
   "outputs": [],
   "source": [
    "# Tu código aquí ...\n"
   ]
  },
  {
   "cell_type": "markdown",
   "metadata": {},
   "source": [
    "<font color='green'>Fin tarea</font>"
   ]
  },
  {
   "cell_type": "markdown",
   "metadata": {},
   "source": [
    "## <font color='green'>Tarea:</font> Escribe \"Hello world\" con tu nombre\n",
    "Escribe \"Hello world, \\<nombre\\>\" utilizando los tres métodos de formateo enseñados en la clase <br>\n",
    "\n",
    "TIP: utiliza la variable que contiene tu nombre<br>\n",
    "OUTPUT: \"Hello world, Andrés!!\""
   ]
  },
  {
   "cell_type": "code",
   "execution_count": null,
   "metadata": {},
   "outputs": [],
   "source": [
    "# Tu código aquí ...\n"
   ]
  },
  {
   "cell_type": "markdown",
   "metadata": {},
   "source": [
    "<font color='green'>Fin tarea</font>"
   ]
  },
  {
   "cell_type": "markdown",
   "metadata": {},
   "source": [
    "# <font color='blue'>Tiempo de revisión grupal</font>\n",
    "La **Bitácora Grupal** es la herramienta de evaluación de este curso. La misma estará conformada por todos los **Notebooks Grupales** de cada una de las clases y módulos del curso. Los grupos de trabajo deben desarrollarla de forma colaborativa y creativa.\n",
    "\n",
    "Rúbrica de la **Bitácora Grupal** y de los **Notebook Grupal** que la componen:\n",
    "* El notebook se ve ordenado y con una secuencia lógica y limpia.\n",
    "* El notebook no tiene celdas en blanco innecesarias.\n",
    "* El notebook no tiene celdas con errores, salvo aquellas en las que explícitamente queremos mostrar un error.\n",
    "* Todos los ejercicios propuestos están correctamente desarrollados.\n",
    "* Los ejercicios tiene comentarios y reflexiones del grupo.\n",
    "* El notebook tiene abundantes comentarios explicativos del código.\n",
    "* El notebook tiene una sección adicional, creada por el grupo, con experimentos de los alumnos relativos al contenido del mismo.\n",
    "* La Bitácora Grupa, y por ende los notebooks que la componen, tiene aspectos creativos y novedoso que la diferencian significativamente de las de los demás grupos."
   ]
  },
  {
   "cell_type": "code",
   "execution_count": null,
   "metadata": {},
   "outputs": [],
   "source": []
  }
 ],
 "metadata": {
  "kernelspec": {
   "display_name": "Python 3",
   "language": "python",
   "name": "python3"
  },
  "language_info": {
   "codemirror_mode": {
    "name": "ipython",
    "version": 3
   },
   "file_extension": ".py",
   "mimetype": "text/x-python",
   "name": "python",
   "nbconvert_exporter": "python",
   "pygments_lexer": "ipython3",
   "version": "3.8.5"
  }
 },
 "nbformat": 4,
 "nbformat_minor": 4
}

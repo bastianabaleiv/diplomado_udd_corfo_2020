{
 "cells": [
  {
   "cell_type": "markdown",
   "metadata": {
    "collapsed": true
   },
   "source": [
    "# 22-Tarea OOP\n",
    "A continuación algunos ejercicios para practicas OOP"
   ]
  },
  {
   "cell_type": "markdown",
   "metadata": {},
   "source": [
    "## Grupo B\n",
    "\n",
    "\n",
    "## Integrantes: \n",
    "* <font color='green'>Hugo Ubilla</font> \n",
    "* <font color='green'>Benjamín Rodríguez</font> \n",
    "* <font color='green'>Francisco Quiroz</font> \n",
    "* <font color='green'>Daniela Quezada</font> \n",
    "* <font color='green'>Bastián Aballay</font>"
   ]
  },
  {
   "cell_type": "markdown",
   "metadata": {},
   "source": [
    "## <font color='green'>Tarea 1: Challenging</font> \n",
    "Cree una clase Esfera que acepte un radio en la instanciación y tenga un método de volumen y área de superficie.\n",
    "\n",
    "Tip:\n",
    "\n",
    "* Utiliza la función **round( )** para ajustar los decimales de salida "
   ]
  },
  {
   "cell_type": "code",
   "execution_count": 1,
   "metadata": {},
   "outputs": [],
   "source": [
    "class Esfera():\n",
    "    \n",
    "    PI = 3.14\n",
    "    \n",
    "    def __init__(self, radio):\n",
    "        self.radio = radio\n",
    "    \n",
    "    def volumen(self):\n",
    "        return round((4/3)*Esfera.PI*self.radio**3)\n",
    "    \n",
    "    def area_superficie(self):\n",
    "        return round(4*Esfera.PI*self.radio**2)"
   ]
  },
  {
   "cell_type": "code",
   "execution_count": 2,
   "metadata": {},
   "outputs": [],
   "source": [
    "# Instancia de Esfera con radio 1\n",
    "s = Esfera(1)"
   ]
  },
  {
   "cell_type": "code",
   "execution_count": 3,
   "metadata": {},
   "outputs": [
    {
     "data": {
      "text/plain": [
       "13"
      ]
     },
     "execution_count": 3,
     "metadata": {},
     "output_type": "execute_result"
    }
   ],
   "source": [
    "# Método area_superficie\n",
    "s.area_superficie()"
   ]
  },
  {
   "cell_type": "code",
   "execution_count": 4,
   "metadata": {},
   "outputs": [
    {
     "data": {
      "text/plain": [
       "4"
      ]
     },
     "execution_count": 4,
     "metadata": {},
     "output_type": "execute_result"
    }
   ],
   "source": [
    "# Método volumen\n",
    "s.volumen()"
   ]
  },
  {
   "cell_type": "code",
   "execution_count": 5,
   "metadata": {},
   "outputs": [
    {
     "data": {
      "text/plain": [
       "1"
      ]
     },
     "execution_count": 5,
     "metadata": {},
     "output_type": "execute_result"
    }
   ],
   "source": [
    "s.radio"
   ]
  },
  {
   "cell_type": "markdown",
   "metadata": {},
   "source": [
    "## <font color='green'>Tarea 2: Super Challenging</font> \n",
    "\n",
    "**Este ejercicio lo desarrollaremos en varios pasos.**\n",
    "1. Crea una clase llamada *GuessingGame*.\n",
    "2. La clase no necesita ningún argumento proporcionado por el usuario para la instanciación.\n",
    "3. En el método __init__ (el constructor), haga que la clase establezca un atributo *self.rand_choice* en un número entero aleatorio entre 0-10.\n",
    "4. Crea un método en la clase llamado *reset_rando*m que restablecerá este atributo *self.rand_choice*\n",
    "5. Crea un método llamado *guess* (adivinar) que use la función *input( )* para aceptar un número del usuario. Este método debe imprimir una declaración que indique si la suposición del usuario fue correcta o no. \n",
    "\n",
    "Bonus track: agregua una lógica en el método *guess** que informe al usuario cuando su número está por arriba o por debajo del núemro a adivinar.\n",
    "\n",
    "Tip:\n",
    "* En el punto 3 use *import random*\n",
    "* Te dejamos el esqueleto de la clase"
   ]
  },
  {
   "cell_type": "code",
   "execution_count": 6,
   "metadata": {},
   "outputs": [],
   "source": [
    "import random\n",
    "\n",
    "class GuessingGame():\n",
    "    \n",
    "    # import random\n",
    "    \n",
    "    def __init__(self):\n",
    "        self.rand_choice = random.randint(0,11)\n",
    "        \n",
    "    def reset_random(self):\n",
    "        self.rand_choice = random.randint(0,11)\n",
    "        \n",
    "    def guess(self):\n",
    "        \n",
    "        while True:\n",
    "            guess_choice = int(input())\n",
    "\n",
    "            if self.rand_choice == guess_choice:\n",
    "                print(f'¡Has acertado!. El número era {guess_choice}')\n",
    "                break\n",
    "            elif self.rand_choice < guess_choice:\n",
    "                print(f'Estás por arriba...')\n",
    "            else:\n",
    "                print(f'Estás por debajo...')       "
   ]
  },
  {
   "cell_type": "code",
   "execution_count": 7,
   "metadata": {},
   "outputs": [],
   "source": [
    "g = GuessingGame()"
   ]
  },
  {
   "cell_type": "code",
   "execution_count": 8,
   "metadata": {},
   "outputs": [
    {
     "data": {
      "text/plain": [
       "2"
      ]
     },
     "execution_count": 8,
     "metadata": {},
     "output_type": "execute_result"
    }
   ],
   "source": [
    "g.rand_choice"
   ]
  },
  {
   "cell_type": "code",
   "execution_count": 11,
   "metadata": {},
   "outputs": [],
   "source": [
    "g.reset_random()"
   ]
  },
  {
   "cell_type": "code",
   "execution_count": 12,
   "metadata": {},
   "outputs": [
    {
     "data": {
      "text/plain": [
       "9"
      ]
     },
     "execution_count": 12,
     "metadata": {},
     "output_type": "execute_result"
    }
   ],
   "source": [
    "g.rand_choice"
   ]
  },
  {
   "cell_type": "code",
   "execution_count": 13,
   "metadata": {},
   "outputs": [
    {
     "name": "stdout",
     "output_type": "stream",
     "text": [
      "1\n",
      "Estás por debajo...\n",
      "2\n",
      "Estás por debajo...\n",
      "10\n",
      "Estás por arriba...\n",
      "9\n",
      "¡Has acertado!. El número era 9\n"
     ]
    }
   ],
   "source": [
    "g.guess()"
   ]
  },
  {
   "cell_type": "code",
   "execution_count": 17,
   "metadata": {},
   "outputs": [
    {
     "name": "stdout",
     "output_type": "stream",
     "text": [
      "6\n",
      "¡Has acertado!. El número era 6\n"
     ]
    }
   ],
   "source": [
    "g.guess()"
   ]
  },
  {
   "cell_type": "markdown",
   "metadata": {},
   "source": [
    "Buena suerte!!"
   ]
  }
 ],
 "metadata": {
  "anaconda-cloud": {},
  "kernelspec": {
   "display_name": "Python 3",
   "language": "python",
   "name": "python3"
  },
  "language_info": {
   "codemirror_mode": {
    "name": "ipython",
    "version": 3
   },
   "file_extension": ".py",
   "mimetype": "text/x-python",
   "name": "python",
   "nbconvert_exporter": "python",
   "pygments_lexer": "ipython3",
   "version": "3.8.6"
  }
 },
 "nbformat": 4,
 "nbformat_minor": 2
}

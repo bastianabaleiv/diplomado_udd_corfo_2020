{
 "cells": [
  {
   "cell_type": "markdown",
   "metadata": {},
   "source": [
    "# 04-Python Strings\n",
    "\n",
    "Bienvenidos aspirantes a Hackers. Es hora de que aprendan sobre uno de los tipos de datos fundamentales más básicos en Python, la cadena o *string*. ¿Qué es un *string*? Formalmente, **una cadena es una secuencia ordenada de caracteres**. Aquí dos palabras clave, **ordenado** y **caracteres**. Ordenado significa que podremos usar *indexing* y *slicing* para tomar elementos de la cadena. Caracteres insinúa el hecho de que las cadenas son más flexibles que simplemente usar el alfabeto, veremos que también pueden contener otros tipos de caracteres."
   ]
  },
  {
   "cell_type": "markdown",
   "metadata": {},
   "source": [
    "## Creando strings."
   ]
  },
  {
   "cell_type": "code",
   "execution_count": null,
   "metadata": {},
   "outputs": [],
   "source": [
    "# Comentarios.\n",
    "# Cada vez que necesitemos documentar algo en nuestro código, usaremos un signo # al comienzo de la línea.\n",
    "# Esta línea no se considerará al momento de ejecutar nuestro programa"
   ]
  },
  {
   "cell_type": "code",
   "execution_count": 1,
   "metadata": {},
   "outputs": [
    {
     "data": {
      "text/plain": [
       "'hello'"
      ]
     },
     "execution_count": 1,
     "metadata": {},
     "output_type": "execute_result"
    }
   ],
   "source": [
    "# Para crear strings las comillas simples o dobles están nien\n",
    "'hello'"
   ]
  },
  {
   "cell_type": "code",
   "execution_count": 2,
   "metadata": {},
   "outputs": [
    {
     "data": {
      "text/plain": [
       "'hello'"
      ]
     },
     "execution_count": 2,
     "metadata": {},
     "output_type": "execute_result"
    }
   ],
   "source": [
    "\"hello\""
   ]
  },
  {
   "cell_type": "code",
   "execution_count": 3,
   "metadata": {},
   "outputs": [
    {
     "ename": "SyntaxError",
     "evalue": "invalid syntax (<ipython-input-3-e2d26c5f4ed5>, line 2)",
     "output_type": "error",
     "traceback": [
      "\u001b[0;36m  File \u001b[0;32m\"<ipython-input-3-e2d26c5f4ed5>\"\u001b[0;36m, line \u001b[0;32m2\u001b[0m\n\u001b[0;31m    'I'm not a spy!\u001b[0m\n\u001b[0m       ^\u001b[0m\n\u001b[0;31mSyntaxError\u001b[0m\u001b[0;31m:\u001b[0m invalid syntax\n"
     ]
    }
   ],
   "source": [
    "# Ten en mente potenciales errores con los ap´strofes\n",
    "'I'm not a spy!"
   ]
  },
  {
   "cell_type": "code",
   "execution_count": 4,
   "metadata": {},
   "outputs": [
    {
     "data": {
      "text/plain": [
       "\" I'm not a spy! \""
      ]
     },
     "execution_count": 4,
     "metadata": {},
     "output_type": "execute_result"
    }
   ],
   "source": [
    "# Usa otro conjunto de comillas distintas para ello\n",
    "\" I'm not a spy! \""
   ]
  },
  {
   "cell_type": "markdown",
   "metadata": {},
   "source": [
    "## Impresión básica de Strings\n",
    "\n",
    "En el cuaderno jupyter, una sola cadena en una celda se devuelve automáticamente. Sin embargo, esto es diferente a imprimir una cadena. Imprimir una cadena nos permite tener múltiples salidas. Veamos algunos ejemplos útiles:"
   ]
  },
  {
   "cell_type": "code",
   "execution_count": 5,
   "metadata": {},
   "outputs": [
    {
     "data": {
      "text/plain": [
       "'two'"
      ]
     },
     "execution_count": 5,
     "metadata": {},
     "output_type": "execute_result"
    }
   ],
   "source": [
    "'one'\n",
    "'two'"
   ]
  },
  {
   "cell_type": "code",
   "execution_count": 6,
   "metadata": {},
   "outputs": [
    {
     "name": "stdout",
     "output_type": "stream",
     "text": [
      "one\n",
      "two\n"
     ]
    }
   ],
   "source": [
    "print('one')\n",
    "print('two')"
   ]
  },
  {
   "cell_type": "code",
   "execution_count": 7,
   "metadata": {},
   "outputs": [
    {
     "name": "stdout",
     "output_type": "stream",
     "text": [
      "Special Codes\n",
      "Esto es una nueva línea \n",
      " nota como se imprime\n",
      "Esto es un tabulador (tab) \t nota como se imprime\n",
      "Observa cómo ambos siguen el caracter de escape general de la barra invertida. \n"
     ]
    }
   ],
   "source": [
    "print(\"Special Codes\")\n",
    "print('Esto es una nueva línea \\n nota como se imprime')\n",
    "print('Esto es un tabulador (tab) \\t nota como se imprime')\n",
    "print(\"Observa cómo ambos siguen el caracter de escape general de la barra invertida. \")"
   ]
  },
  {
   "cell_type": "markdown",
   "metadata": {},
   "source": [
    "## <font color='green'>Tarea:</font> Imprime un string \"Hello\" usando dos tabs al cominedo"
   ]
  },
  {
   "cell_type": "code",
   "execution_count": 10,
   "metadata": {},
   "outputs": [
    {
     "name": "stdout",
     "output_type": "stream",
     "text": [
      "\t\tHello\n"
     ]
    }
   ],
   "source": [
    "# Tu código aquí ...\n",
    "print(\"\\t\\tHello\")"
   ]
  },
  {
   "cell_type": "markdown",
   "metadata": {},
   "source": [
    "## Indexing y Slicing\n",
    "\n",
    "NOTA: INtensionalmente no traduciremos conceptos en inglés para habituarnos en su uso y hacer más facil la comprensión de otros documentos a los que accedamos.\n",
    "\n",
    "Recall that strings are *ordered sequences* of characters in order. This means we can \"grab\" single characters (indexing) or grab sub-sections of the string (slicing).\n",
    "\n",
    "Recuerde que las cadenas son *secuencias ordenadas* de caracteres. Esto significa que podemos seleccionar caracteres individuales (indexing) o tomar subsecciones de la cadena (slicing)."
   ]
  },
  {
   "cell_type": "markdown",
   "metadata": {},
   "source": [
    "### Indexing\n",
    "\n",
    "Indexing comienza a contar desde 0, de esta forma el string **hello**:\n",
    "\n",
    "    character:    h    e    l   l   o\n",
    "    index:        0    1    2   3   4\n",
    "    \n",
    "Puedes usar corchetes cuadrados para seleccionar un caracter"
   ]
  },
  {
   "cell_type": "code",
   "execution_count": 11,
   "metadata": {},
   "outputs": [],
   "source": [
    "word = \"hello\""
   ]
  },
  {
   "cell_type": "code",
   "execution_count": 12,
   "metadata": {},
   "outputs": [
    {
     "data": {
      "text/plain": [
       "'h'"
      ]
     },
     "execution_count": 12,
     "metadata": {},
     "output_type": "execute_result"
    }
   ],
   "source": [
    "word[0]"
   ]
  },
  {
   "cell_type": "code",
   "execution_count": 13,
   "metadata": {},
   "outputs": [
    {
     "data": {
      "text/plain": [
       "'l'"
      ]
     },
     "execution_count": 13,
     "metadata": {},
     "output_type": "execute_result"
    }
   ],
   "source": [
    "word[3]"
   ]
  },
  {
   "cell_type": "markdown",
   "metadata": {},
   "source": [
    "Python soporta indexación reversa (reverse indexing):\n",
    "\n",
    "    character:        h     e     l    l    o\n",
    "    index:            0     1     2    3    4\n",
    "    reverse index:    0    -4    -3   -2   -1  \n",
    "    \n",
    "Reverse indexing es usado comúnmente para selecccionar caractares desde el final de una secuencia:"
   ]
  },
  {
   "cell_type": "code",
   "execution_count": 14,
   "metadata": {},
   "outputs": [
    {
     "data": {
      "text/plain": [
       "'o'"
      ]
     },
     "execution_count": 14,
     "metadata": {},
     "output_type": "execute_result"
    }
   ],
   "source": [
    "word[-1]"
   ]
  },
  {
   "cell_type": "markdown",
   "metadata": {},
   "source": [
    "## Slicing\n",
    "\n",
    "Podemos tomar subsecciones completas de una cadena con notación *slice*.\n",
    "\n",
    "Esta es la notación:\n",
    "\n",
    "     [inicio: parada: paso]\n",
    "\n",
    "Aspectos clave a tener en cuenta:\n",
    "\n",
    "1. La dirección del índice de inicio corresponde a donde comenzará su segmento.\n",
    "2. El índice de parada corresponde a donde subirá el corte. ** ¡No incluye este carácter de índice! **\n",
    "3. El tamaño del paso es la cantidad de caracteres que omite a medida que avanza y toma el siguiente.\n",
    "\n",
    "Veamos algunos ejemplos"
   ]
  },
  {
   "cell_type": "code",
   "execution_count": 15,
   "metadata": {},
   "outputs": [],
   "source": [
    "alpha = 'abcdef'"
   ]
  },
  {
   "cell_type": "code",
   "execution_count": 16,
   "metadata": {},
   "outputs": [
    {
     "data": {
      "text/plain": [
       "'abc'"
      ]
     },
     "execution_count": 16,
     "metadata": {},
     "output_type": "execute_result"
    }
   ],
   "source": [
    "# Observa como la \"d\" no es incluida!\n",
    "alpha[0:3]"
   ]
  },
  {
   "cell_type": "code",
   "execution_count": 17,
   "metadata": {},
   "outputs": [
    {
     "data": {
      "text/plain": [
       "'abcd'"
      ]
     },
     "execution_count": 17,
     "metadata": {},
     "output_type": "execute_result"
    }
   ],
   "source": [
    "alpha[0:4]"
   ]
  },
  {
   "cell_type": "code",
   "execution_count": 18,
   "metadata": {},
   "outputs": [
    {
     "data": {
      "text/plain": [
       "'cd'"
      ]
     },
     "execution_count": 18,
     "metadata": {},
     "output_type": "execute_result"
    }
   ],
   "source": [
    "alpha[2:4]"
   ]
  },
  {
   "cell_type": "code",
   "execution_count": 19,
   "metadata": {},
   "outputs": [
    {
     "data": {
      "text/plain": [
       "'cdef'"
      ]
     },
     "execution_count": 19,
     "metadata": {},
     "output_type": "execute_result"
    }
   ],
   "source": [
    "alpha[2:]"
   ]
  },
  {
   "cell_type": "code",
   "execution_count": 20,
   "metadata": {},
   "outputs": [
    {
     "data": {
      "text/plain": [
       "'ab'"
      ]
     },
     "execution_count": 20,
     "metadata": {},
     "output_type": "execute_result"
    }
   ],
   "source": [
    "alpha[:2]"
   ]
  },
  {
   "cell_type": "code",
   "execution_count": 21,
   "metadata": {},
   "outputs": [
    {
     "data": {
      "text/plain": [
       "'ace'"
      ]
     },
     "execution_count": 21,
     "metadata": {},
     "output_type": "execute_result"
    }
   ],
   "source": [
    "alpha[0:6:2]"
   ]
  },
  {
   "cell_type": "markdown",
   "metadata": {},
   "source": [
    "## <font color='green'>Tarea:</font> Imprima el string\"def\" utilizando slicing sobre la variable *alpha*"
   ]
  },
  {
   "cell_type": "code",
   "execution_count": 23,
   "metadata": {},
   "outputs": [
    {
     "data": {
      "text/plain": [
       "'def'"
      ]
     },
     "execution_count": 23,
     "metadata": {},
     "output_type": "execute_result"
    }
   ],
   "source": [
    "# Tu código aquí ...\n",
    "alpha[3:7]"
   ]
  },
  {
   "cell_type": "markdown",
   "metadata": {},
   "source": [
    "## Métodos básicos de cadena (string)\n",
    "\n",
    "Los métodos son acciones que puede llamar a un objeto generalmente en la forma **.method_name()** <br>\n",
    "Observe el paréntesis cerrado al final. Las cadenas tienen muchos, muchos métodos.\n",
    "\n",
    "Para verlos escribe una cadena y añádele un signo de interrogación al final:\n",
    "\n",
    "```python\n",
    "\"hola\"?\n",
    "````\n",
    "\n",
    "Tambien puedes escribir la cadena y luego presionar la tecla \\<tab\\>\n",
    "\n",
    "¡repasemos algunos de los más útiles!"
   ]
  },
  {
   "cell_type": "code",
   "execution_count": null,
   "metadata": {},
   "outputs": [],
   "source": [
    "# Posicionate al final del string y presiona <tab>\n",
    "\"hola\"?"
   ]
  },
  {
   "cell_type": "code",
   "execution_count": 24,
   "metadata": {},
   "outputs": [],
   "source": [
    "basic = \"Hello world I am in Talento Digital\""
   ]
  },
  {
   "cell_type": "code",
   "execution_count": 25,
   "metadata": {},
   "outputs": [
    {
     "data": {
      "text/plain": [
       "'HELLO WORLD I AM IN TALENTO DIGITAL'"
      ]
     },
     "execution_count": 25,
     "metadata": {},
     "output_type": "execute_result"
    }
   ],
   "source": [
    "basic.upper()"
   ]
  },
  {
   "cell_type": "code",
   "execution_count": 26,
   "metadata": {},
   "outputs": [
    {
     "data": {
      "text/plain": [
       "'hello world i am in talento digital'"
      ]
     },
     "execution_count": 26,
     "metadata": {},
     "output_type": "execute_result"
    }
   ],
   "source": [
    "basic.lower()"
   ]
  },
  {
   "cell_type": "code",
   "execution_count": 27,
   "metadata": {},
   "outputs": [
    {
     "data": {
      "text/plain": [
       "['Hello', 'world', 'I', 'am', 'in', 'Talento', 'Digital']"
      ]
     },
     "execution_count": 27,
     "metadata": {},
     "output_type": "execute_result"
    }
   ],
   "source": [
    "# Veremos esto más adelante, por ahora discute con tus compañeros de qué podría tratarse\n",
    "basic.split()"
   ]
  },
  {
   "cell_type": "code",
   "execution_count": 28,
   "metadata": {},
   "outputs": [
    {
     "data": {
      "text/plain": [
       "['Hello world ', ' am in Talento Digital']"
      ]
     },
     "execution_count": 28,
     "metadata": {},
     "output_type": "execute_result"
    }
   ],
   "source": [
    "basic.split('I')"
   ]
  },
  {
   "cell_type": "markdown",
   "metadata": {},
   "source": [
    "## <font color='green'>Tarea:</font> Crea tu propia variable string y aplícale los métodos *upper()* y *lower()* \n",
    "Haz que ambas expresiones se impriman utilizanfo f-strings y la función print()"
   ]
  },
  {
   "cell_type": "code",
   "execution_count": 31,
   "metadata": {},
   "outputs": [
    {
     "name": "stdout",
     "output_type": "stream",
     "text": [
      "BASTIAN\n",
      "bastian\n"
     ]
    }
   ],
   "source": [
    "# Tu código aquí ...\n",
    "word = \"BaStiAn\"\n",
    "print(word.upper())\n",
    "print(word.lower())"
   ]
  },
  {
   "cell_type": "markdown",
   "metadata": {},
   "source": [
    "<font color='green'>Fin tarea</font> "
   ]
  },
  {
   "cell_type": "markdown",
   "metadata": {},
   "source": [
    "# Repaso de print Formatting\n",
    "\n",
    "You can use the .format() method off a string, to perform what is formally known as **string interpolation**, essentially inserting variables when printing a string.\n",
    "\n",
    "Puedes usar el método *.format()* o los *f-string* vistos anteriormente  para realizar lo que se conoce formalmente como ** interpolación de cadenas **, esencialmente insertando variables al imprimirla."
   ]
  },
  {
   "cell_type": "code",
   "execution_count": 32,
   "metadata": {},
   "outputs": [],
   "source": [
    "user_name = \"Matías\""
   ]
  },
  {
   "cell_type": "code",
   "execution_count": 33,
   "metadata": {},
   "outputs": [
    {
     "name": "stdout",
     "output_type": "stream",
     "text": [
      "Welcome Matías\n"
     ]
    }
   ],
   "source": [
    "# Con opción 2\n",
    "print(\"Welcome {}\".format(user_name))"
   ]
  },
  {
   "cell_type": "code",
   "execution_count": 34,
   "metadata": {},
   "outputs": [
    {
     "name": "stdout",
     "output_type": "stream",
     "text": [
      "Welcome Matías\n"
     ]
    }
   ],
   "source": [
    "# o con opción 3\n",
    "print(f'Welcome {user_name}')"
   ]
  },
  {
   "cell_type": "code",
   "execution_count": 35,
   "metadata": {},
   "outputs": [],
   "source": [
    "action = 'run'"
   ]
  },
  {
   "cell_type": "code",
   "execution_count": 36,
   "metadata": {},
   "outputs": [
    {
     "name": "stdout",
     "output_type": "stream",
     "text": [
      "Matías needs to run\n"
     ]
    }
   ],
   "source": [
    "print(\"{} needs to {}\".format(user_name,action))"
   ]
  },
  {
   "cell_type": "code",
   "execution_count": 37,
   "metadata": {},
   "outputs": [
    {
     "name": "stdout",
     "output_type": "stream",
     "text": [
      "Matías needs to run\n"
     ]
    }
   ],
   "source": [
    "print(\"{a} needs to {b}\".format(a=user_name,b=action))"
   ]
  },
  {
   "cell_type": "code",
   "execution_count": 38,
   "metadata": {},
   "outputs": [
    {
     "name": "stdout",
     "output_type": "stream",
     "text": [
      "Matías needs to run\n"
     ]
    }
   ],
   "source": [
    "print(\"{b} needs to {a}\".format(a=action,b=user_name))"
   ]
  },
  {
   "cell_type": "markdown",
   "metadata": {},
   "source": [
    "### Formatting Numbers"
   ]
  },
  {
   "cell_type": "code",
   "execution_count": 39,
   "metadata": {},
   "outputs": [
    {
     "name": "stdout",
     "output_type": "stream",
     "text": [
      "The code is: 123.6789\n"
     ]
    }
   ],
   "source": [
    "num = 123.6789\n",
    "print(f\"The code is: {num}\")"
   ]
  },
  {
   "cell_type": "code",
   "execution_count": 40,
   "metadata": {},
   "outputs": [
    {
     "name": "stdout",
     "output_type": "stream",
     "text": [
      "The code is: 123.7\n"
     ]
    }
   ],
   "source": [
    "print(f\"The code is: {num:.1f}\")"
   ]
  },
  {
   "cell_type": "code",
   "execution_count": 41,
   "metadata": {},
   "outputs": [
    {
     "name": "stdout",
     "output_type": "stream",
     "text": [
      "The code is: 123.68\n"
     ]
    }
   ],
   "source": [
    "print(f\"The code is: {num:.2f}\")"
   ]
  },
  {
   "cell_type": "code",
   "execution_count": 42,
   "metadata": {},
   "outputs": [
    {
     "name": "stdout",
     "output_type": "stream",
     "text": [
      "The code is: 123.679\n"
     ]
    }
   ],
   "source": [
    "print(f\"The code is: {num:.3f}\")"
   ]
  },
  {
   "cell_type": "code",
   "execution_count": 43,
   "metadata": {},
   "outputs": [
    {
     "name": "stdout",
     "output_type": "stream",
     "text": [
      "The code is: 123.6789\n"
     ]
    }
   ],
   "source": [
    "print(f\"The code is: {num:.4f}\")"
   ]
  },
  {
   "cell_type": "markdown",
   "metadata": {},
   "source": [
    "# <font color='blue'>Tiempo de revisión grupal</font>\n",
    "La **Bitácora Grupal** es la herramienta de evaluación de este curso. La misma estará conformada por todos los **Notebooks Grupales** de cada una de las clases y módulos del curso. Los grupos de trabajo deben desarrollarla de forma colaborativa y creativa.\n",
    "\n",
    "Rúbrica de la **Bitácora Grupal** y de los **Notebook Grupal** que la componen:\n",
    "* El notebook se ve ordenado y con una secuencia lógica y limpia.\n",
    "* El notebook no tiene celdas en blanco innecesarias.\n",
    "* El notebook no tiene celdas con errores, salvo aquellas en las que explícitamente queremos mostrar un error.\n",
    "* Todos los ejercicios propuestos están correctamente desarrollados.\n",
    "* Los ejercicios tiene comentarios y reflexiones del grupo.\n",
    "* El notebook tiene abundantes comentarios explicativos del código.\n",
    "* El notebook tiene una sección adicional, creada por el grupo, con experimentos de los alumnos relativos al contenido del mismo.\n",
    "* La Bitácora Grupa, y por ende los notebooks que la componen, tiene aspectos creativos y novedoso que la diferencian significativamente de las de los demás grupos."
   ]
  },
  {
   "cell_type": "markdown",
   "metadata": {},
   "source": [
    "Excelente hackers !!!"
   ]
  }
 ],
 "metadata": {
  "kernelspec": {
   "display_name": "Python 3",
   "language": "python",
   "name": "python3"
  },
  "language_info": {
   "codemirror_mode": {
    "name": "ipython",
    "version": 3
   },
   "file_extension": ".py",
   "mimetype": "text/x-python",
   "name": "python",
   "nbconvert_exporter": "python",
   "pygments_lexer": "ipython3",
   "version": "3.8.5"
  }
 },
 "nbformat": 4,
 "nbformat_minor": 4
}

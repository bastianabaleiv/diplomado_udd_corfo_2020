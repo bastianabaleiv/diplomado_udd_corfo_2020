{
 "cells": [
  {
   "cell_type": "markdown",
   "metadata": {},
   "source": [
    "# 16-Tarea 2\n",
    "\n",
    "Hola hackers. Aquí tienes una nueva tarea, lacual debes desarrollar una vez terminado el notebook #15\n",
    "_______"
   ]
  },
  {
   "cell_type": "markdown",
   "metadata": {},
   "source": [
    "## Grupo B\n",
    "\n",
    "\n",
    "## Integrantes: \n",
    "* <font color='green'>Hugo Ubilla</font> \n",
    "* <font color='green'>Benjamín Rodríguez</font> \n",
    "* <font color='green'>Francisco Quiroz</font> \n",
    "* <font color='green'>Daniela Quezada</font> \n",
    "* <font color='green'>Bastián Aballay</font>"
   ]
  },
  {
   "cell_type": "markdown",
   "metadata": {
    "collapsed": true
   },
   "source": [
    "## <font color='green'>Tarea 1: Challenging</font> \n",
    "Use un ciclo **for** y e *indexing* para imprimir solo las palabras que comienzan con **p** en esta oración:\n",
    "```python\n",
    "     \"Saber programar en Python nos enseña a pensar\".\n",
    "```\n",
    "Tips:\n",
    "1. Utiliza el método **split()** para dividir la oración en palabras individuales\n",
    "2. Utiliza el método **lower()** para convertir todas las letras a minúsculas. Recuerda que **p** no es igual a **P**\n",
    "3. Utilice un bucle **fo**r para iterar sobre las palabras de la cadena **mystring**"
   ]
  },
  {
   "cell_type": "code",
   "execution_count": 4,
   "metadata": {},
   "outputs": [],
   "source": [
    "mystring = \"Saber programar en Python nos enseña a pensar.\""
   ]
  },
  {
   "cell_type": "markdown",
   "metadata": {},
   "source": [
    "Tu salida debería verse como esto:\n",
    "\n",
    "```Python\n",
    "programar\n",
    "Python\n",
    "pensar.\n",
    "```"
   ]
  },
  {
   "cell_type": "code",
   "execution_count": 7,
   "metadata": {},
   "outputs": [],
   "source": [
    "def p_words(x):\n",
    "    for word in x.split():\n",
    "        if word.lower()[0] == 'p':\n",
    "            print(word)"
   ]
  },
  {
   "cell_type": "code",
   "execution_count": 11,
   "metadata": {},
   "outputs": [],
   "source": [
    "def p_words(x):\n",
    "    for word in x.split():\n",
    "        if word[0] in 'pP':\n",
    "            print(word)"
   ]
  },
  {
   "cell_type": "code",
   "execution_count": 12,
   "metadata": {},
   "outputs": [
    {
     "name": "stdout",
     "output_type": "stream",
     "text": [
      "programar\n",
      "Python\n",
      "pensar.\n"
     ]
    }
   ],
   "source": [
    "p_words(mystring)"
   ]
  },
  {
   "cell_type": "markdown",
   "metadata": {},
   "source": [
    "## <font color='green'>Tarea 2: Challenging</font> \n",
    "Usando la misma cadena que se usó anteriormente (**mystring**):\n",
    "```python\n",
    "mystring = \"Saber programar en Python nos enseña a pensar\".\n",
    "```\n",
    "\n",
    "Use un bucle **for** para imprimir solo las palabras con un número par de caracteres / letras.\n",
    "\n",
    "Tips:\n",
    "1. Utiliza el método **split()** para dividir la oración en palabras individuales\n",
    "2. Para obtener la longitud de una palabra, puede usar el método **len()**.\n",
    "```python\n",
    "     len (mi_variable_aquí)\n",
    "```\n",
    "3. Recuerda el uso del operador **%**. Devuelve el módulo de una división.\n",
    "```python\n",
    "     if len (my_variable_here)% 2 == 0:\n",
    "```\n",
    "4. Imprime usando la función **print()** y **f-strings**"
   ]
  },
  {
   "cell_type": "markdown",
   "metadata": {},
   "source": [
    "Tu salida debería verse como esto:\n",
    "\n",
    "```Python\n",
    "en\n",
    "Python\n",
    "enseña\n",
    "```"
   ]
  },
  {
   "cell_type": "code",
   "execution_count": 13,
   "metadata": {},
   "outputs": [],
   "source": [
    "def even_words(x):\n",
    "    for word in x.split():\n",
    "        if len(word) % 2 == 0:\n",
    "            print(word)"
   ]
  },
  {
   "cell_type": "code",
   "execution_count": 14,
   "metadata": {},
   "outputs": [
    {
     "name": "stdout",
     "output_type": "stream",
     "text": [
      "en\n",
      "Python\n",
      "enseña\n"
     ]
    }
   ],
   "source": [
    "even_words(mystring)"
   ]
  },
  {
   "cell_type": "markdown",
   "metadata": {},
   "source": [
    "## <font color='green'>Tarea 3:</font> \n",
    "\n",
    "Utilice una lista de comprensión para crear una lista de cada primera letra de esta cadena:\n",
    "```python\n",
    "     mystring = \"Saber programar en Python nos enseña a pensar.\"\n",
    "```\n",
    "Tip:\n",
    "1. Utiliza la estructura básica de una lista de comprensión\n",
    "```Python\n",
    "[variable for variable in mystring.split()]\n",
    "```\n",
    "2. Utiliza **indexing** para obtener la primera letra de cada palabra, de esta forma:\n",
    "```Python\n",
    "variable [n] # n es la posición de la letra\n",
    "```"
   ]
  },
  {
   "cell_type": "markdown",
   "metadata": {},
   "source": [
    "Tu salida debería verse como esto:\n",
    "\n",
    "```Python\n",
    "['S', 'p', 'e', 'P', 'n', 'e', 'a', 'p']\n",
    "```"
   ]
  },
  {
   "cell_type": "code",
   "execution_count": 18,
   "metadata": {},
   "outputs": [],
   "source": [
    "mystring = \"Saber programar en Python nos enseña a pensar.\""
   ]
  },
  {
   "cell_type": "code",
   "execution_count": 22,
   "metadata": {},
   "outputs": [],
   "source": [
    "def first_letter_list(x):\n",
    "    print([word[0] for word in x.split()])"
   ]
  },
  {
   "cell_type": "code",
   "execution_count": 23,
   "metadata": {},
   "outputs": [
    {
     "name": "stdout",
     "output_type": "stream",
     "text": [
      "['S', 'p', 'e', 'P', 'n', 'e', 'a', 'p']\n"
     ]
    }
   ],
   "source": [
    "first_letter_list(mystring)"
   ]
  },
  {
   "cell_type": "markdown",
   "metadata": {},
   "source": [
    "## <font color='green'>Tarea 4:</font> \n",
    "\n",
    "Utilice la comprensión de listas para crear una lista de todos los números pares del 0 al 10.\n",
    "\n",
    "Tip:\n",
    "1. Ver y revisar ** 15-List-Comprehensions.ipynb **\n",
    "2. Combina una declaración **if** dentro de la **list-comprehensions**."
   ]
  },
  {
   "cell_type": "code",
   "execution_count": 26,
   "metadata": {},
   "outputs": [],
   "source": [
    "def even_numbers_list(x):\n",
    "    print([number for number in x if number % 2 == 0 ])"
   ]
  },
  {
   "cell_type": "code",
   "execution_count": 27,
   "metadata": {},
   "outputs": [
    {
     "name": "stdout",
     "output_type": "stream",
     "text": [
      "[0, 2, 4, 6, 8, 10]\n"
     ]
    }
   ],
   "source": [
    "even_numbers_list(range(0,11))"
   ]
  },
  {
   "cell_type": "markdown",
   "metadata": {},
   "source": [
    "Tu salida debería verse como esto:\n",
    "```Python \n",
    "[0, 2, 4, 6, 8, 10]\n",
    "```"
   ]
  },
  {
   "cell_type": "markdown",
   "metadata": {},
   "source": [
    "## <font color='green'>Tarea 5:</font> \n",
    "\n",
    "Utilice la función de **range()** para crear una lista de todos los números pares del 0 al 10.\n",
    "\n",
    "Tip:\n",
    "12. Recuerde que la función **rango()** tiene un parámetro de paso"
   ]
  },
  {
   "cell_type": "code",
   "execution_count": 29,
   "metadata": {},
   "outputs": [
    {
     "data": {
      "text/plain": [
       "[0, 2, 4, 6, 8, 10]"
      ]
     },
     "execution_count": 29,
     "metadata": {},
     "output_type": "execute_result"
    }
   ],
   "source": [
    "list(range(0,11,2))"
   ]
  },
  {
   "cell_type": "markdown",
   "metadata": {},
   "source": [
    "Tu salida debería verse como esto:\n",
    "\n",
    "```Python\n",
    "[0, 2, 4, 6, 8, 10]\n",
    "```"
   ]
  },
  {
   "cell_type": "markdown",
   "metadata": {},
   "source": [
    "## <font color='green'>Tarea 6:</font> \n",
    "\n",
    "Cree un bucle **for** que utilice la biblioteca **random** para crear una lista de 10 números aleatorios. <br>\n",
    "Los números aleatorios deben estar entre 10 y 1000.\n",
    "\n",
    "Tip:\n",
    "1. Necesitas crear una lista vacía para almacenar los números\n",
    "```Python\n",
    "mylist = []\n",
    "```\n",
    "2. Recuerda agregar el elemento a la lista usando el método **append()**\n",
    "```Python\n",
    "mylist.append (algo)\n",
    "```\n",
    "2. Necesitas utilizar las siguientes funciones\n",
    "```Python\n",
    "random.randint (10,1000)\n",
    "rango (0,10)\n",
    "```"
   ]
  },
  {
   "cell_type": "code",
   "execution_count": 46,
   "metadata": {},
   "outputs": [
    {
     "name": "stdout",
     "output_type": "stream",
     "text": [
      "[415, 586, 301, 198, 408, 118, 945, 530, 17, 732]\n"
     ]
    }
   ],
   "source": [
    "import random\n",
    "    \n",
    "rand_list = []\n",
    "\n",
    "for i in range(10):\n",
    "    rand_list.append(random.randint(10,1000))\n",
    "    \n",
    "print(rand_list)"
   ]
  },
  {
   "cell_type": "markdown",
   "metadata": {},
   "source": [
    "Tu salida debería verse como esto, pero con otros números:\n",
    "\n",
    "```Python\n",
    "[28, 85, 75, 14, 12, 20, 48, 99, 17, 38]\n",
    "```"
   ]
  },
  {
   "cell_type": "markdown",
   "metadata": {},
   "source": [
    "## <font color='green'>Tarea 7:</font> \n",
    "\n",
    "Utilice la **List-Comprehensions** y la biblioteca **reandom** para crear una lista de 10 números aleatorios <br>\n",
    "Los números aleatorios deben estar entre 10 y 1000.\n",
    "\n",
    "Tip:\n",
    "1. Ver y revisar notebook de **List-Comprehensions**\n",
    "2. Combina una función **range()** dentro de la **list-comprehension**."
   ]
  },
  {
   "cell_type": "code",
   "execution_count": 59,
   "metadata": {},
   "outputs": [
    {
     "data": {
      "text/plain": [
       "[131, 118, 850, 832, 669, 94, 85, 119, 829, 132]"
      ]
     },
     "execution_count": 59,
     "metadata": {},
     "output_type": "execute_result"
    }
   ],
   "source": [
    "import random\n",
    "rand_list = [random.randint(10,1000) for x in range(10)]\n",
    "rand_list"
   ]
  },
  {
   "cell_type": "markdown",
   "metadata": {},
   "source": [
    "Tu salida debería verse como esto, pero con otros números:\n",
    "\n",
    "```Python\n",
    "[292, 883, 48, 456, 391, 427, 155, 195, 606, 609]\n",
    "```"
   ]
  },
  {
   "cell_type": "markdown",
   "metadata": {},
   "source": [
    "## <font color='green'>Task 8: Super challenging</font> \n",
    "\n",
    "Create a while loop that asks the user to input an even number. It should keep repeating the request until an even integer is provided. <br>\n",
    "You should only need to expect integers to be passed in, if the user provides a string or something else that can't be transformed to an integer with int(), then the loop should break with an error. \n",
    "\n",
    "\n",
    "Cree un ciclo **while** el cual le pida al usuario que ingrese un número par. Debe seguir repitiendo la solicitud hasta que se proporcione un número entero par. <br>\n",
    "Solo debe esperar que se pasen enteros, si el usuario proporciona una cadena u otra cosa que no se puede transformar en un entero con int (), entonces el ciclo debería romperse con un error.\n",
    "\n",
    "Propina:\n",
    "1. Utilice la siguiente función:\n",
    "```Python\n",
    " input()\n",
    "```\n",
    "2. Utilice la siguiente estructura **pseudocódigo**\n",
    "\n",
    "```Python\n",
    "while True:\n",
    "    input numbero\n",
    "    if numbero no es par:\n",
    "        continue\n",
    "    else:\n",
    "        print(\"Buen trabajo !!\")\n",
    "        break\n",
    "```"
   ]
  },
  {
   "cell_type": "code",
   "execution_count": 68,
   "metadata": {},
   "outputs": [
    {
     "name": "stdout",
     "output_type": "stream",
     "text": [
      "4\n",
      "El números 4 es par!\n"
     ]
    }
   ],
   "source": [
    "while True:\n",
    "    num = input()\n",
    "    if num.isnumeric():\n",
    "        if int(num) % 2 != 0:\n",
    "            continue\n",
    "        else:\n",
    "            print(f'El números {num} es par!')\n",
    "            break\n",
    "    else:\n",
    "        print(f'El contenido ingresado no es numérico')\n",
    "        break\n",
    "        "
   ]
  },
  {
   "cell_type": "markdown",
   "metadata": {
    "collapsed": true
   },
   "source": [
    "Buena suerte hackers!"
   ]
  }
 ],
 "metadata": {
  "kernelspec": {
   "display_name": "Python 3",
   "language": "python",
   "name": "python3"
  },
  "language_info": {
   "codemirror_mode": {
    "name": "ipython",
    "version": 3
   },
   "file_extension": ".py",
   "mimetype": "text/x-python",
   "name": "python",
   "nbconvert_exporter": "python",
   "pygments_lexer": "ipython3",
   "version": "3.8.6"
  }
 },
 "nbformat": 4,
 "nbformat_minor": 2
}

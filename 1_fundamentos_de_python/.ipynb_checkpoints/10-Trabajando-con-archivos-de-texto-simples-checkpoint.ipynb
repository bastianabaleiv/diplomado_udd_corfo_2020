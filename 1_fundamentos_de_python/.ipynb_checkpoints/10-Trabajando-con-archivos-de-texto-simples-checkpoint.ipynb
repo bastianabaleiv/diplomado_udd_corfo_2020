{
 "cells": [
  {
   "cell_type": "markdown",
   "metadata": {},
   "source": [
    "# 10-Trabajando con archivos de texto simples\n",
    "\n",
    "¡Hola espías!\n",
    "\n",
    "En esta oportunidad vamos a trabajar con archivos. Al final de esta lección, podrá abrir archivos y trabajar con ellos usando código.\n",
    "\n",
    "Python puede manejar fácilmente el trabajo con archivos .txt (más adelante aprenderás a trabajar con otros formatos de archivo, como .csv o .pdf). Repasemos las mejores prácticas para trabajar con archivos de texto simples en Python.\n",
    "\n",
    "## Abrir un archivo\n",
    "\n",
    "Vamos a abrir el archivo test.txt que se encuentra en el mismo directorio que este notebook. Por ahora trabajaremos con archivos ubicados en el **mismo directorio** que estás usando.\n",
    "\n",
    "Para usar un archivo y hacer algo con él, lo primero que debemos hacer es abrirlo. Sí, igual que como hacemos con un libro.\n",
    "\n",
    "Para hacer eso usaremos la función **open( )**, con el nombre del archivo incluyendo su extensión dentro:\n",
    "\n",
    "``` Python\n",
    "my_file = open('nombre_archivo.extensión')\n",
    "```\n",
    "\n",
    "**my_file** es el nombre que elegimos para el objeto donde se almacenará el contenido del archivo **file_name.extension**.\n",
    "\n",
    "Es muy fácil obtener un error en este paso:"
   ]
  },
  {
   "cell_type": "code",
   "execution_count": 1,
   "metadata": {},
   "outputs": [
    {
     "ename": "FileNotFoundError",
     "evalue": "[Errno 2] No such file or directory: 'wrong_name.txt'",
     "output_type": "error",
     "traceback": [
      "\u001b[0;31m---------------------------------------------------------------------------\u001b[0m",
      "\u001b[0;31mFileNotFoundError\u001b[0m                         Traceback (most recent call last)",
      "\u001b[0;32m<ipython-input-1-d975c0c05b84>\u001b[0m in \u001b[0;36m<module>\u001b[0;34m\u001b[0m\n\u001b[1;32m      1\u001b[0m \u001b[0;31m# Por ejemplo si escribimos mal el nombre o el archivo no existe en el directorio actual\u001b[0m\u001b[0;34m\u001b[0m\u001b[0;34m\u001b[0m\u001b[0;34m\u001b[0m\u001b[0m\n\u001b[1;32m      2\u001b[0m \u001b[0;34m\u001b[0m\u001b[0m\n\u001b[0;32m----> 3\u001b[0;31m \u001b[0merrorfile\u001b[0m \u001b[0;34m=\u001b[0m \u001b[0mopen\u001b[0m\u001b[0;34m(\u001b[0m\u001b[0;34m'wrong_name.txt'\u001b[0m\u001b[0;34m)\u001b[0m\u001b[0;34m\u001b[0m\u001b[0;34m\u001b[0m\u001b[0m\n\u001b[0m",
      "\u001b[0;31mFileNotFoundError\u001b[0m: [Errno 2] No such file or directory: 'wrong_name.txt'"
     ]
    }
   ],
   "source": [
    "# Por ejemplo si escribimos mal el nombre o el archivo no existe en el directorio actual\n",
    "\n",
    "errorfile = open('wrong_name.txt')"
   ]
  },
  {
   "cell_type": "markdown",
   "metadata": {},
   "source": [
    "Esto significa que ocurrieron dos cosas posibles, o el nombre del archivo es incorrecto o no proporcionó la ruta del archivo correcta (más sobre esto más adelante).\n",
    "\n",
    "Proporcionemos ahora el nombre de archivo correcto:"
   ]
  },
  {
   "cell_type": "code",
   "execution_count": 2,
   "metadata": {},
   "outputs": [],
   "source": [
    "myfile = open('test_file.txt')"
   ]
  },
  {
   "cell_type": "markdown",
   "metadata": {},
   "source": [
    "Cuando abrimos un archivo, le asignamos contenido a un nuevo objeto. En este caso, el objeto se llama *myfile* <br>\n",
    "Veamos su tipo:"
   ]
  },
  {
   "cell_type": "code",
   "execution_count": 3,
   "metadata": {},
   "outputs": [
    {
     "data": {
      "text/plain": [
       "_io.TextIOWrapper"
      ]
     },
     "execution_count": 3,
     "metadata": {},
     "output_type": "execute_result"
    }
   ],
   "source": [
    "type(myfile)"
   ]
  },
  {
   "cell_type": "markdown",
   "metadata": {},
   "source": [
    "## Métodos asociados a nuestro nuevo objeto\n",
    "Ahora podemos llamar a varios métodos de lectura de este archivo de texto:\n",
    "\n",
    "**read()** devuelve todo el contenido como una cadena:"
   ]
  },
  {
   "cell_type": "code",
   "execution_count": 4,
   "metadata": {},
   "outputs": [
    {
     "data": {
      "text/plain": [
       "'First Line of File\\nSecond Line of File\\nThird Line of File\\nLast Line of File'"
      ]
     },
     "execution_count": 4,
     "metadata": {},
     "output_type": "execute_result"
    }
   ],
   "source": [
    "myfile.read()"
   ]
  },
  {
   "cell_type": "markdown",
   "metadata": {},
   "source": [
    "Si ejecutas la sentencia anterior nuevamente, obtendrás un blanco:"
   ]
  },
  {
   "cell_type": "code",
   "execution_count": 5,
   "metadata": {},
   "outputs": [
    {
     "data": {
      "text/plain": [
       "''"
      ]
     },
     "execution_count": 5,
     "metadata": {},
     "output_type": "execute_result"
    }
   ],
   "source": [
    "myfile.read()"
   ]
  },
  {
   "cell_type": "markdown",
   "metadata": {},
   "source": [
    "Eso es porque el \"cursor\" está al final del archivo. Puedes restablecer el cursor al inicio usando el método **seek()**:"
   ]
  },
  {
   "cell_type": "code",
   "execution_count": 16,
   "metadata": {},
   "outputs": [
    {
     "data": {
      "text/plain": [
       "0"
      ]
     },
     "execution_count": 16,
     "metadata": {},
     "output_type": "execute_result"
    }
   ],
   "source": [
    "myfile.seek(0)"
   ]
  },
  {
   "cell_type": "code",
   "execution_count": 10,
   "metadata": {},
   "outputs": [
    {
     "data": {
      "text/plain": [
       "'First Line of File\\nSecond Line of File\\nThird Line of File\\nLast Line of File'"
      ]
     },
     "execution_count": 10,
     "metadata": {},
     "output_type": "execute_result"
    }
   ],
   "source": [
    "myfile.read()"
   ]
  },
  {
   "cell_type": "markdown",
   "metadata": {},
   "source": [
    "## <font color='green'>Tarea:</font> Mira que pasa si usas seek() con el cursor en diferentes posiciones\n",
    "Pon el cursor en las siguientes posiciones 10, 45 y 88\n",
    "\n",
    "Tip: \n",
    "1. Usa el método seek(numero_posicion)\n",
    "2. Luego verifica con myfile.read()"
   ]
  },
  {
   "cell_type": "code",
   "execution_count": 13,
   "metadata": {},
   "outputs": [
    {
     "data": {
      "text/plain": [
       "' of File\\nSecond Line of File\\nThird Line of File\\nLast Line of File'"
      ]
     },
     "execution_count": 13,
     "metadata": {},
     "output_type": "execute_result"
    }
   ],
   "source": [
    "# Tu código aquí ...\n",
    "myfile.seek(10)\n",
    "myfile.read()"
   ]
  },
  {
   "cell_type": "code",
   "execution_count": 14,
   "metadata": {},
   "outputs": [
    {
     "data": {
      "text/plain": [
       "'Line of File\\nLast Line of File'"
      ]
     },
     "execution_count": 14,
     "metadata": {},
     "output_type": "execute_result"
    }
   ],
   "source": [
    "myfile.seek(45)\n",
    "myfile.read()"
   ]
  },
  {
   "cell_type": "code",
   "execution_count": 17,
   "metadata": {},
   "outputs": [
    {
     "data": {
      "text/plain": [
       "''"
      ]
     },
     "execution_count": 17,
     "metadata": {},
     "output_type": "execute_result"
    }
   ],
   "source": [
    "myfile.seek(88)\n",
    "myfile.read()"
   ]
  },
  {
   "cell_type": "markdown",
   "metadata": {},
   "source": [
    "<font color='green'>Fin tarea</font>"
   ]
  },
  {
   "cell_type": "markdown",
   "metadata": {},
   "source": [
    "## **El método readlines()**\n",
    "\n",
    "Debido a que muchos archivos a menudo tienen **saltos de línea (\\ n)**, a menudo la gente quiere usarlos como separadores y leer todo el archivo de texto como una lista, donde cada elemento de la lista es una cadena que representa una línea en el archivo de texto ."
   ]
  },
  {
   "cell_type": "code",
   "execution_count": 18,
   "metadata": {},
   "outputs": [
    {
     "data": {
      "text/plain": [
       "0"
      ]
     },
     "execution_count": 18,
     "metadata": {},
     "output_type": "execute_result"
    }
   ],
   "source": [
    "myfile.seek(0)"
   ]
  },
  {
   "cell_type": "code",
   "execution_count": 19,
   "metadata": {},
   "outputs": [
    {
     "data": {
      "text/plain": [
       "['First Line of File\\n',\n",
       " 'Second Line of File\\n',\n",
       " 'Third Line of File\\n',\n",
       " 'Last Line of File']"
      ]
     },
     "execution_count": 19,
     "metadata": {},
     "output_type": "execute_result"
    }
   ],
   "source": [
    "myfile.readlines()"
   ]
  },
  {
   "cell_type": "markdown",
   "metadata": {},
   "source": [
    "## <font color='green'>Tarea:</font> ¿Qué tipo de objeto devuelve el método readlines()?\n",
    "Determina el tipo de objeto que devuelve el método readline()\n",
    "\n",
    "Tip:\n",
    "1. Utiliza la función type() sobre myfile.readlines()"
   ]
  },
  {
   "cell_type": "code",
   "execution_count": 20,
   "metadata": {},
   "outputs": [
    {
     "data": {
      "text/plain": [
       "list"
      ]
     },
     "execution_count": 20,
     "metadata": {},
     "output_type": "execute_result"
    }
   ],
   "source": [
    "# Tu código aquí ...\n",
    "type(myfile.readlines())"
   ]
  },
  {
   "cell_type": "markdown",
   "metadata": {},
   "source": [
    "<font color='green'>Fin tarea</font>"
   ]
  },
  {
   "cell_type": "markdown",
   "metadata": {
    "collapsed": true
   },
   "source": [
    "## Ubicaciones de archivos\n",
    "\n",
    "Si deseas abrir archivos en otra ubicación de su computadora, simplemente ingresa la ruta completa o absoluta del archivo.\n",
    "\n",
    "Para Windows, debe usar doble \\\\ para que Python no trate el segundo \\ como un carácter de escape, una ruta de archivo tiene la forma:\n",
    "```Python\n",
    "     myfile = open (\"C: \\\\ Users \\\\ YourUserName \\\\ Home \\\\ Folder \\\\ myfile.txt\")\n",
    "```    \n",
    "Para MacOS y Linux, usa barras en la dirección opuesta:\n",
    "```Python\n",
    "     myfile = open (\"/ Usuarios / NombreDeUsuario / Carpeta / myfile.txt\")\n",
    "```    \n",
    "Este fue un ejemplo, intenta abrir y leer el archivo usando *tu propia ruta*"
   ]
  },
  {
   "cell_type": "markdown",
   "metadata": {},
   "source": [
    "## <font color='green'>Tarea:</font> Abre el archivo text_file.txt usando tu propia ruta absoluta\n",
    "\n",
    "Tip:\n",
    "1. Busca tu ruta usando el Explorador de Windows o el Finder del Mac.\n",
    "2. Abre el archivo de esta manera:\n",
    "``` Python\n",
    "     myfile = open (\"C: \\\\ your_path_goes_here \\\\ myfile.txt\")\n",
    "```\n",
    "3. Recuerda separar las carpetas en su ruta con barras invertidas dobles ( \\\\\\ ) en Windows o una barra simple ( / ) en Mac."
   ]
  },
  {
   "cell_type": "code",
   "execution_count": 23,
   "metadata": {},
   "outputs": [],
   "source": [
    "# Tu código aquí ...\n",
    "myfile = open(\"/home/bastian/Dropbox/diplomado_udd/modulo_1/test_file.txt\")"
   ]
  },
  {
   "cell_type": "markdown",
   "metadata": {},
   "source": [
    "<font color='green'>Fin tarea</font>"
   ]
  },
  {
   "cell_type": "markdown",
   "metadata": {},
   "source": [
    "## No te olvides de cerrar la puerta al salir\n",
    "\n",
    "Como con el libro, cuando terminas de usarlo (leerlo) ... lo cierras.\n",
    "\n",
    "En Python *siempre* cerramos los archivos que abrimos. Para hacer eso usamos el método **close()** de esta manera:\n",
    "\n",
    "```Python\n",
    "    myfile.close()\n",
    "```"
   ]
  },
  {
   "cell_type": "markdown",
   "metadata": {},
   "source": [
    "## <font color='green'>Tarea:</font> Cierra el archivo\n",
    "\n",
    "Tip:\n",
    "1. Cierra el archivo abierto de esta forma:\n",
    "```Python\n",
    "    myfile.close()\n",
    "```"
   ]
  },
  {
   "cell_type": "code",
   "execution_count": 25,
   "metadata": {},
   "outputs": [],
   "source": [
    "# Tu código aquí ...\n",
    "myfile.close()"
   ]
  },
  {
   "cell_type": "markdown",
   "metadata": {},
   "source": [
    "<font color='green'>Fin tarea</font>"
   ]
  },
  {
   "cell_type": "markdown",
   "metadata": {},
   "source": [
    "## Veamos un ejemplo completo"
   ]
  },
  {
   "cell_type": "code",
   "execution_count": 26,
   "metadata": {},
   "outputs": [
    {
     "name": "stdout",
     "output_type": "stream",
     "text": [
      "First Line of File\n",
      "Second Line of File\n",
      "Third Line of File\n",
      "Last Line of File\n"
     ]
    }
   ],
   "source": [
    "myfile = open('test_file.txt')\n",
    "lines = myfile.read()\n",
    "print(lines)\n",
    "myfile.close()"
   ]
  },
  {
   "cell_type": "markdown",
   "metadata": {},
   "source": [
    "### Best Practice ... la forma Pythonista !!\n",
    "Es una buena práctica usar la declaración **with ...** para abrir archivos, esto te permite no preocuparte por cerrar el archivo después de abrirlo. Aquí está la sintaxis:"
   ]
  },
  {
   "cell_type": "code",
   "execution_count": 27,
   "metadata": {},
   "outputs": [],
   "source": [
    "with open('test_file.txt') as myfile:\n",
    "    # Fíjate en la indentación!\n",
    "    # Veremos este tema de la indentación en profundidad más adelante\n",
    "    lines = myfile.read()\n",
    "    \n",
    "    \n",
    "# El archivo se cierra automáticamente después de la cláusula with ..."
   ]
  },
  {
   "cell_type": "code",
   "execution_count": 28,
   "metadata": {},
   "outputs": [
    {
     "name": "stdout",
     "output_type": "stream",
     "text": [
      "First Line of File\n",
      "Second Line of File\n",
      "Third Line of File\n",
      "Last Line of File\n"
     ]
    }
   ],
   "source": [
    "print(lines)"
   ]
  },
  {
   "cell_type": "markdown",
   "metadata": {},
   "source": [
    "## Opciones de lectura y escritura\n",
    "La función **open()** tiene un segundo parámetro que le permite especificar si sólo desea poder leer el archivo, escribir en él o hacer ambas cosas.\n",
    "A continuación, se muestra una tabla con algunas de las opciones importantes:"
   ]
  },
  {
   "cell_type": "markdown",
   "metadata": {},
   "source": [
    "<table>\n",
    "<tr>\n",
    "<th style=\"text-align:center;\">Modos &amp; Descripción</th>\n",
    "</tr>\n",
    "<tr>\n",
    "<td><p><b>r</b></p>\n",
    "<p>Abre un archivo solo para lectura. El puntero de archivo se coloca al principio del archivo. Este es el modo por defecto.</p></td>\n",
    "</tr>\n",
    "\n",
    "<tr>\n",
    "<td><p><b>r+</b></p>\n",
    "<p>Abre un archivo para leer y escribir. El puntero de archivo colocado al principio del archivo.</p></td>\n",
    "</tr>\n",
    "<tr>\n",
    "<td><p><b>w</b></p>\n",
    "<p>Abre un archivo solo para escritura. Sobrescribe el archivo si existe. Si el archivo no existe, crea un nuevo archivo para escribir.</p></td>\n",
    "</tr>\n",
    "<tr>\n",
    "<td><p><b>w+</b></p>\n",
    "<p>Abre un archivo para escribir y leer. Sobrescribe el archivo existente si el archivo existe. Si el archivo no existe, crea un nuevo archivo para leer y escribir.</p></td>\n",
    "</tr> \n",
    "<tr>\n",
    "<td><p><b>a</b></p>\n",
    "<p>Abre un archivo para agregar. El puntero de archivo está al final del archivo si el archivo existe. Es decir, el archivo está en modo adjuntar. Si el archivo no existe, crea un nuevo archivo para escribir.</p></td>\n",
    "</tr> \n",
    "<tr>\n",
    "<td><p><b>ab</b></p>\n",
    "<p>Abre un archivo para agregar en formato binario. El puntero de archivo está al final del archivo si el archivo existe. Es decir, el archivo está en modo adjuntar. Si el archivo no existe, crea un nuevo archivo para escribir.</p></td>\n",
    "</tr> \n",
    "<tr>\n",
    "<td><p><b>a+</b></p>\n",
    "<p>Abre un archivo para agregarlo y leerlo. El puntero de archivo está al final del archivo si el archivo existe. El archivo se abre en el modo anexar. Si el archivo no existe, crea un nuevo archivo para lectura y escritura..</p></td>\n",
    "</tr> \n",
    "</table>"
   ]
  },
  {
   "cell_type": "code",
   "execution_count": 29,
   "metadata": {},
   "outputs": [
    {
     "data": {
      "text/plain": [
       "'Only One Line'"
      ]
     },
     "execution_count": 29,
     "metadata": {},
     "output_type": "execute_result"
    }
   ],
   "source": [
    "f = open('second_file.txt')\n",
    "f.read()"
   ]
  },
  {
   "cell_type": "markdown",
   "metadata": {},
   "source": [
    "## Intentemos escribir en el archivo"
   ]
  },
  {
   "cell_type": "code",
   "execution_count": 30,
   "metadata": {},
   "outputs": [
    {
     "ename": "UnsupportedOperation",
     "evalue": "not writable",
     "output_type": "error",
     "traceback": [
      "\u001b[0;31m---------------------------------------------------------------------------\u001b[0m",
      "\u001b[0;31mUnsupportedOperation\u001b[0m                      Traceback (most recent call last)",
      "\u001b[0;32m<ipython-input-30-7699f70c968a>\u001b[0m in \u001b[0;36m<module>\u001b[0;34m\u001b[0m\n\u001b[1;32m      2\u001b[0m \u001b[0;34m\u001b[0m\u001b[0m\n\u001b[1;32m      3\u001b[0m \u001b[0mf\u001b[0m \u001b[0;34m=\u001b[0m \u001b[0mopen\u001b[0m\u001b[0;34m(\u001b[0m\u001b[0;34m'second_file.txt'\u001b[0m\u001b[0;34m)\u001b[0m\u001b[0;34m\u001b[0m\u001b[0;34m\u001b[0m\u001b[0m\n\u001b[0;32m----> 4\u001b[0;31m \u001b[0mf\u001b[0m\u001b[0;34m.\u001b[0m\u001b[0mwrite\u001b[0m\u001b[0;34m(\u001b[0m\u001b[0;34m\"new line\"\u001b[0m\u001b[0;34m)\u001b[0m\u001b[0;34m\u001b[0m\u001b[0;34m\u001b[0m\u001b[0m\n\u001b[0m",
      "\u001b[0;31mUnsupportedOperation\u001b[0m: not writable"
     ]
    }
   ],
   "source": [
    "# Este código te dará error ....\n",
    "\n",
    "f = open('second_file.txt')\n",
    "f.write(\"new line\")"
   ]
  },
  {
   "cell_type": "markdown",
   "metadata": {},
   "source": [
    "Esto se debe a que necesitamos decirle a la función **open()** que queremos escribir en el archivo. Así que agreguemos el código 'w' en el tiempo de apertura."
   ]
  },
  {
   "cell_type": "code",
   "execution_count": 31,
   "metadata": {},
   "outputs": [
    {
     "data": {
      "text/plain": [
       "8"
      ]
     },
     "execution_count": 31,
     "metadata": {},
     "output_type": "execute_result"
    }
   ],
   "source": [
    "f = open('test_file.txt','w')\n",
    "\n",
    "# Retorna el número de caracteres escritos\n",
    "f.write('new line')"
   ]
  },
  {
   "cell_type": "code",
   "execution_count": 32,
   "metadata": {},
   "outputs": [],
   "source": [
    "f.close()"
   ]
  },
  {
   "cell_type": "code",
   "execution_count": 33,
   "metadata": {},
   "outputs": [
    {
     "data": {
      "text/plain": [
       "'new line'"
      ]
     },
     "execution_count": 33,
     "metadata": {},
     "output_type": "execute_result"
    }
   ],
   "source": [
    "f = open('test_file.txt')\n",
    "f.read()"
   ]
  },
  {
   "cell_type": "markdown",
   "metadata": {},
   "source": [
    "Observa cómo se ha sobrescrito todo el archivo! Si deseas agregar al archivo, debes usar el modo de agregar **'a'** para escribir en él."
   ]
  },
  {
   "cell_type": "code",
   "execution_count": 65,
   "metadata": {},
   "outputs": [],
   "source": [
    "f = open('totally_new_file.txt','w+')\n",
    "f.write(\"I Created a new file\")\n",
    "f.close()"
   ]
  },
  {
   "cell_type": "markdown",
   "metadata": {},
   "source": [
    "## <font color='green'>Tarea:</font> Añade nuevas líneas al archivo\n",
    "Añade don nuevas líneas\n",
    "\n",
    "Tip:\n",
    "1. Necesitas abrir el archivo en modo 'a'\n",
    "```Python\n",
    "    file_to_add = open('totally_new_file.txt','a')\n",
    "```\n",
    "2. Escribe dos líneas\n",
    "```Pythom\n",
    "    file_to_add.write('New line')\n",
    "```\n",
    "3. Lee el archivo usando **read()**\n",
    "4. Cierra el archivo usando **close()**"
   ]
  },
  {
   "cell_type": "code",
   "execution_count": 1,
   "metadata": {},
   "outputs": [],
   "source": [
    "# Tu código aquí ...\n",
    "file_to_add = open('totally_new_file.txt','a')\n",
    "file_to_add.write('New line 1\\n')\n",
    "file_to_add.write('New line 2\\n')\n",
    "file_to_add.close()"
   ]
  },
  {
   "cell_type": "markdown",
   "metadata": {},
   "source": [
    "<font color='green'>Fin tarea</font>"
   ]
  },
  {
   "cell_type": "markdown",
   "metadata": {},
   "source": [
    "## <font color='green'>Tarea:</font> Haz lo mismo anterior pero utilizando la sentencia *with* \n",
    "La forma *pythonista* de abrir archivos!!\n",
    "\n",
    "Tip:\n",
    "1. Necesitarás usar la sentencia *with open ... * \n",
    "```Python\n",
    "    with open('test_file.txt') as archivo:\n",
    "```\n",
    "2. Escribe dos lineas\n",
    "```Pythom\n",
    "    archivo.write('Esta vez arbimos el archivo como verdadero pythonista y añadimos una línea')\n",
    "```\n",
    "3. Lee el archivo utilizando **read( )**"
   ]
  },
  {
   "cell_type": "code",
   "execution_count": 67,
   "metadata": {},
   "outputs": [
    {
     "data": {
      "text/plain": [
       "'I Created a new fileNew line 1New line 2New line 1New line 2'"
      ]
     },
     "execution_count": 67,
     "metadata": {},
     "output_type": "execute_result"
    }
   ],
   "source": [
    "with open('totally_new_file.txt','a') as file:\n",
    "    file.write('New line 1\\n')\n",
    "    file.write('New line 2\\n')\n",
    "\n",
    "f = open('totally_new_file.txt')\n",
    "f.read()"
   ]
  },
  {
   "cell_type": "markdown",
   "metadata": {},
   "source": [
    "<font color='green'>Fin tarea</font>"
   ]
  },
  {
   "cell_type": "markdown",
   "metadata": {},
   "source": [
    "Buen trabajo espías!!"
   ]
  },
  {
   "cell_type": "markdown",
   "metadata": {},
   "source": [
    "# <font color='blue'>Tiempo de revisión grupal</font>\n",
    "La **Bitácora Grupal** es la herramienta de evaluación de este curso. La misma estará conformada por todos los **Notebooks Grupales** de cada una de las clases y módulos del curso. Los grupos de trabajo deben desarrollarla de forma colaborativa y creativa.\n",
    "\n",
    "Rúbrica de la **Bitácora Grupal** y de los **Notebook Grupal** que la componen:\n",
    "* El notebook se ve ordenado y con una secuencia lógica y limpia.\n",
    "* El notebook no tiene celdas en blanco innecesarias.\n",
    "* El notebook no tiene celdas con errores, salvo aquellas en las que explícitamente queremos mostrar un error.\n",
    "* Todos los ejercicios propuestos están correctamente desarrollados.\n",
    "* Los ejercicios tiene comentarios y reflexiones del grupo.\n",
    "* El notebook tiene abundantes comentarios explicativos del código.\n",
    "* El notebook tiene una sección adicional, creada por el grupo, con experimentos de los alumnos relativos al contenido del mismo.\n",
    "* La Bitácora Grupa, y por ende los notebooks que la componen, tiene aspectos creativos y novedoso que la diferencian significativamente de las de los demás grupos."
   ]
  },
  {
   "cell_type": "code",
   "execution_count": null,
   "metadata": {},
   "outputs": [],
   "source": []
  }
 ],
 "metadata": {
  "kernelspec": {
   "display_name": "Python 3",
   "language": "python",
   "name": "python3"
  },
  "language_info": {
   "codemirror_mode": {
    "name": "ipython",
    "version": 3
   },
   "file_extension": ".py",
   "mimetype": "text/x-python",
   "name": "python",
   "nbconvert_exporter": "python",
   "pygments_lexer": "ipython3",
   "version": "3.8.5"
  }
 },
 "nbformat": 4,
 "nbformat_minor": 2
}

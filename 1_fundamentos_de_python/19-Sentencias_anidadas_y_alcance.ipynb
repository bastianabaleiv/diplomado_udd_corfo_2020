{
 "cells": [
  {
   "cell_type": "markdown",
   "metadata": {
    "collapsed": true
   },
   "source": [
    "# 19-Sentencias anidadas y alcance (nested - scope)\n",
    "\n",
    "Bienvenidos de nuevo espías. Después de haber visto funciones, debería sentirse mucho más cómodos escribiendolas. Más adelante veremos cómo las funciones pueden interactuar entre sí como parte de scripts más grandes y complejos. Parapoder continuar, necesitamos aprender sobre las declaraciones anidadas y alcance. Es importante comprender cómo Python maneja los nombres de función y variable que tu creas cuando codificas. Cuando creas un nombre de variable en Python, el nombre se almacena en un espacio de nombres. Los nombres de variable también tienen un alcance, el alcance determina la visibilidad de ese nombre de variable en otras partes de su código. Veamos.\n",
    "\n",
    "### Ejemplo simple\n",
    "Comencemos con un experimento mental rápido, imagina el siguiente código:"
   ]
  },
  {
   "cell_type": "code",
   "execution_count": 1,
   "metadata": {},
   "outputs": [],
   "source": [
    "x = 'fuera'\n",
    "\n",
    "def report():\n",
    "    x = 'dentro'\n",
    "    return x"
   ]
  },
  {
   "cell_type": "markdown",
   "metadata": {},
   "source": [
    "Cuál esperas que sea la salida si llamamos a *report( )*?"
   ]
  },
  {
   "cell_type": "code",
   "execution_count": 2,
   "metadata": {},
   "outputs": [
    {
     "data": {
      "text/plain": [
       "'dentro'"
      ]
     },
     "execution_count": 2,
     "metadata": {},
     "output_type": "execute_result"
    }
   ],
   "source": [
    "report()"
   ]
  },
  {
   "cell_type": "markdown",
   "metadata": {},
   "source": [
    "Bien, eso tiene sentido, ya que vemos que *x* fue reasignada dentro de la función *report( )*. ¿Qué crees que sucede si llamamos a print(x) fuera de esta función?"
   ]
  },
  {
   "cell_type": "code",
   "execution_count": 3,
   "metadata": {},
   "outputs": [
    {
     "name": "stdout",
     "output_type": "stream",
     "text": [
      "fuera\n"
     ]
    }
   ],
   "source": [
    "print(x)"
   ]
  },
  {
   "cell_type": "markdown",
   "metadata": {},
   "source": [
    "La razón por la que no vemos el efecto de esta reasignación fuera de la función es por **alcance** o **scope**."
   ]
  },
  {
   "cell_type": "markdown",
   "metadata": {},
   "source": [
    "## Alcance (scope)\n",
    "\n",
    "Es muy importante comprender esta idea de alcance en tu código para poder asignar y llamar correctamente los nombres de las variables.\n",
    "\n",
    "En términos simples, la idea de alcance se puede describir mediante 3 reglas generales:\n",
    "\n",
    "1. Las asignaciones de nombres crearán o cambiarán los nombres locales de forma predeterminada.\n",
    "2. La búsqueda de nombre asignados se realiza (como máximo) en cuatro ámbitos, estos son:\n",
    "     * local\n",
    "     * funciones de usuarios\n",
    "     * global\n",
    "     * funciones predeterminadas (built-in)\n",
    "3. Los nombres generados en declaraciones globales y no-locales mapean los nombres asignados a los ámbitos de módulo y función adjuntos."
   ]
  },
  {
   "cell_type": "markdown",
   "metadata": {},
   "source": [
    "La regla N°2 anterior, puede definirse mediante la regla LEGB (por sus iniciales en inglés).\n",
    "\n",
    "**Regla LEGB:**\n",
    "\n",
    "**L: Local**: nombres asignados de forma local dentro de una función (*def* o *lambda*), y no declarados como globales dentro de esa función.\n",
    "\n",
    "**E: Enclosing function locals**: nombre en el ámbito local de las funciones (def o lambda), de interior a exterior.\n",
    "\n",
    "**G: Global (módulo)**: nombres asignados en el nivel superior de un programa, o declarados globales en una función *def* dentro del archivo.\n",
    "\n",
    "**B: Built-in (Incorporado) (Python)** - Nombres preasignados en en Python: open, range, SyntaxError, etc."
   ]
  },
  {
   "cell_type": "markdown",
   "metadata": {},
   "source": [
    "### Ejemplo de Local"
   ]
  },
  {
   "cell_type": "code",
   "execution_count": 4,
   "metadata": {},
   "outputs": [],
   "source": [
    "def report():\n",
    "    \n",
    "    # Esta es una asignación local dento de la función\n",
    "    x = 'local'\n",
    "    print(x)"
   ]
  },
  {
   "cell_type": "raw",
   "metadata": {},
   "source": [
    "report()"
   ]
  },
  {
   "cell_type": "markdown",
   "metadata": {},
   "source": [
    "### Ejemplo de Enclosing Function Locals\n",
    "\n",
    "Recuerda que esto ocurre cuando una función está dentro de otra función (veremos más ejemplos de esto más adelante, se llaman funciones anidadas, no las usarás tan a menudo cuando comience a programar)."
   ]
  },
  {
   "cell_type": "code",
   "execution_count": 5,
   "metadata": {},
   "outputs": [],
   "source": [
    "x = 'Este es el nivel global'\n",
    "\n",
    "def enclosing():\n",
    "    x = 'Nivel dentro de la función'\n",
    "    \n",
    "    def inside():\n",
    "        # Esta función está encerranda en la interior\n",
    "        # Observe la indentación\n",
    "        print(x)\n",
    "        \n",
    "    # Ahora llamemos a inside()\n",
    "    # Nota la indentación\n",
    "    inside()"
   ]
  },
  {
   "cell_type": "markdown",
   "metadata": {},
   "source": [
    "Entonces, ¿qué pasará cuando llamemos a *enclosing( )*? Que veremos?"
   ]
  },
  {
   "cell_type": "code",
   "execution_count": 6,
   "metadata": {},
   "outputs": [
    {
     "name": "stdout",
     "output_type": "stream",
     "text": [
      "Nivel dentro de la función\n"
     ]
    }
   ],
   "source": [
    "enclosing()"
   ]
  },
  {
   "cell_type": "markdown",
   "metadata": {},
   "source": [
    "This means the inside() function first looks for the **x** variable locally. Since its not defined there, it looks at the enclosing level, it finds it defined there, so it can then print it out. Let's see what happens if it wasn't defined in the enclosing function (meaning it was global).\n",
    "\n",
    "Esto significa que la función *inside( )* primero busca la variable **x** localmente. Como no está definido allí, mira el nivel adjunto, lo encuentra definido allí, por lo que puede imprimirlo. Veamos qué sucede si no se hubiese definido en la función adjunta (lo que significa que era global).\n",
    "\n",
    "### Ejemplo de Global"
   ]
  },
  {
   "cell_type": "code",
   "execution_count": 7,
   "metadata": {},
   "outputs": [],
   "source": [
    "x = 'Este es el nivel global'\n",
    "\n",
    "def enclosing():\n",
    "    # ¡X tampoco está definido dentro de esta función adjunta!!\n",
    "    \n",
    "    def inside():\n",
    "        # Esta función está encerranda en la interior\n",
    "        # Observe la indentación\n",
    "        print(x)\n",
    "        \n",
    "    # Ahora llamemos a inside()\n",
    "    # Nota la indentación\n",
    "    inside()"
   ]
  },
  {
   "cell_type": "code",
   "execution_count": 8,
   "metadata": {},
   "outputs": [
    {
     "name": "stdout",
     "output_type": "stream",
     "text": [
      "Este es el nivel global\n"
     ]
    }
   ],
   "source": [
    "enclosing()"
   ]
  },
  {
   "cell_type": "markdown",
   "metadata": {},
   "source": [
    "### Ejemplo de Built-in\n",
    "\n",
    "Estas son funciones y palabras clave integradas (built-in), ¡ten cuidado de no sobrescribirlas! Si el nombre de la variable ya está especialmente resaltado con otro color cuando lo escribes, probablemente sea una función pre-definida de Python a alguna de sus librerías."
   ]
  },
  {
   "cell_type": "code",
   "execution_count": 9,
   "metadata": {},
   "outputs": [
    {
     "data": {
      "text/plain": [
       "<function len(obj, /)>"
      ]
     },
     "execution_count": 9,
     "metadata": {},
     "output_type": "execute_result"
    }
   ],
   "source": [
    "len"
   ]
  },
  {
   "cell_type": "code",
   "execution_count": 10,
   "metadata": {},
   "outputs": [
    {
     "data": {
      "text/plain": [
       "<function sum(iterable, /, start=0)>"
      ]
     },
     "execution_count": 10,
     "metadata": {},
     "output_type": "execute_result"
    }
   ],
   "source": [
    "sum"
   ]
  },
  {
   "cell_type": "code",
   "execution_count": 11,
   "metadata": {},
   "outputs": [
    {
     "data": {
      "text/plain": [
       "builtin_function_or_method"
      ]
     },
     "execution_count": 11,
     "metadata": {},
     "output_type": "execute_result"
    }
   ],
   "source": [
    "type(sum)"
   ]
  },
  {
   "cell_type": "code",
   "execution_count": 12,
   "metadata": {},
   "outputs": [],
   "source": [
    "sum = 3"
   ]
  },
  {
   "cell_type": "code",
   "execution_count": 13,
   "metadata": {},
   "outputs": [
    {
     "data": {
      "text/plain": [
       "3"
      ]
     },
     "execution_count": 13,
     "metadata": {},
     "output_type": "execute_result"
    }
   ],
   "source": [
    "sum"
   ]
  },
  {
   "cell_type": "code",
   "execution_count": 14,
   "metadata": {},
   "outputs": [
    {
     "data": {
      "text/plain": [
       "int"
      ]
     },
     "execution_count": 14,
     "metadata": {},
     "output_type": "execute_result"
    }
   ],
   "source": [
    "type(sum)"
   ]
  },
  {
   "cell_type": "markdown",
   "metadata": {},
   "source": [
    "### Variables Locales vs Globales\n",
    "\n",
    "Ahora que hemos visto los niveles, asegurémonos de entenderlos con otro ejemplo:"
   ]
  },
  {
   "cell_type": "code",
   "execution_count": 15,
   "metadata": {},
   "outputs": [],
   "source": [
    "x = 'global afuera'\n",
    "\n",
    "def myfunc(x):\n",
    "    \n",
    "    print(f'X es {x}')\n",
    "    \n",
    "    x = 'redefinida dentro de myfunc()'\n",
    "    \n",
    "    print(f'X es {x}')"
   ]
  },
  {
   "cell_type": "code",
   "execution_count": 16,
   "metadata": {},
   "outputs": [
    {
     "name": "stdout",
     "output_type": "stream",
     "text": [
      "X es global afuera\n",
      "X es redefinida dentro de myfunc()\n"
     ]
    }
   ],
   "source": [
    "myfunc(x)"
   ]
  },
  {
   "cell_type": "code",
   "execution_count": 17,
   "metadata": {},
   "outputs": [
    {
     "name": "stdout",
     "output_type": "stream",
     "text": [
      "global afuera\n"
     ]
    }
   ],
   "source": [
    "print(x)"
   ]
  },
  {
   "cell_type": "markdown",
   "metadata": {},
   "source": [
    "## global (palabra reservada)\n",
    "\n",
    "Ahora puede haber una ocasión en la que específicamente desees sobrescribir la variable global dentro de una función. Cómo puedes hacer eso? Puedes utilizar la palabra clave **global** antes de la variable para indicar que desea \"tomar\" la variable global. Ten en cuenta que esto generalmente no se recomienda, y debe hacer todo lo posible para evitarlo hasta que tengas más experiencia programando. ¿Por qué? Porque se vuelve muy fácil crear errores accidentalmente de esta manera al sobrescribir variables en una parte de su script que afectan el script en un parte completamente diferente.\n",
    "\n",
    "Veamos un ejemplo de la palabra clave **global**."
   ]
  },
  {
   "cell_type": "code",
   "execution_count": 21,
   "metadata": {},
   "outputs": [],
   "source": [
    "x = 'global afuera'\n",
    "\n",
    "def myfunc():\n",
    "    # Debes declarar la variable coom global dento de la función\n",
    "    # HAcerlo al comienzo, antes de usarla\n",
    "    global x \n",
    "    \n",
    "    print(f'X es {x}')\n",
    "    \n",
    "    x = 'redefinida dentro de myfunc() con la palabra reservada \"global\".'\n",
    "    \n",
    "    print(f'X es {x}')"
   ]
  },
  {
   "cell_type": "code",
   "execution_count": 22,
   "metadata": {},
   "outputs": [
    {
     "name": "stdout",
     "output_type": "stream",
     "text": [
      "X es global afuera\n",
      "X es redefinida dentro de myfunc() con la palabra reservada \"global\".\n"
     ]
    }
   ],
   "source": [
    "myfunc()"
   ]
  },
  {
   "cell_type": "code",
   "execution_count": 23,
   "metadata": {},
   "outputs": [
    {
     "name": "stdout",
     "output_type": "stream",
     "text": [
      "redefinida dentro de myfunc() con la palabra reservada \"global\".\n"
     ]
    }
   ],
   "source": [
    "# Aquí está la diferencia respecto del ejemplo anterior\n",
    "# La función modificó el valor de 'x'\n",
    "\n",
    "print(x)"
   ]
  },
  {
   "cell_type": "markdown",
   "metadata": {},
   "source": [
    "Excelente trabajo reclutas de agentes! Ahora, esto debería ayudarlos a desarrollar a crear scripts con múltiples funciones y variables!"
   ]
  },
  {
   "cell_type": "markdown",
   "metadata": {},
   "source": [
    "# <font color='blue'>Tiempo de revisión grupal</font>\n",
    "La **Bitácora Grupal** es la herramienta de evaluación de este curso. La misma estará conformada por todos los **Notebooks Grupales** de cada una de las clases y módulos del curso. Los grupos de trabajo deben desarrollarla de forma colaborativa y creativa.\n",
    "\n",
    "Rúbrica de la **Bitácora Grupal** y de los **Notebook Grupal** que la componen:\n",
    "* El notebook se ve ordenado y con una secuencia lógica y limpia.\n",
    "* El notebook no tiene celdas en blanco innecesarias.\n",
    "* El notebook no tiene celdas con errores, salvo aquellas en las que explícitamente queremos mostrar un error.\n",
    "* Todos los ejercicios propuestos están correctamente desarrollados.\n",
    "* Los ejercicios tiene comentarios y reflexiones del grupo.\n",
    "* El notebook tiene abundantes comentarios explicativos del código.\n",
    "* El notebook tiene una sección adicional, creada por el grupo, con experimentos de los alumnos relativos al contenido del mismo.\n",
    "* La Bitácora Grupa, y por ende los notebooks que la componen, tiene aspectos creativos y novedoso que la diferencian significativamente de las de los demás grupos."
   ]
  }
 ],
 "metadata": {
  "kernelspec": {
   "display_name": "Python 3",
   "language": "python",
   "name": "python3"
  },
  "language_info": {
   "codemirror_mode": {
    "name": "ipython",
    "version": 3
   },
   "file_extension": ".py",
   "mimetype": "text/x-python",
   "name": "python",
   "nbconvert_exporter": "python",
   "pygments_lexer": "ipython3",
   "version": "3.8.6"
  }
 },
 "nbformat": 4,
 "nbformat_minor": 2
}

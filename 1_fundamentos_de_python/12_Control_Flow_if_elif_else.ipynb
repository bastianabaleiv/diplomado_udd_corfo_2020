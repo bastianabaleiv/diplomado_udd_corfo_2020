{
 "cells": [
  {
   "cell_type": "markdown",
   "metadata": {
    "collapsed": true,
    "id": "ajvJ8xpq2-kg"
   },
   "source": [
    "## 12-Control de flujo (Contro Flow)\n",
    "## if , elif , y else statements\n",
    "¡Hola, Hackers!\n",
    "\n",
    "A veces necesitamos tomar decisiones en nuestro código. Necesitamos realizar algunas acciones u otras distintas dependiendo de si se cumplen o no ciertas condiciones. Para ello usamos las declaraciones **if**, **elif** y **else** para controlar estos casos. VEamos cómo funcionan !!!"
   ]
  },
  {
   "cell_type": "markdown",
   "metadata": {
    "id": "vuAU_0Kq2-kh"
   },
   "source": [
    "## La instrucción if \n",
    "La forma más simple de la sentencia *if* es la siguiente:\n",
    "```Python\n",
    "    if some_condition:\n",
    "        # Do Something\n",
    "```"
   ]
  },
  {
   "cell_type": "code",
   "execution_count": 1,
   "metadata": {
    "id": "09EGbNz92-ki"
   },
   "outputs": [
    {
     "name": "stdout",
     "output_type": "stream",
     "text": [
      "Uno es menor que dos\n"
     ]
    }
   ],
   "source": [
    "if 1 < 2:\n",
    "    print('Uno es menor que dos')"
   ]
  },
  {
   "cell_type": "markdown",
   "metadata": {
    "id": "A3bd_fhx2-kq"
   },
   "source": [
    "<font color=\"gree\">Pyhtonista:</font> El operador lógico siempre lleva un espacio antes y después."
   ]
  },
  {
   "cell_type": "code",
   "execution_count": 2,
   "metadata": {
    "id": "jo5p8WNu2-kr"
   },
   "outputs": [],
   "source": [
    "if 1 > 2:\n",
    "    print(\"Uno es más grande que dos?\")"
   ]
  },
  {
   "cell_type": "markdown",
   "metadata": {
    "id": "Nh-zeSGM2-kv"
   },
   "source": [
    "Notice what happens, the indented block of code only runs when the if condition is True!"
   ]
  },
  {
   "cell_type": "code",
   "execution_count": 3,
   "metadata": {
    "id": "tQTm-GT92-kw"
   },
   "outputs": [
    {
     "name": "stdout",
     "output_type": "stream",
     "text": [
      "La sentencia 'if' se evaluó afirmativamente\n"
     ]
    }
   ],
   "source": [
    "# Podemos usar una variable booleana \n",
    "if True:\n",
    "    print(\"La sentencia 'if' se evaluó afirmativamente\")"
   ]
  },
  {
   "cell_type": "markdown",
   "metadata": {
    "id": "8nvRKhhh2-k0"
   },
   "source": [
    "**ATENCION con la indentación**. \n",
    "\n",
    "\n",
    "La **indentación** (sangría del código) le permite a Python saber cuáles líneas de código pertenecen a un mismo bloque. Unas celdas más abajo veremos reglas detalladas de cómo hacerlo."
   ]
  },
  {
   "cell_type": "markdown",
   "metadata": {
    "id": "ixTur7Dp2-k1"
   },
   "source": [
    "## if else Statement\n",
    "Ahora agreguemos una acción alternativa en caso de que **if** no sea *True* usando la instrucción **else**.\n",
    "\n",
    "Observa el formato y cómo se alinean los bloques de código con **indentación**, ¡esto es crucial en Python!"
   ]
  },
  {
   "cell_type": "code",
   "execution_count": 4,
   "metadata": {
    "id": "-8u1HW2A2-k1"
   },
   "outputs": [
    {
     "name": "stdout",
     "output_type": "stream",
     "text": [
      "Uno es igual a uno, obvio !!\n"
     ]
    }
   ],
   "source": [
    "if 1 == 1:\n",
    "    print(\"Uno es igual a uno, obvio !!\")\n",
    "else:\n",
    "    print(\"La comparación no es correcta\")"
   ]
  },
  {
   "cell_type": "code",
   "execution_count": 5,
   "metadata": {
    "id": "LDFOssEg2-k5"
   },
   "outputs": [
    {
     "name": "stdout",
     "output_type": "stream",
     "text": [
      "La comparación no es Verdadera (True)\n"
     ]
    }
   ],
   "source": [
    "if 1 == 2:\n",
    "    print(\"Uno es igual a uno, obvio !!\")\n",
    "else:\n",
    "    print(\"La comparación no es Verdadera (True)\")"
   ]
  },
  {
   "cell_type": "markdown",
   "metadata": {
    "id": "xwa1DMHG2-k8"
   },
   "source": [
    "## if, elif, else \n",
    "\n",
    "Ahora imaginemos que tenemos varias condiciones para verificar antes de la declaración **else** final, aquí es donde podemos usar la palabra clave **elif** para verificar tantas condiciones individuales como sea necesario:"
   ]
  },
  {
   "cell_type": "code",
   "execution_count": 6,
   "metadata": {
    "id": "ECeCqAgw2-k9"
   },
   "outputs": [
    {
     "name": "stdout",
     "output_type": "stream",
     "text": [
      "La tercera comparación es Verdadera (True)\n"
     ]
    }
   ],
   "source": [
    "if 2 == 0:\n",
    "    print('La primera comparación es Verdadera (True)')\n",
    "elif 2 == 1:\n",
    "    print(\"La segunda comparación es Verdadera (True)\")\n",
    "elif 2 == 2:\n",
    "    print(\"La tercera comparación es Verdadera (True)\")\n",
    "else:\n",
    "    print(\"Ninguna de las comparaciones anteriores es Verdadera (True)\")"
   ]
  },
  {
   "cell_type": "code",
   "execution_count": 7,
   "metadata": {
    "id": "3qpdLMIA2-lB"
   },
   "outputs": [
    {
     "name": "stdout",
     "output_type": "stream",
     "text": [
      "Ninguna de las comparaciones anteriores es Verdadera (True)\n"
     ]
    }
   ],
   "source": [
    "if 2 == 0:\n",
    "    print('La primera comparación es Verdadera (True)')\n",
    "elif 2 == 1:\n",
    "    print(\"La segunda comparación es Verdadera (True)\")\n",
    "elif 2 == 100:\n",
    "    print(\"La tercera comparación es Verdadera (True)\")\n",
    "else:\n",
    "    print(\"Ninguna de las comparaciones anteriores es Verdadera (True)\")"
   ]
  },
  {
   "cell_type": "markdown",
   "metadata": {
    "id": "Tf5cBq6g2-lF"
   },
   "source": [
    "Veamos qué sucede si tuviéramos múltiples condiciones *True*:"
   ]
  },
  {
   "cell_type": "code",
   "execution_count": 8,
   "metadata": {
    "id": "Wi4ToLSh2-lG"
   },
   "outputs": [
    {
     "name": "stdout",
     "output_type": "stream",
     "text": [
      "La primera comparación es Verdadera (True)\n"
     ]
    }
   ],
   "source": [
    "if 2 == 2:\n",
    "    print('La primera comparación es Verdadera (True)')\n",
    "elif 2 == 2:\n",
    "    print(\"La segunda comparación es Verdadera (True)\")\n",
    "elif 2 == 2:\n",
    "    print(\"La tercera comparación es Verdadera (True)\")\n",
    "else:\n",
    "    print(\"Ninguna de las comparaciones anteriores es Verdadera (True)\")"
   ]
  },
  {
   "cell_type": "markdown",
   "metadata": {
    "id": "bIfyIKh52-lJ"
   },
   "source": [
    "Observa cómo solo se ejecutará el bloque de código de la primera condición verdadera, ¡ten esto en cuenta al escribir sus scripts!"
   ]
  },
  {
   "cell_type": "markdown",
   "metadata": {
    "id": "D0VF65MH2-lK"
   },
   "source": [
    "Es importante tener una buena comprensión de cómo funciona la **indentación** en Python para mantener la estructura y el orden de su código. ¡Tocaremos este tema nuevamente cuando comencemos a construir funciones!"
   ]
  },
  {
   "cell_type": "markdown",
   "metadata": {
    "id": "ixawxG2C2-lK"
   },
   "source": [
    "## Veamos un poco más acerca de la indentación\n",
    "### Reglas\n",
    "1. Cada nivel de indentación utiliza 4 espacios\n",
    "2. Aún cuando funcionan, se recomienda NO usar tabs para las indentaciones\n",
    "3. NUNCA combines tabs y espacios para indentar código"
   ]
  },
  {
   "cell_type": "code",
   "execution_count": 9,
   "metadata": {
    "id": "zdkKHnOd2-lL"
   },
   "outputs": [
    {
     "name": "stdout",
     "output_type": "stream",
     "text": [
      "Esta impresión está dentro del bloque 'if'\n",
      "Esta impresión está dentro del bloque 'if'\n",
      "Esta impresión está dentro del bloque 'if'\n",
      "Esta impresión está fuera del bloque 'if'\n"
     ]
    }
   ],
   "source": [
    "if True:\n",
    "    print(\"Esta impresión está dentro del bloque 'if'\")\n",
    "    print(\"Esta impresión está dentro del bloque 'if'\")\n",
    "    print(\"Esta impresión está dentro del bloque 'if'\")\n",
    "print(\"Esta impresión está fuera del bloque 'if'\")"
   ]
  },
  {
   "cell_type": "code",
   "execution_count": 10,
   "metadata": {
    "id": "fZYGeBCq2-lP"
   },
   "outputs": [
    {
     "name": "stdout",
     "output_type": "stream",
     "text": [
      "Esta impresión está fuera del bloque 'if'\n"
     ]
    }
   ],
   "source": [
    "# Veamos que ocurre cuando cambiamos la condición a False\n",
    "if False:\n",
    "    print(\"Esta impresión está dentro del bloque 'if'\")\n",
    "    print(\"Esta impresión está dentro del bloque 'if'\")\n",
    "    print(\"Esta impresión está dentro del bloque 'if'\")\n",
    "print(\"Esta impresión está fuera del bloque 'if'\")"
   ]
  },
  {
   "cell_type": "code",
   "execution_count": 12,
   "metadata": {
    "id": "4Z_UIdQA2-lW"
   },
   "outputs": [
    {
     "ename": "IndentationError",
     "evalue": "unindent does not match any outer indentation level (<tokenize>, line 6)",
     "output_type": "error",
     "traceback": [
      "\u001b[0;36m  File \u001b[0;32m\"<tokenize>\"\u001b[0;36m, line \u001b[0;32m6\u001b[0m\n\u001b[0;31m    print(\"Esta impresión está dentro del bloque 'if'\")\u001b[0m\n\u001b[0m    ^\u001b[0m\n\u001b[0;31mIndentationError\u001b[0m\u001b[0;31m:\u001b[0m unindent does not match any outer indentation level\n"
     ]
    }
   ],
   "source": [
    "# En este caso hemos introducido una indentación es de tres espacios. \n",
    "# Esto genererá un error del tipo *IndentationEror*\n",
    "\n",
    "if False:\n",
    "    print(\"Esta impresión está dentro del bloque 'if'\")\n",
    "   print(\"Esta impresión está dentro del bloque 'if'\")\n",
    "    print(\"Esta impresión está dentro del bloque 'if'\")\n",
    "print(\"Esta impresión está fuera del bloque 'if'\")"
   ]
  },
  {
   "cell_type": "markdown",
   "metadata": {
    "id": "MgJ8ooNI2-lZ"
   },
   "source": [
    "##  Ejemplo final\n",
    "Veamos un ejemplo final."
   ]
  },
  {
   "cell_type": "code",
   "execution_count": 13,
   "metadata": {
    "id": "GCaeGtCo2-la"
   },
   "outputs": [],
   "source": [
    "agent_code = 231912\n",
    "access = False"
   ]
  },
  {
   "cell_type": "code",
   "execution_count": 14,
   "metadata": {
    "id": "XwyqoRrK2-ld"
   },
   "outputs": [
    {
     "name": "stdout",
     "output_type": "stream",
     "text": [
      "Bienvenido agente\n",
      "Inicializando su aceso a condición: Verdadera\n"
     ]
    }
   ],
   "source": [
    "if agent_code == 12345:\n",
    "    print('Código reinicializado')\n",
    "    print(\"Comuníquese con el supervisor\")\n",
    "elif agent_code == 231912:\n",
    "    print('Bienvenido agente')\n",
    "    print('Inicializando su aceso a condición: Verdadera')\n",
    "    access = True\n",
    "else:\n",
    "    print(\"Código erréneo\")"
   ]
  },
  {
   "cell_type": "code",
   "execution_count": 15,
   "metadata": {
    "id": "JFHBjdUH2-lh"
   },
   "outputs": [
    {
     "name": "stdout",
     "output_type": "stream",
     "text": [
      "Acceso concedido\n"
     ]
    }
   ],
   "source": [
    "# Ahora podemos iniciar otro conjunto de lógica de flujo de control aquí.\n",
    "\n",
    "if access == True:\n",
    "    print('Acceso concedido')\n",
    "else:\n",
    "    print('Access denegado')"
   ]
  },
  {
   "cell_type": "markdown",
   "metadata": {
    "id": "NTJnw-Y92-ll"
   },
   "source": [
    "Echa un vistazo al último conjunto del bloque *if / else*, dado que la variable **acceso** en sí es un booleano, también podríamos haberlo escrito así:"
   ]
  },
  {
   "cell_type": "code",
   "execution_count": 16,
   "metadata": {
    "id": "HXmXMpsw2-lm"
   },
   "outputs": [
    {
     "name": "stdout",
     "output_type": "stream",
     "text": [
      "Acceso concedido\n"
     ]
    }
   ],
   "source": [
    "if access:\n",
    "    print('Acceso concedido')\n",
    "else:\n",
    "    print('Access denegado')"
   ]
  },
  {
   "cell_type": "markdown",
   "metadata": {
    "id": "vXh0LQQN2-lq"
   },
   "source": [
    "Escribir código como acabamos de hacer en la celda anterior es más limpio, y puede nombrar tus variables de manera diferente para que también sea aún más legible (por ejemplo, cambia el nombre de **acceso** a **acceso_concedido** de forma que el código quede com sigue:\n",
    "\n",
    "```python\n",
    "if acceso_concedido:\n",
    "```"
   ]
  },
  {
   "cell_type": "markdown",
   "metadata": {
    "id": "Qw0dfjIM2-lr"
   },
   "source": [
    "## <font color='green'>Tarea:</font> \n",
    "### Guess the number game\n",
    "\n",
    "Game: The computer is going to generate a random number; you will try to guess it !!!\n",
    "\n",
    "Steps:\n",
    "1. Enter a number from the keyboard using the input function and store it in a variable called 'my_guess_number'\n",
    "2. Generate a random number and store it in a varuable called 'secret_number'\n",
    "3. Compare the numbers and print a message: if you guessed it print \"Bingo, you win!!\" and if you don't print \"Try again\"\n",
    "\n",
    "Juego adivina el número\n",
    "\n",
    "Juego: el computador generará un número aleatorio; intenta adivinarlo !!!\n",
    "\n",
    "Pasos:\n",
    "1. Ingresa un número desde el teclado usando la función de entrada y guárdalo en una variable llamada 'my_guess_number'\n",
    "2. Genera un número aleatorio y guárdalo en una variable llamada 'número_secreto'\n",
    "3. Compara los números e imprime un mensaje: si lo adivinó, imprime \"¡Bingo, tú ganas!\" y si no, imprime \"Inténtalo de nuevo\""
   ]
  },
  {
   "cell_type": "code",
   "execution_count": 17,
   "metadata": {
    "id": "Csz_9SJM2-lr"
   },
   "outputs": [],
   "source": [
    "# Primero vamos a importar una biblioteca llamada 'numpy'\n",
    "# Hablaremos mucho de bibliotecas muy pronto; por ahora decir que en ellas hay mucho código pre-armado\n",
    "# Por ahora ejecuta esta celda\n",
    "\n",
    "import numpy as np"
   ]
  },
  {
   "cell_type": "code",
   "execution_count": 18,
   "metadata": {
    "colab": {
     "base_uri": "https://localhost:8080/",
     "height": 68
    },
    "id": "cNXSpLy_2-lv",
    "outputId": "2dff93be-7c23-4864-8fb0-fd0ec210b004"
   },
   "outputs": [
    {
     "name": "stdout",
     "output_type": "stream",
     "text": [
      "Ingresa un número: 1\n",
      "¡Bingo, tú ganas!\n",
      "El número secreto era 1.\n"
     ]
    }
   ],
   "source": [
    "my_guess_number = input(\"Ingresa un número: \")\n",
    "secret_number = np.random.randint(0,9)\n",
    "\n",
    "# Tu código aquí ...\n",
    "my_guess_number = int(my_guess_number)\n",
    "if my_guess_number == secret_number:\n",
    "    print(\"¡Bingo, tú ganas!\")\n",
    "else:\n",
    "    print(\"Inténtalo de nuevo\")\n",
    "print(f\"El número secreto era {secret_number}.\")"
   ]
  },
  {
   "cell_type": "code",
   "execution_count": 19,
   "metadata": {},
   "outputs": [
    {
     "name": "stdout",
     "output_type": "stream",
     "text": [
      "Ingresa un número: 2\n",
      "Try again\n",
      "Ingresa un número: 1\n",
      "Try again\n",
      "Ingresa un número: 3\n",
      "Try again\n",
      "Ingresa un número: 4\n",
      "Try again\n",
      "Ingresa un número: 5\n",
      "Try again\n",
      "Ingresa un número: 6\n",
      "Try again\n",
      "Ingresa un número: 7\n",
      "Bingo, you win!!\n"
     ]
    }
   ],
   "source": [
    "# Caso Adicional: El programa preguntará por el número hasta que sea adivinado.\n",
    "\n",
    "secret_number = np.random.randint(0,9)\n",
    "\n",
    "while my_guess_number != secret_number:\n",
    "    my_guess_number = input(\"Ingresa un número: \")\n",
    "    my_guess_number = int(my_guess_number)\n",
    "    if my_guess_number == secret_number: \n",
    "        print(\"Bingo, you win!!\")\n",
    "    else:\n",
    "        print(\"Try again\")"
   ]
  },
  {
   "cell_type": "markdown",
   "metadata": {
    "id": "1aTZS3ES2-ly"
   },
   "source": [
    "<font color='green'>Fin tarea</font> "
   ]
  },
  {
   "cell_type": "markdown",
   "metadata": {
    "id": "Mh2hlpD72-lz"
   },
   "source": [
    "## <font color='green'>Tarea: Super challenging</font> \n",
    "### Año bisiesto\n",
    "Un año bisiesto (también conocido como año intercalario o año bissextil) es un año calendario que contiene un día adicional.\n",
    "Por ejemplo, en el calendario gregoriano, cada año bisiesto tiene 366 días en lugar de los 365 habituales, extendiendo febrero a 29 días en lugar de los 28 habituales. \n",
    "\n",
    "**Algoritmo para calcular si un año es bisiesto**\n",
    "\n",
    "Comprueba las siguientes condiciones en el orden en que se presentan:\n",
    "\n",
    "**Condición_1:** si el año es exactamente divisible por 4<br>\n",
    "**Condición_2:** si el año es divisible por 100<br>\n",
    "**Condición_3:** si el año es exactamente divisible por 400. <br>\n",
    "\n",
    "La fórmula lógica que se suele usar para establecer si un año es bisiesto sería:\n",
    "\n",
    "si **condición_1** y (**condición_2** o **condición_3**) entonces:\n",
    "    es año bisiesto\n",
    "sino\n",
    "    no es bisiesto\n",
    "\n",
    "Por ejemplo, los años 1700, 1800 y 1900 no fueron años bisiestos, pero los años 1600 y 2000 sí lo fueron.\n",
    "\n",
    "Desafío: determina si un año específico es bisiesto o no.\n",
    "\n",
    "Pasos:\n",
    "1. Ingrese un año desde el teclado usando la función de entrada y guárdelo en una variable llamada 'input_year'\n",
    "2. Cree un código que determine si 'input_year' es o no es un año bisiesto.\n",
    "3. Imprima un mensaje que indique que input_year 'es un año bisiesto' o 'no es un año bisiesto'\n",
    "\n",
    "Tips:\n",
    "\n",
    "1. Use las funciones de entrada para ingresar el año\n",
    "2. Utilice el operador % (módulo) para hacer las divisiones\n",
    "3. Utilice la siguiente estructura \n",
    "\n",
    "```Python\n",
    "    if condition_1 and (condición_2 or condición_3):\n",
    "        print('Es año bisiesto')\n",
    "    else:\n",
    "        print('No es año bisiesto')\n",
    "```"
   ]
  },
  {
   "cell_type": "code",
   "execution_count": 20,
   "metadata": {
    "colab": {
     "base_uri": "https://localhost:8080/",
     "height": 34
    },
    "id": "un8hvGDU2-lz",
    "outputId": "e09ead28-db00-4b6b-d919-4cfcbdab2c95"
   },
   "outputs": [
    {
     "data": {
      "text/plain": [
       "1"
      ]
     },
     "execution_count": 20,
     "metadata": {},
     "output_type": "execute_result"
    }
   ],
   "source": [
    "# Tip 2: recuerda el operador % \n",
    "\n",
    "2001 % 4"
   ]
  },
  {
   "cell_type": "code",
   "execution_count": 21,
   "metadata": {
    "colab": {
     "base_uri": "https://localhost:8080/",
     "height": 51
    },
    "id": "fQ6GeVAT_LXH",
    "outputId": "946c0657-7dd2-4b5f-cd80-bc3643426e3f"
   },
   "outputs": [
    {
     "name": "stdout",
     "output_type": "stream",
     "text": [
      "Ingresa un año para evaluar si es bisiesto: 2020\n",
      "El año 2020 es bisiesto.\n"
     ]
    }
   ],
   "source": [
    "input_year = int(input('Ingresa un año para evaluar si es bisiesto: ')) \n",
    "if input_year % 4 == 0 and (input_year % 100 != 0 or input_year % 400 == 0):\n",
    "    print(f'El año {input_year} es bisiesto.')\n",
    "else:\n",
    "    print(f'El año {input_year} NO es bisiesto.')\n"
   ]
  },
  {
   "cell_type": "markdown",
   "metadata": {
    "id": "8e6YhgeTAId2"
   },
   "source": [
    "El siguiente esquema presenta el algoritmo asociado a la determinación de un año bisiesto (Fuente: [Wikipedia](https://es.wikipedia.org/wiki/A%C3%B1o_bisiesto))\n",
    "\n",
    "![image.png](data:image/png;base64,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)"
   ]
  },
  {
   "cell_type": "markdown",
   "metadata": {
    "id": "W20GcNaM2-l5"
   },
   "source": [
    "# <font color='blue'>Tiempo de revisión grupal</font>\n",
    "La **Bitácora Grupal** es la herramienta de evaluación de este curso. La misma estará conformada por todos los **Notebooks Grupales** de cada una de las clases y módulos del curso. Los grupos de trabajo deben desarrollarla de forma colaborativa y creativa.\n",
    "\n",
    "Rúbrica de la **Bitácora Grupal** y de los **Notebook Grupal** que la componen:\n",
    "* El notebook se ve ordenado y con una secuencia lógica y limpia.\n",
    "* El notebook no tiene celdas en blanco innecesarias.\n",
    "* El notebook no tiene celdas con errores, salvo aquellas en las que explícitamente queremos mostrar un error.\n",
    "* Todos los ejercicios propuestos están correctamente desarrollados.\n",
    "* Los ejercicios tiene comentarios y reflexiones del grupo.\n",
    "* El notebook tiene abundantes comentarios explicativos del código.\n",
    "* El notebook tiene una sección adicional, creada por el grupo, con experimentos de los alumnos relativos al contenido del mismo.\n",
    "* La Bitácora Grupa, y por ende los notebooks que la componen, tiene aspectos creativos y novedoso que la diferencian significativamente de las de los demás grupos."
   ]
  }
 ],
 "metadata": {
  "colab": {
   "collapsed_sections": [
    "ajvJ8xpq2-kg",
    "vuAU_0Kq2-kh",
    "ixTur7Dp2-k1",
    "xwa1DMHG2-k8",
    "ixawxG2C2-lK",
    "MgJ8ooNI2-lZ",
    "W20GcNaM2-l5"
   ],
   "name": "12-Control-Flow-if-elif-else CLASE.ipynb",
   "provenance": []
  },
  "kernelspec": {
   "display_name": "Python 3",
   "language": "python",
   "name": "python3"
  },
  "language_info": {
   "codemirror_mode": {
    "name": "ipython",
    "version": 3
   },
   "file_extension": ".py",
   "mimetype": "text/x-python",
   "name": "python",
   "nbconvert_exporter": "python",
   "pygments_lexer": "ipython3",
   "version": "3.8.6"
  }
 },
 "nbformat": 4,
 "nbformat_minor": 1
}

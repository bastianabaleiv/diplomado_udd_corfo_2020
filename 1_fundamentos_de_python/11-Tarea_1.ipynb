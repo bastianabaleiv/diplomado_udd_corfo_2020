{
 "cells": [
  {
   "cell_type": "markdown",
   "metadata": {},
   "source": [
    "# 11-Tarea 1 \n",
    "\n",
    "Hola hackers. Aquí tienes una tarea. Hay desafíos de distinto tipo, trata de superarlos todos.\n",
    "Buena suerte !!\n",
    "_______"
   ]
  },
  {
   "cell_type": "markdown",
   "metadata": {},
   "source": [
    "## Grupo B\n",
    "\n",
    "\n",
    "## Integrantes: \n",
    "* <font color='green'>Hugo Ubilla</font> \n",
    "* <font color='green'>Benjamín Rodríguez</font> \n",
    "* <font color='green'>Francisco Quiroz</font> \n",
    "* <font color='green'>Daniela Quezada</font> \n",
    "* <font color='green'>Bastián Aballay</font>"
   ]
  },
  {
   "cell_type": "markdown",
   "metadata": {},
   "source": [
    "## <font color='green'>Tarea 1:</font> \n",
    "Abre el archivo **exam.txt** con Python. La apertura debe ser solo con permiso de lectura y almacena el contenido en una lista llamada **lineas**. <br>\n",
    "Imprime la lista de **lineas**\n",
    "\n",
    "Tip:\n",
    "1. Use la sentencia with ..., de esta forma:\n",
    "\n",
    "```python\n",
    "     with open ('.....') as f:\n",
    "         lineas = f.readlines ()\n",
    "```\n",
    "2. Imprime usando la función **print()**"
   ]
  },
  {
   "cell_type": "code",
   "execution_count": 3,
   "metadata": {},
   "outputs": [
    {
     "name": "stdout",
     "output_type": "stream",
     "text": [
      "['Bienvenido a su Primera Prueba aspirante a espía.\\n', 'Si trabajas duro en clase y en casa podrás completarlo.\\n', '¿Completaste todos los cuadernos?\\n', '¿Pediste ayuda cuando tuviste alguna duda?\\n', 'Si practicaste, debería ser bastante simple.\\n', 'Empecemos.\\n', 'Mucha suerte, Hacker.']\n"
     ]
    }
   ],
   "source": [
    "# Tarea 1\n",
    "# mode is an optional string that specifies the mode in which the file\n",
    "# is opened. It defaults to 'r' which means open for reading in text mode. \n",
    "with open('exam.txt') as f:\n",
    "    lineas = f.readlines()\n",
    "\n",
    "print(lineas)"
   ]
  },
  {
   "cell_type": "markdown",
   "metadata": {},
   "source": [
    "Tu salida debería verse como esto:\n",
    "\n",
    "```Python\n",
    "['Bienvenido a su Primera Prueba aspirante a espía.\\n', 'Si trabajas duro en clase y en casa podrás completarlo.\\n', '¿Completaste todos los cuadernos?\\n', '¿Pediste ayuda cuando tuviste alguna duda?\\n', 'Si practicaste, debería ser bastante simple.\\n', 'Empecemos.\\n', 'Mucha suerte, Hacker.']\n",
    "```"
   ]
  },
  {
   "cell_type": "code",
   "execution_count": 3,
   "metadata": {
    "collapsed": true
   },
   "outputs": [
    {
     "name": "stdout",
     "output_type": "stream",
     "text": [
      "Help on built-in function open in module io:\n",
      "\n",
      "open(file, mode='r', buffering=-1, encoding=None, errors=None, newline=None, closefd=True, opener=None)\n",
      "    Open file and return a stream.  Raise OSError upon failure.\n",
      "    \n",
      "    file is either a text or byte string giving the name (and the path\n",
      "    if the file isn't in the current working directory) of the file to\n",
      "    be opened or an integer file descriptor of the file to be\n",
      "    wrapped. (If a file descriptor is given, it is closed when the\n",
      "    returned I/O object is closed, unless closefd is set to False.)\n",
      "    \n",
      "    mode is an optional string that specifies the mode in which the file\n",
      "    is opened. It defaults to 'r' which means open for reading in text\n",
      "    mode.  Other common values are 'w' for writing (truncating the file if\n",
      "    it already exists), 'x' for creating and writing to a new file, and\n",
      "    'a' for appending (which on some Unix systems, means that all writes\n",
      "    append to the end of the file regardless of the current seek position).\n",
      "    In text mode, if encoding is not specified the encoding used is platform\n",
      "    dependent: locale.getpreferredencoding(False) is called to get the\n",
      "    current locale encoding. (For reading and writing raw bytes use binary\n",
      "    mode and leave encoding unspecified.) The available modes are:\n",
      "    \n",
      "    ========= ===============================================================\n",
      "    Character Meaning\n",
      "    --------- ---------------------------------------------------------------\n",
      "    'r'       open for reading (default)\n",
      "    'w'       open for writing, truncating the file first\n",
      "    'x'       create a new file and open it for writing\n",
      "    'a'       open for writing, appending to the end of the file if it exists\n",
      "    'b'       binary mode\n",
      "    't'       text mode (default)\n",
      "    '+'       open a disk file for updating (reading and writing)\n",
      "    'U'       universal newline mode (deprecated)\n",
      "    ========= ===============================================================\n",
      "    \n",
      "    The default mode is 'rt' (open for reading text). For binary random\n",
      "    access, the mode 'w+b' opens and truncates the file to 0 bytes, while\n",
      "    'r+b' opens the file without truncation. The 'x' mode implies 'w' and\n",
      "    raises an `FileExistsError` if the file already exists.\n",
      "    \n",
      "    Python distinguishes between files opened in binary and text modes,\n",
      "    even when the underlying operating system doesn't. Files opened in\n",
      "    binary mode (appending 'b' to the mode argument) return contents as\n",
      "    bytes objects without any decoding. In text mode (the default, or when\n",
      "    't' is appended to the mode argument), the contents of the file are\n",
      "    returned as strings, the bytes having been first decoded using a\n",
      "    platform-dependent encoding or using the specified encoding if given.\n",
      "    \n",
      "    'U' mode is deprecated and will raise an exception in future versions\n",
      "    of Python.  It has no effect in Python 3.  Use newline to control\n",
      "    universal newlines mode.\n",
      "    \n",
      "    buffering is an optional integer used to set the buffering policy.\n",
      "    Pass 0 to switch buffering off (only allowed in binary mode), 1 to select\n",
      "    line buffering (only usable in text mode), and an integer > 1 to indicate\n",
      "    the size of a fixed-size chunk buffer.  When no buffering argument is\n",
      "    given, the default buffering policy works as follows:\n",
      "    \n",
      "    * Binary files are buffered in fixed-size chunks; the size of the buffer\n",
      "      is chosen using a heuristic trying to determine the underlying device's\n",
      "      \"block size\" and falling back on `io.DEFAULT_BUFFER_SIZE`.\n",
      "      On many systems, the buffer will typically be 4096 or 8192 bytes long.\n",
      "    \n",
      "    * \"Interactive\" text files (files for which isatty() returns True)\n",
      "      use line buffering.  Other text files use the policy described above\n",
      "      for binary files.\n",
      "    \n",
      "    encoding is the name of the encoding used to decode or encode the\n",
      "    file. This should only be used in text mode. The default encoding is\n",
      "    platform dependent, but any encoding supported by Python can be\n",
      "    passed.  See the codecs module for the list of supported encodings.\n",
      "    \n",
      "    errors is an optional string that specifies how encoding errors are to\n",
      "    be handled---this argument should not be used in binary mode. Pass\n",
      "    'strict' to raise a ValueError exception if there is an encoding error\n",
      "    (the default of None has the same effect), or pass 'ignore' to ignore\n",
      "    errors. (Note that ignoring encoding errors can lead to data loss.)\n",
      "    See the documentation for codecs.register or run 'help(codecs.Codec)'\n",
      "    for a list of the permitted encoding error strings.\n",
      "    \n",
      "    newline controls how universal newlines works (it only applies to text\n",
      "    mode). It can be None, '', '\\n', '\\r', and '\\r\\n'.  It works as\n",
      "    follows:\n",
      "    \n",
      "    * On input, if newline is None, universal newlines mode is\n",
      "      enabled. Lines in the input can end in '\\n', '\\r', or '\\r\\n', and\n",
      "      these are translated into '\\n' before being returned to the\n",
      "      caller. If it is '', universal newline mode is enabled, but line\n",
      "      endings are returned to the caller untranslated. If it has any of\n",
      "      the other legal values, input lines are only terminated by the given\n",
      "      string, and the line ending is returned to the caller untranslated.\n",
      "    \n",
      "    * On output, if newline is None, any '\\n' characters written are\n",
      "      translated to the system default line separator, os.linesep. If\n",
      "      newline is '' or '\\n', no translation takes place. If newline is any\n",
      "      of the other legal values, any '\\n' characters written are translated\n",
      "      to the given string.\n",
      "    \n",
      "    If closefd is False, the underlying file descriptor will be kept open\n",
      "    when the file is closed. This does not work when a file name is given\n",
      "    and must be True in that case.\n",
      "    \n",
      "    A custom opener can be used by passing a callable as *opener*. The\n",
      "    underlying file descriptor for the file object is then obtained by\n",
      "    calling *opener* with (*file*, *flags*). *opener* must return an open\n",
      "    file descriptor (passing os.open as *opener* results in functionality\n",
      "    similar to passing None).\n",
      "    \n",
      "    open() returns a file object whose type depends on the mode, and\n",
      "    through which the standard file operations such as reading and writing\n",
      "    are performed. When open() is used to open a file in a text mode ('w',\n",
      "    'r', 'wt', 'rt', etc.), it returns a TextIOWrapper. When used to open\n",
      "    a file in a binary mode, the returned class varies: in read binary\n",
      "    mode, it returns a BufferedReader; in write binary and append binary\n",
      "    modes, it returns a BufferedWriter, and in read/write mode, it returns\n",
      "    a BufferedRandom.\n",
      "    \n",
      "    It is also possible to use a string or bytearray as a file for both\n",
      "    reading and writing. For strings StringIO can be used like a file\n",
      "    opened in a text mode, and for bytes a BytesIO can be used like a file\n",
      "    opened in a binary mode.\n",
      "\n"
     ]
    }
   ],
   "source": [
    "# Documentación método open()\n",
    "help(open)"
   ]
  },
  {
   "cell_type": "markdown",
   "metadata": {},
   "source": [
    "## <font color='green'>Tarea 2:</font> \n",
    "\n",
    "Verifica que **lineas** es una lista.\n",
    "\n",
    "Tip:\n",
    "1. Usa la función **type()**."
   ]
  },
  {
   "cell_type": "markdown",
   "metadata": {},
   "source": [
    "Tu salida debería verse como esto:\n",
    "\n",
    "```Python\n",
    "list\n",
    "```"
   ]
  },
  {
   "cell_type": "code",
   "execution_count": 8,
   "metadata": {},
   "outputs": [
    {
     "data": {
      "text/plain": [
       "list"
      ]
     },
     "execution_count": 8,
     "metadata": {},
     "output_type": "execute_result"
    }
   ],
   "source": [
    "# Tu código aquí ...\n",
    "type(lineas)"
   ]
  },
  {
   "cell_type": "markdown",
   "metadata": {},
   "source": [
    "Manera pythonista de llevarlo a cabo,\n",
    "https://stackoverflow.com/questions/26544091/checking-if-type-list-in-python#26544117 obteniendo un valor de verdad."
   ]
  },
  {
   "cell_type": "code",
   "execution_count": 9,
   "metadata": {},
   "outputs": [
    {
     "name": "stdout",
     "output_type": "stream",
     "text": [
      "El objeto es una lista!\n"
     ]
    }
   ],
   "source": [
    "# método isinstance\n",
    "if isinstance(lineas, list):\n",
    "    print('El objeto es una lista!')"
   ]
  },
  {
   "cell_type": "markdown",
   "metadata": {},
   "source": [
    "## <font color='green'>Tarea 3:</font> \n",
    "\n",
    "Cuántas líneas tiene el archivo?\n",
    "\n",
    "Tip:\n",
    "1. Usa la función **len()**."
   ]
  },
  {
   "cell_type": "markdown",
   "metadata": {},
   "source": [
    "Tu salida debería verse como esto:\n",
    "\n",
    "```Python\n",
    "7\n",
    "```"
   ]
  },
  {
   "cell_type": "code",
   "execution_count": 4,
   "metadata": {},
   "outputs": [
    {
     "data": {
      "text/plain": [
       "7"
      ]
     },
     "execution_count": 4,
     "metadata": {},
     "output_type": "execute_result"
    }
   ],
   "source": [
    "# Tu código aquí ...\n",
    "len(lineas)"
   ]
  },
  {
   "cell_type": "markdown",
   "metadata": {},
   "source": [
    "## <font color='green'>Tarea 4:</font> \n",
    "Imprime la 5ta linea del archivo.\n",
    "\n",
    "Tip:\n",
    "1. Usa la función **print()**.\n",
    "2. Haga una indexación de la lista usando corchetes [], así:\n",
    "```python \n",
    "nombre_de_la_lista[número]\n",
    "```"
   ]
  },
  {
   "cell_type": "markdown",
   "metadata": {},
   "source": [
    "Tu salida debería verse como esto:\n",
    "\n",
    "```Python\n",
    "Si practicaste, debería ser bastante simple.\n",
    "```"
   ]
  },
  {
   "cell_type": "code",
   "execution_count": 5,
   "metadata": {},
   "outputs": [
    {
     "name": "stdout",
     "output_type": "stream",
     "text": [
      "Si practicaste, debería ser bastante simple.\n",
      "\n"
     ]
    }
   ],
   "source": [
    "# Tu código aquí ...\n",
    "print(lineas[4])"
   ]
  },
  {
   "cell_type": "markdown",
   "metadata": {},
   "source": [
    "## <font color='green'>Tarea 5:</font> \n",
    "Tip:\n",
    "1. Puede indexar el último elemento de una lista usando el índice **- 1**, así:\n",
    "```python\n",
    "     nombre_de_la_lista[-1]\n",
    "```"
   ]
  },
  {
   "cell_type": "markdown",
   "metadata": {},
   "source": [
    "Tu salida debería verse como esto:\n",
    "\n",
    "```Python\n",
    "'Mucha suerte, Hacker.'\n",
    "```"
   ]
  },
  {
   "cell_type": "code",
   "execution_count": 6,
   "metadata": {},
   "outputs": [
    {
     "data": {
      "text/plain": [
       "'Mucha suerte, Hacker.'"
      ]
     },
     "execution_count": 6,
     "metadata": {},
     "output_type": "execute_result"
    }
   ],
   "source": [
    "# Tu código aquí ...\n",
    "lineas[-1]"
   ]
  },
  {
   "cell_type": "markdown",
   "metadata": {},
   "source": [
    "## <font color='green'>Tarea 6:</font> \n",
    "Use la indexación para tomar la letra 'H' de la última línea del archivo.\n",
    "\n",
    "Tip:\n",
    "1. Utilice la variable **last_line**.\n",
    "2. Utilice la indexación con corchetes [] para indexar"
   ]
  },
  {
   "cell_type": "code",
   "execution_count": 8,
   "metadata": {},
   "outputs": [
    {
     "name": "stdout",
     "output_type": "stream",
     "text": [
      "H\n",
      "H\n"
     ]
    }
   ],
   "source": [
    "# Tu código aquí ...\n",
    "last_line = lineas[-1]\n",
    "print(last_line[-7])\n",
    "# O bien\n",
    "print(last_line[14])"
   ]
  },
  {
   "cell_type": "markdown",
   "metadata": {},
   "source": [
    "Tu salida debería verse como esto:\n",
    "\n",
    "```Python\n",
    "'H'\n",
    "```"
   ]
  },
  {
   "cell_type": "code",
   "execution_count": 21,
   "metadata": {},
   "outputs": [
    {
     "name": "stdout",
     "output_type": "stream",
     "text": [
      "H\n"
     ]
    }
   ],
   "source": [
    "# One liner\n",
    "print(lineas[-1][-7])"
   ]
  },
  {
   "cell_type": "markdown",
   "metadata": {},
   "source": [
    "## <font color='green'>Tarea 7:</font> \n",
    "¿Cómo podrías usar Python para contar cuántas palabras hay en **last_line**?\n",
    "\n",
    "Tip:\n",
    "\n",
    "1. Revise el método **split( )** en el cuaderno **04-Python-Strings**"
   ]
  },
  {
   "cell_type": "markdown",
   "metadata": {},
   "source": [
    "Tu salida debería verse como esto:\n",
    "\n",
    "```Python\n",
    "3\n",
    "```"
   ]
  },
  {
   "cell_type": "code",
   "execution_count": 9,
   "metadata": {},
   "outputs": [
    {
     "data": {
      "text/plain": [
       "3"
      ]
     },
     "execution_count": 9,
     "metadata": {},
     "output_type": "execute_result"
    }
   ],
   "source": [
    "# Tu código aquí ...\n",
    "# last_line = lineas[-1]\n",
    "len(last_line.split())"
   ]
  },
  {
   "cell_type": "markdown",
   "metadata": {},
   "source": [
    "## <font color='green'>Tarea 8:</font> \n",
    "Qué tipos de datos devuelven las siguientes líneas de código:\n",
    "\n",
    "     1.) 2 / 3\n",
    "     2.) 2 + 2.0\n",
    "     3.) 1 + 1\n",
    "     4.) \"2\" + \"2\"\n",
    "     5.) 1 > 2\n",
    "    \n",
    "Tip:\n",
    "1. Intenta responder esto mentalmente antes de verificar ejecutando el código en Python.\n",
    "2. Utiliza la función **type()**"
   ]
  },
  {
   "cell_type": "markdown",
   "metadata": {},
   "source": [
    "**R:**\n",
    "1. float, división generará un número racional\n",
    "2. float, suma de un int con un float coersiona a float\n",
    "3. int, suma de dos int\n",
    "4. str, concatenación de strings\n",
    "5. bool, la operación entregará un valor de verdad"
   ]
  },
  {
   "cell_type": "code",
   "execution_count": 11,
   "metadata": {},
   "outputs": [
    {
     "name": "stdout",
     "output_type": "stream",
     "text": [
      "<class 'float'>\n",
      "<class 'float'>\n",
      "<class 'int'>\n",
      "<class 'str'>\n",
      "<class 'bool'>\n"
     ]
    }
   ],
   "source": [
    "print(type(2 / 3))\n",
    "print(type(2 + 2.0))\n",
    "print(type(1 + 1))\n",
    "print(type(\"2\" + \"2\"))\n",
    "print(type(1 > 2))"
   ]
  },
  {
   "cell_type": "code",
   "execution_count": 1,
   "metadata": {},
   "outputs": [
    {
     "name": "stdout",
     "output_type": "stream",
     "text": [
      "[<class 'float'>, <class 'float'>, <class 'int'>, <class 'str'>, <class 'bool'>]\n"
     ]
    }
   ],
   "source": [
    "lines = [2/3, 2 + 2.0, 1 + 1, \"2\" + \"2\", 1 > 2]\n",
    "types = map(lambda x: type(x), lines) \n",
    "print(list(types)) "
   ]
  },
  {
   "cell_type": "markdown",
   "metadata": {},
   "source": [
    "## <font color='green'>Tarea 9: Super challenging</font> \n",
    "¿Qué tan bien comprendes la indexación (en listas) y el uso de las llaves (en diccionarios)?\n",
    "\n",
    "Aquí te presentamos un conjunto de diccionarios y listas que están anidados (incluidos) dentro de un único diccionario **d**:"
   ]
  },
  {
   "cell_type": "code",
   "execution_count": 15,
   "metadata": {},
   "outputs": [
    {
     "data": {
      "text/plain": [
       "{'nivel 1': [1, 2, {'nivel 2': [5, 6, [1, ['sácame de aquí por favor !!!']]]}]}"
      ]
     },
     "execution_count": 15,
     "metadata": {},
     "output_type": "execute_result"
    }
   ],
   "source": [
    "# Ejecuta esta celda\n",
    "\n",
    "d = {\"nivel 1\":[1,2,{'nivel 2':[5,6,[1,['sácame de aquí por favor !!!']]]}]}\n",
    "d"
   ]
  },
  {
   "cell_type": "markdown",
   "metadata": {},
   "source": [
    "Tu tarea es recuperar la cadena \"sácame de aquí por favor !!!\" del diccionario utilizando *indexing* y *keys*\n",
    "\n",
    "Tip:\n",
    "1. Aproxímate a la solución paso a paso, agregando lentamente más y más llamadas de índice.\n",
    "2. Extraiga valores del diccionario usando **[name_of_key]**\n",
    "3. Extraiga elementos de la lista usando indexing con **[número]**\n",
    "4. Utiliza tantas celdas como necesites"
   ]
  },
  {
   "cell_type": "markdown",
   "metadata": {},
   "source": [
    "Tu salida debería verse como esto:\n",
    "\n",
    "```Python\n",
    "'sácame de aquí por favor !!!'\n",
    "```"
   ]
  },
  {
   "cell_type": "code",
   "execution_count": 38,
   "metadata": {},
   "outputs": [
    {
     "data": {
      "text/plain": [
       "[1, 2, {'nivel 2': [5, 6, [1, ['sácame de aquí por favor !!!']]]}]"
      ]
     },
     "execution_count": 38,
     "metadata": {},
     "output_type": "execute_result"
    }
   ],
   "source": [
    "# Tu código aquí ...\n",
    "# Pasos\n",
    "# 1. Obtener la lista asociada al primer nivel del diccionario\n",
    "d['nivel 1']"
   ]
  },
  {
   "cell_type": "code",
   "execution_count": 41,
   "metadata": {},
   "outputs": [
    {
     "data": {
      "text/plain": [
       "{'nivel 2': [5, 6, [1, ['sácame de aquí por favor !!!']]]}"
      ]
     },
     "execution_count": 41,
     "metadata": {},
     "output_type": "execute_result"
    }
   ],
   "source": [
    "# 2. Obtener el tercer elemento de la lista asociada al primer nivel del diccionario\n",
    "d['nivel 1'][2]"
   ]
  },
  {
   "cell_type": "code",
   "execution_count": 42,
   "metadata": {},
   "outputs": [
    {
     "data": {
      "text/plain": [
       "[5, 6, [1, ['sácame de aquí por favor !!!']]]"
      ]
     },
     "execution_count": 42,
     "metadata": {},
     "output_type": "execute_result"
    }
   ],
   "source": [
    "# 3. Obtener la lista asociada al segundo nivel del diccionario\n",
    "d['nivel 1'][2]['nivel 2']"
   ]
  },
  {
   "cell_type": "code",
   "execution_count": 50,
   "metadata": {},
   "outputs": [
    {
     "data": {
      "text/plain": [
       "[1, ['sácame de aquí por favor !!!']]"
      ]
     },
     "execution_count": 50,
     "metadata": {},
     "output_type": "execute_result"
    }
   ],
   "source": [
    "# 4. Obtener el tercer elemento de la lista asociada al segundo nivel del diccionario\n",
    "d['nivel 1'][2]['nivel 2'][2]"
   ]
  },
  {
   "cell_type": "code",
   "execution_count": 16,
   "metadata": {},
   "outputs": [
    {
     "data": {
      "text/plain": [
       "['sácame de aquí por favor !!!']"
      ]
     },
     "execution_count": 16,
     "metadata": {},
     "output_type": "execute_result"
    }
   ],
   "source": [
    "# 5. Obtener el segundo elemento de la lista asociada a la lista aperteneciente al segundo nivel del diccionario\n",
    "d['nivel 1'][2]['nivel 2'][2][1]"
   ]
  },
  {
   "cell_type": "code",
   "execution_count": 17,
   "metadata": {},
   "outputs": [
    {
     "name": "stdout",
     "output_type": "stream",
     "text": [
      "sácame de aquí por favor !!!\n"
     ]
    }
   ],
   "source": [
    "# 6. Imprimir el valor del elemento de la lista obtenida\n",
    "print(d['nivel 1'][2]['nivel 2'][2][1][0])"
   ]
  },
  {
   "cell_type": "code",
   "execution_count": 19,
   "metadata": {},
   "outputs": [
    {
     "name": "stdout",
     "output_type": "stream",
     "text": [
      "{'nivel 1': [1, 2, {'nivel 2': [5, 6, [1, ['sácame de aquí por favor !!!']]]}]}\n",
      "[1, 2, {'nivel 2': [5, 6, [1, ['sácame de aquí por favor !!!']]]}]\n",
      "{'nivel 2': [5, 6, [1, ['sácame de aquí por favor !!!']]]}\n",
      "[5, 6, [1, ['sácame de aquí por favor !!!']]]\n",
      "[1, ['sácame de aquí por favor !!!']]\n",
      "['sácame de aquí por favor !!!']\n",
      "sácame de aquí por favor !!!\n"
     ]
    }
   ],
   "source": [
    "# Asignando a variables para ver pasos intermedios\n",
    "print(d)                              #Imprimo estado inicial del diccionario\n",
    "Escalón1 = d[\"nivel 1\"]               #Aplico key \"nivel 1\" al primer diccionario\n",
    "print(Escalón1)                       #Imprimo para verificar funcionamiento\n",
    "Escalón2 = Escalón1[2]                #Aplico indexing para obtener el 3er valor de la lista\n",
    "print(Escalón2)                       #Imprimo para verificar funcionamiento\n",
    "Escalón3 = Escalón2['nivel 2']        #Aplico key \"nivel 2\" al segundo diccionario\n",
    "print(Escalón3)                       #Imprimo para verificar funcionamiento\n",
    "Escalón4 = Escalón3[2]                #Aplico indexing para obtener el 3er valor de la lista\n",
    "print(Escalón4)                       #Imprimo para verificar funcionamiento\n",
    "Escalón5 = Escalón4[1]                #Aplico indexing para obtener el 2do valor de la lista\n",
    "print(Escalón5)                       #Imprimo para verificar funcionamiento\n",
    "print(Escalón5[0])                    #Imprimo para verificar resultado final sin ["
   ]
  },
  {
   "cell_type": "markdown",
   "metadata": {},
   "source": [
    "### <font color='green'>Tarea 10: Challenging</font> \n",
    "¿Cuántos enteros únicos hay en esta lista? \n",
    "\n",
    "Tip:\n",
    "1. Utilice la función **set()** mostrada en **08-Sets **.\n",
    "2. Utiliza la función **len()**"
   ]
  },
  {
   "cell_type": "markdown",
   "metadata": {},
   "source": [
    "Tu salida debería verse como esto:\n",
    "\n",
    "```Python\n",
    "12\n",
    "```"
   ]
  },
  {
   "cell_type": "code",
   "execution_count": 53,
   "metadata": {},
   "outputs": [],
   "source": [
    "# Ejecuta esta celda\n",
    "\n",
    "mylist = [1, 2, 3, 4, 5, 6, 4, 3, 2, 1, 2, 3, 4, 5, 6, 6, 7, 8, 5, 6, 7, 8,\n",
    "          9, 8, 9, 8, 9, 7, 10, 1, 23 ,1 ,2 ,2 ,3 ,1 ,3 ,2 ,4 ,1 ,4 ,4 ,1 ,\n",
    "          2, 22, 3, 4, 1, 4, 1, 3, 1, 22, 3, 6, 3, 1, 23, 4, 6, 1, 2, 10, 1]"
   ]
  },
  {
   "cell_type": "code",
   "execution_count": 54,
   "metadata": {},
   "outputs": [
    {
     "data": {
      "text/plain": [
       "{1, 2, 3, 4, 5, 6, 7, 8, 9, 10, 22, 23}"
      ]
     },
     "execution_count": 54,
     "metadata": {},
     "output_type": "execute_result"
    }
   ],
   "source": [
    "# Tu código aquí ...\n",
    "# 1. Transformar la lista a set \n",
    "set(mylist)"
   ]
  },
  {
   "cell_type": "code",
   "execution_count": 56,
   "metadata": {},
   "outputs": [
    {
     "data": {
      "text/plain": [
       "12"
      ]
     },
     "execution_count": 56,
     "metadata": {},
     "output_type": "execute_result"
    }
   ],
   "source": [
    "# 2. La cantidad de elementos en el set es la cantidad de valores unicos en la lista inicial mylist\n",
    "len(set(mylist))"
   ]
  },
  {
   "cell_type": "markdown",
   "metadata": {},
   "source": [
    "Excelente trabajo Hackers !!!"
   ]
  },
  {
   "cell_type": "markdown",
   "metadata": {},
   "source": [
    "# <font color='blue'>Tiempo de revisión grupal</font>\n",
    "La **Bitácora Grupal** es la herramienta de evaluación de este curso. La misma estará conformada por todos los **Notebooks Grupales** de cada una de las clases y módulos del curso. Los grupos de trabajo deben desarrollarla de forma colaborativa y creativa.\n",
    "\n",
    "Rúbrica de la **Bitácora Grupal** y de los **Notebook Grupal** que la componen:\n",
    "* El notebook se ve ordenado y con una secuencia lógica y limpia.\n",
    "* El notebook no tiene celdas en blanco innecesarias.\n",
    "* El notebook no tiene celdas con errores, salvo aquellas en las que explícitamente queremos mostrar un error.\n",
    "* Todos los ejercicios propuestos están correctamente desarrollados.\n",
    "* Los ejercicios tiene comentarios y reflexiones del grupo.\n",
    "* El notebook tiene abundantes comentarios explicativos del código.\n",
    "* El notebook tiene una sección adicional, creada por el grupo, con experimentos de los alumnos relativos al contenido del mismo.\n",
    "* La Bitácora Grupa, y por ende los notebooks que la componen, tiene aspectos creativos y novedoso que la diferencian significativamente de las de los demás grupos."
   ]
  }
 ],
 "metadata": {
  "kernelspec": {
   "display_name": "Python 3",
   "language": "python",
   "name": "python3"
  },
  "language_info": {
   "codemirror_mode": {
    "name": "ipython",
    "version": 3
   },
   "file_extension": ".py",
   "mimetype": "text/x-python",
   "name": "python",
   "nbconvert_exporter": "python",
   "pygments_lexer": "ipython3",
   "version": "3.8.6"
  }
 },
 "nbformat": 4,
 "nbformat_minor": 2
}

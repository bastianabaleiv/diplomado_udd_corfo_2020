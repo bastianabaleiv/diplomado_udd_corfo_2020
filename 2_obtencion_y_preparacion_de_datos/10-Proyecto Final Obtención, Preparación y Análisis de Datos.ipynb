{
 "cells": [
  {
   "cell_type": "markdown",
   "metadata": {
    "id": "V1ioWAKicihs"
   },
   "source": [
    "# <font color='blue'>**Proyecto Final: Obtención, Preparación y Análisis de Datos**</font>\n",
    "\n",
    "Normalmente, los proyectos de ciencia de datos, comienzan con estadísticas descriptivas para tener una idea de las propiedades del conjunto de datos que se está trabajando. Afortunadamente, es fácil obtener estas estadísticas con las estructuras de datos de **Pandas**."
   ]
  },
  {
   "cell_type": "markdown",
   "metadata": {
    "id": "k_VK-vxegz9F"
   },
   "source": [
    "# <font color='blue'>**Estadística Descriptiva con la Base de Datos Iris**</font>\n",
    "\n",
    "En este proyecto, deberán implemnetar el cálculo de varias estadísticas descriptivas para el clásico <a href=\"https://en.wikipedia.org/wiki/Iris_flower_data_set\">conjunto de datos de iris</a>.\n",
    "\n",
    "El siguiente código, carga los paquetes necesarios y también el conjunto de datos iris.\n",
    "\n",
    "**load_iris()** carga en un objeto que contiene el conjunto de datos de iris."
   ]
  },
  {
   "cell_type": "code",
   "execution_count": 1,
   "metadata": {
    "id": "o0O0MDJ9g_eK"
   },
   "outputs": [],
   "source": [
    "import pandas as pd\n",
    "from pandas import DataFrame\n",
    "from sklearn.datasets import load_iris   \n",
    "\n",
    "iris_obj = load_iris()"
   ]
  },
  {
   "cell_type": "markdown",
   "metadata": {
    "id": "zTMNz_6ihW3b"
   },
   "source": [
    "## <font color='green'>**Parte 1: Generar el dataframe de Iris**</font>\n",
    "\n",
    "Basado en la estructura del objeto **iris_obj**, convierta este en un dataframe.\n"
   ]
  },
  {
   "cell_type": "code",
   "execution_count": 4,
   "metadata": {
    "id": "kfRVwU4BiEXu"
   },
   "outputs": [],
   "source": [
    "#Solución\n",
    "iris = DataFrame(iris_obj.data, columns = iris_obj.feature_names)"
   ]
  },
  {
   "cell_type": "code",
   "execution_count": 7,
   "metadata": {},
   "outputs": [],
   "source": [
    "iris['species'] = iris_obj.target"
   ]
  },
  {
   "cell_type": "code",
   "execution_count": 13,
   "metadata": {},
   "outputs": [
    {
     "data": {
      "text/html": [
       "<div>\n",
       "<style scoped>\n",
       "    .dataframe tbody tr th:only-of-type {\n",
       "        vertical-align: middle;\n",
       "    }\n",
       "\n",
       "    .dataframe tbody tr th {\n",
       "        vertical-align: top;\n",
       "    }\n",
       "\n",
       "    .dataframe thead th {\n",
       "        text-align: right;\n",
       "    }\n",
       "</style>\n",
       "<table border=\"1\" class=\"dataframe\">\n",
       "  <thead>\n",
       "    <tr style=\"text-align: right;\">\n",
       "      <th></th>\n",
       "      <th></th>\n",
       "      <th></th>\n",
       "      <th>sepal length (cm)</th>\n",
       "      <th>sepal width (cm)</th>\n",
       "    </tr>\n",
       "    <tr>\n",
       "      <th>species</th>\n",
       "      <th>petal length (cm)</th>\n",
       "      <th>petal width (cm)</th>\n",
       "      <th></th>\n",
       "      <th></th>\n",
       "    </tr>\n",
       "  </thead>\n",
       "  <tbody>\n",
       "    <tr>\n",
       "      <th rowspan=\"5\" valign=\"top\">0</th>\n",
       "      <th rowspan=\"2\" valign=\"top\">1.4</th>\n",
       "      <th>0.2</th>\n",
       "      <td>5.1</td>\n",
       "      <td>3.5</td>\n",
       "    </tr>\n",
       "    <tr>\n",
       "      <th>0.2</th>\n",
       "      <td>4.9</td>\n",
       "      <td>3.0</td>\n",
       "    </tr>\n",
       "    <tr>\n",
       "      <th>1.3</th>\n",
       "      <th>0.2</th>\n",
       "      <td>4.7</td>\n",
       "      <td>3.2</td>\n",
       "    </tr>\n",
       "    <tr>\n",
       "      <th>1.5</th>\n",
       "      <th>0.2</th>\n",
       "      <td>4.6</td>\n",
       "      <td>3.1</td>\n",
       "    </tr>\n",
       "    <tr>\n",
       "      <th>1.4</th>\n",
       "      <th>0.2</th>\n",
       "      <td>5.0</td>\n",
       "      <td>3.6</td>\n",
       "    </tr>\n",
       "    <tr>\n",
       "      <th>...</th>\n",
       "      <th>...</th>\n",
       "      <th>...</th>\n",
       "      <td>...</td>\n",
       "      <td>...</td>\n",
       "    </tr>\n",
       "    <tr>\n",
       "      <th rowspan=\"5\" valign=\"top\">2</th>\n",
       "      <th>5.2</th>\n",
       "      <th>2.3</th>\n",
       "      <td>6.7</td>\n",
       "      <td>3.0</td>\n",
       "    </tr>\n",
       "    <tr>\n",
       "      <th>5.0</th>\n",
       "      <th>1.9</th>\n",
       "      <td>6.3</td>\n",
       "      <td>2.5</td>\n",
       "    </tr>\n",
       "    <tr>\n",
       "      <th>5.2</th>\n",
       "      <th>2.0</th>\n",
       "      <td>6.5</td>\n",
       "      <td>3.0</td>\n",
       "    </tr>\n",
       "    <tr>\n",
       "      <th>5.4</th>\n",
       "      <th>2.3</th>\n",
       "      <td>6.2</td>\n",
       "      <td>3.4</td>\n",
       "    </tr>\n",
       "    <tr>\n",
       "      <th>5.1</th>\n",
       "      <th>1.8</th>\n",
       "      <td>5.9</td>\n",
       "      <td>3.0</td>\n",
       "    </tr>\n",
       "  </tbody>\n",
       "</table>\n",
       "<p>150 rows × 2 columns</p>\n",
       "</div>"
      ],
      "text/plain": [
       "                                            sepal length (cm)  \\\n",
       "species petal length (cm) petal width (cm)                      \n",
       "0       1.4               0.2                             5.1   \n",
       "                          0.2                             4.9   \n",
       "        1.3               0.2                             4.7   \n",
       "        1.5               0.2                             4.6   \n",
       "        1.4               0.2                             5.0   \n",
       "...                                                       ...   \n",
       "2       5.2               2.3                             6.7   \n",
       "        5.0               1.9                             6.3   \n",
       "        5.2               2.0                             6.5   \n",
       "        5.4               2.3                             6.2   \n",
       "        5.1               1.8                             5.9   \n",
       "\n",
       "                                            sepal width (cm)  \n",
       "species petal length (cm) petal width (cm)                    \n",
       "0       1.4               0.2                            3.5  \n",
       "                          0.2                            3.0  \n",
       "        1.3               0.2                            3.2  \n",
       "        1.5               0.2                            3.1  \n",
       "        1.4               0.2                            3.6  \n",
       "...                                                      ...  \n",
       "2       5.2               2.3                            3.0  \n",
       "        5.0               1.9                            2.5  \n",
       "        5.2               2.0                            3.0  \n",
       "        5.4               2.3                            3.4  \n",
       "        5.1               1.8                            3.0  \n",
       "\n",
       "[150 rows x 2 columns]"
      ]
     },
     "execution_count": 13,
     "metadata": {},
     "output_type": "execute_result"
    }
   ],
   "source": []
  },
  {
   "cell_type": "markdown",
   "metadata": {
    "id": "j_kemcc6jeNP"
   },
   "source": [
    "## <font color='green'>**Fin Parte 1**</font>"
   ]
  },
  {
   "cell_type": "markdown",
   "metadata": {
    "id": "41H53ptijhWp"
   },
   "source": [
    "## <font color='green'>**Parte 2: Modificar y describir el dataframe de Iris**</font>\n",
    "\n",
    "1. Reemplace los valores de la columna \"species\" por los siguientes valores:\n",
    "  * \"setosa\" = 0\n",
    "  * \"versicolor\" = 1\n",
    "  * \"virginica\" = 2\n",
    "\n",
    "2. Agrupe las muestras por especies\n",
    "3. Sin usar el método **describe()**, calcule los estadísticos básicos de la muestra:\n",
    "  * cantidad de elementos no nulos\n",
    "  * media\n",
    "  * varianza\n",
    "  * Desviación estándar\n",
    "  * Percentiles y cuartiles\n",
    "  * Rango inter-cuartílico\n",
    "  * Valores máximos y mínimos\n",
    "  * Rango (diferencia entre el máximo y el mínimo)\n",
    "4. Repita el análisis anterior, pero muestre sus resultados por columnas y especies.\n",
    "5. Compare sus resultados usando el metodo **describe()** por columnas y por especies\n",
    "6. Generar una tabla multi-indice por \"especies\" y \"ancho del pétalo\" y que de cuenta de la suma de los valores de cada clase\n",
    "\n"
   ]
  },
  {
   "cell_type": "code",
   "execution_count": 23,
   "metadata": {
    "id": "LqHMVa6vzlP3"
   },
   "outputs": [
    {
     "data": {
      "text/html": [
       "<div>\n",
       "<style scoped>\n",
       "    .dataframe tbody tr th:only-of-type {\n",
       "        vertical-align: middle;\n",
       "    }\n",
       "\n",
       "    .dataframe tbody tr th {\n",
       "        vertical-align: top;\n",
       "    }\n",
       "\n",
       "    .dataframe thead th {\n",
       "        text-align: right;\n",
       "    }\n",
       "</style>\n",
       "<table border=\"1\" class=\"dataframe\">\n",
       "  <thead>\n",
       "    <tr style=\"text-align: right;\">\n",
       "      <th></th>\n",
       "      <th></th>\n",
       "      <th></th>\n",
       "      <th>sepal length (cm)</th>\n",
       "      <th>sepal width (cm)</th>\n",
       "    </tr>\n",
       "    <tr>\n",
       "      <th>species</th>\n",
       "      <th>petal length (cm)</th>\n",
       "      <th>petal width (cm)</th>\n",
       "      <th></th>\n",
       "      <th></th>\n",
       "    </tr>\n",
       "  </thead>\n",
       "  <tbody>\n",
       "    <tr>\n",
       "      <th rowspan=\"5\" valign=\"top\">0</th>\n",
       "      <th rowspan=\"2\" valign=\"top\">1.4</th>\n",
       "      <th>0.2</th>\n",
       "      <td>5.1</td>\n",
       "      <td>3.5</td>\n",
       "    </tr>\n",
       "    <tr>\n",
       "      <th>0.2</th>\n",
       "      <td>4.9</td>\n",
       "      <td>3.0</td>\n",
       "    </tr>\n",
       "    <tr>\n",
       "      <th>1.3</th>\n",
       "      <th>0.2</th>\n",
       "      <td>4.7</td>\n",
       "      <td>3.2</td>\n",
       "    </tr>\n",
       "    <tr>\n",
       "      <th>1.5</th>\n",
       "      <th>0.2</th>\n",
       "      <td>4.6</td>\n",
       "      <td>3.1</td>\n",
       "    </tr>\n",
       "    <tr>\n",
       "      <th>1.4</th>\n",
       "      <th>0.2</th>\n",
       "      <td>5.0</td>\n",
       "      <td>3.6</td>\n",
       "    </tr>\n",
       "    <tr>\n",
       "      <th>...</th>\n",
       "      <th>...</th>\n",
       "      <th>...</th>\n",
       "      <td>...</td>\n",
       "      <td>...</td>\n",
       "    </tr>\n",
       "    <tr>\n",
       "      <th rowspan=\"5\" valign=\"top\">2</th>\n",
       "      <th>5.2</th>\n",
       "      <th>2.3</th>\n",
       "      <td>6.7</td>\n",
       "      <td>3.0</td>\n",
       "    </tr>\n",
       "    <tr>\n",
       "      <th>5.0</th>\n",
       "      <th>1.9</th>\n",
       "      <td>6.3</td>\n",
       "      <td>2.5</td>\n",
       "    </tr>\n",
       "    <tr>\n",
       "      <th>5.2</th>\n",
       "      <th>2.0</th>\n",
       "      <td>6.5</td>\n",
       "      <td>3.0</td>\n",
       "    </tr>\n",
       "    <tr>\n",
       "      <th>5.4</th>\n",
       "      <th>2.3</th>\n",
       "      <td>6.2</td>\n",
       "      <td>3.4</td>\n",
       "    </tr>\n",
       "    <tr>\n",
       "      <th>5.1</th>\n",
       "      <th>1.8</th>\n",
       "      <td>5.9</td>\n",
       "      <td>3.0</td>\n",
       "    </tr>\n",
       "  </tbody>\n",
       "</table>\n",
       "<p>150 rows × 2 columns</p>\n",
       "</div>"
      ],
      "text/plain": [
       "                                            sepal length (cm)  \\\n",
       "species petal length (cm) petal width (cm)                      \n",
       "0       1.4               0.2                             5.1   \n",
       "                          0.2                             4.9   \n",
       "        1.3               0.2                             4.7   \n",
       "        1.5               0.2                             4.6   \n",
       "        1.4               0.2                             5.0   \n",
       "...                                                       ...   \n",
       "2       5.2               2.3                             6.7   \n",
       "        5.0               1.9                             6.3   \n",
       "        5.2               2.0                             6.5   \n",
       "        5.4               2.3                             6.2   \n",
       "        5.1               1.8                             5.9   \n",
       "\n",
       "                                            sepal width (cm)  \n",
       "species petal length (cm) petal width (cm)                    \n",
       "0       1.4               0.2                            3.5  \n",
       "                          0.2                            3.0  \n",
       "        1.3               0.2                            3.2  \n",
       "        1.5               0.2                            3.1  \n",
       "        1.4               0.2                            3.6  \n",
       "...                                                      ...  \n",
       "2       5.2               2.3                            3.0  \n",
       "        5.0               1.9                            2.5  \n",
       "        5.2               2.0                            3.0  \n",
       "        5.4               2.3                            3.4  \n",
       "        5.1               1.8                            3.0  \n",
       "\n",
       "[150 rows x 2 columns]"
      ]
     },
     "execution_count": 23,
     "metadata": {},
     "output_type": "execute_result"
    }
   ],
   "source": [
    "iris.set_index(['species','petal length (cm)','petal width (cm)'])"
   ]
  },
  {
   "cell_type": "code",
   "execution_count": 24,
   "metadata": {},
   "outputs": [
    {
     "data": {
      "text/html": [
       "<div>\n",
       "<style scoped>\n",
       "    .dataframe tbody tr th:only-of-type {\n",
       "        vertical-align: middle;\n",
       "    }\n",
       "\n",
       "    .dataframe tbody tr th {\n",
       "        vertical-align: top;\n",
       "    }\n",
       "\n",
       "    .dataframe thead th {\n",
       "        text-align: right;\n",
       "    }\n",
       "</style>\n",
       "<table border=\"1\" class=\"dataframe\">\n",
       "  <thead>\n",
       "    <tr style=\"text-align: right;\">\n",
       "      <th></th>\n",
       "      <th></th>\n",
       "      <th>sepal length (cm)</th>\n",
       "      <th>sepal width (cm)</th>\n",
       "      <th>petal length (cm)</th>\n",
       "    </tr>\n",
       "    <tr>\n",
       "      <th>species</th>\n",
       "      <th>petal width (cm)</th>\n",
       "      <th></th>\n",
       "      <th></th>\n",
       "      <th></th>\n",
       "    </tr>\n",
       "  </thead>\n",
       "  <tbody>\n",
       "    <tr>\n",
       "      <th rowspan=\"6\" valign=\"top\">0</th>\n",
       "      <th>0.1</th>\n",
       "      <td>5</td>\n",
       "      <td>5</td>\n",
       "      <td>5</td>\n",
       "    </tr>\n",
       "    <tr>\n",
       "      <th>0.2</th>\n",
       "      <td>29</td>\n",
       "      <td>29</td>\n",
       "      <td>29</td>\n",
       "    </tr>\n",
       "    <tr>\n",
       "      <th>0.3</th>\n",
       "      <td>7</td>\n",
       "      <td>7</td>\n",
       "      <td>7</td>\n",
       "    </tr>\n",
       "    <tr>\n",
       "      <th>0.4</th>\n",
       "      <td>7</td>\n",
       "      <td>7</td>\n",
       "      <td>7</td>\n",
       "    </tr>\n",
       "    <tr>\n",
       "      <th>0.5</th>\n",
       "      <td>1</td>\n",
       "      <td>1</td>\n",
       "      <td>1</td>\n",
       "    </tr>\n",
       "    <tr>\n",
       "      <th>0.6</th>\n",
       "      <td>1</td>\n",
       "      <td>1</td>\n",
       "      <td>1</td>\n",
       "    </tr>\n",
       "    <tr>\n",
       "      <th rowspan=\"9\" valign=\"top\">1</th>\n",
       "      <th>1.0</th>\n",
       "      <td>7</td>\n",
       "      <td>7</td>\n",
       "      <td>7</td>\n",
       "    </tr>\n",
       "    <tr>\n",
       "      <th>1.1</th>\n",
       "      <td>3</td>\n",
       "      <td>3</td>\n",
       "      <td>3</td>\n",
       "    </tr>\n",
       "    <tr>\n",
       "      <th>1.2</th>\n",
       "      <td>5</td>\n",
       "      <td>5</td>\n",
       "      <td>5</td>\n",
       "    </tr>\n",
       "    <tr>\n",
       "      <th>1.3</th>\n",
       "      <td>13</td>\n",
       "      <td>13</td>\n",
       "      <td>13</td>\n",
       "    </tr>\n",
       "    <tr>\n",
       "      <th>1.4</th>\n",
       "      <td>7</td>\n",
       "      <td>7</td>\n",
       "      <td>7</td>\n",
       "    </tr>\n",
       "    <tr>\n",
       "      <th>1.5</th>\n",
       "      <td>10</td>\n",
       "      <td>10</td>\n",
       "      <td>10</td>\n",
       "    </tr>\n",
       "    <tr>\n",
       "      <th>1.6</th>\n",
       "      <td>3</td>\n",
       "      <td>3</td>\n",
       "      <td>3</td>\n",
       "    </tr>\n",
       "    <tr>\n",
       "      <th>1.7</th>\n",
       "      <td>1</td>\n",
       "      <td>1</td>\n",
       "      <td>1</td>\n",
       "    </tr>\n",
       "    <tr>\n",
       "      <th>1.8</th>\n",
       "      <td>1</td>\n",
       "      <td>1</td>\n",
       "      <td>1</td>\n",
       "    </tr>\n",
       "    <tr>\n",
       "      <th rowspan=\"12\" valign=\"top\">2</th>\n",
       "      <th>1.4</th>\n",
       "      <td>1</td>\n",
       "      <td>1</td>\n",
       "      <td>1</td>\n",
       "    </tr>\n",
       "    <tr>\n",
       "      <th>1.5</th>\n",
       "      <td>2</td>\n",
       "      <td>2</td>\n",
       "      <td>2</td>\n",
       "    </tr>\n",
       "    <tr>\n",
       "      <th>1.6</th>\n",
       "      <td>1</td>\n",
       "      <td>1</td>\n",
       "      <td>1</td>\n",
       "    </tr>\n",
       "    <tr>\n",
       "      <th>1.7</th>\n",
       "      <td>1</td>\n",
       "      <td>1</td>\n",
       "      <td>1</td>\n",
       "    </tr>\n",
       "    <tr>\n",
       "      <th>1.8</th>\n",
       "      <td>11</td>\n",
       "      <td>11</td>\n",
       "      <td>11</td>\n",
       "    </tr>\n",
       "    <tr>\n",
       "      <th>1.9</th>\n",
       "      <td>5</td>\n",
       "      <td>5</td>\n",
       "      <td>5</td>\n",
       "    </tr>\n",
       "    <tr>\n",
       "      <th>2.0</th>\n",
       "      <td>6</td>\n",
       "      <td>6</td>\n",
       "      <td>6</td>\n",
       "    </tr>\n",
       "    <tr>\n",
       "      <th>2.1</th>\n",
       "      <td>6</td>\n",
       "      <td>6</td>\n",
       "      <td>6</td>\n",
       "    </tr>\n",
       "    <tr>\n",
       "      <th>2.2</th>\n",
       "      <td>3</td>\n",
       "      <td>3</td>\n",
       "      <td>3</td>\n",
       "    </tr>\n",
       "    <tr>\n",
       "      <th>2.3</th>\n",
       "      <td>8</td>\n",
       "      <td>8</td>\n",
       "      <td>8</td>\n",
       "    </tr>\n",
       "    <tr>\n",
       "      <th>2.4</th>\n",
       "      <td>3</td>\n",
       "      <td>3</td>\n",
       "      <td>3</td>\n",
       "    </tr>\n",
       "    <tr>\n",
       "      <th>2.5</th>\n",
       "      <td>3</td>\n",
       "      <td>3</td>\n",
       "      <td>3</td>\n",
       "    </tr>\n",
       "  </tbody>\n",
       "</table>\n",
       "</div>"
      ],
      "text/plain": [
       "                          sepal length (cm)  sepal width (cm)  \\\n",
       "species petal width (cm)                                        \n",
       "0       0.1                               5                 5   \n",
       "        0.2                              29                29   \n",
       "        0.3                               7                 7   \n",
       "        0.4                               7                 7   \n",
       "        0.5                               1                 1   \n",
       "        0.6                               1                 1   \n",
       "1       1.0                               7                 7   \n",
       "        1.1                               3                 3   \n",
       "        1.2                               5                 5   \n",
       "        1.3                              13                13   \n",
       "        1.4                               7                 7   \n",
       "        1.5                              10                10   \n",
       "        1.6                               3                 3   \n",
       "        1.7                               1                 1   \n",
       "        1.8                               1                 1   \n",
       "2       1.4                               1                 1   \n",
       "        1.5                               2                 2   \n",
       "        1.6                               1                 1   \n",
       "        1.7                               1                 1   \n",
       "        1.8                              11                11   \n",
       "        1.9                               5                 5   \n",
       "        2.0                               6                 6   \n",
       "        2.1                               6                 6   \n",
       "        2.2                               3                 3   \n",
       "        2.3                               8                 8   \n",
       "        2.4                               3                 3   \n",
       "        2.5                               3                 3   \n",
       "\n",
       "                          petal length (cm)  \n",
       "species petal width (cm)                     \n",
       "0       0.1                               5  \n",
       "        0.2                              29  \n",
       "        0.3                               7  \n",
       "        0.4                               7  \n",
       "        0.5                               1  \n",
       "        0.6                               1  \n",
       "1       1.0                               7  \n",
       "        1.1                               3  \n",
       "        1.2                               5  \n",
       "        1.3                              13  \n",
       "        1.4                               7  \n",
       "        1.5                              10  \n",
       "        1.6                               3  \n",
       "        1.7                               1  \n",
       "        1.8                               1  \n",
       "2       1.4                               1  \n",
       "        1.5                               2  \n",
       "        1.6                               1  \n",
       "        1.7                               1  \n",
       "        1.8                              11  \n",
       "        1.9                               5  \n",
       "        2.0                               6  \n",
       "        2.1                               6  \n",
       "        2.2                               3  \n",
       "        2.3                               8  \n",
       "        2.4                               3  \n",
       "        2.5                               3  "
      ]
     },
     "execution_count": 24,
     "metadata": {},
     "output_type": "execute_result"
    }
   ],
   "source": [
    "iris.groupby(['species','petal width (cm)']).count()"
   ]
  },
  {
   "cell_type": "markdown",
   "metadata": {
    "id": "Fez_I_cr48t6"
   },
   "source": [
    "## <font color='green'>**Fin Parte 2**</font>"
   ]
  },
  {
   "cell_type": "markdown",
   "metadata": {
    "id": "s-hTHr7J84ac"
   },
   "source": [
    "# <font color='blue'>**Análisis de Datos con Base de Datos Titanic**</font>\n",
    "\n",
    "Para este probleme utilizaremos la base de datos \"titanic\". Para cargarla debe usar los siguientes comandos:\n",
    "\n",
    "```\n",
    "import seaborn as sns\n",
    "titanic = sns.load_dataset(\"titanic\")\n",
    "titanic.head(5)\n",
    "```\n",
    "Considere sólo las siguientes variables: survived, pclass, sex, age, fare y embarked.\n"
   ]
  },
  {
   "cell_type": "markdown",
   "metadata": {
    "id": "W9fiH09L-dHs"
   },
   "source": [
    "## <font color='green'>**Parte 3: Limpieza de Datos**</font>\n",
    "\n",
    "1. Reemplace los valores faltantes para la columna edad por el valor promedio de la muestra.\n",
    "2. Elimine cualquier otra fila en la que falten datos"
   ]
  },
  {
   "cell_type": "code",
   "execution_count": null,
   "metadata": {
    "id": "r_eh-dVr-9Ql"
   },
   "outputs": [],
   "source": [
    "#Solución"
   ]
  },
  {
   "cell_type": "markdown",
   "metadata": {
    "id": "NAStkQPS_I4R"
   },
   "source": [
    "## <font color='green'>**Fin Parte 3**</font>"
   ]
  },
  {
   "cell_type": "markdown",
   "metadata": {
    "id": "5puMagT2_Mxz"
   },
   "source": [
    "## <font color='green'>**Parte 4: Examinando y Entendiendo la Data**</font>\n",
    "\n",
    "1. Entregar la información correspondiente a la la tasa de supervivencia promedio agrupada por sexo y clase del pasajero.\n",
    "2. Genere una tabla que muestre la cantidad de personas agrupadas por sexo y clase.\n",
    "3. Muestre la misma información del punto 1, pero la cantidad de sobrevivientes.\n",
    " \n"
   ]
  },
  {
   "cell_type": "code",
   "execution_count": null,
   "metadata": {
    "id": "7Zg95UoSBqkp"
   },
   "outputs": [],
   "source": [
    "#Solución"
   ]
  },
  {
   "cell_type": "markdown",
   "metadata": {
    "id": "4Uz0utCKAmDa"
   },
   "source": [
    "Hasta ahora hemos examinado las tasas de supervivencia según el sexo y la clase de pasajeros. Otro factor que podría haber influido en la supervivencia es la edad. **¿Los niños varones tenían tanta probabilidad de morir como las mujeres en general?** Podemos investigar esta pregunta mediante la indexación múltiple, o pivotando en más de dos variables, agregando otro índice.\n",
    "\n",
    "Divida la información de la columna \"age\" en intervalos, creando así una nueva categoría que se puede utilizar para agrupar. Divida el conjunto en intervalos de (0, 12], (12, 18] y (18, 80].\n",
    "\n",
    "4. Genere la tabla que le ayude a responder la pregunta anterior (considerando los rangos definidos).\n",
    "5. Para una mejor interpretación de la información anterior, genere una tabla con el número de entradas por cada grupo.\n",
    "\n",
    "\n",
    "\n",
    "\n"
   ]
  },
  {
   "cell_type": "code",
   "execution_count": null,
   "metadata": {
    "id": "JJz2sOkMDVxd"
   },
   "outputs": [],
   "source": [
    "#Solución"
   ]
  },
  {
   "cell_type": "markdown",
   "metadata": {
    "id": "rgKykGiJDoJW"
   },
   "source": [
    "Pandas también admite la indexación múltiple en las columnas. Como ejemplo, considere el precio de los boletos de un pasajero. Esta es otra característica continua que se puede discretizar. Divida los precios en 2 cuantiles iguales (baratos y caros). Algunos de los grupos resultantes podrían estar vacíos; para mejorar la legibilidad de la tabla use un guión en las casillas vacías.\n",
    "\n",
    "6. Genere una tabla que nos permita ver el efecto del precio de los tickets."
   ]
  },
  {
   "cell_type": "code",
   "execution_count": null,
   "metadata": {
    "id": "z0wObKocEXvd"
   },
   "outputs": [],
   "source": [
    "#Solución"
   ]
  },
  {
   "cell_type": "markdown",
   "metadata": {
    "id": "fnFeuhbaE6c7"
   },
   "source": [
    "## <font color='green'>**Fin Parte 4**</font>"
   ]
  },
  {
   "cell_type": "markdown",
   "metadata": {
    "id": "MLBpwm9LE_U6"
   },
   "source": [
    "## <font color='green'>**Parte 5: Análisis de una Hipótesis**</font>\n",
    "\n",
    "Supongamos que alguien afirma que la ciudad desde la que se embarcó un pasajero tuvo una gran influencia en la tasa de supervivencia del pasajero. Investigue esta afirmación.\n",
    "\n",
    "1. Verifique las tasas de supervivencia de los pasajeros según el lugar desde donde se embarcaron (indicadas en la columna \"embarked\").\n",
    "\n",
    "2. Cree una tabla dinámica para examinar las tasas de supervivencia según el lugar de embarque y el género.\n",
    "\n",
    "3. ¿Qué le sugieren estas tablas sobre la importancia de dónde se embarcaron las personas para influir en su tasa de supervivencia? Examine el contexto del problema y explique lo que cree que esto realmente significa.\n",
    "\n",
    "4. Investigue la afirmación más a fondo con al menos dos tablas dinámicas más, explorando otros criterios (por ejemplo, clase, edad, etc.). Explique cuidadosamente sus conclusiones."
   ]
  },
  {
   "cell_type": "code",
   "execution_count": null,
   "metadata": {
    "id": "NeDzhYoAFfUD"
   },
   "outputs": [],
   "source": [
    "#Solución"
   ]
  },
  {
   "cell_type": "markdown",
   "metadata": {
    "id": "XKNW8BvVFgko"
   },
   "source": [
    "## <font color='green'>**Fin Parte 5**</font>"
   ]
  }
 ],
 "metadata": {
  "colab": {
   "authorship_tag": "ABX9TyPbJsJupKbNhO9zitD9MslK",
   "collapsed_sections": [],
   "name": "10-Proyecto Final Obtención, Preparación y Análisis de Datos.ipynb",
   "provenance": []
  },
  "kernelspec": {
   "display_name": "Python 3",
   "language": "python",
   "name": "python3"
  },
  "language_info": {
   "codemirror_mode": {
    "name": "ipython",
    "version": 3
   },
   "file_extension": ".py",
   "mimetype": "text/x-python",
   "name": "python",
   "nbconvert_exporter": "python",
   "pygments_lexer": "ipython3",
   "version": "3.8.6"
  }
 },
 "nbformat": 4,
 "nbformat_minor": 1
}
